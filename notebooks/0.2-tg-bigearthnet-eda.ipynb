{
 "cells": [
  {
   "cell_type": "code",
   "execution_count": 1,
   "metadata": {},
   "outputs": [],
   "source": [
    "!pip install -q tfds-nightly tensorflow matplotlib"
   ]
  },
  {
   "cell_type": "code",
   "execution_count": 2,
   "metadata": {},
   "outputs": [],
   "source": [
    "import matplotlib.pyplot as plt\n",
    "import numpy as np\n",
    "import tensorflow as tf\n",
    "import tensorflow_datasets as tfds"
   ]
  },
  {
   "cell_type": "code",
   "execution_count": 10,
   "metadata": {},
   "outputs": [
    {
     "name": "stdout",
     "output_type": "stream",
     "text": [
      "tfds.core.DatasetInfo(\n",
      "    name='bigearthnet',\n",
      "    full_name='bigearthnet/all/1.0.0',\n",
      "    description=\"\"\"\n",
      "    The BigEarthNet is a new large-scale Sentinel-2 benchmark archive, consisting of\n",
      "    590,326 Sentinel-2 image patches. The image patch size on the ground is\n",
      "    1.2 x 1.2 km with variable image size depending on the channel resolution.\n",
      "    This is a multi-label dataset with 43 imbalanced labels.\n",
      "    \n",
      "    To construct the BigEarthNet, 125 Sentinel-2\n",
      "    tiles acquired between June 2017 and May 2018 over the 10 countries (Austria,\n",
      "    Belgium, Finland, Ireland, Kosovo, Lithuania, Luxembourg, Portugal, Serbia,\n",
      "    Switzerland) of Europe were initially selected. All the tiles were\n",
      "    atmospherically corrected by the Sentinel-2 Level 2A product generation and\n",
      "    formatting tool (sen2cor). Then, they were divided into 590,326 non-overlapping\n",
      "    image patches. Each image patch was annotated by the multiple land-cover classes\n",
      "    (i.e., multi-labels) that were provided from the CORINE Land Cover database of\n",
      "    the year 2018 (CLC 2018).\n",
      "    \n",
      "    Bands and pixel resolution in meters:\n",
      "    \n",
      "    * B01: Coastal aerosol; 60m\n",
      "    * B02: Blue; 10m\n",
      "    * B03: Green; 10m\n",
      "    * B04: Red; 10m\n",
      "    * B05: Vegetation red edge; 20m\n",
      "    * B06: Vegetation red edge; 20m\n",
      "    * B07: Vegetation red edge; 20m\n",
      "    * B08: NIR; 10m\n",
      "    * B09: Water vapor; 60m\n",
      "    * B11: SWIR; 20m\n",
      "    * B12: SWIR; 20m\n",
      "    * B8A: Narrow NIR; 20m\n",
      "    \n",
      "    License: Community Data License Agreement - Permissive, Version 1.0.\n",
      "    \n",
      "    URL: http://bigearth.net/\n",
      "    \"\"\",\n",
      "    config_description=\"\"\"\n",
      "    13 Sentinel-2 channels\n",
      "    \"\"\",\n",
      "    homepage='http://bigearth.net',\n",
      "    data_path='/root/tensorflow_datasets/bigearthnet/all/1.0.0',\n",
      "    download_size=65.22 GiB,\n",
      "    dataset_size=Unknown size,\n",
      "    features=FeaturesDict({\n",
      "        'B01': Tensor(shape=(20, 20), dtype=tf.float32),\n",
      "        'B02': Tensor(shape=(120, 120), dtype=tf.float32),\n",
      "        'B03': Tensor(shape=(120, 120), dtype=tf.float32),\n",
      "        'B04': Tensor(shape=(120, 120), dtype=tf.float32),\n",
      "        'B05': Tensor(shape=(60, 60), dtype=tf.float32),\n",
      "        'B06': Tensor(shape=(60, 60), dtype=tf.float32),\n",
      "        'B07': Tensor(shape=(60, 60), dtype=tf.float32),\n",
      "        'B08': Tensor(shape=(120, 120), dtype=tf.float32),\n",
      "        'B09': Tensor(shape=(20, 20), dtype=tf.float32),\n",
      "        'B11': Tensor(shape=(60, 60), dtype=tf.float32),\n",
      "        'B12': Tensor(shape=(60, 60), dtype=tf.float32),\n",
      "        'B8A': Tensor(shape=(60, 60), dtype=tf.float32),\n",
      "        'filename': Text(shape=(), dtype=tf.string),\n",
      "        'labels': Sequence(ClassLabel(shape=(), dtype=tf.int64, num_classes=43)),\n",
      "        'metadata': FeaturesDict({\n",
      "            'acquisition_date': Text(shape=(), dtype=tf.string),\n",
      "            'coordinates': FeaturesDict({\n",
      "                'lrx': tf.int64,\n",
      "                'lry': tf.int64,\n",
      "                'ulx': tf.int64,\n",
      "                'uly': tf.int64,\n",
      "            }),\n",
      "            'projection': Text(shape=(), dtype=tf.string),\n",
      "            'tile_source': Text(shape=(), dtype=tf.string),\n",
      "        }),\n",
      "    }),\n",
      "    supervised_keys=None,\n",
      "    splits={\n",
      "        'train': <SplitInfo num_examples=590326, num_shards=1024>,\n",
      "    },\n",
      "    citation=\"\"\"@article{Sumbul2019BigEarthNetAL,\n",
      "      title={BigEarthNet: A Large-Scale Benchmark Archive For Remote Sensing Image Understanding},\n",
      "      author={Gencer Sumbul and Marcela Charfuelan and Beg{\"u}m Demir and Volker Markl},\n",
      "      journal={CoRR},\n",
      "      year={2019},\n",
      "      volume={abs/1902.06148}\n",
      "    }\"\"\",\n",
      ")\n"
     ]
    }
   ],
   "source": [
    "#tfds.list_builders()\n",
    "builder = tfds.builder('bigearthnet/all')\n",
    "info = builder.info\n",
    "print(info)"
   ]
  },
  {
   "cell_type": "code",
   "execution_count": null,
   "metadata": {},
   "outputs": [
    {
     "name": "stdout",
     "output_type": "stream",
     "text": [
      "\u001b[1mDownloading and preparing dataset 65.22 GiB (download: 65.22 GiB, generated: Unknown size, total: 65.22 GiB) to /workspace/app/irrigation_detection/data/raw/bigearthnet/all/1.0.0...\u001b[0m\n"
     ]
    },
    {
     "data": {
      "application/vnd.jupyter.widget-view+json": {
       "model_id": "655fb7bc7bf44d90b7988fc9b65a44e2",
       "version_major": 2,
       "version_minor": 0
      },
      "text/plain": [
       "HBox(children=(HTML(value='Dl Completed...'), FloatProgress(value=1.0, bar_style='info', layout=Layout(width='…"
      ]
     },
     "metadata": {},
     "output_type": "display_data"
    },
    {
     "data": {
      "application/vnd.jupyter.widget-view+json": {
       "model_id": "0a1f34709b554707b5d664b1995fecab",
       "version_major": 2,
       "version_minor": 0
      },
      "text/plain": [
       "HBox(children=(HTML(value='Dl Size...'), FloatProgress(value=1.0, bar_style='info', layout=Layout(width='20px'…"
      ]
     },
     "metadata": {},
     "output_type": "display_data"
    }
   ],
   "source": [
    "ds, info = tfds.load('bigearthnet/all', split='train', data_dir='/workspace/app/irrigation_detection/data/raw', with_info=True, shuffle_files=False, download=True)\n",
    "# ds, info = tfds.load('bigearthnet/all', with_info=True)\n",
    "assert isinstance(ds, tf.data.Dataset)\n",
    "print(info)"
   ]
  },
  {
   "cell_type": "code",
   "execution_count": null,
   "metadata": {},
   "outputs": [],
   "source": [
    "# fig = tfds.show_examples(ds, info)"
   ]
  },
  {
   "cell_type": "code",
   "execution_count": 7,
   "metadata": {},
   "outputs": [],
   "source": []
  },
  {
   "cell_type": "code",
   "execution_count": 8,
   "metadata": {},
   "outputs": [
    {
     "name": "stdout",
     "output_type": "stream",
     "text": [
      "tfds.core.DatasetInfo(\n",
      "    name='bigearthnet',\n",
      "    full_name='bigearthnet/rgb/1.0.0',\n",
      "    description=\"\"\"\n",
      "    The BigEarthNet is a new large-scale Sentinel-2 benchmark archive, consisting of\n",
      "    590,326 Sentinel-2 image patches. The image patch size on the ground is\n",
      "    1.2 x 1.2 km with variable image size depending on the channel resolution.\n",
      "    This is a multi-label dataset with 43 imbalanced labels.\n",
      "    \n",
      "    To construct the BigEarthNet, 125 Sentinel-2\n",
      "    tiles acquired between June 2017 and May 2018 over the 10 countries (Austria,\n",
      "    Belgium, Finland, Ireland, Kosovo, Lithuania, Luxembourg, Portugal, Serbia,\n",
      "    Switzerland) of Europe were initially selected. All the tiles were\n",
      "    atmospherically corrected by the Sentinel-2 Level 2A product generation and\n",
      "    formatting tool (sen2cor). Then, they were divided into 590,326 non-overlapping\n",
      "    image patches. Each image patch was annotated by the multiple land-cover classes\n",
      "    (i.e., multi-labels) that were provided from the CORINE Land Cover database of\n",
      "    the year 2018 (CLC 2018).\n",
      "    \n",
      "    Bands and pixel resolution in meters:\n",
      "    \n",
      "    * B01: Coastal aerosol; 60m\n",
      "    * B02: Blue; 10m\n",
      "    * B03: Green; 10m\n",
      "    * B04: Red; 10m\n",
      "    * B05: Vegetation red edge; 20m\n",
      "    * B06: Vegetation red edge; 20m\n",
      "    * B07: Vegetation red edge; 20m\n",
      "    * B08: NIR; 10m\n",
      "    * B09: Water vapor; 60m\n",
      "    * B11: SWIR; 20m\n",
      "    * B12: SWIR; 20m\n",
      "    * B8A: Narrow NIR; 20m\n",
      "    \n",
      "    License: Community Data License Agreement - Permissive, Version 1.0.\n",
      "    \n",
      "    URL: http://bigearth.net/\n",
      "    \"\"\",\n",
      "    config_description=\"\"\"\n",
      "    Sentinel-2 RGB channels\n",
      "    \"\"\",\n",
      "    homepage='http://bigearth.net',\n",
      "    data_path='/root/tensorflow_datasets/bigearthnet/rgb/1.0.0',\n",
      "    download_size=65.22 GiB,\n",
      "    dataset_size=Unknown size,\n",
      "    features=FeaturesDict({\n",
      "        'filename': Text(shape=(), dtype=tf.string),\n",
      "        'image': Image(shape=(120, 120, 3), dtype=tf.uint8),\n",
      "        'labels': Sequence(ClassLabel(shape=(), dtype=tf.int64, num_classes=43)),\n",
      "        'metadata': FeaturesDict({\n",
      "            'acquisition_date': Text(shape=(), dtype=tf.string),\n",
      "            'coordinates': FeaturesDict({\n",
      "                'lrx': tf.int64,\n",
      "                'lry': tf.int64,\n",
      "                'ulx': tf.int64,\n",
      "                'uly': tf.int64,\n",
      "            }),\n",
      "            'projection': Text(shape=(), dtype=tf.string),\n",
      "            'tile_source': Text(shape=(), dtype=tf.string),\n",
      "        }),\n",
      "    }),\n",
      "    supervised_keys=('image', 'labels'),\n",
      "    splits={\n",
      "        'train': <SplitInfo num_examples=590326, num_shards=128>,\n",
      "    },\n",
      "    citation=\"\"\"@article{Sumbul2019BigEarthNetAL,\n",
      "      title={BigEarthNet: A Large-Scale Benchmark Archive For Remote Sensing Image Understanding},\n",
      "      author={Gencer Sumbul and Marcela Charfuelan and Beg{\"u}m Demir and Volker Markl},\n",
      "      journal={CoRR},\n",
      "      year={2019},\n",
      "      volume={abs/1902.06148}\n",
      "    }\"\"\",\n",
      ")\n"
     ]
    }
   ],
   "source": []
  },
  {
   "cell_type": "code",
   "execution_count": null,
   "metadata": {},
   "outputs": [],
   "source": []
  }
 ],
 "metadata": {
  "kernelspec": {
   "display_name": "Python 3",
   "language": "python",
   "name": "python3"
  },
  "language_info": {
   "codemirror_mode": {
    "name": "ipython",
    "version": 3
   },
   "file_extension": ".py",
   "mimetype": "text/x-python",
   "name": "python",
   "nbconvert_exporter": "python",
   "pygments_lexer": "ipython3",
   "version": "3.8.5"
  }
 },
 "nbformat": 4,
 "nbformat_minor": 4
}
