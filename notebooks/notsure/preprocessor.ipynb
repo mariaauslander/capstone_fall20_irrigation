{
 "cells": [
  {
   "cell_type": "markdown",
   "metadata": {},
   "source": [
    "# SENTINEL2 Level-1C Data Preprocessor\n",
    "## Capstone - Fall 2020\n",
    "### TP Goter\n",
    "\n",
    "This notebook is used to preprocess the Sentinel2 images and irrigation labels extracted from Google Earth Engine using a modified version of the [Irrigation30 tool](https://github.com/AngelaWuGitHub/irrigation30) developed by a capstone team from Summer 2020. In order to minimize the number of files being written to Google Drive, predictions and images were gathered for areas of land that are large than what we want to use for training our model. The purpose therefore for this script is:\n",
    "1. Combine the separate multispectrum bands for each large image (12 channels)\n",
    "2. Split the MSI into non-overlapping subregions. \n",
    "3. Convert cluster numbers into irrigated/non-irrigated labels by month\n",
    "4. Create dataframe for each initial image. The dataframe will contain a row for every sub-image created along with the prediction array and some metadata.\n",
    "5. Serialize the dataframe as a pickle file"
   ]
  },
  {
   "cell_type": "code",
   "execution_count": 9,
   "metadata": {},
   "outputs": [],
   "source": [
    "import pandas as pd\n",
    "import numpy as np\n",
    "from matplotlib import pyplot as plt\n",
    "%matplotlib inline\n",
    "import cv2\n",
    "import os\n",
    "import rasterio"
   ]
  },
  {
   "cell_type": "code",
   "execution_count": 162,
   "metadata": {},
   "outputs": [
    {
     "data": {
      "text/plain": [
       "['irrigation30',\n",
       " 'S2_2018_35.625_-119.125',\n",
       " 'test01.png',\n",
       " 'S2_2018_35.625_-119.375',\n",
       " 'GDAL python samples',\n",
       " 'test02.png',\n",
       " 'S2_2018_35.875_-119.375',\n",
       " 'S2_2018_35.375_-119.875',\n",
       " 'test03.png',\n",
       " 'S2_2018_35.875_-119.125',\n",
       " '.DS_Store',\n",
       " 'S2_2018_35.125_-119.625',\n",
       " 'test04.png',\n",
       " 'preprocessor.ipynb',\n",
       " 'S2_2018_35.875_-119.625',\n",
       " 'S2_2018_36.375_-119.625',\n",
       " 'S2_2018_35.625_-119.625',\n",
       " 'S2_2018_36.625_-119.875.csv',\n",
       " 'S2_2018_36.375_-119.375.csv',\n",
       " 'S2_2018_35.125_-119.375',\n",
       " 'S2_2018_36.125_-119.875',\n",
       " 'gather_california_data.ipynb',\n",
       " 'S2_2018_35.125_-119.125',\n",
       " 'S2_2018_35.375_-119.625',\n",
       " 'BigEarthData',\n",
       " 'S2_2018_36.125_-119.125',\n",
       " 'data_qa.ipynb',\n",
       " 'S2_2018_35.125_-119.875',\n",
       " 'S2_2018_36.125_-119.375',\n",
       " '.ipynb_checkpoints',\n",
       " 'S2_2018_35.625_-119.875',\n",
       " 'S2_2018_35.375_-119.125',\n",
       " 'S2_2018_36.375_-119.875',\n",
       " 'S2_2018_35.875_-119.875',\n",
       " 'S2_2018_35.375_-119.375',\n",
       " 'S2_2018_36.125_-119.625',\n",
       " 'S2_2018_36.375_-119.125.csv']"
      ]
     },
     "execution_count": 162,
     "metadata": {},
     "output_type": "execute_result"
    }
   ],
   "source": [
    "os.listdir()"
   ]
  },
  {
   "cell_type": "markdown",
   "metadata": {},
   "source": [
    "## General Setup"
   ]
  },
  {
   "cell_type": "code",
   "execution_count": 218,
   "metadata": {},
   "outputs": [],
   "source": [
    "# Use all bands but B10\n",
    "BAND_NAMES = ['B1', 'B2', 'B3', 'B4', 'B5', 'B6', 'B7', 'B8', 'B8A', 'B9', 'B11', 'B12']\n",
    "\n",
    "# According to Sentinel guide all MSI data is scaled by factor of 10000\n",
    "SCALE_FACTOR = 10000"
   ]
  },
  {
   "cell_type": "markdown",
   "metadata": {},
   "source": [
    "## Process File\n",
    "\n",
    "The function below does everything described in the initial markdown cell of this notebook. \n",
    "\n",
    "### Load Predictions\n",
    "The cluster predictions from Irrigation30 are stored in a tiff file. This gives us irrigation by month essentially. A problem was noted with these labels in that cluster 0 can correspond to irrigated land. However zero is also assigned to non-cropland. In order to properly account for this, we must load a second tiff file which has simply irrigated vs not irrigated. \n",
    "\n",
    "### Decode the Clusters\n",
    "During the running of Irrigation30 for each image, we parse the cluster labels to generate the decoder key. This was stored as a dataframe. We can use this to expand our cluster tif into irrigated/not irrigated (i.e., 1 or 0) predictions by month.\n",
    "\n",
    "### Chunk the MSI and Label Data\n",
    "Use the numpy split method to break the large image into many small, non-overlapping images. \n",
    "\n",
    "### Store data with metadata\n",
    "Use a dataframe to store the data with some metadata, also serialize the file.\n"
   ]
  },
  {
   "cell_type": "code",
   "execution_count": 224,
   "metadata": {},
   "outputs": [],
   "source": [
    "def pandatize_image(base_path, band_names=BAND_NAMES, img_dim=100, scale = SCALE_FACTOR):\n",
    "    '''\n",
    "    base_path: String - Path to folder with tif file for each spectral band and month\n",
    "    band_names: List - List of bands to iterate over\n",
    "    img_dim: int -  Dimension of final images desired - assumes square i.e., nxn\n",
    "    scale: numeric - Value by which to divide the arrays of data in the tiff file\n",
    "    \n",
    "    '''\n",
    "    # Get the cluster labels by pixel\n",
    "    with rasterio.open(f'{base_path}/{base_path}.tif') as pred_ds:\n",
    "        predictions = pred_ds.read(1)\n",
    "    \n",
    "    # Get irrigated/not irrigated by pixel \n",
    "    with rasterio.open(f'{base_path}/{base_path}_RI.tif') as mask_ds:\n",
    "        rain_irr = mask_ds.read(1)  \n",
    "    \n",
    "    # Read the cluster key df\n",
    "    key_df = pd.read_csv(f'{base_path}/{base_path}.csv').rename({'Unnamed: 0': 'cluster'}, axis=1)\n",
    "    #print(key_df)\n",
    "    \n",
    "    # Final desired dimension of each image\n",
    "    img_array_dim = (img_dim, img_dim, len(band_names))\n",
    "\n",
    "    # List to store temporary dataframes\n",
    "    dfs = []\n",
    "    \n",
    "    # Iterate over all months\n",
    "    for month in range(1,13):\n",
    "        ia_list = []\n",
    "        pred_list = []\n",
    "\n",
    "        # Find the cluster labels that had irrigation for the current month\n",
    "        irrigated_clusters = key_df[key_df.iloc[:, month] > 0].iloc[:,month].index.values\n",
    "        \n",
    "        # Initialize our prediction matrix\n",
    "        month_preds = np.zeros_like(predictions)\n",
    "        \n",
    "        # Loop over the irrigated cluster\n",
    "        for cluster in irrigated_clusters:\n",
    "            # Identify the pixels that have the cluster of interest. Turn their label to 1\n",
    "            print(f'Irrigation detected in cluster {cluster} for month {month}')\n",
    "            month_preds = month_preds + np.where(predictions == cluster, 1, 0)\n",
    "        \n",
    "        # Account for the non-cropland areas (multiply by zero)\n",
    "        month_preds = month_preds * rain_irr\n",
    "\n",
    "        try:\n",
    "            # Loop over all bands and read the actual MSI data in and create 3d array\n",
    "            for b, band in enumerate(band_names):\n",
    "                with rasterio.open(f'{base_path}/{base_path}_msi_{band}_{month}.tif') as data_ds:\n",
    "                    data = data_ds.read(1)\n",
    "                    if b == 0:\n",
    "                        combined_data = np.zeros((data.shape[0], data.shape[1], len(band_names)))\n",
    "                    combined_data[:,:,b] = data\n",
    "\n",
    "            # Split the large 3d array into many subpieces - first in the row direction\n",
    "            rows = np.split(combined_data, np.arange(img_dim, data.shape[0], img_dim))\n",
    "            pred_rows = np.split(month_preds, np.arange(img_dim, data.shape[0], img_dim))\n",
    "\n",
    "            # Loop over the broken up rows and split up columns\n",
    "            for c, col_chunk in enumerate(rows[:-1]):\n",
    "                img_arrays = np.split(col_chunk, np.arange(img_dim, data.shape[1], img_dim), axis=1)\n",
    "                pred_arrays = np.split(pred_rows[c], np.arange(img_dim, data.shape[1], img_dim), axis=1)\n",
    "\n",
    "                # Store the small MSI and prediction data to a list\n",
    "                for i, ia in enumerate(img_arrays[:-1]):\n",
    "                    ia_list.append(np.float32(ia / scale))\n",
    "                    pred_list.append(np.int16(pred_arrays[i]))\n",
    "\n",
    "            # Create temporary dataframe with msi data, predictions and metadata\n",
    "            temp_df = pd.DataFrame({\"msi\": ia_list, \"predictions\" : pred_list})\n",
    "            temp_df['month'] = month\n",
    "            temp_df['lat'] = base_path.split('_')[2]\n",
    "            temp_df['lon'] = base_path.split('_')[3]\n",
    "\n",
    "            dfs.append(temp_df)\n",
    "            del temp_df\n",
    "        \n",
    "        except:\n",
    "                print(f\"Missing Data for Month {month}\")\n",
    "\n",
    "\n",
    "    # Concatenate the list of monthly dataframes\n",
    "    data_df = pd.concat(dfs).reset_index(drop=True)\n",
    "    del dfs\n",
    "\n",
    "    # Count number of irrigated pixels by sub-image\n",
    "    data_df['tot_irr_locs'] = data_df.predictions.map(lambda x: np.float32(x.sum()))\n",
    "    \n",
    "    data_df.to_pickle(f'{base_path}/{base_path}.pkl')\n",
    "    \n",
    "    return data_df"
   ]
  },
  {
   "cell_type": "code",
   "execution_count": 225,
   "metadata": {},
   "outputs": [
    {
     "name": "stdout",
     "output_type": "stream",
     "text": [
      "Irrigation detected in cluster 1 for month 1\n",
      "Irrigation detected in cluster 3 for month 2\n",
      "Irrigation detected in cluster 8 for month 2\n",
      "Irrigation detected in cluster 2 for month 5\n",
      "Irrigation detected in cluster 9 for month 5\n",
      "Irrigation detected in cluster 5 for month 6\n",
      "Irrigation detected in cluster 6 for month 7\n",
      "Irrigation detected in cluster 2 for month 10\n",
      "Irrigation detected in cluster 9 for month 10\n",
      "==================================================\n",
      "Irrigation detected in cluster 3 for month 1\n",
      "Irrigation detected in cluster 5 for month 2\n",
      "Irrigation detected in cluster 7 for month 2\n",
      "Irrigation detected in cluster 4 for month 4\n",
      "Irrigation detected in cluster 8 for month 6\n",
      "Irrigation detected in cluster 1 for month 7\n",
      "Irrigation detected in cluster 3 for month 7\n",
      "Irrigation detected in cluster 2 for month 8\n",
      "==================================================\n",
      "Irrigation detected in cluster 1 for month 1\n",
      "Missing Data for Month 1\n",
      "Irrigation detected in cluster 0 for month 3\n",
      "Irrigation detected in cluster 4 for month 3\n",
      "Irrigation detected in cluster 6 for month 3\n",
      "Irrigation detected in cluster 2 for month 4\n",
      "Irrigation detected in cluster 5 for month 5\n",
      "Irrigation detected in cluster 9 for month 5\n",
      "Irrigation detected in cluster 4 for month 6\n",
      "Irrigation detected in cluster 7 for month 6\n",
      "Irrigation detected in cluster 1 for month 7\n",
      "Irrigation detected in cluster 4 for month 9\n",
      "Irrigation detected in cluster 6 for month 9\n",
      "Irrigation detected in cluster 5 for month 10\n",
      "Irrigation detected in cluster 9 for month 10\n",
      "Irrigation detected in cluster 4 for month 12\n",
      "==================================================\n",
      "Missing Data for Month 1\n",
      "Irrigation detected in cluster 2 for month 2\n",
      "Irrigation detected in cluster 0 for month 3\n",
      "Irrigation detected in cluster 2 for month 5\n",
      "Irrigation detected in cluster 3 for month 5\n",
      "Irrigation detected in cluster 9 for month 5\n",
      "Irrigation detected in cluster 1 for month 6\n",
      "Irrigation detected in cluster 4 for month 6\n",
      "Irrigation detected in cluster 6 for month 6\n",
      "Irrigation detected in cluster 8 for month 6\n",
      "Irrigation detected in cluster 0 for month 8\n",
      "Irrigation detected in cluster 1 for month 10\n",
      "Irrigation detected in cluster 2 for month 10\n",
      "Irrigation detected in cluster 3 for month 10\n",
      "Irrigation detected in cluster 9 for month 12\n",
      "==================================================\n"
     ]
    }
   ],
   "source": [
    "# List of folders to iterate over\n",
    "base_paths = ['S2_2018_35.875_-119.875',\n",
    "              'S2_2018_35.875_-119.625',\n",
    "              'S2_2018_35.875_-119.375',\n",
    "              'S2_2018_35.875_-119.125']\n",
    "\n",
    "for base_path in base_paths:\n",
    "    df = pandatize_image(base_path)\n",
    "    print(50*'=')\n",
    "    #print(df.tot_irr_locs.value_counts())"
   ]
  },
  {
   "cell_type": "code",
   "execution_count": 227,
   "metadata": {},
   "outputs": [
    {
     "data": {
      "text/plain": [
       "1188"
      ]
     },
     "execution_count": 227,
     "metadata": {},
     "output_type": "execute_result"
    }
   ],
   "source": [
    "len(data_df)"
   ]
  },
  {
   "cell_type": "markdown",
   "metadata": {},
   "source": [
    "## Note on missing data in January\n",
    "\n",
    "At first I thought this was odd but I went to the [Sentinel Hub playground](https://apps.sentinel-hub.com/sentinel-playground/) and saw the image below. After looking at the January 2018 satellite imagery for that region, it appears the very southern tip of the Central Vally got really lucky at the end of January which results in us actually having usable satellite imagery. However for the rest of the region we should not expect to see much during that month.\n",
    "\n",
    "![Central Valley](./Sentinel-2_L1C_2018-01-25.jpg)"
   ]
  },
  {
   "cell_type": "code",
   "execution_count": 226,
   "metadata": {},
   "outputs": [
    {
     "data": {
      "text/plain": [
       "1188"
      ]
     },
     "execution_count": 226,
     "metadata": {},
     "output_type": "execute_result"
    }
   ],
   "source": []
  },
  {
   "cell_type": "code",
   "execution_count": null,
   "metadata": {},
   "outputs": [],
   "source": []
  }
 ],
 "metadata": {
  "kernelspec": {
   "display_name": "Python 3",
   "language": "python",
   "name": "python3"
  },
  "language_info": {
   "codemirror_mode": {
    "name": "ipython",
    "version": 3
   },
   "file_extension": ".py",
   "mimetype": "text/x-python",
   "name": "python",
   "nbconvert_exporter": "python",
   "pygments_lexer": "ipython3",
   "version": "3.8.5"
  }
 },
 "nbformat": 4,
 "nbformat_minor": 4
}
