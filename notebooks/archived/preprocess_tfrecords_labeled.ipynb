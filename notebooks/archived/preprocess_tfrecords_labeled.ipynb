{
 "cells": [
  {
   "cell_type": "markdown",
   "metadata": {
    "id": "2Z0HiNpYt6zD"
   },
   "source": [
    "# Big Earth Net Preprocessing\n",
    "## Irrigation Capstone Fall 2020\n",
    "### TP Goter\n",
    "\n",
    "This notebook is used to preprocess the GeoTiff files that contain the Sentinel-2 MSI data comprising the BigEarthNet dataset into TFRecords files. It is based on the preprocessing scripts from the BigEarthNet repo, but has been updated to work in Colaboratory with Python3.7+ and TensorFlow 2.3.\n",
    "\n",
    "This version of the preprocessor is for specifically isolating the irrigated and non-irrigated examples."
   ]
  },
  {
   "cell_type": "code",
   "execution_count": 1,
   "metadata": {
    "colab": {
     "base_uri": "https://localhost:8080/"
    },
    "executionInfo": {
     "elapsed": 4841,
     "status": "ok",
     "timestamp": 1601156548878,
     "user": {
      "displayName": "Thomas Goter",
      "photoUrl": "",
      "userId": "00883949598941594885"
     },
     "user_tz": 240
    },
    "id": "b0r4VAo9eRWa",
    "outputId": "0d884a87-7e43-470a-98f9-0312431f02ba"
   },
   "outputs": [],
   "source": [
    "import pandas as pd\n",
    "import tensorflow as tf\n",
    "from glob import glob\n",
    "import os\n",
    "#from matplotlib import pyplot as plt\n",
    "#%matplotlib inline\n",
    "import numpy as np\n",
    "from tqdm import tqdm\n",
    "#from google.colab import drive\n",
    "#import seaborn as sns\n",
    "#from matplotlib.cm import get_cmap\n",
    "#import folium\n",
    "#import gdal\n",
    "import rasterio\n",
    "import csv\n",
    "import json"
   ]
  },
  {
   "cell_type": "code",
   "execution_count": 2,
   "metadata": {
    "colab": {
     "base_uri": "https://localhost:8080/"
    },
    "executionInfo": {
     "elapsed": 4836,
     "status": "ok",
     "timestamp": 1601156548880,
     "user": {
      "displayName": "Thomas Goter",
      "photoUrl": "",
      "userId": "00883949598941594885"
     },
     "user_tz": 240
    },
    "id": "i8AXp5QRfCMR",
    "outputId": "58c67cd6-4e0a-452b-ba6b-2414f9a44ba6"
   },
   "outputs": [
    {
     "name": "stdout",
     "output_type": "stream",
     "text": [
      "1.1.2\n",
      "2.3.1\n"
     ]
    }
   ],
   "source": [
    "print(pd.__version__)\n",
    "print(tf.__version__)\n"
   ]
  },
  {
   "cell_type": "markdown",
   "metadata": {
    "id": "MFjjrUFAucPm"
   },
   "source": [
    "## Mount Google Drive and Set Paths"
   ]
  },
  {
   "cell_type": "code",
   "execution_count": 3,
   "metadata": {
    "colab": {
     "base_uri": "https://localhost:8080/"
    },
    "executionInfo": {
     "elapsed": 4830,
     "status": "ok",
     "timestamp": 1601156548880,
     "user": {
      "displayName": "Thomas Goter",
      "photoUrl": "",
      "userId": "00883949598941594885"
     },
     "user_tz": 240
    },
    "id": "Q5hp7SNtfCvY",
    "outputId": "3db919a6-5cd3-4949-8f0a-0f0e03e62145"
   },
   "outputs": [],
   "source": [
    "#from google.colab import drive\n",
    "#drive.mount('/content/gdrive')"
   ]
  },
  {
   "cell_type": "code",
   "execution_count": 4,
   "metadata": {
    "id": "8nvKWoMlfGZ4"
   },
   "outputs": [],
   "source": [
    "#base_path = '/content/gdrive/My Drive/Capstone Project'\n",
    "big_earth_path ='./BigEarthNet-v1.0/'"
   ]
  },
  {
   "cell_type": "markdown",
   "metadata": {
    "id": "KUcdgz7bugBq"
   },
   "source": [
    "## Create Symbolic Link(s)\n",
    "Set up a symbolic link to allow for easy Python module imports. Then check to make sure the link works (it is a Unix link so check from shell)"
   ]
  },
  {
   "cell_type": "code",
   "execution_count": 5,
   "metadata": {
    "colab": {
     "base_uri": "https://localhost:8080/",
     "height": 34
    },
    "executionInfo": {
     "elapsed": 3169,
     "status": "ok",
     "timestamp": 1601121478276,
     "user": {
      "displayName": "Thomas Goter",
      "photoUrl": "",
      "userId": "00883949598941594885"
     },
     "user_tz": 240
    },
    "id": "lnsWI7TngGOd",
    "outputId": "53e74cb7-9a99-45d0-fc76-c578d06e763f"
   },
   "outputs": [
    {
     "name": "stdout",
     "output_type": "stream",
     "text": [
      "ln: bemodels/bigearthnet-models: File exists\n"
     ]
    }
   ],
   "source": [
    "!ln -s './bigearthnet-models/' bemodels"
   ]
  },
  {
   "cell_type": "code",
   "execution_count": 6,
   "metadata": {
    "colab": {
     "base_uri": "https://localhost:8080/",
     "height": 51
    },
    "executionInfo": {
     "elapsed": 3163,
     "status": "ok",
     "timestamp": 1601121478277,
     "user": {
      "displayName": "Thomas Goter",
      "photoUrl": "",
      "userId": "00883949598941594885"
     },
     "user_tz": 240
    },
    "id": "GGLMTMT_gyvz",
    "outputId": "9cd87b89-0dfc-4dd8-c201-9a89e6ae583a"
   },
   "outputs": [
    {
     "name": "stdout",
     "output_type": "stream",
     "text": [
      "README.md           bigearthnet-models  prep_splits.py      tensorflow_utils.py\n",
      "\u001b[34m__pycache__\u001b[m\u001b[m         label_indices.json  \u001b[34msplits\u001b[m\u001b[m\n"
     ]
    }
   ],
   "source": [
    "!ls bemodels"
   ]
  },
  {
   "cell_type": "code",
   "execution_count": 7,
   "metadata": {
    "id": "tIho5IV_giss"
   },
   "outputs": [],
   "source": [
    "from bemodels import tensorflow_utils"
   ]
  },
  {
   "cell_type": "markdown",
   "metadata": {
    "id": "nK0uOlk8utUU"
   },
   "source": [
    "## Process All of the BigEarthNet data\n",
    "This simple script will loop over all of the subfolders in the BigEarthNet-v1.0 folder. Currently this folder does not contain the entirety of the BigEarthNet Dataset. Due to this issue, the original scripting was modified to run through the train, test, val sets and only process files if they exist. The previous script simply aborted if a file was listed in the train.csv file and was not in the directory.\n",
    "\n",
    "### Note: This processing takes a really long time. \n",
    "We need to determine if there is a better way to get this data ready for ingestion into our models."
   ]
  },
  {
   "cell_type": "code",
   "execution_count": 98,
   "metadata": {
    "colab": {
     "base_uri": "https://localhost:8080/",
     "output_embedded_package_id": "11N4a4EE-0HGNHlfvZEA3G8x3YzUjEkgn"
    },
    "id": "njMMPbVdfW_f",
    "outputId": "b9d26719-73d9-4a29-b160-76b70fae086e"
   },
   "outputs": [],
   "source": [
    "with open('./bigearthnet-models/label_indices.json', 'rb') as f:\n",
    "    label_indices = json.load(f)\n",
    "\n",
    "root_folder = big_earth_path\n",
    "out_folder = './tfrecords'\n",
    "splits = glob(f'./bigearthnet-models/splits/val.csv')\n",
    "\n",
    "# Checks the existence of patch folders and populate the list of patch folder paths\n",
    "folder_path_list = []\n",
    "if not os.path.exists(root_folder):\n",
    "    print('ERROR: folder', root_folder, 'does not exist')\n",
    "\n",
    "\n"
   ]
  },
  {
   "cell_type": "code",
   "execution_count": 99,
   "metadata": {},
   "outputs": [],
   "source": [
    "patch_names_list = []\n",
    "split_names = []\n",
    "for csv_file in splits:\n",
    "    patch_names_list.append([])\n",
    "    split_names.append(os.path.basename(csv_file).split('.')[0])\n",
    "    with open(csv_file, 'r') as fp:\n",
    "        csv_reader = csv.reader(fp, delimiter=',')\n",
    "        for row in csv_reader:\n",
    "            patch_names_list[-1].append(row[0].strip())    \n",
    "\n",
    "# tensorflow_utils.prep_tf_record_files(\n",
    "#     root_folder, out_folder, \n",
    "#     split_names, patch_names_list, \n",
    "#     label_indices)"
   ]
  },
  {
   "cell_type": "code",
   "execution_count": 100,
   "metadata": {},
   "outputs": [
    {
     "data": {
      "text/plain": [
       "123723"
      ]
     },
     "execution_count": 100,
     "metadata": {},
     "output_type": "execute_result"
    }
   ],
   "source": [
    "len(patch_names_list[0])"
   ]
  },
  {
   "cell_type": "code",
   "execution_count": 97,
   "metadata": {},
   "outputs": [
    {
     "name": "stderr",
     "output_type": "stream",
     "text": [
      "100%|██████████| 256/256 [00:04<00:00, 59.87it/s]\n"
     ]
    }
   ],
   "source": [
    "irrigated_examples = []\n",
    "nonirrigated_examples = []\n",
    "missing_count = 0\n",
    "for patch_name in tqdm(patch_names_list[0]):\n",
    "    patch_folder_path = os.path.join(root_folder, patch_name)\n",
    "    patch_json_path = os.path.join(\n",
    "                    patch_folder_path, patch_name + '_labels_metadata.json')\n",
    "    try:\n",
    "        with open(patch_json_path, 'rb') as f:\n",
    "                        patch_json = json.load(f)\n",
    "    except:\n",
    "#         print(f'Missing Labels for {patch_name}')\n",
    "        missing_count += 1\n",
    "        continue\n",
    "\n",
    "    if 'Permanently irrigated land' in patch_json['labels']:\n",
    "        irrigated_examples.append(patch_folder_path)\n",
    "    else:\n",
    "        nonirrigated_examples.append(patch_folder_path)\n"
   ]
  },
  {
   "cell_type": "markdown",
   "metadata": {},
   "source": [
    "## Check for Vineyards"
   ]
  },
  {
   "cell_type": "code",
   "execution_count": 101,
   "metadata": {},
   "outputs": [
    {
     "name": "stderr",
     "output_type": "stream",
     "text": [
      "100%|██████████| 123723/123723 [27:48<00:00, 74.16it/s] \n"
     ]
    }
   ],
   "source": [
    "vy_examples = []\n",
    "nonvy_examples = []\n",
    "missing_count = 0\n",
    "for patch_name in tqdm(patch_names_list[0]):\n",
    "    patch_folder_path = os.path.join(root_folder, patch_name)\n",
    "    patch_json_path = os.path.join(\n",
    "                    patch_folder_path, patch_name + '_labels_metadata.json')\n",
    "    try:\n",
    "        with open(patch_json_path, 'rb') as f:\n",
    "                        patch_json = json.load(f)\n",
    "    except:\n",
    "#         print(f'Missing Labels for {patch_name}')\n",
    "        missing_count += 1\n",
    "        continue\n",
    "\n",
    "    if 'Vineyards' in patch_json['labels']:\n",
    "        vy_examples.append(patch_folder_path)\n",
    "    else:\n",
    "        nonvy_examples.append(patch_folder_path)"
   ]
  },
  {
   "cell_type": "code",
   "execution_count": 111,
   "metadata": {},
   "outputs": [
    {
     "data": {
      "text/plain": [
       "3426"
      ]
     },
     "execution_count": 111,
     "metadata": {},
     "output_type": "execute_result"
    }
   ],
   "source": [
    "len(vy_examples)*2"
   ]
  },
  {
   "cell_type": "code",
   "execution_count": 103,
   "metadata": {},
   "outputs": [
    {
     "data": {
      "text/plain": [
       "87108"
      ]
     },
     "execution_count": 103,
     "metadata": {},
     "output_type": "execute_result"
    }
   ],
   "source": [
    "len(nonvy_examples)"
   ]
  },
  {
   "cell_type": "code",
   "execution_count": 17,
   "metadata": {},
   "outputs": [],
   "source": [
    "pos_irr_df = pd.read_csv('./bigearthnet-models/splits/positive_train.csv')\n",
    "neg_irr_df = pd.read_csv('./bigearthnet-models/splits/negative_train.csv')"
   ]
  },
  {
   "cell_type": "code",
   "execution_count": 104,
   "metadata": {},
   "outputs": [],
   "source": [
    "pos_df = pd.DataFrame(vy_examples,columns=['file'])\n",
    "neg_df = pd.DataFrame(nonvy_examples,columns=['file'])\n",
    "pos_df.to_csv('./bigearthnet-models/splits/positive_vy_val.csv')\n",
    "neg_df.to_csv('./bigearthnet-models/splits/negative_vy_val.csv')"
   ]
  },
  {
   "cell_type": "markdown",
   "metadata": {},
   "source": [
    "# Create Data sets for finetuning. Make total dataset size divisible by 32 or 64 for easy batching"
   ]
  },
  {
   "cell_type": "code",
   "execution_count": 96,
   "metadata": {},
   "outputs": [
    {
     "data": {
      "text/plain": [
       "4971"
      ]
     },
     "execution_count": 96,
     "metadata": {},
     "output_type": "execute_result"
    }
   ],
   "source": [
    "len(pos_irr_df)"
   ]
  },
  {
   "cell_type": "code",
   "execution_count": 52,
   "metadata": {},
   "outputs": [],
   "source": [
    "pos_df_1_percent = pos_irr_df.sample(frac=0.0065)\n",
    "pos_df_3_percent = pos_irr_df.sample(frac=0.0258)\n",
    "pos_df_10_percent = pos_irr_df.sample(frac=0.103)"
   ]
  },
  {
   "cell_type": "code",
   "execution_count": 54,
   "metadata": {},
   "outputs": [
    {
     "name": "stdout",
     "output_type": "stream",
     "text": [
      "32\n",
      "128\n",
      "512\n"
     ]
    }
   ],
   "source": [
    "print(len(pos_df_1_percent))\n",
    "print(len(pos_df_3_percent))\n",
    "print(len(pos_df_10_percent))"
   ]
  },
  {
   "cell_type": "code",
   "execution_count": 56,
   "metadata": {},
   "outputs": [],
   "source": [
    "sample_frac_1p = len(pos_df_1_percent)/len(neg_irr_df)\n",
    "sample_frac_3p = len(pos_df_3_percent)/len(neg_irr_df)\n",
    "sample_frac_10p = len(pos_df_10_percent)/len(neg_irr_df)"
   ]
  },
  {
   "cell_type": "code",
   "execution_count": 58,
   "metadata": {},
   "outputs": [],
   "source": [
    "subset_neg_df_1p = neg_irr_df.sample(frac=sample_frac_1p)\n",
    "subset_neg_df_3p = neg_irr_df.sample(frac=sample_frac_3p)\n",
    "subset_neg_df_10p = neg_irr_df.sample(frac=sample_frac_10p)"
   ]
  },
  {
   "cell_type": "code",
   "execution_count": 60,
   "metadata": {},
   "outputs": [
    {
     "name": "stdout",
     "output_type": "stream",
     "text": [
      "32\n",
      "128\n",
      "512\n"
     ]
    }
   ],
   "source": [
    "print(len(subset_neg_df_1p))\n",
    "print(len(subset_neg_df_3p))\n",
    "print(len(subset_neg_df_10p))"
   ]
  },
  {
   "cell_type": "code",
   "execution_count": 76,
   "metadata": {},
   "outputs": [],
   "source": [
    "pos_vy_df_1_percent = pos_df.sample(frac=0.0092)\n",
    "pos_vy_df_3_percent = pos_df.sample(frac=0.0366)"
   ]
  },
  {
   "cell_type": "code",
   "execution_count": 77,
   "metadata": {},
   "outputs": [
    {
     "name": "stdout",
     "output_type": "stream",
     "text": [
      "32\n",
      "128\n"
     ]
    }
   ],
   "source": [
    "print(len(pos_vy_df_1_percent))\n",
    "print(len(pos_vy_df_3_percent))"
   ]
  },
  {
   "cell_type": "code",
   "execution_count": 79,
   "metadata": {},
   "outputs": [],
   "source": [
    "sample_frac_vy_1p = len(pos_vy_df_1_percent)/len(neg_df)\n",
    "sample_frac_vy_3p = len(pos_vy_df_3_percent)/len(neg_df)"
   ]
  },
  {
   "cell_type": "code",
   "execution_count": 81,
   "metadata": {},
   "outputs": [],
   "source": [
    "subset_neg_vy_df_1p = neg_df.sample(frac=sample_frac_vy_1p)\n",
    "subset_neg_vy_df_3p = neg_df.sample(frac=sample_frac_vy_3p)"
   ]
  },
  {
   "cell_type": "code",
   "execution_count": 82,
   "metadata": {},
   "outputs": [
    {
     "name": "stdout",
     "output_type": "stream",
     "text": [
      "32\n",
      "128\n"
     ]
    }
   ],
   "source": [
    "print(len(subset_neg_vy_df_1p))\n",
    "print(len(subset_neg_vy_df_3p))"
   ]
  },
  {
   "cell_type": "code",
   "execution_count": 105,
   "metadata": {},
   "outputs": [],
   "source": [
    "sample_frac_vy= len(pos_df)/len(neg_df)"
   ]
  },
  {
   "cell_type": "code",
   "execution_count": 106,
   "metadata": {},
   "outputs": [],
   "source": [
    "neg_vy_df = neg_df.sample(frac=sample_frac_vy)"
   ]
  },
  {
   "cell_type": "code",
   "execution_count": 110,
   "metadata": {},
   "outputs": [
    {
     "data": {
      "text/plain": [
       "3426"
      ]
     },
     "execution_count": 110,
     "metadata": {},
     "output_type": "execute_result"
    }
   ],
   "source": [
    "len(neg_vy_df) *2"
   ]
  },
  {
   "cell_type": "code",
   "execution_count": 27,
   "metadata": {},
   "outputs": [
    {
     "name": "stdout",
     "output_type": "stream",
     "text": [
      "Start Index: 0\n",
      "Stop Index: 4971\n",
      "Start Index: 4971\n",
      "Stop Index: 9942\n",
      "Start Index: 9942\n",
      "Stop Index: 14913\n",
      "Start Index: 14913\n",
      "Stop Index: 19884\n",
      "Start Index: 19884\n",
      "Stop Index: 24855\n"
     ]
    }
   ],
   "source": [
    "# start_index = 0\n",
    "# stop_index = 0\n",
    "# # for i in range(5):\n",
    "# #     print(f'Start Index: {start_index}')\n",
    "# #     stop_index = len(subset_neg_df)*(i+1)//5\n",
    "# #     print(f'Stop Index: {stop_index}')\n",
    "# #     balanced_df = pd.concat([pos_df, subset_neg_df[start_index:stop_index]])\n",
    "# #     start_index = stop_index\n",
    "# #     # Shuffle the examples\n",
    "# #     balanced_df = balanced_df.sample(frac=1)\n",
    "# #     balanced_df.to_csv(f'./bigearthnet-models/splits/balanced_val{i}.csv')"
   ]
  },
  {
   "cell_type": "code",
   "execution_count": 108,
   "metadata": {},
   "outputs": [],
   "source": [
    "balanced_df = pd.concat([pos_df, neg_vy_df])\n",
    "# Shuffle the examples\n",
    "balanced_df = balanced_df.sample(frac=1)\n",
    "balanced_df.to_csv(f'./bigearthnet-models/splits/final_balanced_val_vy.csv')"
   ]
  },
  {
   "cell_type": "code",
   "execution_count": 109,
   "metadata": {
    "scrolled": true
   },
   "outputs": [
    {
     "name": "stderr",
     "output_type": "stream",
     "text": [
      "0it [00:00, ?it/s]"
     ]
    },
    {
     "name": "stdout",
     "output_type": "stream",
     "text": [
      "INFO: creating the split of final_balanced_val_vy is started\n",
      "   1/3426 [..............................] - ETA: 8:02"
     ]
    },
    {
     "name": "stderr",
     "output_type": "stream",
     "text": [
      "2it [00:00, 14.48it/s]"
     ]
    },
    {
     "name": "stdout",
     "output_type": "stream",
     "text": [
      "   3/3426 [..............................] - ETA: 5:05"
     ]
    },
    {
     "name": "stderr",
     "output_type": "stream",
     "text": [
      "4it [00:00, 14.83it/s]"
     ]
    },
    {
     "name": "stdout",
     "output_type": "stream",
     "text": [
      "   5/3426 [..............................] - ETA: 4:31"
     ]
    },
    {
     "name": "stderr",
     "output_type": "stream",
     "text": [
      "6it [00:00, 15.02it/s]"
     ]
    },
    {
     "name": "stdout",
     "output_type": "stream",
     "text": [
      "   7/3426 [..............................] - ETA: 4:11"
     ]
    },
    {
     "name": "stderr",
     "output_type": "stream",
     "text": [
      "8it [00:00, 15.54it/s]"
     ]
    },
    {
     "name": "stdout",
     "output_type": "stream",
     "text": [
      "   9/3426 [..............................] - ETA: 4:05"
     ]
    },
    {
     "name": "stderr",
     "output_type": "stream",
     "text": [
      "10it [00:00, 15.45it/s]"
     ]
    },
    {
     "name": "stdout",
     "output_type": "stream",
     "text": [
      "  11/3426 [..............................] - ETA: 3:58"
     ]
    },
    {
     "name": "stderr",
     "output_type": "stream",
     "text": [
      "12it [00:00, 15.72it/s]"
     ]
    },
    {
     "name": "stdout",
     "output_type": "stream",
     "text": [
      "  13/3426 [..............................] - ETA: 3:55"
     ]
    },
    {
     "name": "stderr",
     "output_type": "stream",
     "text": [
      "14it [00:00, 15.74it/s]"
     ]
    },
    {
     "name": "stdout",
     "output_type": "stream",
     "text": [
      "  15/3426 [..............................] - ETA: 3:50"
     ]
    },
    {
     "name": "stderr",
     "output_type": "stream",
     "text": [
      "16it [00:01, 16.16it/s]"
     ]
    },
    {
     "name": "stdout",
     "output_type": "stream",
     "text": [
      "  17/3426 [..............................] - ETA: 3:45"
     ]
    },
    {
     "name": "stderr",
     "output_type": "stream",
     "text": [
      "18it [00:01, 16.66it/s]"
     ]
    },
    {
     "name": "stdout",
     "output_type": "stream",
     "text": [
      "  19/3426 [..............................] - ETA: 3:42"
     ]
    },
    {
     "name": "stderr",
     "output_type": "stream",
     "text": [
      "20it [00:01, 16.64it/s]"
     ]
    },
    {
     "name": "stdout",
     "output_type": "stream",
     "text": [
      "  21/3426 [..............................] - ETA: 3:55"
     ]
    },
    {
     "name": "stderr",
     "output_type": "stream",
     "text": [
      "22it [00:01, 13.61it/s]"
     ]
    },
    {
     "name": "stdout",
     "output_type": "stream",
     "text": [
      "  23/3426 [..............................] - ETA: 3:52"
     ]
    },
    {
     "name": "stderr",
     "output_type": "stream",
     "text": [
      "24it [00:01, 14.50it/s]"
     ]
    },
    {
     "name": "stdout",
     "output_type": "stream",
     "text": [
      "  25/3426 [..............................] - ETA: 3:50"
     ]
    },
    {
     "name": "stderr",
     "output_type": "stream",
     "text": [
      "26it [00:01, 15.02it/s]"
     ]
    },
    {
     "name": "stdout",
     "output_type": "stream",
     "text": [
      "  27/3426 [..............................] - ETA: 3:50"
     ]
    },
    {
     "name": "stderr",
     "output_type": "stream",
     "text": [
      "28it [00:01, 14.95it/s]"
     ]
    },
    {
     "name": "stdout",
     "output_type": "stream",
     "text": [
      "  28/3426 [..............................] - ETA: 3:48"
     ]
    },
    {
     "name": "stderr",
     "output_type": "stream",
     "text": [
      "30it [00:01, 16.14it/s]"
     ]
    },
    {
     "name": "stdout",
     "output_type": "stream",
     "text": [
      "  31/3426 [..............................] - ETA: 3:42"
     ]
    },
    {
     "name": "stderr",
     "output_type": "stream",
     "text": [
      "32it [00:02, 16.92it/s]"
     ]
    },
    {
     "name": "stdout",
     "output_type": "stream",
     "text": [
      "  33/3426 [..............................] - ETA: 3:40"
     ]
    },
    {
     "name": "stderr",
     "output_type": "stream",
     "text": [
      "34it [00:02, 17.08it/s]"
     ]
    },
    {
     "name": "stdout",
     "output_type": "stream",
     "text": [
      "  35/3426 [..............................] - ETA: 3:39"
     ]
    },
    {
     "name": "stderr",
     "output_type": "stream",
     "text": [
      "36it [00:02, 17.05it/s]"
     ]
    },
    {
     "name": "stdout",
     "output_type": "stream",
     "text": [
      "  37/3426 [..............................] - ETA: 3:38"
     ]
    },
    {
     "name": "stderr",
     "output_type": "stream",
     "text": [
      "38it [00:02, 16.99it/s]"
     ]
    },
    {
     "name": "stdout",
     "output_type": "stream",
     "text": [
      "  39/3426 [..............................] - ETA: 3:37"
     ]
    },
    {
     "name": "stderr",
     "output_type": "stream",
     "text": [
      "40it [00:02, 16.99it/s]"
     ]
    },
    {
     "name": "stdout",
     "output_type": "stream",
     "text": [
      "  41/3426 [..............................] - ETA: 3:35"
     ]
    },
    {
     "name": "stderr",
     "output_type": "stream",
     "text": [
      "42it [00:02, 17.32it/s]"
     ]
    },
    {
     "name": "stdout",
     "output_type": "stream",
     "text": [
      "  43/3426 [..............................] - ETA: 3:35"
     ]
    },
    {
     "name": "stderr",
     "output_type": "stream",
     "text": [
      "44it [00:02, 17.02it/s]"
     ]
    },
    {
     "name": "stdout",
     "output_type": "stream",
     "text": [
      "  45/3426 [..............................] - ETA: 3:34"
     ]
    },
    {
     "name": "stderr",
     "output_type": "stream",
     "text": [
      "46it [00:02, 16.67it/s]"
     ]
    },
    {
     "name": "stdout",
     "output_type": "stream",
     "text": [
      "  47/3426 [..............................] - ETA: 3:34"
     ]
    },
    {
     "name": "stderr",
     "output_type": "stream",
     "text": [
      "48it [00:02, 16.41it/s]"
     ]
    },
    {
     "name": "stdout",
     "output_type": "stream",
     "text": [
      "  49/3426 [..............................] - ETA: 3:35"
     ]
    },
    {
     "name": "stderr",
     "output_type": "stream",
     "text": [
      "50it [00:03, 15.76it/s]"
     ]
    },
    {
     "name": "stdout",
     "output_type": "stream",
     "text": [
      "  51/3426 [..............................] - ETA: 3:37"
     ]
    },
    {
     "name": "stderr",
     "output_type": "stream",
     "text": [
      "52it [00:03, 14.71it/s]"
     ]
    },
    {
     "name": "stdout",
     "output_type": "stream",
     "text": [
      "  53/3426 [..............................] - ETA: 3:47"
     ]
    },
    {
     "name": "stderr",
     "output_type": "stream",
     "text": [
      "54it [00:03, 11.06it/s]"
     ]
    },
    {
     "name": "stdout",
     "output_type": "stream",
     "text": [
      "  55/3426 [..............................] - ETA: 3:49"
     ]
    },
    {
     "name": "stderr",
     "output_type": "stream",
     "text": [
      "56it [00:03, 11.07it/s]"
     ]
    },
    {
     "name": "stdout",
     "output_type": "stream",
     "text": [
      "  57/3426 [..............................] - ETA: 3:48"
     ]
    },
    {
     "name": "stderr",
     "output_type": "stream",
     "text": [
      "58it [00:03, 12.36it/s]"
     ]
    },
    {
     "name": "stdout",
     "output_type": "stream",
     "text": [
      "  59/3426 [..............................] - ETA: 3:50"
     ]
    },
    {
     "name": "stderr",
     "output_type": "stream",
     "text": [
      "60it [00:04, 12.05it/s]"
     ]
    },
    {
     "name": "stdout",
     "output_type": "stream",
     "text": [
      "  61/3426 [..............................] - ETA: 3:49"
     ]
    },
    {
     "name": "stderr",
     "output_type": "stream",
     "text": [
      "62it [00:04, 13.27it/s]"
     ]
    },
    {
     "name": "stdout",
     "output_type": "stream",
     "text": [
      "  63/3426 [..............................] - ETA: 3:50"
     ]
    },
    {
     "name": "stderr",
     "output_type": "stream",
     "text": [
      "64it [00:04, 13.19it/s]"
     ]
    },
    {
     "name": "stdout",
     "output_type": "stream",
     "text": [
      "  65/3426 [..............................] - ETA: 3:55"
     ]
    },
    {
     "name": "stderr",
     "output_type": "stream",
     "text": [
      "66it [00:04, 11.13it/s]"
     ]
    },
    {
     "name": "stdout",
     "output_type": "stream",
     "text": [
      "  67/3426 [..............................] - ETA: 3:55"
     ]
    },
    {
     "name": "stderr",
     "output_type": "stream",
     "text": [
      "68it [00:04, 11.99it/s]"
     ]
    },
    {
     "name": "stdout",
     "output_type": "stream",
     "text": [
      "  69/3426 [..............................] - ETA: 3:54"
     ]
    },
    {
     "name": "stderr",
     "output_type": "stream",
     "text": [
      "70it [00:04, 13.12it/s]"
     ]
    },
    {
     "name": "stdout",
     "output_type": "stream",
     "text": [
      "  71/3426 [..............................] - ETA: 3:53"
     ]
    },
    {
     "name": "stderr",
     "output_type": "stream",
     "text": [
      "72it [00:04, 14.01it/s]"
     ]
    },
    {
     "name": "stdout",
     "output_type": "stream",
     "text": [
      "  73/3426 [..............................] - ETA: 3:51"
     ]
    },
    {
     "name": "stderr",
     "output_type": "stream",
     "text": [
      "74it [00:05, 14.85it/s]"
     ]
    },
    {
     "name": "stdout",
     "output_type": "stream",
     "text": [
      "  75/3426 [..............................] - ETA: 3:50"
     ]
    },
    {
     "name": "stderr",
     "output_type": "stream",
     "text": [
      "76it [00:05, 15.29it/s]"
     ]
    },
    {
     "name": "stdout",
     "output_type": "stream",
     "text": [
      "  77/3426 [..............................] - ETA: 3:49"
     ]
    },
    {
     "name": "stderr",
     "output_type": "stream",
     "text": [
      "78it [00:05, 15.86it/s]"
     ]
    },
    {
     "name": "stdout",
     "output_type": "stream",
     "text": [
      "  79/3426 [..............................] - ETA: 3:48"
     ]
    },
    {
     "name": "stderr",
     "output_type": "stream",
     "text": [
      "80it [00:05, 16.63it/s]"
     ]
    },
    {
     "name": "stdout",
     "output_type": "stream",
     "text": [
      "  81/3426 [..............................] - ETA: 3:47"
     ]
    },
    {
     "name": "stderr",
     "output_type": "stream",
     "text": [
      "82it [00:05, 16.89it/s]"
     ]
    },
    {
     "name": "stdout",
     "output_type": "stream",
     "text": [
      "  83/3426 [..............................] - ETA: 3:46"
     ]
    },
    {
     "name": "stderr",
     "output_type": "stream",
     "text": [
      "84it [00:05, 16.97it/s]"
     ]
    },
    {
     "name": "stdout",
     "output_type": "stream",
     "text": [
      "  85/3426 [..............................] - ETA: 3:45"
     ]
    },
    {
     "name": "stderr",
     "output_type": "stream",
     "text": [
      "86it [00:05, 17.07it/s]"
     ]
    },
    {
     "name": "stdout",
     "output_type": "stream",
     "text": [
      "  87/3426 [..............................] - ETA: 3:44"
     ]
    },
    {
     "name": "stderr",
     "output_type": "stream",
     "text": [
      "88it [00:05, 17.04it/s]"
     ]
    },
    {
     "name": "stdout",
     "output_type": "stream",
     "text": [
      "  89/3426 [..............................] - ETA: 3:44"
     ]
    },
    {
     "name": "stderr",
     "output_type": "stream",
     "text": [
      "90it [00:05, 16.90it/s]"
     ]
    },
    {
     "name": "stdout",
     "output_type": "stream",
     "text": [
      "  91/3426 [..............................] - ETA: 3:43"
     ]
    },
    {
     "name": "stderr",
     "output_type": "stream",
     "text": [
      "92it [00:06, 17.20it/s]"
     ]
    },
    {
     "name": "stdout",
     "output_type": "stream",
     "text": [
      "  93/3426 [..............................] - ETA: 3:42"
     ]
    },
    {
     "name": "stderr",
     "output_type": "stream",
     "text": [
      "94it [00:06, 17.04it/s]"
     ]
    },
    {
     "name": "stdout",
     "output_type": "stream",
     "text": [
      "  95/3426 [..............................] - ETA: 3:47"
     ]
    },
    {
     "name": "stderr",
     "output_type": "stream",
     "text": [
      "96it [00:06, 11.87it/s]"
     ]
    },
    {
     "name": "stdout",
     "output_type": "stream",
     "text": [
      "  96/3426 [..............................] - ETA: 3:50"
     ]
    },
    {
     "name": "stderr",
     "output_type": "stream",
     "text": [
      "98it [00:06, 11.47it/s]"
     ]
    },
    {
     "name": "stdout",
     "output_type": "stream",
     "text": [
      "  99/3426 [..............................] - ETA: 3:48"
     ]
    },
    {
     "name": "stderr",
     "output_type": "stream",
     "text": [
      "100it [00:06, 12.80it/s]"
     ]
    },
    {
     "name": "stdout",
     "output_type": "stream",
     "text": [
      " 101/3426 [..............................] - ETA: 3:47"
     ]
    },
    {
     "name": "stderr",
     "output_type": "stream",
     "text": [
      "102it [00:06, 13.90it/s]"
     ]
    },
    {
     "name": "stdout",
     "output_type": "stream",
     "text": [
      " 103/3426 [..............................] - ETA: 3:46"
     ]
    },
    {
     "name": "stderr",
     "output_type": "stream",
     "text": [
      "104it [00:07, 15.10it/s]"
     ]
    },
    {
     "name": "stdout",
     "output_type": "stream",
     "text": [
      " 105/3426 [..............................] - ETA: 3:45"
     ]
    },
    {
     "name": "stderr",
     "output_type": "stream",
     "text": [
      "106it [00:07, 15.68it/s]"
     ]
    },
    {
     "name": "stdout",
     "output_type": "stream",
     "text": [
      " 106/3426 [..............................] - ETA: 3:45"
     ]
    },
    {
     "name": "stderr",
     "output_type": "stream",
     "text": [
      "108it [00:07, 16.54it/s]"
     ]
    },
    {
     "name": "stdout",
     "output_type": "stream",
     "text": [
      " 109/3426 [..............................] - ETA: 3:43"
     ]
    },
    {
     "name": "stderr",
     "output_type": "stream",
     "text": [
      "110it [00:07, 16.75it/s]"
     ]
    },
    {
     "name": "stdout",
     "output_type": "stream",
     "text": [
      " 111/3426 [..............................] - ETA: 3:44"
     ]
    },
    {
     "name": "stderr",
     "output_type": "stream",
     "text": [
      "112it [00:07, 15.22it/s]"
     ]
    },
    {
     "name": "stdout",
     "output_type": "stream",
     "text": [
      " 113/3426 [..............................] - ETA: 3:43"
     ]
    },
    {
     "name": "stderr",
     "output_type": "stream",
     "text": [
      "114it [00:07, 15.91it/s]"
     ]
    },
    {
     "name": "stdout",
     "output_type": "stream",
     "text": [
      " 115/3426 [>.............................] - ETA: 3:43"
     ]
    },
    {
     "name": "stderr",
     "output_type": "stream",
     "text": [
      "116it [00:07, 15.71it/s]"
     ]
    },
    {
     "name": "stdout",
     "output_type": "stream",
     "text": [
      " 117/3426 [>.............................] - ETA: 3:42"
     ]
    },
    {
     "name": "stderr",
     "output_type": "stream",
     "text": [
      "118it [00:07, 16.36it/s]"
     ]
    },
    {
     "name": "stdout",
     "output_type": "stream",
     "text": [
      " 119/3426 [>.............................] - ETA: 3:41"
     ]
    },
    {
     "name": "stderr",
     "output_type": "stream",
     "text": [
      "120it [00:07, 16.72it/s]"
     ]
    },
    {
     "name": "stdout",
     "output_type": "stream",
     "text": [
      " 121/3426 [>.............................] - ETA: 3:41"
     ]
    },
    {
     "name": "stderr",
     "output_type": "stream",
     "text": [
      "122it [00:08, 16.99it/s]"
     ]
    },
    {
     "name": "stdout",
     "output_type": "stream",
     "text": [
      " 123/3426 [>.............................] - ETA: 3:40"
     ]
    },
    {
     "name": "stderr",
     "output_type": "stream",
     "text": [
      "124it [00:08, 17.04it/s]"
     ]
    },
    {
     "name": "stdout",
     "output_type": "stream",
     "text": [
      " 125/3426 [>.............................] - ETA: 3:39"
     ]
    },
    {
     "name": "stderr",
     "output_type": "stream",
     "text": [
      "126it [00:08, 17.35it/s]"
     ]
    },
    {
     "name": "stdout",
     "output_type": "stream",
     "text": [
      " 127/3426 [>.............................] - ETA: 3:39"
     ]
    },
    {
     "name": "stderr",
     "output_type": "stream",
     "text": [
      "128it [00:08, 17.63it/s]"
     ]
    },
    {
     "name": "stdout",
     "output_type": "stream",
     "text": [
      " 129/3426 [>.............................] - ETA: 3:38"
     ]
    },
    {
     "name": "stderr",
     "output_type": "stream",
     "text": [
      "130it [00:08, 17.87it/s]"
     ]
    },
    {
     "name": "stdout",
     "output_type": "stream",
     "text": [
      " 131/3426 [>.............................] - ETA: 3:38"
     ]
    },
    {
     "name": "stderr",
     "output_type": "stream",
     "text": [
      "132it [00:08, 17.11it/s]"
     ]
    },
    {
     "name": "stdout",
     "output_type": "stream",
     "text": [
      " 133/3426 [>.............................] - ETA: 3:37"
     ]
    },
    {
     "name": "stderr",
     "output_type": "stream",
     "text": [
      "134it [00:08, 17.19it/s]"
     ]
    },
    {
     "name": "stdout",
     "output_type": "stream",
     "text": [
      " 135/3426 [>.............................] - ETA: 3:36"
     ]
    },
    {
     "name": "stderr",
     "output_type": "stream",
     "text": [
      "136it [00:08, 17.77it/s]"
     ]
    },
    {
     "name": "stdout",
     "output_type": "stream",
     "text": [
      " 137/3426 [>.............................] - ETA: 3:36"
     ]
    },
    {
     "name": "stderr",
     "output_type": "stream",
     "text": [
      "138it [00:09, 16.32it/s]"
     ]
    },
    {
     "name": "stdout",
     "output_type": "stream",
     "text": [
      " 139/3426 [>.............................] - ETA: 3:36"
     ]
    },
    {
     "name": "stderr",
     "output_type": "stream",
     "text": [
      "140it [00:09, 16.28it/s]"
     ]
    },
    {
     "name": "stdout",
     "output_type": "stream",
     "text": [
      " 141/3426 [>.............................] - ETA: 3:36"
     ]
    },
    {
     "name": "stderr",
     "output_type": "stream",
     "text": [
      "142it [00:09, 16.40it/s]"
     ]
    },
    {
     "name": "stdout",
     "output_type": "stream",
     "text": [
      " 143/3426 [>.............................] - ETA: 3:35"
     ]
    },
    {
     "name": "stderr",
     "output_type": "stream",
     "text": [
      "144it [00:09, 16.35it/s]"
     ]
    },
    {
     "name": "stdout",
     "output_type": "stream",
     "text": [
      " 145/3426 [>.............................] - ETA: 3:35"
     ]
    },
    {
     "name": "stderr",
     "output_type": "stream",
     "text": [
      "146it [00:09, 16.62it/s]"
     ]
    },
    {
     "name": "stdout",
     "output_type": "stream",
     "text": [
      " 147/3426 [>.............................] - ETA: 3:34"
     ]
    },
    {
     "name": "stderr",
     "output_type": "stream",
     "text": [
      "148it [00:09, 16.67it/s]"
     ]
    },
    {
     "name": "stdout",
     "output_type": "stream",
     "text": [
      " 149/3426 [>.............................] - ETA: 3:34"
     ]
    },
    {
     "name": "stderr",
     "output_type": "stream",
     "text": [
      "150it [00:09, 16.98it/s]"
     ]
    },
    {
     "name": "stdout",
     "output_type": "stream",
     "text": [
      " 151/3426 [>.............................] - ETA: 3:34"
     ]
    },
    {
     "name": "stderr",
     "output_type": "stream",
     "text": [
      "152it [00:09, 16.72it/s]"
     ]
    },
    {
     "name": "stdout",
     "output_type": "stream",
     "text": [
      " 153/3426 [>.............................] - ETA: 3:33"
     ]
    },
    {
     "name": "stderr",
     "output_type": "stream",
     "text": [
      "154it [00:09, 16.68it/s]"
     ]
    },
    {
     "name": "stdout",
     "output_type": "stream",
     "text": [
      " 155/3426 [>.............................] - ETA: 3:33"
     ]
    },
    {
     "name": "stderr",
     "output_type": "stream",
     "text": [
      "156it [00:10, 16.77it/s]"
     ]
    },
    {
     "name": "stdout",
     "output_type": "stream",
     "text": [
      " 157/3426 [>.............................] - ETA: 3:33"
     ]
    },
    {
     "name": "stderr",
     "output_type": "stream",
     "text": [
      "158it [00:10, 16.61it/s]"
     ]
    },
    {
     "name": "stdout",
     "output_type": "stream",
     "text": [
      " 159/3426 [>.............................] - ETA: 3:32"
     ]
    },
    {
     "name": "stderr",
     "output_type": "stream",
     "text": [
      "160it [00:10, 16.35it/s]"
     ]
    },
    {
     "name": "stdout",
     "output_type": "stream",
     "text": [
      " 161/3426 [>.............................] - ETA: 3:32"
     ]
    },
    {
     "name": "stderr",
     "output_type": "stream",
     "text": [
      "162it [00:10, 16.57it/s]"
     ]
    },
    {
     "name": "stdout",
     "output_type": "stream",
     "text": [
      " 163/3426 [>.............................] - ETA: 3:33"
     ]
    },
    {
     "name": "stderr",
     "output_type": "stream",
     "text": [
      "164it [00:10, 14.48it/s]"
     ]
    },
    {
     "name": "stdout",
     "output_type": "stream",
     "text": [
      " 165/3426 [>.............................] - ETA: 3:32"
     ]
    },
    {
     "name": "stderr",
     "output_type": "stream",
     "text": [
      "166it [00:10, 15.00it/s]"
     ]
    },
    {
     "name": "stdout",
     "output_type": "stream",
     "text": [
      " 167/3426 [>.............................] - ETA: 3:32"
     ]
    },
    {
     "name": "stderr",
     "output_type": "stream",
     "text": [
      "168it [00:10, 16.04it/s]"
     ]
    },
    {
     "name": "stdout",
     "output_type": "stream",
     "text": [
      " 169/3426 [>.............................] - ETA: 3:32"
     ]
    },
    {
     "name": "stderr",
     "output_type": "stream",
     "text": [
      "170it [00:11, 15.75it/s]"
     ]
    },
    {
     "name": "stdout",
     "output_type": "stream",
     "text": [
      " 171/3426 [>.............................] - ETA: 3:32"
     ]
    },
    {
     "name": "stderr",
     "output_type": "stream",
     "text": [
      "172it [00:11, 15.81it/s]"
     ]
    },
    {
     "name": "stdout",
     "output_type": "stream",
     "text": [
      " 173/3426 [>.............................] - ETA: 3:32"
     ]
    },
    {
     "name": "stderr",
     "output_type": "stream",
     "text": [
      "174it [00:11, 14.73it/s]"
     ]
    },
    {
     "name": "stdout",
     "output_type": "stream",
     "text": [
      " 175/3426 [>.............................] - ETA: 3:32"
     ]
    },
    {
     "name": "stderr",
     "output_type": "stream",
     "text": [
      "176it [00:11, 15.03it/s]"
     ]
    },
    {
     "name": "stdout",
     "output_type": "stream",
     "text": [
      " 177/3426 [>.............................] - ETA: 3:32"
     ]
    },
    {
     "name": "stderr",
     "output_type": "stream",
     "text": [
      "178it [00:11, 14.42it/s]"
     ]
    },
    {
     "name": "stdout",
     "output_type": "stream",
     "text": [
      " 179/3426 [>.............................] - ETA: 3:32"
     ]
    },
    {
     "name": "stderr",
     "output_type": "stream",
     "text": [
      "180it [00:11, 15.27it/s]"
     ]
    },
    {
     "name": "stdout",
     "output_type": "stream",
     "text": [
      " 181/3426 [>.............................] - ETA: 3:31"
     ]
    },
    {
     "name": "stderr",
     "output_type": "stream",
     "text": [
      "182it [00:11, 15.54it/s]"
     ]
    },
    {
     "name": "stdout",
     "output_type": "stream",
     "text": [
      " 183/3426 [>.............................] - ETA: 3:31"
     ]
    },
    {
     "name": "stderr",
     "output_type": "stream",
     "text": [
      "184it [00:11, 16.15it/s]"
     ]
    },
    {
     "name": "stdout",
     "output_type": "stream",
     "text": [
      " 184/3426 [>.............................] - ETA: 3:31"
     ]
    },
    {
     "name": "stderr",
     "output_type": "stream",
     "text": [
      "186it [00:12, 16.86it/s]"
     ]
    },
    {
     "name": "stdout",
     "output_type": "stream",
     "text": [
      " 187/3426 [>.............................] - ETA: 3:30"
     ]
    },
    {
     "name": "stderr",
     "output_type": "stream",
     "text": [
      "188it [00:12, 17.36it/s]"
     ]
    },
    {
     "name": "stdout",
     "output_type": "stream",
     "text": [
      " 189/3426 [>.............................] - ETA: 3:30"
     ]
    },
    {
     "name": "stderr",
     "output_type": "stream",
     "text": [
      "190it [00:12, 16.39it/s]"
     ]
    },
    {
     "name": "stdout",
     "output_type": "stream",
     "text": [
      " 191/3426 [>.............................] - ETA: 3:29"
     ]
    },
    {
     "name": "stderr",
     "output_type": "stream",
     "text": [
      "192it [00:12, 16.65it/s]"
     ]
    },
    {
     "name": "stdout",
     "output_type": "stream",
     "text": [
      " 193/3426 [>.............................] - ETA: 3:29"
     ]
    },
    {
     "name": "stderr",
     "output_type": "stream",
     "text": [
      "194it [00:12, 17.34it/s]"
     ]
    },
    {
     "name": "stdout",
     "output_type": "stream",
     "text": [
      " 195/3426 [>.............................] - ETA: 3:28"
     ]
    },
    {
     "name": "stderr",
     "output_type": "stream",
     "text": [
      "196it [00:12, 17.66it/s]"
     ]
    },
    {
     "name": "stdout",
     "output_type": "stream",
     "text": [
      " 197/3426 [>.............................] - ETA: 3:28"
     ]
    },
    {
     "name": "stderr",
     "output_type": "stream",
     "text": [
      "198it [00:12, 17.30it/s]"
     ]
    },
    {
     "name": "stdout",
     "output_type": "stream",
     "text": [
      " 199/3426 [>.............................] - ETA: 3:28"
     ]
    },
    {
     "name": "stderr",
     "output_type": "stream",
     "text": [
      "200it [00:12, 17.00it/s]"
     ]
    },
    {
     "name": "stdout",
     "output_type": "stream",
     "text": [
      " 201/3426 [>.............................] - ETA: 3:28"
     ]
    },
    {
     "name": "stderr",
     "output_type": "stream",
     "text": [
      "202it [00:12, 16.65it/s]"
     ]
    },
    {
     "name": "stdout",
     "output_type": "stream",
     "text": [
      " 203/3426 [>.............................] - ETA: 3:28"
     ]
    },
    {
     "name": "stderr",
     "output_type": "stream",
     "text": [
      "204it [00:13, 16.28it/s]"
     ]
    },
    {
     "name": "stdout",
     "output_type": "stream",
     "text": [
      " 205/3426 [>.............................] - ETA: 3:27"
     ]
    },
    {
     "name": "stderr",
     "output_type": "stream",
     "text": [
      "206it [00:13, 16.05it/s]"
     ]
    },
    {
     "name": "stdout",
     "output_type": "stream",
     "text": [
      " 207/3426 [>.............................] - ETA: 3:29"
     ]
    },
    {
     "name": "stderr",
     "output_type": "stream",
     "text": [
      "208it [00:13, 13.24it/s]"
     ]
    },
    {
     "name": "stdout",
     "output_type": "stream",
     "text": [
      " 209/3426 [>.............................] - ETA: 3:29"
     ]
    },
    {
     "name": "stderr",
     "output_type": "stream",
     "text": [
      "210it [00:13, 12.28it/s]"
     ]
    },
    {
     "name": "stdout",
     "output_type": "stream",
     "text": [
      " 211/3426 [>.............................] - ETA: 3:29"
     ]
    },
    {
     "name": "stderr",
     "output_type": "stream",
     "text": [
      "212it [00:13, 13.36it/s]"
     ]
    },
    {
     "name": "stdout",
     "output_type": "stream",
     "text": [
      " 213/3426 [>.............................] - ETA: 3:29"
     ]
    },
    {
     "name": "stderr",
     "output_type": "stream",
     "text": [
      "214it [00:13, 14.45it/s]"
     ]
    },
    {
     "name": "stdout",
     "output_type": "stream",
     "text": [
      " 215/3426 [>.............................] - ETA: 3:28"
     ]
    },
    {
     "name": "stderr",
     "output_type": "stream",
     "text": [
      "216it [00:13, 15.45it/s]"
     ]
    },
    {
     "name": "stdout",
     "output_type": "stream",
     "text": [
      " 217/3426 [>.............................] - ETA: 3:28"
     ]
    },
    {
     "name": "stderr",
     "output_type": "stream",
     "text": [
      "218it [00:14, 15.41it/s]"
     ]
    },
    {
     "name": "stdout",
     "output_type": "stream",
     "text": [
      " 219/3426 [>.............................] - ETA: 3:28"
     ]
    },
    {
     "name": "stderr",
     "output_type": "stream",
     "text": [
      "220it [00:14, 15.81it/s]"
     ]
    },
    {
     "name": "stdout",
     "output_type": "stream",
     "text": [
      " 221/3426 [>.............................] - ETA: 3:27"
     ]
    },
    {
     "name": "stderr",
     "output_type": "stream",
     "text": [
      "222it [00:14, 16.15it/s]"
     ]
    },
    {
     "name": "stdout",
     "output_type": "stream",
     "text": [
      " 223/3426 [>.............................] - ETA: 3:27"
     ]
    },
    {
     "name": "stderr",
     "output_type": "stream",
     "text": [
      "224it [00:14, 16.39it/s]"
     ]
    },
    {
     "name": "stdout",
     "output_type": "stream",
     "text": [
      " 225/3426 [>.............................] - ETA: 3:27"
     ]
    },
    {
     "name": "stderr",
     "output_type": "stream",
     "text": [
      "226it [00:14, 16.43it/s]"
     ]
    },
    {
     "name": "stdout",
     "output_type": "stream",
     "text": [
      " 227/3426 [>.............................] - ETA: 3:27"
     ]
    },
    {
     "name": "stderr",
     "output_type": "stream",
     "text": [
      "228it [00:14, 16.73it/s]"
     ]
    },
    {
     "name": "stdout",
     "output_type": "stream",
     "text": [
      " 229/3426 [=>............................] - ETA: 3:26"
     ]
    },
    {
     "name": "stderr",
     "output_type": "stream",
     "text": [
      "230it [00:14, 17.37it/s]"
     ]
    },
    {
     "name": "stdout",
     "output_type": "stream",
     "text": [
      " 231/3426 [=>............................] - ETA: 3:26"
     ]
    },
    {
     "name": "stderr",
     "output_type": "stream",
     "text": [
      "232it [00:14, 17.78it/s]"
     ]
    },
    {
     "name": "stdout",
     "output_type": "stream",
     "text": [
      " 233/3426 [=>............................] - ETA: 3:25"
     ]
    },
    {
     "name": "stderr",
     "output_type": "stream",
     "text": [
      "234it [00:15, 17.91it/s]"
     ]
    },
    {
     "name": "stdout",
     "output_type": "stream",
     "text": [
      " 235/3426 [=>............................] - ETA: 3:25"
     ]
    },
    {
     "name": "stderr",
     "output_type": "stream",
     "text": [
      "236it [00:15, 17.40it/s]"
     ]
    },
    {
     "name": "stdout",
     "output_type": "stream",
     "text": [
      " 237/3426 [=>............................] - ETA: 3:25"
     ]
    },
    {
     "name": "stderr",
     "output_type": "stream",
     "text": [
      "238it [00:15, 16.90it/s]"
     ]
    },
    {
     "name": "stdout",
     "output_type": "stream",
     "text": [
      " 239/3426 [=>............................] - ETA: 3:25"
     ]
    },
    {
     "name": "stderr",
     "output_type": "stream",
     "text": [
      "240it [00:15, 17.15it/s]"
     ]
    },
    {
     "name": "stdout",
     "output_type": "stream",
     "text": [
      " 241/3426 [=>............................] - ETA: 3:24"
     ]
    },
    {
     "name": "stderr",
     "output_type": "stream",
     "text": [
      "242it [00:15, 16.89it/s]"
     ]
    },
    {
     "name": "stdout",
     "output_type": "stream",
     "text": [
      " 243/3426 [=>............................] - ETA: 3:24"
     ]
    },
    {
     "name": "stderr",
     "output_type": "stream",
     "text": [
      "244it [00:15, 16.83it/s]"
     ]
    },
    {
     "name": "stdout",
     "output_type": "stream",
     "text": [
      " 245/3426 [=>............................] - ETA: 3:24"
     ]
    },
    {
     "name": "stderr",
     "output_type": "stream",
     "text": [
      "246it [00:15, 17.33it/s]"
     ]
    },
    {
     "name": "stdout",
     "output_type": "stream",
     "text": [
      " 247/3426 [=>............................] - ETA: 3:23"
     ]
    },
    {
     "name": "stderr",
     "output_type": "stream",
     "text": [
      "248it [00:15, 17.43it/s]"
     ]
    },
    {
     "name": "stdout",
     "output_type": "stream",
     "text": [
      " 249/3426 [=>............................] - ETA: 3:23"
     ]
    },
    {
     "name": "stderr",
     "output_type": "stream",
     "text": [
      "250it [00:15, 17.05it/s]"
     ]
    },
    {
     "name": "stdout",
     "output_type": "stream",
     "text": [
      " 251/3426 [=>............................] - ETA: 3:24"
     ]
    },
    {
     "name": "stderr",
     "output_type": "stream",
     "text": [
      "252it [00:16, 14.57it/s]"
     ]
    },
    {
     "name": "stdout",
     "output_type": "stream",
     "text": [
      " 253/3426 [=>............................] - ETA: 3:23"
     ]
    },
    {
     "name": "stderr",
     "output_type": "stream",
     "text": [
      "254it [00:16, 15.47it/s]"
     ]
    },
    {
     "name": "stdout",
     "output_type": "stream",
     "text": [
      " 255/3426 [=>............................] - ETA: 3:23"
     ]
    },
    {
     "name": "stderr",
     "output_type": "stream",
     "text": [
      "256it [00:16, 15.85it/s]"
     ]
    },
    {
     "name": "stdout",
     "output_type": "stream",
     "text": [
      " 257/3426 [=>............................] - ETA: 3:23"
     ]
    },
    {
     "name": "stderr",
     "output_type": "stream",
     "text": [
      "258it [00:16, 15.87it/s]"
     ]
    },
    {
     "name": "stdout",
     "output_type": "stream",
     "text": [
      " 259/3426 [=>............................] - ETA: 3:23"
     ]
    },
    {
     "name": "stderr",
     "output_type": "stream",
     "text": [
      "260it [00:16, 15.96it/s]"
     ]
    },
    {
     "name": "stdout",
     "output_type": "stream",
     "text": [
      " 261/3426 [=>............................] - ETA: 3:23"
     ]
    },
    {
     "name": "stderr",
     "output_type": "stream",
     "text": [
      "262it [00:16, 14.64it/s]"
     ]
    },
    {
     "name": "stdout",
     "output_type": "stream",
     "text": [
      " 263/3426 [=>............................] - ETA: 3:23"
     ]
    },
    {
     "name": "stderr",
     "output_type": "stream",
     "text": [
      "264it [00:16, 15.42it/s]"
     ]
    },
    {
     "name": "stdout",
     "output_type": "stream",
     "text": [
      " 265/3426 [=>............................] - ETA: 3:23"
     ]
    },
    {
     "name": "stderr",
     "output_type": "stream",
     "text": [
      "266it [00:17, 15.85it/s]"
     ]
    },
    {
     "name": "stdout",
     "output_type": "stream",
     "text": [
      " 267/3426 [=>............................] - ETA: 3:22"
     ]
    },
    {
     "name": "stderr",
     "output_type": "stream",
     "text": [
      "268it [00:17, 15.79it/s]"
     ]
    },
    {
     "name": "stdout",
     "output_type": "stream",
     "text": [
      " 269/3426 [=>............................] - ETA: 3:22"
     ]
    },
    {
     "name": "stderr",
     "output_type": "stream",
     "text": [
      "270it [00:17, 16.05it/s]"
     ]
    },
    {
     "name": "stdout",
     "output_type": "stream",
     "text": [
      " 271/3426 [=>............................] - ETA: 3:22"
     ]
    },
    {
     "name": "stderr",
     "output_type": "stream",
     "text": [
      "272it [00:17, 16.58it/s]"
     ]
    },
    {
     "name": "stdout",
     "output_type": "stream",
     "text": [
      " 273/3426 [=>............................] - ETA: 3:22"
     ]
    },
    {
     "name": "stderr",
     "output_type": "stream",
     "text": [
      "274it [00:17, 16.90it/s]"
     ]
    },
    {
     "name": "stdout",
     "output_type": "stream",
     "text": [
      " 275/3426 [=>............................] - ETA: 3:21"
     ]
    },
    {
     "name": "stderr",
     "output_type": "stream",
     "text": [
      "276it [00:17, 17.13it/s]"
     ]
    },
    {
     "name": "stdout",
     "output_type": "stream",
     "text": [
      " 277/3426 [=>............................] - ETA: 3:21"
     ]
    },
    {
     "name": "stderr",
     "output_type": "stream",
     "text": [
      "278it [00:17, 17.19it/s]"
     ]
    },
    {
     "name": "stdout",
     "output_type": "stream",
     "text": [
      " 279/3426 [=>............................] - ETA: 3:21"
     ]
    },
    {
     "name": "stderr",
     "output_type": "stream",
     "text": [
      "280it [00:17, 16.82it/s]"
     ]
    },
    {
     "name": "stdout",
     "output_type": "stream",
     "text": [
      " 281/3426 [=>............................] - ETA: 3:21"
     ]
    },
    {
     "name": "stderr",
     "output_type": "stream",
     "text": [
      "282it [00:17, 16.79it/s]"
     ]
    },
    {
     "name": "stdout",
     "output_type": "stream",
     "text": [
      " 283/3426 [=>............................] - ETA: 3:20"
     ]
    },
    {
     "name": "stderr",
     "output_type": "stream",
     "text": [
      "284it [00:18, 17.01it/s]"
     ]
    },
    {
     "name": "stdout",
     "output_type": "stream",
     "text": [
      " 285/3426 [=>............................] - ETA: 3:20"
     ]
    },
    {
     "name": "stderr",
     "output_type": "stream",
     "text": [
      "286it [00:18, 16.95it/s]"
     ]
    },
    {
     "name": "stdout",
     "output_type": "stream",
     "text": [
      " 287/3426 [=>............................] - ETA: 3:20"
     ]
    },
    {
     "name": "stderr",
     "output_type": "stream",
     "text": [
      "288it [00:18, 16.78it/s]"
     ]
    },
    {
     "name": "stdout",
     "output_type": "stream",
     "text": [
      " 289/3426 [=>............................] - ETA: 3:20"
     ]
    },
    {
     "name": "stderr",
     "output_type": "stream",
     "text": [
      "290it [00:18, 17.08it/s]"
     ]
    },
    {
     "name": "stdout",
     "output_type": "stream",
     "text": [
      " 291/3426 [=>............................] - ETA: 3:19"
     ]
    },
    {
     "name": "stderr",
     "output_type": "stream",
     "text": [
      "292it [00:18, 16.57it/s]"
     ]
    },
    {
     "name": "stdout",
     "output_type": "stream",
     "text": [
      " 293/3426 [=>............................] - ETA: 3:19"
     ]
    },
    {
     "name": "stderr",
     "output_type": "stream",
     "text": [
      "294it [00:18, 16.20it/s]"
     ]
    },
    {
     "name": "stdout",
     "output_type": "stream",
     "text": [
      " 295/3426 [=>............................] - ETA: 3:19"
     ]
    },
    {
     "name": "stderr",
     "output_type": "stream",
     "text": [
      "296it [00:18, 16.69it/s]"
     ]
    },
    {
     "name": "stdout",
     "output_type": "stream",
     "text": [
      " 297/3426 [=>............................] - ETA: 3:20"
     ]
    },
    {
     "name": "stderr",
     "output_type": "stream",
     "text": [
      "298it [00:18, 14.23it/s]"
     ]
    },
    {
     "name": "stdout",
     "output_type": "stream",
     "text": [
      " 299/3426 [=>............................] - ETA: 3:20"
     ]
    },
    {
     "name": "stderr",
     "output_type": "stream",
     "text": [
      "300it [00:19, 12.75it/s]"
     ]
    },
    {
     "name": "stdout",
     "output_type": "stream",
     "text": [
      " 301/3426 [=>............................] - ETA: 3:20"
     ]
    },
    {
     "name": "stderr",
     "output_type": "stream",
     "text": [
      "302it [00:19, 13.00it/s]"
     ]
    },
    {
     "name": "stdout",
     "output_type": "stream",
     "text": [
      " 303/3426 [=>............................] - ETA: 3:20"
     ]
    },
    {
     "name": "stderr",
     "output_type": "stream",
     "text": [
      "304it [00:19, 13.07it/s]"
     ]
    },
    {
     "name": "stdout",
     "output_type": "stream",
     "text": [
      " 305/3426 [=>............................] - ETA: 3:20"
     ]
    },
    {
     "name": "stderr",
     "output_type": "stream",
     "text": [
      "306it [00:19, 14.18it/s]"
     ]
    },
    {
     "name": "stdout",
     "output_type": "stream",
     "text": [
      " 307/3426 [=>............................] - ETA: 3:21"
     ]
    },
    {
     "name": "stderr",
     "output_type": "stream",
     "text": [
      "308it [00:19, 11.61it/s]"
     ]
    },
    {
     "name": "stdout",
     "output_type": "stream",
     "text": [
      " 309/3426 [=>............................] - ETA: 3:21"
     ]
    },
    {
     "name": "stderr",
     "output_type": "stream",
     "text": [
      "310it [00:19, 12.69it/s]"
     ]
    },
    {
     "name": "stdout",
     "output_type": "stream",
     "text": [
      " 311/3426 [=>............................] - ETA: 3:21"
     ]
    },
    {
     "name": "stderr",
     "output_type": "stream",
     "text": [
      "312it [00:20, 13.75it/s]"
     ]
    },
    {
     "name": "stdout",
     "output_type": "stream",
     "text": [
      " 313/3426 [=>............................] - ETA: 3:21"
     ]
    },
    {
     "name": "stderr",
     "output_type": "stream",
     "text": [
      "314it [00:20, 14.12it/s]"
     ]
    },
    {
     "name": "stdout",
     "output_type": "stream",
     "text": [
      " 315/3426 [=>............................] - ETA: 3:20"
     ]
    },
    {
     "name": "stderr",
     "output_type": "stream",
     "text": [
      "316it [00:20, 14.76it/s]"
     ]
    },
    {
     "name": "stdout",
     "output_type": "stream",
     "text": [
      " 317/3426 [=>............................] - ETA: 3:20"
     ]
    },
    {
     "name": "stderr",
     "output_type": "stream",
     "text": [
      "318it [00:20, 15.18it/s]"
     ]
    },
    {
     "name": "stdout",
     "output_type": "stream",
     "text": [
      " 319/3426 [=>............................] - ETA: 3:20"
     ]
    },
    {
     "name": "stderr",
     "output_type": "stream",
     "text": [
      "320it [00:20, 15.01it/s]"
     ]
    },
    {
     "name": "stdout",
     "output_type": "stream",
     "text": [
      " 321/3426 [=>............................] - ETA: 3:20"
     ]
    },
    {
     "name": "stderr",
     "output_type": "stream",
     "text": [
      "322it [00:20, 15.31it/s]"
     ]
    },
    {
     "name": "stdout",
     "output_type": "stream",
     "text": [
      " 323/3426 [=>............................] - ETA: 3:20"
     ]
    },
    {
     "name": "stderr",
     "output_type": "stream",
     "text": [
      "324it [00:20, 14.61it/s]"
     ]
    },
    {
     "name": "stdout",
     "output_type": "stream",
     "text": [
      " 325/3426 [=>............................] - ETA: 3:20"
     ]
    },
    {
     "name": "stderr",
     "output_type": "stream",
     "text": [
      "326it [00:20, 14.84it/s]"
     ]
    },
    {
     "name": "stdout",
     "output_type": "stream",
     "text": [
      " 327/3426 [=>............................] - ETA: 3:20"
     ]
    },
    {
     "name": "stderr",
     "output_type": "stream",
     "text": [
      "328it [00:21, 15.26it/s]"
     ]
    },
    {
     "name": "stdout",
     "output_type": "stream",
     "text": [
      " 329/3426 [=>............................] - ETA: 3:21"
     ]
    },
    {
     "name": "stderr",
     "output_type": "stream",
     "text": [
      "330it [00:21, 11.25it/s]"
     ]
    },
    {
     "name": "stdout",
     "output_type": "stream",
     "text": [
      " 331/3426 [=>............................] - ETA: 3:21"
     ]
    },
    {
     "name": "stderr",
     "output_type": "stream",
     "text": [
      "332it [00:21, 12.16it/s]"
     ]
    },
    {
     "name": "stdout",
     "output_type": "stream",
     "text": [
      " 333/3426 [=>............................] - ETA: 3:21"
     ]
    },
    {
     "name": "stderr",
     "output_type": "stream",
     "text": [
      "334it [00:21, 13.07it/s]"
     ]
    },
    {
     "name": "stdout",
     "output_type": "stream",
     "text": [
      " 335/3426 [=>............................] - ETA: 3:21"
     ]
    },
    {
     "name": "stderr",
     "output_type": "stream",
     "text": [
      "336it [00:21, 13.83it/s]"
     ]
    },
    {
     "name": "stdout",
     "output_type": "stream",
     "text": [
      " 337/3426 [=>............................] - ETA: 3:20"
     ]
    },
    {
     "name": "stderr",
     "output_type": "stream",
     "text": [
      "338it [00:21, 14.97it/s]"
     ]
    },
    {
     "name": "stdout",
     "output_type": "stream",
     "text": [
      " 339/3426 [=>............................] - ETA: 3:20"
     ]
    },
    {
     "name": "stderr",
     "output_type": "stream",
     "text": [
      "340it [00:22, 15.02it/s]"
     ]
    },
    {
     "name": "stdout",
     "output_type": "stream",
     "text": [
      " 341/3426 [=>............................] - ETA: 3:20"
     ]
    },
    {
     "name": "stderr",
     "output_type": "stream",
     "text": [
      "342it [00:22, 15.43it/s]"
     ]
    },
    {
     "name": "stdout",
     "output_type": "stream",
     "text": [
      " 343/3426 [==>...........................] - ETA: 3:20"
     ]
    },
    {
     "name": "stderr",
     "output_type": "stream",
     "text": [
      "344it [00:22, 15.51it/s]"
     ]
    },
    {
     "name": "stdout",
     "output_type": "stream",
     "text": [
      " 345/3426 [==>...........................] - ETA: 3:20"
     ]
    },
    {
     "name": "stderr",
     "output_type": "stream",
     "text": [
      "346it [00:22, 15.88it/s]"
     ]
    },
    {
     "name": "stdout",
     "output_type": "stream",
     "text": [
      " 347/3426 [==>...........................] - ETA: 3:19"
     ]
    },
    {
     "name": "stderr",
     "output_type": "stream",
     "text": [
      "348it [00:22, 15.92it/s]"
     ]
    },
    {
     "name": "stdout",
     "output_type": "stream",
     "text": [
      " 349/3426 [==>...........................] - ETA: 3:19"
     ]
    },
    {
     "name": "stderr",
     "output_type": "stream",
     "text": [
      "350it [00:22, 16.03it/s]"
     ]
    },
    {
     "name": "stdout",
     "output_type": "stream",
     "text": [
      " 350/3426 [==>...........................] - ETA: 3:19"
     ]
    },
    {
     "name": "stderr",
     "output_type": "stream",
     "text": [
      "352it [00:22, 16.75it/s]"
     ]
    },
    {
     "name": "stdout",
     "output_type": "stream",
     "text": [
      " 353/3426 [==>...........................] - ETA: 3:19"
     ]
    },
    {
     "name": "stderr",
     "output_type": "stream",
     "text": [
      "354it [00:22, 14.07it/s]"
     ]
    },
    {
     "name": "stdout",
     "output_type": "stream",
     "text": [
      " 355/3426 [==>...........................] - ETA: 3:19"
     ]
    },
    {
     "name": "stderr",
     "output_type": "stream",
     "text": [
      "356it [00:23, 14.59it/s]"
     ]
    },
    {
     "name": "stdout",
     "output_type": "stream",
     "text": [
      " 357/3426 [==>...........................] - ETA: 3:20"
     ]
    },
    {
     "name": "stderr",
     "output_type": "stream",
     "text": [
      "358it [00:23, 13.13it/s]"
     ]
    },
    {
     "name": "stdout",
     "output_type": "stream",
     "text": [
      " 358/3426 [==>...........................] - ETA: 3:19"
     ]
    },
    {
     "name": "stderr",
     "output_type": "stream",
     "text": [
      "360it [00:23, 14.30it/s]"
     ]
    },
    {
     "name": "stdout",
     "output_type": "stream",
     "text": [
      " 361/3426 [==>...........................] - ETA: 3:19"
     ]
    },
    {
     "name": "stderr",
     "output_type": "stream",
     "text": [
      "362it [00:23, 14.87it/s]"
     ]
    },
    {
     "name": "stdout",
     "output_type": "stream",
     "text": [
      " 363/3426 [==>...........................] - ETA: 3:19"
     ]
    },
    {
     "name": "stderr",
     "output_type": "stream",
     "text": [
      "364it [00:23, 15.19it/s]"
     ]
    },
    {
     "name": "stdout",
     "output_type": "stream",
     "text": [
      " 365/3426 [==>...........................] - ETA: 3:19"
     ]
    },
    {
     "name": "stderr",
     "output_type": "stream",
     "text": [
      "366it [00:23, 15.52it/s]"
     ]
    },
    {
     "name": "stdout",
     "output_type": "stream",
     "text": [
      " 367/3426 [==>...........................] - ETA: 3:18"
     ]
    },
    {
     "name": "stderr",
     "output_type": "stream",
     "text": [
      "368it [00:23, 15.69it/s]"
     ]
    },
    {
     "name": "stdout",
     "output_type": "stream",
     "text": [
      " 369/3426 [==>...........................] - ETA: 3:18"
     ]
    },
    {
     "name": "stderr",
     "output_type": "stream",
     "text": [
      "370it [00:24, 15.29it/s]"
     ]
    },
    {
     "name": "stdout",
     "output_type": "stream",
     "text": [
      " 371/3426 [==>...........................] - ETA: 3:20"
     ]
    },
    {
     "name": "stderr",
     "output_type": "stream",
     "text": [
      "372it [00:24, 10.06it/s]"
     ]
    },
    {
     "name": "stdout",
     "output_type": "stream",
     "text": [
      " 373/3426 [==>...........................] - ETA: 3:20"
     ]
    },
    {
     "name": "stderr",
     "output_type": "stream",
     "text": [
      "374it [00:24, 10.88it/s]"
     ]
    },
    {
     "name": "stdout",
     "output_type": "stream",
     "text": [
      " 375/3426 [==>...........................] - ETA: 3:20"
     ]
    },
    {
     "name": "stderr",
     "output_type": "stream",
     "text": [
      "376it [00:24, 11.86it/s]"
     ]
    },
    {
     "name": "stdout",
     "output_type": "stream",
     "text": [
      " 377/3426 [==>...........................] - ETA: 3:20"
     ]
    },
    {
     "name": "stderr",
     "output_type": "stream",
     "text": [
      "378it [00:24, 12.69it/s]"
     ]
    },
    {
     "name": "stdout",
     "output_type": "stream",
     "text": [
      " 379/3426 [==>...........................] - ETA: 3:20"
     ]
    },
    {
     "name": "stderr",
     "output_type": "stream",
     "text": [
      "380it [00:24, 12.46it/s]"
     ]
    },
    {
     "name": "stdout",
     "output_type": "stream",
     "text": [
      " 381/3426 [==>...........................] - ETA: 3:20"
     ]
    },
    {
     "name": "stderr",
     "output_type": "stream",
     "text": [
      "382it [00:25, 13.24it/s]"
     ]
    },
    {
     "name": "stdout",
     "output_type": "stream",
     "text": [
      " 383/3426 [==>...........................] - ETA: 3:20"
     ]
    },
    {
     "name": "stderr",
     "output_type": "stream",
     "text": [
      "384it [00:25, 13.89it/s]"
     ]
    },
    {
     "name": "stdout",
     "output_type": "stream",
     "text": [
      " 385/3426 [==>...........................] - ETA: 3:20"
     ]
    },
    {
     "name": "stderr",
     "output_type": "stream",
     "text": [
      "386it [00:25, 14.30it/s]"
     ]
    },
    {
     "name": "stdout",
     "output_type": "stream",
     "text": [
      " 387/3426 [==>...........................] - ETA: 3:19"
     ]
    },
    {
     "name": "stderr",
     "output_type": "stream",
     "text": [
      "388it [00:25, 14.67it/s]"
     ]
    },
    {
     "name": "stdout",
     "output_type": "stream",
     "text": [
      " 389/3426 [==>...........................] - ETA: 3:19"
     ]
    },
    {
     "name": "stderr",
     "output_type": "stream",
     "text": [
      "390it [00:25, 14.68it/s]"
     ]
    },
    {
     "name": "stdout",
     "output_type": "stream",
     "text": [
      " 391/3426 [==>...........................] - ETA: 3:19"
     ]
    },
    {
     "name": "stderr",
     "output_type": "stream",
     "text": [
      "392it [00:25, 15.02it/s]"
     ]
    },
    {
     "name": "stdout",
     "output_type": "stream",
     "text": [
      " 393/3426 [==>...........................] - ETA: 3:19"
     ]
    },
    {
     "name": "stderr",
     "output_type": "stream",
     "text": [
      "394it [00:25, 15.34it/s]"
     ]
    },
    {
     "name": "stdout",
     "output_type": "stream",
     "text": [
      " 395/3426 [==>...........................] - ETA: 3:19"
     ]
    },
    {
     "name": "stderr",
     "output_type": "stream",
     "text": [
      "396it [00:26, 14.05it/s]"
     ]
    },
    {
     "name": "stdout",
     "output_type": "stream",
     "text": [
      " 397/3426 [==>...........................] - ETA: 3:19"
     ]
    },
    {
     "name": "stderr",
     "output_type": "stream",
     "text": [
      "398it [00:26, 14.39it/s]"
     ]
    },
    {
     "name": "stdout",
     "output_type": "stream",
     "text": [
      " 399/3426 [==>...........................] - ETA: 3:19"
     ]
    },
    {
     "name": "stderr",
     "output_type": "stream",
     "text": [
      "400it [00:26, 14.87it/s]"
     ]
    },
    {
     "name": "stdout",
     "output_type": "stream",
     "text": [
      " 401/3426 [==>...........................] - ETA: 3:19"
     ]
    },
    {
     "name": "stderr",
     "output_type": "stream",
     "text": [
      "402it [00:26, 14.06it/s]"
     ]
    },
    {
     "name": "stdout",
     "output_type": "stream",
     "text": [
      " 403/3426 [==>...........................] - ETA: 3:19"
     ]
    },
    {
     "name": "stderr",
     "output_type": "stream",
     "text": [
      "404it [00:26, 14.64it/s]"
     ]
    },
    {
     "name": "stdout",
     "output_type": "stream",
     "text": [
      " 405/3426 [==>...........................] - ETA: 3:21"
     ]
    },
    {
     "name": "stderr",
     "output_type": "stream",
     "text": [
      "406it [00:27,  8.13it/s]"
     ]
    },
    {
     "name": "stdout",
     "output_type": "stream",
     "text": [
      " 407/3426 [==>...........................] - ETA: 3:21"
     ]
    },
    {
     "name": "stderr",
     "output_type": "stream",
     "text": [
      "408it [00:27,  9.57it/s]"
     ]
    },
    {
     "name": "stdout",
     "output_type": "stream",
     "text": [
      " 409/3426 [==>...........................] - ETA: 3:21"
     ]
    },
    {
     "name": "stderr",
     "output_type": "stream",
     "text": [
      "410it [00:27, 10.96it/s]"
     ]
    },
    {
     "name": "stdout",
     "output_type": "stream",
     "text": [
      " 411/3426 [==>...........................] - ETA: 3:21"
     ]
    },
    {
     "name": "stderr",
     "output_type": "stream",
     "text": [
      "412it [00:27, 12.21it/s]"
     ]
    },
    {
     "name": "stdout",
     "output_type": "stream",
     "text": [
      " 413/3426 [==>...........................] - ETA: 3:20"
     ]
    },
    {
     "name": "stderr",
     "output_type": "stream",
     "text": [
      "414it [00:27, 13.34it/s]"
     ]
    },
    {
     "name": "stdout",
     "output_type": "stream",
     "text": [
      " 415/3426 [==>...........................] - ETA: 3:20"
     ]
    },
    {
     "name": "stderr",
     "output_type": "stream",
     "text": [
      "416it [00:27, 14.10it/s]"
     ]
    },
    {
     "name": "stdout",
     "output_type": "stream",
     "text": [
      " 417/3426 [==>...........................] - ETA: 3:20"
     ]
    },
    {
     "name": "stderr",
     "output_type": "stream",
     "text": [
      "418it [00:27, 14.61it/s]"
     ]
    },
    {
     "name": "stdout",
     "output_type": "stream",
     "text": [
      " 419/3426 [==>...........................] - ETA: 3:20"
     ]
    },
    {
     "name": "stderr",
     "output_type": "stream",
     "text": [
      "420it [00:27, 14.99it/s]"
     ]
    },
    {
     "name": "stdout",
     "output_type": "stream",
     "text": [
      " 421/3426 [==>...........................] - ETA: 3:20"
     ]
    },
    {
     "name": "stderr",
     "output_type": "stream",
     "text": [
      "422it [00:28, 15.08it/s]"
     ]
    },
    {
     "name": "stdout",
     "output_type": "stream",
     "text": [
      " 423/3426 [==>...........................] - ETA: 3:20"
     ]
    },
    {
     "name": "stderr",
     "output_type": "stream",
     "text": [
      "424it [00:28, 14.77it/s]"
     ]
    },
    {
     "name": "stdout",
     "output_type": "stream",
     "text": [
      " 425/3426 [==>...........................] - ETA: 3:19"
     ]
    },
    {
     "name": "stderr",
     "output_type": "stream",
     "text": [
      "426it [00:28, 14.80it/s]"
     ]
    },
    {
     "name": "stdout",
     "output_type": "stream",
     "text": [
      " 427/3426 [==>...........................] - ETA: 3:20"
     ]
    },
    {
     "name": "stderr",
     "output_type": "stream",
     "text": [
      "428it [00:28, 13.67it/s]"
     ]
    },
    {
     "name": "stdout",
     "output_type": "stream",
     "text": [
      " 429/3426 [==>...........................] - ETA: 3:20"
     ]
    },
    {
     "name": "stderr",
     "output_type": "stream",
     "text": [
      "430it [00:28, 13.42it/s]"
     ]
    },
    {
     "name": "stdout",
     "output_type": "stream",
     "text": [
      " 431/3426 [==>...........................] - ETA: 3:20"
     ]
    },
    {
     "name": "stderr",
     "output_type": "stream",
     "text": [
      "432it [00:28, 13.65it/s]"
     ]
    },
    {
     "name": "stdout",
     "output_type": "stream",
     "text": [
      " 433/3426 [==>...........................] - ETA: 3:20"
     ]
    },
    {
     "name": "stderr",
     "output_type": "stream",
     "text": [
      "434it [00:29, 10.79it/s]"
     ]
    },
    {
     "name": "stdout",
     "output_type": "stream",
     "text": [
      " 435/3426 [==>...........................] - ETA: 3:20"
     ]
    },
    {
     "name": "stderr",
     "output_type": "stream",
     "text": [
      "436it [00:29, 11.25it/s]"
     ]
    },
    {
     "name": "stdout",
     "output_type": "stream",
     "text": [
      " 437/3426 [==>...........................] - ETA: 3:20"
     ]
    },
    {
     "name": "stderr",
     "output_type": "stream",
     "text": [
      "438it [00:29, 12.37it/s]"
     ]
    },
    {
     "name": "stdout",
     "output_type": "stream",
     "text": [
      " 439/3426 [==>...........................] - ETA: 3:20"
     ]
    },
    {
     "name": "stderr",
     "output_type": "stream",
     "text": [
      "440it [00:29, 12.96it/s]"
     ]
    },
    {
     "name": "stdout",
     "output_type": "stream",
     "text": [
      " 440/3426 [==>...........................] - ETA: 3:20"
     ]
    },
    {
     "name": "stderr",
     "output_type": "stream",
     "text": [
      "442it [00:29, 13.68it/s]"
     ]
    },
    {
     "name": "stdout",
     "output_type": "stream",
     "text": [
      " 443/3426 [==>...........................] - ETA: 3:20"
     ]
    },
    {
     "name": "stderr",
     "output_type": "stream",
     "text": [
      "444it [00:29, 14.18it/s]"
     ]
    },
    {
     "name": "stdout",
     "output_type": "stream",
     "text": [
      " 445/3426 [==>...........................] - ETA: 3:20"
     ]
    },
    {
     "name": "stderr",
     "output_type": "stream",
     "text": [
      "446it [00:29, 14.12it/s]"
     ]
    },
    {
     "name": "stdout",
     "output_type": "stream",
     "text": [
      " 447/3426 [==>...........................] - ETA: 3:20"
     ]
    },
    {
     "name": "stderr",
     "output_type": "stream",
     "text": [
      "448it [00:30, 13.25it/s]"
     ]
    },
    {
     "name": "stdout",
     "output_type": "stream",
     "text": [
      " 449/3426 [==>...........................] - ETA: 3:20"
     ]
    },
    {
     "name": "stderr",
     "output_type": "stream",
     "text": [
      "450it [00:30, 14.09it/s]"
     ]
    },
    {
     "name": "stdout",
     "output_type": "stream",
     "text": [
      " 451/3426 [==>...........................] - ETA: 3:19"
     ]
    },
    {
     "name": "stderr",
     "output_type": "stream",
     "text": [
      "452it [00:30, 14.32it/s]"
     ]
    },
    {
     "name": "stdout",
     "output_type": "stream",
     "text": [
      " 453/3426 [==>...........................] - ETA: 3:19"
     ]
    },
    {
     "name": "stderr",
     "output_type": "stream",
     "text": [
      "454it [00:30, 15.16it/s]"
     ]
    },
    {
     "name": "stdout",
     "output_type": "stream",
     "text": [
      " 455/3426 [==>...........................] - ETA: 3:19"
     ]
    },
    {
     "name": "stderr",
     "output_type": "stream",
     "text": [
      "456it [00:30, 15.82it/s]"
     ]
    },
    {
     "name": "stdout",
     "output_type": "stream",
     "text": [
      " 457/3426 [===>..........................] - ETA: 3:19"
     ]
    },
    {
     "name": "stderr",
     "output_type": "stream",
     "text": [
      "458it [00:30, 16.46it/s]"
     ]
    },
    {
     "name": "stdout",
     "output_type": "stream",
     "text": [
      " 459/3426 [===>..........................] - ETA: 3:19"
     ]
    },
    {
     "name": "stderr",
     "output_type": "stream",
     "text": [
      "460it [00:30, 15.15it/s]"
     ]
    },
    {
     "name": "stdout",
     "output_type": "stream",
     "text": [
      " 461/3426 [===>..........................] - ETA: 3:20"
     ]
    },
    {
     "name": "stderr",
     "output_type": "stream",
     "text": [
      "462it [00:31,  9.43it/s]"
     ]
    },
    {
     "name": "stdout",
     "output_type": "stream",
     "text": [
      " 463/3426 [===>..........................] - ETA: 3:20"
     ]
    },
    {
     "name": "stderr",
     "output_type": "stream",
     "text": [
      "464it [00:31, 10.12it/s]"
     ]
    },
    {
     "name": "stdout",
     "output_type": "stream",
     "text": [
      " 465/3426 [===>..........................] - ETA: 3:20"
     ]
    },
    {
     "name": "stderr",
     "output_type": "stream",
     "text": [
      "466it [00:31, 11.23it/s]"
     ]
    },
    {
     "name": "stdout",
     "output_type": "stream",
     "text": [
      " 467/3426 [===>..........................] - ETA: 3:20"
     ]
    },
    {
     "name": "stderr",
     "output_type": "stream",
     "text": [
      "468it [00:31, 12.59it/s]"
     ]
    },
    {
     "name": "stdout",
     "output_type": "stream",
     "text": [
      " 469/3426 [===>..........................] - ETA: 3:20"
     ]
    },
    {
     "name": "stderr",
     "output_type": "stream",
     "text": [
      "470it [00:31, 13.85it/s]"
     ]
    },
    {
     "name": "stdout",
     "output_type": "stream",
     "text": [
      " 471/3426 [===>..........................] - ETA: 3:19"
     ]
    },
    {
     "name": "stderr",
     "output_type": "stream",
     "text": [
      "472it [00:31, 14.64it/s]"
     ]
    },
    {
     "name": "stdout",
     "output_type": "stream",
     "text": [
      " 473/3426 [===>..........................] - ETA: 3:19"
     ]
    },
    {
     "name": "stderr",
     "output_type": "stream",
     "text": [
      "474it [00:31, 14.62it/s]"
     ]
    },
    {
     "name": "stdout",
     "output_type": "stream",
     "text": [
      " 475/3426 [===>..........................] - ETA: 3:19"
     ]
    },
    {
     "name": "stderr",
     "output_type": "stream",
     "text": [
      "476it [00:32, 13.42it/s]"
     ]
    },
    {
     "name": "stdout",
     "output_type": "stream",
     "text": [
      " 477/3426 [===>..........................] - ETA: 3:19"
     ]
    },
    {
     "name": "stderr",
     "output_type": "stream",
     "text": [
      "478it [00:32, 14.73it/s]"
     ]
    },
    {
     "name": "stdout",
     "output_type": "stream",
     "text": [
      " 479/3426 [===>..........................] - ETA: 3:19"
     ]
    },
    {
     "name": "stderr",
     "output_type": "stream",
     "text": [
      "480it [00:32, 15.44it/s]"
     ]
    },
    {
     "name": "stdout",
     "output_type": "stream",
     "text": [
      " 481/3426 [===>..........................] - ETA: 3:19"
     ]
    },
    {
     "name": "stderr",
     "output_type": "stream",
     "text": [
      "482it [00:32, 14.95it/s]"
     ]
    },
    {
     "name": "stdout",
     "output_type": "stream",
     "text": [
      " 483/3426 [===>..........................] - ETA: 3:19"
     ]
    },
    {
     "name": "stderr",
     "output_type": "stream",
     "text": [
      "484it [00:32, 14.73it/s]"
     ]
    },
    {
     "name": "stdout",
     "output_type": "stream",
     "text": [
      " 485/3426 [===>..........................] - ETA: 3:18"
     ]
    },
    {
     "name": "stderr",
     "output_type": "stream",
     "text": [
      "486it [00:32, 14.33it/s]"
     ]
    },
    {
     "name": "stdout",
     "output_type": "stream",
     "text": [
      " 487/3426 [===>..........................] - ETA: 3:18"
     ]
    },
    {
     "name": "stderr",
     "output_type": "stream",
     "text": [
      "488it [00:32, 15.43it/s]"
     ]
    },
    {
     "name": "stdout",
     "output_type": "stream",
     "text": [
      " 489/3426 [===>..........................] - ETA: 3:18"
     ]
    },
    {
     "name": "stderr",
     "output_type": "stream",
     "text": [
      "490it [00:33, 15.32it/s]"
     ]
    },
    {
     "name": "stdout",
     "output_type": "stream",
     "text": [
      " 491/3426 [===>..........................] - ETA: 3:18"
     ]
    },
    {
     "name": "stderr",
     "output_type": "stream",
     "text": [
      "492it [00:33, 15.40it/s]"
     ]
    },
    {
     "name": "stdout",
     "output_type": "stream",
     "text": [
      " 493/3426 [===>..........................] - ETA: 3:18"
     ]
    },
    {
     "name": "stderr",
     "output_type": "stream",
     "text": [
      "494it [00:33, 14.90it/s]"
     ]
    },
    {
     "name": "stdout",
     "output_type": "stream",
     "text": [
      " 495/3426 [===>..........................] - ETA: 3:18"
     ]
    },
    {
     "name": "stderr",
     "output_type": "stream",
     "text": [
      "496it [00:33, 13.50it/s]"
     ]
    },
    {
     "name": "stdout",
     "output_type": "stream",
     "text": [
      " 497/3426 [===>..........................] - ETA: 3:18"
     ]
    },
    {
     "name": "stderr",
     "output_type": "stream",
     "text": [
      "498it [00:33, 14.31it/s]"
     ]
    },
    {
     "name": "stdout",
     "output_type": "stream",
     "text": [
      " 499/3426 [===>..........................] - ETA: 3:17"
     ]
    },
    {
     "name": "stderr",
     "output_type": "stream",
     "text": [
      "500it [00:33, 14.80it/s]"
     ]
    },
    {
     "name": "stdout",
     "output_type": "stream",
     "text": [
      " 501/3426 [===>..........................] - ETA: 3:17"
     ]
    },
    {
     "name": "stderr",
     "output_type": "stream",
     "text": [
      "502it [00:33, 15.10it/s]"
     ]
    },
    {
     "name": "stdout",
     "output_type": "stream",
     "text": [
      " 503/3426 [===>..........................] - ETA: 3:17"
     ]
    },
    {
     "name": "stderr",
     "output_type": "stream",
     "text": [
      "504it [00:33, 15.70it/s]"
     ]
    },
    {
     "name": "stdout",
     "output_type": "stream",
     "text": [
      " 505/3426 [===>..........................] - ETA: 3:17"
     ]
    },
    {
     "name": "stderr",
     "output_type": "stream",
     "text": [
      "506it [00:34, 14.70it/s]"
     ]
    },
    {
     "name": "stdout",
     "output_type": "stream",
     "text": [
      " 507/3426 [===>..........................] - ETA: 3:17"
     ]
    },
    {
     "name": "stderr",
     "output_type": "stream",
     "text": [
      "508it [00:34, 14.62it/s]"
     ]
    },
    {
     "name": "stdout",
     "output_type": "stream",
     "text": [
      " 509/3426 [===>..........................] - ETA: 3:17"
     ]
    },
    {
     "name": "stderr",
     "output_type": "stream",
     "text": [
      "510it [00:34, 14.86it/s]"
     ]
    },
    {
     "name": "stdout",
     "output_type": "stream",
     "text": [
      " 511/3426 [===>..........................] - ETA: 3:17"
     ]
    },
    {
     "name": "stderr",
     "output_type": "stream",
     "text": [
      "512it [00:34, 15.05it/s]"
     ]
    },
    {
     "name": "stdout",
     "output_type": "stream",
     "text": [
      " 513/3426 [===>..........................] - ETA: 3:16"
     ]
    },
    {
     "name": "stderr",
     "output_type": "stream",
     "text": [
      "514it [00:34, 15.94it/s]"
     ]
    },
    {
     "name": "stdout",
     "output_type": "stream",
     "text": [
      " 515/3426 [===>..........................] - ETA: 3:16"
     ]
    },
    {
     "name": "stderr",
     "output_type": "stream",
     "text": [
      "516it [00:34, 15.94it/s]"
     ]
    },
    {
     "name": "stdout",
     "output_type": "stream",
     "text": [
      " 517/3426 [===>..........................] - ETA: 3:16"
     ]
    },
    {
     "name": "stderr",
     "output_type": "stream",
     "text": [
      "518it [00:34, 15.71it/s]"
     ]
    },
    {
     "name": "stdout",
     "output_type": "stream",
     "text": [
      " 519/3426 [===>..........................] - ETA: 3:16"
     ]
    },
    {
     "name": "stderr",
     "output_type": "stream",
     "text": [
      "520it [00:35, 15.61it/s]"
     ]
    },
    {
     "name": "stdout",
     "output_type": "stream",
     "text": [
      " 521/3426 [===>..........................] - ETA: 3:16"
     ]
    },
    {
     "name": "stderr",
     "output_type": "stream",
     "text": [
      "522it [00:35, 13.98it/s]"
     ]
    },
    {
     "name": "stdout",
     "output_type": "stream",
     "text": [
      " 523/3426 [===>..........................] - ETA: 3:16"
     ]
    },
    {
     "name": "stderr",
     "output_type": "stream",
     "text": [
      "524it [00:35, 14.43it/s]"
     ]
    },
    {
     "name": "stdout",
     "output_type": "stream",
     "text": [
      " 525/3426 [===>..........................] - ETA: 3:15"
     ]
    },
    {
     "name": "stderr",
     "output_type": "stream",
     "text": [
      "526it [00:35, 15.01it/s]"
     ]
    },
    {
     "name": "stdout",
     "output_type": "stream",
     "text": [
      " 527/3426 [===>..........................] - ETA: 3:15"
     ]
    },
    {
     "name": "stderr",
     "output_type": "stream",
     "text": [
      "528it [00:35, 15.48it/s]"
     ]
    },
    {
     "name": "stdout",
     "output_type": "stream",
     "text": [
      " 529/3426 [===>..........................] - ETA: 3:16"
     ]
    },
    {
     "name": "stderr",
     "output_type": "stream",
     "text": [
      "530it [00:35, 12.97it/s]"
     ]
    },
    {
     "name": "stdout",
     "output_type": "stream",
     "text": [
      " 531/3426 [===>..........................] - ETA: 3:15"
     ]
    },
    {
     "name": "stderr",
     "output_type": "stream",
     "text": [
      "532it [00:35, 13.72it/s]"
     ]
    },
    {
     "name": "stdout",
     "output_type": "stream",
     "text": [
      " 533/3426 [===>..........................] - ETA: 3:15"
     ]
    },
    {
     "name": "stderr",
     "output_type": "stream",
     "text": [
      "534it [00:36, 14.45it/s]"
     ]
    },
    {
     "name": "stdout",
     "output_type": "stream",
     "text": [
      " 535/3426 [===>..........................] - ETA: 3:15"
     ]
    },
    {
     "name": "stderr",
     "output_type": "stream",
     "text": [
      "536it [00:36, 14.67it/s]"
     ]
    },
    {
     "name": "stdout",
     "output_type": "stream",
     "text": [
      " 537/3426 [===>..........................] - ETA: 3:15"
     ]
    },
    {
     "name": "stderr",
     "output_type": "stream",
     "text": [
      "538it [00:36, 15.57it/s]"
     ]
    },
    {
     "name": "stdout",
     "output_type": "stream",
     "text": [
      " 539/3426 [===>..........................] - ETA: 3:17"
     ]
    },
    {
     "name": "stderr",
     "output_type": "stream",
     "text": [
      "540it [00:36,  7.85it/s]"
     ]
    },
    {
     "name": "stdout",
     "output_type": "stream",
     "text": [
      " 541/3426 [===>..........................] - ETA: 3:17"
     ]
    },
    {
     "name": "stderr",
     "output_type": "stream",
     "text": [
      "542it [00:36,  9.42it/s]"
     ]
    },
    {
     "name": "stdout",
     "output_type": "stream",
     "text": [
      " 543/3426 [===>..........................] - ETA: 3:16"
     ]
    },
    {
     "name": "stderr",
     "output_type": "stream",
     "text": [
      "544it [00:37, 10.59it/s]"
     ]
    },
    {
     "name": "stdout",
     "output_type": "stream",
     "text": [
      " 545/3426 [===>..........................] - ETA: 3:16"
     ]
    },
    {
     "name": "stderr",
     "output_type": "stream",
     "text": [
      "546it [00:37, 11.76it/s]"
     ]
    },
    {
     "name": "stdout",
     "output_type": "stream",
     "text": [
      " 548/3426 [===>..........................] - ETA: 3:16"
     ]
    },
    {
     "name": "stderr",
     "output_type": "stream",
     "text": [
      "549it [00:37, 13.24it/s]"
     ]
    },
    {
     "name": "stdout",
     "output_type": "stream",
     "text": [
      " 550/3426 [===>..........................] - ETA: 3:16"
     ]
    },
    {
     "name": "stderr",
     "output_type": "stream",
     "text": [
      "551it [00:37, 13.90it/s]"
     ]
    },
    {
     "name": "stdout",
     "output_type": "stream",
     "text": [
      " 552/3426 [===>..........................] - ETA: 3:15"
     ]
    },
    {
     "name": "stderr",
     "output_type": "stream",
     "text": [
      "553it [00:37, 14.68it/s]"
     ]
    },
    {
     "name": "stdout",
     "output_type": "stream",
     "text": [
      " 554/3426 [===>..........................] - ETA: 3:15"
     ]
    },
    {
     "name": "stderr",
     "output_type": "stream",
     "text": [
      "555it [00:37, 15.06it/s]"
     ]
    },
    {
     "name": "stdout",
     "output_type": "stream",
     "text": [
      " 556/3426 [===>..........................] - ETA: 3:15"
     ]
    },
    {
     "name": "stderr",
     "output_type": "stream",
     "text": [
      "557it [00:37, 15.65it/s]"
     ]
    },
    {
     "name": "stdout",
     "output_type": "stream",
     "text": [
      " 558/3426 [===>..........................] - ETA: 3:15"
     ]
    },
    {
     "name": "stderr",
     "output_type": "stream",
     "text": [
      "559it [00:37, 15.97it/s]"
     ]
    },
    {
     "name": "stdout",
     "output_type": "stream",
     "text": [
      " 560/3426 [===>..........................] - ETA: 3:14"
     ]
    },
    {
     "name": "stderr",
     "output_type": "stream",
     "text": [
      "561it [00:38, 16.78it/s]"
     ]
    },
    {
     "name": "stdout",
     "output_type": "stream",
     "text": [
      " 562/3426 [===>..........................] - ETA: 3:15"
     ]
    },
    {
     "name": "stderr",
     "output_type": "stream",
     "text": [
      "563it [00:38, 14.41it/s]"
     ]
    },
    {
     "name": "stdout",
     "output_type": "stream",
     "text": [
      " 564/3426 [===>..........................] - ETA: 3:14"
     ]
    },
    {
     "name": "stderr",
     "output_type": "stream",
     "text": [
      "565it [00:38, 14.88it/s]"
     ]
    },
    {
     "name": "stdout",
     "output_type": "stream",
     "text": [
      " 566/3426 [===>..........................] - ETA: 3:14"
     ]
    },
    {
     "name": "stderr",
     "output_type": "stream",
     "text": [
      "567it [00:38, 15.73it/s]"
     ]
    },
    {
     "name": "stdout",
     "output_type": "stream",
     "text": [
      " 568/3426 [===>..........................] - ETA: 3:14"
     ]
    },
    {
     "name": "stderr",
     "output_type": "stream",
     "text": [
      "569it [00:38, 15.88it/s]"
     ]
    },
    {
     "name": "stdout",
     "output_type": "stream",
     "text": [
      " 570/3426 [===>..........................] - ETA: 3:14"
     ]
    },
    {
     "name": "stderr",
     "output_type": "stream",
     "text": [
      "571it [00:38, 16.02it/s]"
     ]
    },
    {
     "name": "stdout",
     "output_type": "stream",
     "text": [
      " 572/3426 [====>.........................] - ETA: 3:13"
     ]
    },
    {
     "name": "stderr",
     "output_type": "stream",
     "text": [
      "573it [00:38, 16.33it/s]"
     ]
    },
    {
     "name": "stdout",
     "output_type": "stream",
     "text": [
      " 574/3426 [====>.........................] - ETA: 3:13"
     ]
    },
    {
     "name": "stderr",
     "output_type": "stream",
     "text": [
      "575it [00:38, 15.92it/s]"
     ]
    },
    {
     "name": "stdout",
     "output_type": "stream",
     "text": [
      " 576/3426 [====>.........................] - ETA: 3:13"
     ]
    },
    {
     "name": "stderr",
     "output_type": "stream",
     "text": [
      "577it [00:39, 16.08it/s]"
     ]
    },
    {
     "name": "stdout",
     "output_type": "stream",
     "text": [
      " 578/3426 [====>.........................] - ETA: 3:13"
     ]
    },
    {
     "name": "stderr",
     "output_type": "stream",
     "text": [
      "579it [00:39, 16.71it/s]"
     ]
    },
    {
     "name": "stdout",
     "output_type": "stream",
     "text": [
      " 580/3426 [====>.........................] - ETA: 3:13"
     ]
    },
    {
     "name": "stderr",
     "output_type": "stream",
     "text": [
      "581it [00:39, 16.89it/s]"
     ]
    },
    {
     "name": "stdout",
     "output_type": "stream",
     "text": [
      " 582/3426 [====>.........................] - ETA: 3:12"
     ]
    },
    {
     "name": "stderr",
     "output_type": "stream",
     "text": [
      "583it [00:39, 17.14it/s]"
     ]
    },
    {
     "name": "stdout",
     "output_type": "stream",
     "text": [
      " 584/3426 [====>.........................] - ETA: 3:12"
     ]
    },
    {
     "name": "stderr",
     "output_type": "stream",
     "text": [
      "585it [00:39, 16.84it/s]"
     ]
    },
    {
     "name": "stdout",
     "output_type": "stream",
     "text": [
      " 586/3426 [====>.........................] - ETA: 3:12"
     ]
    },
    {
     "name": "stderr",
     "output_type": "stream",
     "text": [
      "587it [00:39, 16.51it/s]"
     ]
    },
    {
     "name": "stdout",
     "output_type": "stream",
     "text": [
      " 588/3426 [====>.........................] - ETA: 3:12"
     ]
    },
    {
     "name": "stderr",
     "output_type": "stream",
     "text": [
      "589it [00:39, 15.88it/s]"
     ]
    },
    {
     "name": "stdout",
     "output_type": "stream",
     "text": [
      " 590/3426 [====>.........................] - ETA: 3:12"
     ]
    },
    {
     "name": "stderr",
     "output_type": "stream",
     "text": [
      "591it [00:39, 16.38it/s]"
     ]
    },
    {
     "name": "stdout",
     "output_type": "stream",
     "text": [
      " 592/3426 [====>.........................] - ETA: 3:11"
     ]
    },
    {
     "name": "stderr",
     "output_type": "stream",
     "text": [
      "593it [00:40, 16.94it/s]"
     ]
    },
    {
     "name": "stdout",
     "output_type": "stream",
     "text": [
      " 594/3426 [====>.........................] - ETA: 3:11"
     ]
    },
    {
     "name": "stderr",
     "output_type": "stream",
     "text": [
      "595it [00:40, 16.47it/s]"
     ]
    },
    {
     "name": "stdout",
     "output_type": "stream",
     "text": [
      " 596/3426 [====>.........................] - ETA: 3:11"
     ]
    },
    {
     "name": "stderr",
     "output_type": "stream",
     "text": [
      "597it [00:40, 16.05it/s]"
     ]
    },
    {
     "name": "stdout",
     "output_type": "stream",
     "text": [
      " 598/3426 [====>.........................] - ETA: 3:11"
     ]
    },
    {
     "name": "stderr",
     "output_type": "stream",
     "text": [
      "599it [00:40, 15.47it/s]"
     ]
    },
    {
     "name": "stdout",
     "output_type": "stream",
     "text": [
      " 600/3426 [====>.........................] - ETA: 3:11"
     ]
    },
    {
     "name": "stderr",
     "output_type": "stream",
     "text": [
      "601it [00:40, 15.47it/s]"
     ]
    },
    {
     "name": "stdout",
     "output_type": "stream",
     "text": [
      " 602/3426 [====>.........................] - ETA: 3:11"
     ]
    },
    {
     "name": "stderr",
     "output_type": "stream",
     "text": [
      "603it [00:40, 15.63it/s]"
     ]
    },
    {
     "name": "stdout",
     "output_type": "stream",
     "text": [
      " 604/3426 [====>.........................] - ETA: 3:10"
     ]
    },
    {
     "name": "stderr",
     "output_type": "stream",
     "text": [
      "605it [00:40, 15.64it/s]"
     ]
    },
    {
     "name": "stdout",
     "output_type": "stream",
     "text": [
      " 606/3426 [====>.........................] - ETA: 3:10"
     ]
    },
    {
     "name": "stderr",
     "output_type": "stream",
     "text": [
      "607it [00:40, 16.28it/s]"
     ]
    },
    {
     "name": "stdout",
     "output_type": "stream",
     "text": [
      " 608/3426 [====>.........................] - ETA: 3:10"
     ]
    },
    {
     "name": "stderr",
     "output_type": "stream",
     "text": [
      "609it [00:41, 16.21it/s]"
     ]
    },
    {
     "name": "stdout",
     "output_type": "stream",
     "text": [
      " 610/3426 [====>.........................] - ETA: 3:10"
     ]
    },
    {
     "name": "stderr",
     "output_type": "stream",
     "text": [
      "611it [00:41, 16.54it/s]"
     ]
    },
    {
     "name": "stdout",
     "output_type": "stream",
     "text": [
      " 612/3426 [====>.........................] - ETA: 3:10"
     ]
    },
    {
     "name": "stderr",
     "output_type": "stream",
     "text": [
      "613it [00:41, 14.95it/s]"
     ]
    },
    {
     "name": "stdout",
     "output_type": "stream",
     "text": [
      " 614/3426 [====>.........................] - ETA: 3:10"
     ]
    },
    {
     "name": "stderr",
     "output_type": "stream",
     "text": [
      "615it [00:41, 15.18it/s]"
     ]
    },
    {
     "name": "stdout",
     "output_type": "stream",
     "text": [
      " 616/3426 [====>.........................] - ETA: 3:09"
     ]
    },
    {
     "name": "stderr",
     "output_type": "stream",
     "text": [
      "617it [00:41, 14.57it/s]"
     ]
    },
    {
     "name": "stdout",
     "output_type": "stream",
     "text": [
      " 618/3426 [====>.........................] - ETA: 3:09"
     ]
    },
    {
     "name": "stderr",
     "output_type": "stream",
     "text": [
      "619it [00:41, 14.25it/s]"
     ]
    },
    {
     "name": "stdout",
     "output_type": "stream",
     "text": [
      " 620/3426 [====>.........................] - ETA: 3:09"
     ]
    },
    {
     "name": "stderr",
     "output_type": "stream",
     "text": [
      "621it [00:41, 13.70it/s]"
     ]
    },
    {
     "name": "stdout",
     "output_type": "stream",
     "text": [
      " 622/3426 [====>.........................] - ETA: 3:09"
     ]
    },
    {
     "name": "stderr",
     "output_type": "stream",
     "text": [
      "623it [00:42, 14.15it/s]"
     ]
    },
    {
     "name": "stdout",
     "output_type": "stream",
     "text": [
      " 624/3426 [====>.........................] - ETA: 3:09"
     ]
    },
    {
     "name": "stderr",
     "output_type": "stream",
     "text": [
      "625it [00:42, 14.62it/s]"
     ]
    },
    {
     "name": "stdout",
     "output_type": "stream",
     "text": [
      " 626/3426 [====>.........................] - ETA: 3:09"
     ]
    },
    {
     "name": "stderr",
     "output_type": "stream",
     "text": [
      "627it [00:42, 15.37it/s]"
     ]
    },
    {
     "name": "stdout",
     "output_type": "stream",
     "text": [
      " 628/3426 [====>.........................] - ETA: 3:09"
     ]
    },
    {
     "name": "stderr",
     "output_type": "stream",
     "text": [
      "629it [00:42, 15.79it/s]"
     ]
    },
    {
     "name": "stdout",
     "output_type": "stream",
     "text": [
      " 630/3426 [====>.........................] - ETA: 3:09"
     ]
    },
    {
     "name": "stderr",
     "output_type": "stream",
     "text": [
      "631it [00:42, 14.52it/s]"
     ]
    },
    {
     "name": "stdout",
     "output_type": "stream",
     "text": [
      " 632/3426 [====>.........................] - ETA: 3:08"
     ]
    },
    {
     "name": "stderr",
     "output_type": "stream",
     "text": [
      "633it [00:42, 14.98it/s]"
     ]
    },
    {
     "name": "stdout",
     "output_type": "stream",
     "text": [
      " 634/3426 [====>.........................] - ETA: 3:08"
     ]
    },
    {
     "name": "stderr",
     "output_type": "stream",
     "text": [
      "635it [00:42, 15.67it/s]"
     ]
    },
    {
     "name": "stdout",
     "output_type": "stream",
     "text": [
      " 636/3426 [====>.........................] - ETA: 3:08"
     ]
    },
    {
     "name": "stderr",
     "output_type": "stream",
     "text": [
      "637it [00:42, 15.83it/s]"
     ]
    },
    {
     "name": "stdout",
     "output_type": "stream",
     "text": [
      " 638/3426 [====>.........................] - ETA: 3:08"
     ]
    },
    {
     "name": "stderr",
     "output_type": "stream",
     "text": [
      "639it [00:43, 15.75it/s]"
     ]
    },
    {
     "name": "stdout",
     "output_type": "stream",
     "text": [
      " 640/3426 [====>.........................] - ETA: 3:08"
     ]
    },
    {
     "name": "stderr",
     "output_type": "stream",
     "text": [
      "641it [00:43, 15.85it/s]"
     ]
    },
    {
     "name": "stdout",
     "output_type": "stream",
     "text": [
      " 642/3426 [====>.........................] - ETA: 3:08"
     ]
    },
    {
     "name": "stderr",
     "output_type": "stream",
     "text": [
      "643it [00:43, 15.30it/s]"
     ]
    },
    {
     "name": "stdout",
     "output_type": "stream",
     "text": [
      " 644/3426 [====>.........................] - ETA: 3:07"
     ]
    },
    {
     "name": "stderr",
     "output_type": "stream",
     "text": [
      "645it [00:43, 15.51it/s]"
     ]
    },
    {
     "name": "stdout",
     "output_type": "stream",
     "text": [
      " 646/3426 [====>.........................] - ETA: 3:07"
     ]
    },
    {
     "name": "stderr",
     "output_type": "stream",
     "text": [
      "647it [00:43, 15.93it/s]"
     ]
    },
    {
     "name": "stdout",
     "output_type": "stream",
     "text": [
      " 648/3426 [====>.........................] - ETA: 3:07"
     ]
    },
    {
     "name": "stderr",
     "output_type": "stream",
     "text": [
      "649it [00:43, 16.71it/s]"
     ]
    },
    {
     "name": "stdout",
     "output_type": "stream",
     "text": [
      " 650/3426 [====>.........................] - ETA: 3:07"
     ]
    },
    {
     "name": "stderr",
     "output_type": "stream",
     "text": [
      "651it [00:43, 16.37it/s]"
     ]
    },
    {
     "name": "stdout",
     "output_type": "stream",
     "text": [
      " 652/3426 [====>.........................] - ETA: 3:07"
     ]
    },
    {
     "name": "stderr",
     "output_type": "stream",
     "text": [
      "653it [00:43, 16.29it/s]"
     ]
    },
    {
     "name": "stdout",
     "output_type": "stream",
     "text": [
      " 654/3426 [====>.........................] - ETA: 3:06"
     ]
    },
    {
     "name": "stderr",
     "output_type": "stream",
     "text": [
      "655it [00:44, 16.20it/s]"
     ]
    },
    {
     "name": "stdout",
     "output_type": "stream",
     "text": [
      " 656/3426 [====>.........................] - ETA: 3:06"
     ]
    },
    {
     "name": "stderr",
     "output_type": "stream",
     "text": [
      "657it [00:44, 15.83it/s]"
     ]
    },
    {
     "name": "stdout",
     "output_type": "stream",
     "text": [
      " 658/3426 [====>.........................] - ETA: 3:06"
     ]
    },
    {
     "name": "stderr",
     "output_type": "stream",
     "text": [
      "659it [00:44, 14.74it/s]"
     ]
    },
    {
     "name": "stdout",
     "output_type": "stream",
     "text": [
      " 660/3426 [====>.........................] - ETA: 3:06"
     ]
    },
    {
     "name": "stderr",
     "output_type": "stream",
     "text": [
      "661it [00:44, 15.02it/s]"
     ]
    },
    {
     "name": "stdout",
     "output_type": "stream",
     "text": [
      " 661/3426 [====>.........................] - ETA: 3:06"
     ]
    },
    {
     "name": "stderr",
     "output_type": "stream",
     "text": [
      "663it [00:44, 16.07it/s]"
     ]
    },
    {
     "name": "stdout",
     "output_type": "stream",
     "text": [
      " 664/3426 [====>.........................] - ETA: 3:06"
     ]
    },
    {
     "name": "stderr",
     "output_type": "stream",
     "text": [
      "665it [00:44, 16.24it/s]"
     ]
    },
    {
     "name": "stdout",
     "output_type": "stream",
     "text": [
      " 666/3426 [====>.........................] - ETA: 3:05"
     ]
    },
    {
     "name": "stderr",
     "output_type": "stream",
     "text": [
      "667it [00:44, 16.40it/s]"
     ]
    },
    {
     "name": "stdout",
     "output_type": "stream",
     "text": [
      " 668/3426 [====>.........................] - ETA: 3:05"
     ]
    },
    {
     "name": "stderr",
     "output_type": "stream",
     "text": [
      "669it [00:44, 16.98it/s]"
     ]
    },
    {
     "name": "stdout",
     "output_type": "stream",
     "text": [
      " 670/3426 [====>.........................] - ETA: 3:05"
     ]
    },
    {
     "name": "stderr",
     "output_type": "stream",
     "text": [
      "671it [00:45, 16.65it/s]"
     ]
    },
    {
     "name": "stdout",
     "output_type": "stream",
     "text": [
      " 672/3426 [====>.........................] - ETA: 3:05"
     ]
    },
    {
     "name": "stderr",
     "output_type": "stream",
     "text": [
      "673it [00:45, 16.77it/s]"
     ]
    },
    {
     "name": "stdout",
     "output_type": "stream",
     "text": [
      " 674/3426 [====>.........................] - ETA: 3:05"
     ]
    },
    {
     "name": "stderr",
     "output_type": "stream",
     "text": [
      "675it [00:45, 16.73it/s]"
     ]
    },
    {
     "name": "stdout",
     "output_type": "stream",
     "text": [
      " 676/3426 [====>.........................] - ETA: 3:04"
     ]
    },
    {
     "name": "stderr",
     "output_type": "stream",
     "text": [
      "677it [00:45, 16.70it/s]"
     ]
    },
    {
     "name": "stdout",
     "output_type": "stream",
     "text": [
      " 678/3426 [====>.........................] - ETA: 3:04"
     ]
    },
    {
     "name": "stderr",
     "output_type": "stream",
     "text": [
      "679it [00:45, 16.18it/s]"
     ]
    },
    {
     "name": "stdout",
     "output_type": "stream",
     "text": [
      " 680/3426 [====>.........................] - ETA: 3:04"
     ]
    },
    {
     "name": "stderr",
     "output_type": "stream",
     "text": [
      "681it [00:45, 16.10it/s]"
     ]
    },
    {
     "name": "stdout",
     "output_type": "stream",
     "text": [
      " 682/3426 [====>.........................] - ETA: 3:04"
     ]
    },
    {
     "name": "stderr",
     "output_type": "stream",
     "text": [
      "683it [00:45, 15.90it/s]"
     ]
    },
    {
     "name": "stdout",
     "output_type": "stream",
     "text": [
      " 684/3426 [====>.........................] - ETA: 3:04"
     ]
    },
    {
     "name": "stderr",
     "output_type": "stream",
     "text": [
      "685it [00:45, 15.81it/s]"
     ]
    },
    {
     "name": "stdout",
     "output_type": "stream",
     "text": [
      " 686/3426 [=====>........................] - ETA: 3:04"
     ]
    },
    {
     "name": "stderr",
     "output_type": "stream",
     "text": [
      "687it [00:46, 14.93it/s]"
     ]
    },
    {
     "name": "stdout",
     "output_type": "stream",
     "text": [
      " 688/3426 [=====>........................] - ETA: 3:03"
     ]
    },
    {
     "name": "stderr",
     "output_type": "stream",
     "text": [
      "689it [00:46, 15.00it/s]"
     ]
    },
    {
     "name": "stdout",
     "output_type": "stream",
     "text": [
      " 690/3426 [=====>........................] - ETA: 3:03"
     ]
    },
    {
     "name": "stderr",
     "output_type": "stream",
     "text": [
      "691it [00:46, 14.68it/s]"
     ]
    },
    {
     "name": "stdout",
     "output_type": "stream",
     "text": [
      " 692/3426 [=====>........................] - ETA: 3:03"
     ]
    },
    {
     "name": "stderr",
     "output_type": "stream",
     "text": [
      "693it [00:46, 14.26it/s]"
     ]
    },
    {
     "name": "stdout",
     "output_type": "stream",
     "text": [
      " 694/3426 [=====>........................] - ETA: 3:03"
     ]
    },
    {
     "name": "stderr",
     "output_type": "stream",
     "text": [
      "695it [00:46, 15.01it/s]"
     ]
    },
    {
     "name": "stdout",
     "output_type": "stream",
     "text": [
      " 696/3426 [=====>........................] - ETA: 3:03"
     ]
    },
    {
     "name": "stderr",
     "output_type": "stream",
     "text": [
      "697it [00:46, 15.57it/s]"
     ]
    },
    {
     "name": "stdout",
     "output_type": "stream",
     "text": [
      " 698/3426 [=====>........................] - ETA: 3:03"
     ]
    },
    {
     "name": "stderr",
     "output_type": "stream",
     "text": [
      "699it [00:46, 14.88it/s]"
     ]
    },
    {
     "name": "stdout",
     "output_type": "stream",
     "text": [
      " 700/3426 [=====>........................] - ETA: 3:03"
     ]
    },
    {
     "name": "stderr",
     "output_type": "stream",
     "text": [
      "701it [00:47, 13.33it/s]"
     ]
    },
    {
     "name": "stdout",
     "output_type": "stream",
     "text": [
      " 702/3426 [=====>........................] - ETA: 3:03"
     ]
    },
    {
     "name": "stderr",
     "output_type": "stream",
     "text": [
      "703it [00:47, 13.94it/s]"
     ]
    },
    {
     "name": "stdout",
     "output_type": "stream",
     "text": [
      " 704/3426 [=====>........................] - ETA: 3:03"
     ]
    },
    {
     "name": "stderr",
     "output_type": "stream",
     "text": [
      "705it [00:47, 14.68it/s]"
     ]
    },
    {
     "name": "stdout",
     "output_type": "stream",
     "text": [
      " 706/3426 [=====>........................] - ETA: 3:03"
     ]
    },
    {
     "name": "stderr",
     "output_type": "stream",
     "text": [
      "707it [00:47, 13.35it/s]"
     ]
    },
    {
     "name": "stdout",
     "output_type": "stream",
     "text": [
      " 708/3426 [=====>........................] - ETA: 3:03"
     ]
    },
    {
     "name": "stderr",
     "output_type": "stream",
     "text": [
      "709it [00:47, 13.40it/s]"
     ]
    },
    {
     "name": "stdout",
     "output_type": "stream",
     "text": [
      " 710/3426 [=====>........................] - ETA: 3:02"
     ]
    },
    {
     "name": "stderr",
     "output_type": "stream",
     "text": [
      "711it [00:47, 14.14it/s]"
     ]
    },
    {
     "name": "stdout",
     "output_type": "stream",
     "text": [
      " 712/3426 [=====>........................] - ETA: 3:02"
     ]
    },
    {
     "name": "stderr",
     "output_type": "stream",
     "text": [
      "713it [00:47, 14.11it/s]"
     ]
    },
    {
     "name": "stdout",
     "output_type": "stream",
     "text": [
      " 714/3426 [=====>........................] - ETA: 3:02"
     ]
    },
    {
     "name": "stderr",
     "output_type": "stream",
     "text": [
      "715it [00:48, 14.65it/s]"
     ]
    },
    {
     "name": "stdout",
     "output_type": "stream",
     "text": [
      " 716/3426 [=====>........................] - ETA: 3:02"
     ]
    },
    {
     "name": "stderr",
     "output_type": "stream",
     "text": [
      "717it [00:48, 15.12it/s]"
     ]
    },
    {
     "name": "stdout",
     "output_type": "stream",
     "text": [
      " 718/3426 [=====>........................] - ETA: 3:02"
     ]
    },
    {
     "name": "stderr",
     "output_type": "stream",
     "text": [
      "719it [00:48, 13.90it/s]"
     ]
    },
    {
     "name": "stdout",
     "output_type": "stream",
     "text": [
      " 720/3426 [=====>........................] - ETA: 3:02"
     ]
    },
    {
     "name": "stderr",
     "output_type": "stream",
     "text": [
      "721it [00:48, 12.57it/s]"
     ]
    },
    {
     "name": "stdout",
     "output_type": "stream",
     "text": [
      " 722/3426 [=====>........................] - ETA: 3:02"
     ]
    },
    {
     "name": "stderr",
     "output_type": "stream",
     "text": [
      "723it [00:48, 12.73it/s]"
     ]
    },
    {
     "name": "stdout",
     "output_type": "stream",
     "text": [
      " 724/3426 [=====>........................] - ETA: 3:02"
     ]
    },
    {
     "name": "stderr",
     "output_type": "stream",
     "text": [
      "725it [00:48, 13.25it/s]"
     ]
    },
    {
     "name": "stdout",
     "output_type": "stream",
     "text": [
      " 726/3426 [=====>........................] - ETA: 3:02"
     ]
    },
    {
     "name": "stderr",
     "output_type": "stream",
     "text": [
      "727it [00:48, 13.89it/s]"
     ]
    },
    {
     "name": "stdout",
     "output_type": "stream",
     "text": [
      " 728/3426 [=====>........................] - ETA: 3:01"
     ]
    },
    {
     "name": "stderr",
     "output_type": "stream",
     "text": [
      "729it [00:49, 14.12it/s]"
     ]
    },
    {
     "name": "stdout",
     "output_type": "stream",
     "text": [
      " 730/3426 [=====>........................] - ETA: 3:01"
     ]
    },
    {
     "name": "stderr",
     "output_type": "stream",
     "text": [
      "731it [00:49, 13.49it/s]"
     ]
    },
    {
     "name": "stdout",
     "output_type": "stream",
     "text": [
      " 732/3426 [=====>........................] - ETA: 3:01"
     ]
    },
    {
     "name": "stderr",
     "output_type": "stream",
     "text": [
      "733it [00:49, 13.83it/s]"
     ]
    },
    {
     "name": "stdout",
     "output_type": "stream",
     "text": [
      " 734/3426 [=====>........................] - ETA: 3:01"
     ]
    },
    {
     "name": "stderr",
     "output_type": "stream",
     "text": [
      "735it [00:49, 14.38it/s]"
     ]
    },
    {
     "name": "stdout",
     "output_type": "stream",
     "text": [
      " 736/3426 [=====>........................] - ETA: 3:01"
     ]
    },
    {
     "name": "stderr",
     "output_type": "stream",
     "text": [
      "737it [00:49, 14.89it/s]"
     ]
    },
    {
     "name": "stdout",
     "output_type": "stream",
     "text": [
      " 738/3426 [=====>........................] - ETA: 3:01"
     ]
    },
    {
     "name": "stderr",
     "output_type": "stream",
     "text": [
      "739it [00:49, 14.60it/s]"
     ]
    },
    {
     "name": "stdout",
     "output_type": "stream",
     "text": [
      " 740/3426 [=====>........................] - ETA: 3:01"
     ]
    },
    {
     "name": "stderr",
     "output_type": "stream",
     "text": [
      "741it [00:49, 15.08it/s]"
     ]
    },
    {
     "name": "stdout",
     "output_type": "stream",
     "text": [
      " 742/3426 [=====>........................] - ETA: 3:00"
     ]
    },
    {
     "name": "stderr",
     "output_type": "stream",
     "text": [
      "743it [00:50, 15.73it/s]"
     ]
    },
    {
     "name": "stdout",
     "output_type": "stream",
     "text": [
      " 744/3426 [=====>........................] - ETA: 3:00"
     ]
    },
    {
     "name": "stderr",
     "output_type": "stream",
     "text": [
      "745it [00:50, 15.20it/s]"
     ]
    },
    {
     "name": "stdout",
     "output_type": "stream",
     "text": [
      " 746/3426 [=====>........................] - ETA: 3:00"
     ]
    },
    {
     "name": "stderr",
     "output_type": "stream",
     "text": [
      "747it [00:50, 15.31it/s]"
     ]
    },
    {
     "name": "stdout",
     "output_type": "stream",
     "text": [
      " 748/3426 [=====>........................] - ETA: 3:00"
     ]
    },
    {
     "name": "stderr",
     "output_type": "stream",
     "text": [
      "749it [00:50, 13.30it/s]"
     ]
    },
    {
     "name": "stdout",
     "output_type": "stream",
     "text": [
      " 750/3426 [=====>........................] - ETA: 3:00"
     ]
    },
    {
     "name": "stderr",
     "output_type": "stream",
     "text": [
      "751it [00:50, 13.32it/s]"
     ]
    },
    {
     "name": "stdout",
     "output_type": "stream",
     "text": [
      " 752/3426 [=====>........................] - ETA: 3:00"
     ]
    },
    {
     "name": "stderr",
     "output_type": "stream",
     "text": [
      "753it [00:50, 14.23it/s]"
     ]
    },
    {
     "name": "stdout",
     "output_type": "stream",
     "text": [
      " 754/3426 [=====>........................] - ETA: 3:00"
     ]
    },
    {
     "name": "stderr",
     "output_type": "stream",
     "text": [
      "755it [00:50, 14.09it/s]"
     ]
    },
    {
     "name": "stdout",
     "output_type": "stream",
     "text": [
      " 756/3426 [=====>........................] - ETA: 3:00"
     ]
    },
    {
     "name": "stderr",
     "output_type": "stream",
     "text": [
      "757it [00:51, 11.80it/s]"
     ]
    },
    {
     "name": "stdout",
     "output_type": "stream",
     "text": [
      " 758/3426 [=====>........................] - ETA: 3:00"
     ]
    },
    {
     "name": "stderr",
     "output_type": "stream",
     "text": [
      "759it [00:51, 12.37it/s]"
     ]
    },
    {
     "name": "stdout",
     "output_type": "stream",
     "text": [
      " 760/3426 [=====>........................] - ETA: 3:00"
     ]
    },
    {
     "name": "stderr",
     "output_type": "stream",
     "text": [
      "761it [00:51, 13.38it/s]"
     ]
    },
    {
     "name": "stdout",
     "output_type": "stream",
     "text": [
      " 762/3426 [=====>........................] - ETA: 3:00"
     ]
    },
    {
     "name": "stderr",
     "output_type": "stream",
     "text": [
      "763it [00:51, 14.06it/s]"
     ]
    },
    {
     "name": "stdout",
     "output_type": "stream",
     "text": [
      " 764/3426 [=====>........................] - ETA: 3:00"
     ]
    },
    {
     "name": "stderr",
     "output_type": "stream",
     "text": [
      "765it [00:51, 12.85it/s]"
     ]
    },
    {
     "name": "stdout",
     "output_type": "stream",
     "text": [
      " 766/3426 [=====>........................] - ETA: 3:00"
     ]
    },
    {
     "name": "stderr",
     "output_type": "stream",
     "text": [
      "767it [00:51, 13.45it/s]"
     ]
    },
    {
     "name": "stdout",
     "output_type": "stream",
     "text": [
      " 768/3426 [=====>........................] - ETA: 2:59"
     ]
    },
    {
     "name": "stderr",
     "output_type": "stream",
     "text": [
      "769it [00:51, 14.53it/s]"
     ]
    },
    {
     "name": "stdout",
     "output_type": "stream",
     "text": [
      " 770/3426 [=====>........................] - ETA: 2:59"
     ]
    },
    {
     "name": "stderr",
     "output_type": "stream",
     "text": [
      "771it [00:52, 15.22it/s]"
     ]
    },
    {
     "name": "stdout",
     "output_type": "stream",
     "text": [
      " 772/3426 [=====>........................] - ETA: 2:59"
     ]
    },
    {
     "name": "stderr",
     "output_type": "stream",
     "text": [
      "773it [00:52, 15.34it/s]"
     ]
    },
    {
     "name": "stdout",
     "output_type": "stream",
     "text": [
      " 774/3426 [=====>........................] - ETA: 2:59"
     ]
    },
    {
     "name": "stderr",
     "output_type": "stream",
     "text": [
      "775it [00:52, 12.04it/s]"
     ]
    },
    {
     "name": "stdout",
     "output_type": "stream",
     "text": [
      " 776/3426 [=====>........................] - ETA: 2:59"
     ]
    },
    {
     "name": "stderr",
     "output_type": "stream",
     "text": [
      "777it [00:52, 11.93it/s]"
     ]
    },
    {
     "name": "stdout",
     "output_type": "stream",
     "text": [
      " 778/3426 [=====>........................] - ETA: 2:59"
     ]
    },
    {
     "name": "stderr",
     "output_type": "stream",
     "text": [
      "779it [00:52, 12.99it/s]"
     ]
    },
    {
     "name": "stdout",
     "output_type": "stream",
     "text": [
      " 780/3426 [=====>........................] - ETA: 2:59"
     ]
    },
    {
     "name": "stderr",
     "output_type": "stream",
     "text": [
      "781it [00:52, 13.88it/s]"
     ]
    },
    {
     "name": "stdout",
     "output_type": "stream",
     "text": [
      " 782/3426 [=====>........................] - ETA: 2:59"
     ]
    },
    {
     "name": "stderr",
     "output_type": "stream",
     "text": [
      "783it [00:52, 14.45it/s]"
     ]
    },
    {
     "name": "stdout",
     "output_type": "stream",
     "text": [
      " 784/3426 [=====>........................] - ETA: 2:59"
     ]
    },
    {
     "name": "stderr",
     "output_type": "stream",
     "text": [
      "785it [00:53, 14.93it/s]"
     ]
    },
    {
     "name": "stdout",
     "output_type": "stream",
     "text": [
      " 786/3426 [=====>........................] - ETA: 2:58"
     ]
    },
    {
     "name": "stderr",
     "output_type": "stream",
     "text": [
      "787it [00:53, 15.26it/s]"
     ]
    },
    {
     "name": "stdout",
     "output_type": "stream",
     "text": [
      " 788/3426 [=====>........................] - ETA: 2:58"
     ]
    },
    {
     "name": "stderr",
     "output_type": "stream",
     "text": [
      "789it [00:53, 15.53it/s]"
     ]
    },
    {
     "name": "stdout",
     "output_type": "stream",
     "text": [
      " 790/3426 [=====>........................] - ETA: 2:58"
     ]
    },
    {
     "name": "stderr",
     "output_type": "stream",
     "text": [
      "791it [00:53, 12.86it/s]"
     ]
    },
    {
     "name": "stdout",
     "output_type": "stream",
     "text": [
      " 792/3426 [=====>........................] - ETA: 2:58"
     ]
    },
    {
     "name": "stderr",
     "output_type": "stream",
     "text": [
      "793it [00:53, 13.48it/s]"
     ]
    },
    {
     "name": "stdout",
     "output_type": "stream",
     "text": [
      " 794/3426 [=====>........................] - ETA: 2:58"
     ]
    },
    {
     "name": "stderr",
     "output_type": "stream",
     "text": [
      "795it [00:53, 14.15it/s]"
     ]
    },
    {
     "name": "stdout",
     "output_type": "stream",
     "text": [
      " 796/3426 [=====>........................] - ETA: 2:58"
     ]
    },
    {
     "name": "stderr",
     "output_type": "stream",
     "text": [
      "797it [00:53, 14.33it/s]"
     ]
    },
    {
     "name": "stdout",
     "output_type": "stream",
     "text": [
      " 798/3426 [=====>........................] - ETA: 2:58"
     ]
    },
    {
     "name": "stderr",
     "output_type": "stream",
     "text": [
      "799it [00:54, 14.66it/s]"
     ]
    },
    {
     "name": "stdout",
     "output_type": "stream",
     "text": [
      " 800/3426 [======>.......................] - ETA: 2:57"
     ]
    },
    {
     "name": "stderr",
     "output_type": "stream",
     "text": [
      "801it [00:54, 15.33it/s]"
     ]
    },
    {
     "name": "stdout",
     "output_type": "stream",
     "text": [
      " 802/3426 [======>.......................] - ETA: 2:57"
     ]
    },
    {
     "name": "stderr",
     "output_type": "stream",
     "text": [
      "803it [00:54, 15.77it/s]"
     ]
    },
    {
     "name": "stdout",
     "output_type": "stream",
     "text": [
      " 804/3426 [======>.......................] - ETA: 2:57"
     ]
    },
    {
     "name": "stderr",
     "output_type": "stream",
     "text": [
      "805it [00:54, 16.12it/s]"
     ]
    },
    {
     "name": "stdout",
     "output_type": "stream",
     "text": [
      " 806/3426 [======>.......................] - ETA: 2:57"
     ]
    },
    {
     "name": "stderr",
     "output_type": "stream",
     "text": [
      "807it [00:54, 16.15it/s]"
     ]
    },
    {
     "name": "stdout",
     "output_type": "stream",
     "text": [
      " 808/3426 [======>.......................] - ETA: 2:57"
     ]
    },
    {
     "name": "stderr",
     "output_type": "stream",
     "text": [
      "809it [00:54, 16.32it/s]"
     ]
    },
    {
     "name": "stdout",
     "output_type": "stream",
     "text": [
      " 810/3426 [======>.......................] - ETA: 2:57"
     ]
    },
    {
     "name": "stderr",
     "output_type": "stream",
     "text": [
      "811it [00:54, 15.24it/s]"
     ]
    },
    {
     "name": "stdout",
     "output_type": "stream",
     "text": [
      " 812/3426 [======>.......................] - ETA: 2:56"
     ]
    },
    {
     "name": "stderr",
     "output_type": "stream",
     "text": [
      "813it [00:54, 15.74it/s]"
     ]
    },
    {
     "name": "stdout",
     "output_type": "stream",
     "text": [
      " 814/3426 [======>.......................] - ETA: 2:56"
     ]
    },
    {
     "name": "stderr",
     "output_type": "stream",
     "text": [
      "815it [00:55, 16.15it/s]"
     ]
    },
    {
     "name": "stdout",
     "output_type": "stream",
     "text": [
      " 816/3426 [======>.......................] - ETA: 2:56"
     ]
    },
    {
     "name": "stderr",
     "output_type": "stream",
     "text": [
      "817it [00:55, 15.88it/s]"
     ]
    },
    {
     "name": "stdout",
     "output_type": "stream",
     "text": [
      " 818/3426 [======>.......................] - ETA: 2:56"
     ]
    },
    {
     "name": "stderr",
     "output_type": "stream",
     "text": [
      "819it [00:55, 15.27it/s]"
     ]
    },
    {
     "name": "stdout",
     "output_type": "stream",
     "text": [
      " 820/3426 [======>.......................] - ETA: 2:56"
     ]
    },
    {
     "name": "stderr",
     "output_type": "stream",
     "text": [
      "821it [00:55, 15.64it/s]"
     ]
    },
    {
     "name": "stdout",
     "output_type": "stream",
     "text": [
      " 822/3426 [======>.......................] - ETA: 2:56"
     ]
    },
    {
     "name": "stderr",
     "output_type": "stream",
     "text": [
      "823it [00:55, 13.70it/s]"
     ]
    },
    {
     "name": "stdout",
     "output_type": "stream",
     "text": [
      " 824/3426 [======>.......................] - ETA: 2:56"
     ]
    },
    {
     "name": "stderr",
     "output_type": "stream",
     "text": [
      "825it [00:55, 14.11it/s]"
     ]
    },
    {
     "name": "stdout",
     "output_type": "stream",
     "text": [
      " 826/3426 [======>.......................] - ETA: 2:56"
     ]
    },
    {
     "name": "stderr",
     "output_type": "stream",
     "text": [
      "827it [00:55, 14.20it/s]"
     ]
    },
    {
     "name": "stdout",
     "output_type": "stream",
     "text": [
      " 828/3426 [======>.......................] - ETA: 2:55"
     ]
    },
    {
     "name": "stderr",
     "output_type": "stream",
     "text": [
      "829it [00:56, 14.75it/s]"
     ]
    },
    {
     "name": "stdout",
     "output_type": "stream",
     "text": [
      " 830/3426 [======>.......................] - ETA: 2:55"
     ]
    },
    {
     "name": "stderr",
     "output_type": "stream",
     "text": [
      "831it [00:56, 14.64it/s]"
     ]
    },
    {
     "name": "stdout",
     "output_type": "stream",
     "text": [
      " 832/3426 [======>.......................] - ETA: 2:55"
     ]
    },
    {
     "name": "stderr",
     "output_type": "stream",
     "text": [
      "833it [00:56, 14.96it/s]"
     ]
    },
    {
     "name": "stdout",
     "output_type": "stream",
     "text": [
      " 834/3426 [======>.......................] - ETA: 2:55"
     ]
    },
    {
     "name": "stderr",
     "output_type": "stream",
     "text": [
      "835it [00:56, 15.52it/s]"
     ]
    },
    {
     "name": "stdout",
     "output_type": "stream",
     "text": [
      " 836/3426 [======>.......................] - ETA: 2:55"
     ]
    },
    {
     "name": "stderr",
     "output_type": "stream",
     "text": [
      "837it [00:56, 12.28it/s]"
     ]
    },
    {
     "name": "stdout",
     "output_type": "stream",
     "text": [
      " 838/3426 [======>.......................] - ETA: 2:55"
     ]
    },
    {
     "name": "stderr",
     "output_type": "stream",
     "text": [
      "839it [00:56, 13.21it/s]"
     ]
    },
    {
     "name": "stdout",
     "output_type": "stream",
     "text": [
      " 840/3426 [======>.......................] - ETA: 2:55"
     ]
    },
    {
     "name": "stderr",
     "output_type": "stream",
     "text": [
      "841it [00:56, 14.41it/s]"
     ]
    },
    {
     "name": "stdout",
     "output_type": "stream",
     "text": [
      " 842/3426 [======>.......................] - ETA: 2:55"
     ]
    },
    {
     "name": "stderr",
     "output_type": "stream",
     "text": [
      "843it [00:57, 15.06it/s]"
     ]
    },
    {
     "name": "stdout",
     "output_type": "stream",
     "text": [
      " 844/3426 [======>.......................] - ETA: 2:54"
     ]
    },
    {
     "name": "stderr",
     "output_type": "stream",
     "text": [
      "845it [00:57, 15.35it/s]"
     ]
    },
    {
     "name": "stdout",
     "output_type": "stream",
     "text": [
      " 846/3426 [======>.......................] - ETA: 2:54"
     ]
    },
    {
     "name": "stderr",
     "output_type": "stream",
     "text": [
      "847it [00:57, 15.43it/s]"
     ]
    },
    {
     "name": "stdout",
     "output_type": "stream",
     "text": [
      " 848/3426 [======>.......................] - ETA: 2:54"
     ]
    },
    {
     "name": "stderr",
     "output_type": "stream",
     "text": [
      "849it [00:57, 15.78it/s]"
     ]
    },
    {
     "name": "stdout",
     "output_type": "stream",
     "text": [
      " 850/3426 [======>.......................] - ETA: 2:54"
     ]
    },
    {
     "name": "stderr",
     "output_type": "stream",
     "text": [
      "851it [00:57, 15.55it/s]"
     ]
    },
    {
     "name": "stdout",
     "output_type": "stream",
     "text": [
      " 852/3426 [======>.......................] - ETA: 2:54"
     ]
    },
    {
     "name": "stderr",
     "output_type": "stream",
     "text": [
      "853it [00:57, 15.17it/s]"
     ]
    },
    {
     "name": "stdout",
     "output_type": "stream",
     "text": [
      " 854/3426 [======>.......................] - ETA: 2:54"
     ]
    },
    {
     "name": "stderr",
     "output_type": "stream",
     "text": [
      "855it [00:57, 15.24it/s]"
     ]
    },
    {
     "name": "stdout",
     "output_type": "stream",
     "text": [
      " 856/3426 [======>.......................] - ETA: 2:53"
     ]
    },
    {
     "name": "stderr",
     "output_type": "stream",
     "text": [
      "857it [00:57, 15.52it/s]"
     ]
    },
    {
     "name": "stdout",
     "output_type": "stream",
     "text": [
      " 858/3426 [======>.......................] - ETA: 2:53"
     ]
    },
    {
     "name": "stderr",
     "output_type": "stream",
     "text": [
      "859it [00:58, 15.86it/s]"
     ]
    },
    {
     "name": "stdout",
     "output_type": "stream",
     "text": [
      " 860/3426 [======>.......................] - ETA: 2:53"
     ]
    },
    {
     "name": "stderr",
     "output_type": "stream",
     "text": [
      "861it [00:58, 15.91it/s]"
     ]
    },
    {
     "name": "stdout",
     "output_type": "stream",
     "text": [
      " 862/3426 [======>.......................] - ETA: 2:53"
     ]
    },
    {
     "name": "stderr",
     "output_type": "stream",
     "text": [
      "863it [00:58, 16.09it/s]"
     ]
    },
    {
     "name": "stdout",
     "output_type": "stream",
     "text": [
      " 864/3426 [======>.......................] - ETA: 2:53"
     ]
    },
    {
     "name": "stderr",
     "output_type": "stream",
     "text": [
      "865it [00:58, 16.24it/s]"
     ]
    },
    {
     "name": "stdout",
     "output_type": "stream",
     "text": [
      " 866/3426 [======>.......................] - ETA: 2:53"
     ]
    },
    {
     "name": "stderr",
     "output_type": "stream",
     "text": [
      "867it [00:58, 16.62it/s]"
     ]
    },
    {
     "name": "stdout",
     "output_type": "stream",
     "text": [
      " 868/3426 [======>.......................] - ETA: 2:52"
     ]
    },
    {
     "name": "stderr",
     "output_type": "stream",
     "text": [
      "869it [00:58, 16.39it/s]"
     ]
    },
    {
     "name": "stdout",
     "output_type": "stream",
     "text": [
      " 870/3426 [======>.......................] - ETA: 2:52"
     ]
    },
    {
     "name": "stderr",
     "output_type": "stream",
     "text": [
      "871it [00:58, 16.82it/s]"
     ]
    },
    {
     "name": "stdout",
     "output_type": "stream",
     "text": [
      " 872/3426 [======>.......................] - ETA: 2:52"
     ]
    },
    {
     "name": "stderr",
     "output_type": "stream",
     "text": [
      "873it [00:58, 16.56it/s]"
     ]
    },
    {
     "name": "stdout",
     "output_type": "stream",
     "text": [
      " 874/3426 [======>.......................] - ETA: 2:52"
     ]
    },
    {
     "name": "stderr",
     "output_type": "stream",
     "text": [
      "875it [00:59, 15.45it/s]"
     ]
    },
    {
     "name": "stdout",
     "output_type": "stream",
     "text": [
      " 876/3426 [======>.......................] - ETA: 2:52"
     ]
    },
    {
     "name": "stderr",
     "output_type": "stream",
     "text": [
      "877it [00:59, 15.25it/s]"
     ]
    },
    {
     "name": "stdout",
     "output_type": "stream",
     "text": [
      " 878/3426 [======>.......................] - ETA: 2:52"
     ]
    },
    {
     "name": "stderr",
     "output_type": "stream",
     "text": [
      "879it [00:59, 15.26it/s]"
     ]
    },
    {
     "name": "stdout",
     "output_type": "stream",
     "text": [
      " 880/3426 [======>.......................] - ETA: 2:51"
     ]
    },
    {
     "name": "stderr",
     "output_type": "stream",
     "text": [
      "881it [00:59, 15.60it/s]"
     ]
    },
    {
     "name": "stdout",
     "output_type": "stream",
     "text": [
      " 882/3426 [======>.......................] - ETA: 2:51"
     ]
    },
    {
     "name": "stderr",
     "output_type": "stream",
     "text": [
      "883it [00:59, 15.51it/s]"
     ]
    },
    {
     "name": "stdout",
     "output_type": "stream",
     "text": [
      " 884/3426 [======>.......................] - ETA: 2:52"
     ]
    },
    {
     "name": "stderr",
     "output_type": "stream",
     "text": [
      "885it [00:59, 11.34it/s]"
     ]
    },
    {
     "name": "stdout",
     "output_type": "stream",
     "text": [
      " 886/3426 [======>.......................] - ETA: 2:52"
     ]
    },
    {
     "name": "stderr",
     "output_type": "stream",
     "text": [
      "887it [00:59, 12.09it/s]"
     ]
    },
    {
     "name": "stdout",
     "output_type": "stream",
     "text": [
      " 888/3426 [======>.......................] - ETA: 2:51"
     ]
    },
    {
     "name": "stderr",
     "output_type": "stream",
     "text": [
      "889it [01:00, 13.16it/s]"
     ]
    },
    {
     "name": "stdout",
     "output_type": "stream",
     "text": [
      " 890/3426 [======>.......................] - ETA: 2:51"
     ]
    },
    {
     "name": "stderr",
     "output_type": "stream",
     "text": [
      "891it [01:00, 14.04it/s]"
     ]
    },
    {
     "name": "stdout",
     "output_type": "stream",
     "text": [
      " 892/3426 [======>.......................] - ETA: 2:51"
     ]
    },
    {
     "name": "stderr",
     "output_type": "stream",
     "text": [
      "893it [01:00, 14.74it/s]"
     ]
    },
    {
     "name": "stdout",
     "output_type": "stream",
     "text": [
      " 894/3426 [======>.......................] - ETA: 2:51"
     ]
    },
    {
     "name": "stderr",
     "output_type": "stream",
     "text": [
      "895it [01:00, 15.21it/s]"
     ]
    },
    {
     "name": "stdout",
     "output_type": "stream",
     "text": [
      " 896/3426 [======>.......................] - ETA: 2:51"
     ]
    },
    {
     "name": "stderr",
     "output_type": "stream",
     "text": [
      "897it [01:00, 15.58it/s]"
     ]
    },
    {
     "name": "stdout",
     "output_type": "stream",
     "text": [
      " 898/3426 [======>.......................] - ETA: 2:51"
     ]
    },
    {
     "name": "stderr",
     "output_type": "stream",
     "text": [
      "899it [01:00, 14.64it/s]"
     ]
    },
    {
     "name": "stdout",
     "output_type": "stream",
     "text": [
      " 900/3426 [======>.......................] - ETA: 2:50"
     ]
    },
    {
     "name": "stderr",
     "output_type": "stream",
     "text": [
      "901it [01:00, 15.22it/s]"
     ]
    },
    {
     "name": "stdout",
     "output_type": "stream",
     "text": [
      " 902/3426 [======>.......................] - ETA: 2:50"
     ]
    },
    {
     "name": "stderr",
     "output_type": "stream",
     "text": [
      "903it [01:00, 15.88it/s]"
     ]
    },
    {
     "name": "stdout",
     "output_type": "stream",
     "text": [
      " 904/3426 [======>.......................] - ETA: 2:50"
     ]
    },
    {
     "name": "stderr",
     "output_type": "stream",
     "text": [
      "905it [01:01, 16.15it/s]"
     ]
    },
    {
     "name": "stdout",
     "output_type": "stream",
     "text": [
      " 906/3426 [======>.......................] - ETA: 2:50"
     ]
    },
    {
     "name": "stderr",
     "output_type": "stream",
     "text": [
      "907it [01:01, 16.17it/s]"
     ]
    },
    {
     "name": "stdout",
     "output_type": "stream",
     "text": [
      " 908/3426 [======>.......................] - ETA: 2:50"
     ]
    },
    {
     "name": "stderr",
     "output_type": "stream",
     "text": [
      "909it [01:01, 16.04it/s]"
     ]
    },
    {
     "name": "stdout",
     "output_type": "stream",
     "text": [
      " 910/3426 [======>.......................] - ETA: 2:49"
     ]
    },
    {
     "name": "stderr",
     "output_type": "stream",
     "text": [
      "911it [01:01, 16.41it/s]"
     ]
    },
    {
     "name": "stdout",
     "output_type": "stream",
     "text": [
      " 912/3426 [======>.......................] - ETA: 2:49"
     ]
    },
    {
     "name": "stderr",
     "output_type": "stream",
     "text": [
      "913it [01:01, 16.28it/s]"
     ]
    },
    {
     "name": "stdout",
     "output_type": "stream",
     "text": [
      " 914/3426 [=======>......................] - ETA: 2:49"
     ]
    },
    {
     "name": "stderr",
     "output_type": "stream",
     "text": [
      "915it [01:01, 16.04it/s]"
     ]
    },
    {
     "name": "stdout",
     "output_type": "stream",
     "text": [
      " 916/3426 [=======>......................] - ETA: 2:49"
     ]
    },
    {
     "name": "stderr",
     "output_type": "stream",
     "text": [
      "917it [01:01, 15.17it/s]"
     ]
    },
    {
     "name": "stdout",
     "output_type": "stream",
     "text": [
      " 918/3426 [=======>......................] - ETA: 2:49"
     ]
    },
    {
     "name": "stderr",
     "output_type": "stream",
     "text": [
      "919it [01:02, 14.13it/s]"
     ]
    },
    {
     "name": "stdout",
     "output_type": "stream",
     "text": [
      " 920/3426 [=======>......................] - ETA: 2:49"
     ]
    },
    {
     "name": "stderr",
     "output_type": "stream",
     "text": [
      "921it [01:02, 14.45it/s]"
     ]
    },
    {
     "name": "stdout",
     "output_type": "stream",
     "text": [
      " 922/3426 [=======>......................] - ETA: 2:49"
     ]
    },
    {
     "name": "stderr",
     "output_type": "stream",
     "text": [
      "923it [01:02, 15.18it/s]"
     ]
    },
    {
     "name": "stdout",
     "output_type": "stream",
     "text": [
      " 924/3426 [=======>......................] - ETA: 2:49"
     ]
    },
    {
     "name": "stderr",
     "output_type": "stream",
     "text": [
      "925it [01:02, 13.95it/s]"
     ]
    },
    {
     "name": "stdout",
     "output_type": "stream",
     "text": [
      " 926/3426 [=======>......................] - ETA: 2:48"
     ]
    },
    {
     "name": "stderr",
     "output_type": "stream",
     "text": [
      "927it [01:02, 14.88it/s]"
     ]
    },
    {
     "name": "stdout",
     "output_type": "stream",
     "text": [
      " 928/3426 [=======>......................] - ETA: 2:49"
     ]
    },
    {
     "name": "stderr",
     "output_type": "stream",
     "text": [
      "929it [01:02, 12.73it/s]"
     ]
    },
    {
     "name": "stdout",
     "output_type": "stream",
     "text": [
      " 930/3426 [=======>......................] - ETA: 2:48"
     ]
    },
    {
     "name": "stderr",
     "output_type": "stream",
     "text": [
      "931it [01:02, 13.34it/s]"
     ]
    },
    {
     "name": "stdout",
     "output_type": "stream",
     "text": [
      " 932/3426 [=======>......................] - ETA: 2:48"
     ]
    },
    {
     "name": "stderr",
     "output_type": "stream",
     "text": [
      "933it [01:03, 14.09it/s]"
     ]
    },
    {
     "name": "stdout",
     "output_type": "stream",
     "text": [
      " 934/3426 [=======>......................] - ETA: 2:48"
     ]
    },
    {
     "name": "stderr",
     "output_type": "stream",
     "text": [
      "935it [01:03, 14.86it/s]"
     ]
    },
    {
     "name": "stdout",
     "output_type": "stream",
     "text": [
      " 936/3426 [=======>......................] - ETA: 2:48"
     ]
    },
    {
     "name": "stderr",
     "output_type": "stream",
     "text": [
      "937it [01:03, 15.18it/s]"
     ]
    },
    {
     "name": "stdout",
     "output_type": "stream",
     "text": [
      " 938/3426 [=======>......................] - ETA: 2:48"
     ]
    },
    {
     "name": "stderr",
     "output_type": "stream",
     "text": [
      "939it [01:03, 15.23it/s]"
     ]
    },
    {
     "name": "stdout",
     "output_type": "stream",
     "text": [
      " 940/3426 [=======>......................] - ETA: 2:48"
     ]
    },
    {
     "name": "stderr",
     "output_type": "stream",
     "text": [
      "941it [01:03, 14.92it/s]"
     ]
    },
    {
     "name": "stdout",
     "output_type": "stream",
     "text": [
      " 942/3426 [=======>......................] - ETA: 2:48"
     ]
    },
    {
     "name": "stderr",
     "output_type": "stream",
     "text": [
      "943it [01:03, 13.63it/s]"
     ]
    },
    {
     "name": "stdout",
     "output_type": "stream",
     "text": [
      " 944/3426 [=======>......................] - ETA: 2:47"
     ]
    },
    {
     "name": "stderr",
     "output_type": "stream",
     "text": [
      "945it [01:03, 13.69it/s]"
     ]
    },
    {
     "name": "stdout",
     "output_type": "stream",
     "text": [
      " 946/3426 [=======>......................] - ETA: 2:47"
     ]
    },
    {
     "name": "stderr",
     "output_type": "stream",
     "text": [
      "947it [01:04, 14.07it/s]"
     ]
    },
    {
     "name": "stdout",
     "output_type": "stream",
     "text": [
      " 948/3426 [=======>......................] - ETA: 2:47"
     ]
    },
    {
     "name": "stderr",
     "output_type": "stream",
     "text": [
      "949it [01:04, 14.70it/s]"
     ]
    },
    {
     "name": "stdout",
     "output_type": "stream",
     "text": [
      " 950/3426 [=======>......................] - ETA: 2:47"
     ]
    },
    {
     "name": "stderr",
     "output_type": "stream",
     "text": [
      "951it [01:04, 15.39it/s]"
     ]
    },
    {
     "name": "stdout",
     "output_type": "stream",
     "text": [
      " 952/3426 [=======>......................] - ETA: 2:47"
     ]
    },
    {
     "name": "stderr",
     "output_type": "stream",
     "text": [
      "953it [01:04, 14.48it/s]"
     ]
    },
    {
     "name": "stdout",
     "output_type": "stream",
     "text": [
      " 954/3426 [=======>......................] - ETA: 2:47"
     ]
    },
    {
     "name": "stderr",
     "output_type": "stream",
     "text": [
      "955it [01:04, 15.14it/s]"
     ]
    },
    {
     "name": "stdout",
     "output_type": "stream",
     "text": [
      " 956/3426 [=======>......................] - ETA: 2:47"
     ]
    },
    {
     "name": "stderr",
     "output_type": "stream",
     "text": [
      "957it [01:04, 14.39it/s]"
     ]
    },
    {
     "name": "stdout",
     "output_type": "stream",
     "text": [
      " 958/3426 [=======>......................] - ETA: 2:46"
     ]
    },
    {
     "name": "stderr",
     "output_type": "stream",
     "text": [
      "959it [01:04, 15.07it/s]"
     ]
    },
    {
     "name": "stdout",
     "output_type": "stream",
     "text": [
      " 960/3426 [=======>......................] - ETA: 2:46"
     ]
    },
    {
     "name": "stderr",
     "output_type": "stream",
     "text": [
      "961it [01:04, 13.69it/s]"
     ]
    },
    {
     "name": "stdout",
     "output_type": "stream",
     "text": [
      " 962/3426 [=======>......................] - ETA: 2:46"
     ]
    },
    {
     "name": "stderr",
     "output_type": "stream",
     "text": [
      "963it [01:05, 14.11it/s]"
     ]
    },
    {
     "name": "stdout",
     "output_type": "stream",
     "text": [
      " 964/3426 [=======>......................] - ETA: 2:46"
     ]
    },
    {
     "name": "stderr",
     "output_type": "stream",
     "text": [
      "965it [01:05, 13.84it/s]"
     ]
    },
    {
     "name": "stdout",
     "output_type": "stream",
     "text": [
      " 966/3426 [=======>......................] - ETA: 2:46"
     ]
    },
    {
     "name": "stderr",
     "output_type": "stream",
     "text": [
      "967it [01:05, 14.59it/s]"
     ]
    },
    {
     "name": "stdout",
     "output_type": "stream",
     "text": [
      " 968/3426 [=======>......................] - ETA: 2:46"
     ]
    },
    {
     "name": "stderr",
     "output_type": "stream",
     "text": [
      "969it [01:05, 15.23it/s]"
     ]
    },
    {
     "name": "stdout",
     "output_type": "stream",
     "text": [
      " 970/3426 [=======>......................] - ETA: 2:46"
     ]
    },
    {
     "name": "stderr",
     "output_type": "stream",
     "text": [
      "971it [01:05, 15.45it/s]"
     ]
    },
    {
     "name": "stdout",
     "output_type": "stream",
     "text": [
      " 972/3426 [=======>......................] - ETA: 2:45"
     ]
    },
    {
     "name": "stderr",
     "output_type": "stream",
     "text": [
      "973it [01:05, 16.07it/s]"
     ]
    },
    {
     "name": "stdout",
     "output_type": "stream",
     "text": [
      " 974/3426 [=======>......................] - ETA: 2:46"
     ]
    },
    {
     "name": "stderr",
     "output_type": "stream",
     "text": [
      "975it [01:05, 12.91it/s]"
     ]
    },
    {
     "name": "stdout",
     "output_type": "stream",
     "text": [
      " 976/3426 [=======>......................] - ETA: 2:45"
     ]
    },
    {
     "name": "stderr",
     "output_type": "stream",
     "text": [
      "977it [01:06, 13.80it/s]"
     ]
    },
    {
     "name": "stdout",
     "output_type": "stream",
     "text": [
      " 978/3426 [=======>......................] - ETA: 2:45"
     ]
    },
    {
     "name": "stderr",
     "output_type": "stream",
     "text": [
      "979it [01:06, 14.07it/s]"
     ]
    },
    {
     "name": "stdout",
     "output_type": "stream",
     "text": [
      " 980/3426 [=======>......................] - ETA: 2:46"
     ]
    },
    {
     "name": "stderr",
     "output_type": "stream",
     "text": [
      "981it [01:06, 10.08it/s]"
     ]
    },
    {
     "name": "stdout",
     "output_type": "stream",
     "text": [
      " 982/3426 [=======>......................] - ETA: 2:46"
     ]
    },
    {
     "name": "stderr",
     "output_type": "stream",
     "text": [
      "983it [01:06,  8.63it/s]"
     ]
    },
    {
     "name": "stdout",
     "output_type": "stream",
     "text": [
      " 984/3426 [=======>......................] - ETA: 2:46"
     ]
    },
    {
     "name": "stderr",
     "output_type": "stream",
     "text": [
      "985it [01:06, 10.00it/s]"
     ]
    },
    {
     "name": "stdout",
     "output_type": "stream",
     "text": [
      " 986/3426 [=======>......................] - ETA: 2:46"
     ]
    },
    {
     "name": "stderr",
     "output_type": "stream",
     "text": [
      "987it [01:07, 11.32it/s]"
     ]
    },
    {
     "name": "stdout",
     "output_type": "stream",
     "text": [
      " 988/3426 [=======>......................] - ETA: 2:45"
     ]
    },
    {
     "name": "stderr",
     "output_type": "stream",
     "text": [
      "989it [01:07, 12.74it/s]"
     ]
    },
    {
     "name": "stdout",
     "output_type": "stream",
     "text": [
      " 990/3426 [=======>......................] - ETA: 2:45"
     ]
    },
    {
     "name": "stderr",
     "output_type": "stream",
     "text": [
      "991it [01:07, 13.22it/s]"
     ]
    },
    {
     "name": "stdout",
     "output_type": "stream",
     "text": [
      " 992/3426 [=======>......................] - ETA: 2:45"
     ]
    },
    {
     "name": "stderr",
     "output_type": "stream",
     "text": [
      "993it [01:07, 14.01it/s]"
     ]
    },
    {
     "name": "stdout",
     "output_type": "stream",
     "text": [
      " 994/3426 [=======>......................] - ETA: 2:45"
     ]
    },
    {
     "name": "stderr",
     "output_type": "stream",
     "text": [
      "995it [01:07, 14.78it/s]"
     ]
    },
    {
     "name": "stdout",
     "output_type": "stream",
     "text": [
      " 996/3426 [=======>......................] - ETA: 2:45"
     ]
    },
    {
     "name": "stderr",
     "output_type": "stream",
     "text": [
      "997it [01:07, 14.89it/s]"
     ]
    },
    {
     "name": "stdout",
     "output_type": "stream",
     "text": [
      " 998/3426 [=======>......................] - ETA: 2:45"
     ]
    },
    {
     "name": "stderr",
     "output_type": "stream",
     "text": [
      "999it [01:07, 15.44it/s]"
     ]
    },
    {
     "name": "stdout",
     "output_type": "stream",
     "text": [
      "1000/3426 [=======>......................] - ETA: 2:44"
     ]
    },
    {
     "name": "stderr",
     "output_type": "stream",
     "text": [
      "1001it [01:07, 14.63it/s]"
     ]
    },
    {
     "name": "stdout",
     "output_type": "stream",
     "text": [
      "1002/3426 [=======>......................] - ETA: 2:44"
     ]
    },
    {
     "name": "stderr",
     "output_type": "stream",
     "text": [
      "1003it [01:08, 15.34it/s]"
     ]
    },
    {
     "name": "stdout",
     "output_type": "stream",
     "text": [
      "1004/3426 [=======>......................] - ETA: 2:44"
     ]
    },
    {
     "name": "stderr",
     "output_type": "stream",
     "text": [
      "1005it [01:08, 15.55it/s]"
     ]
    },
    {
     "name": "stdout",
     "output_type": "stream",
     "text": [
      "1006/3426 [=======>......................] - ETA: 2:44"
     ]
    },
    {
     "name": "stderr",
     "output_type": "stream",
     "text": [
      "1007it [01:08, 15.86it/s]"
     ]
    },
    {
     "name": "stdout",
     "output_type": "stream",
     "text": [
      "1008/3426 [=======>......................] - ETA: 2:44"
     ]
    },
    {
     "name": "stderr",
     "output_type": "stream",
     "text": [
      "1009it [01:08, 15.69it/s]"
     ]
    },
    {
     "name": "stdout",
     "output_type": "stream",
     "text": [
      "1010/3426 [=======>......................] - ETA: 2:44"
     ]
    },
    {
     "name": "stderr",
     "output_type": "stream",
     "text": [
      "1011it [01:08, 15.88it/s]"
     ]
    },
    {
     "name": "stdout",
     "output_type": "stream",
     "text": [
      "1012/3426 [=======>......................] - ETA: 2:43"
     ]
    },
    {
     "name": "stderr",
     "output_type": "stream",
     "text": [
      "1013it [01:08, 15.84it/s]"
     ]
    },
    {
     "name": "stdout",
     "output_type": "stream",
     "text": [
      "1014/3426 [=======>......................] - ETA: 2:43"
     ]
    },
    {
     "name": "stderr",
     "output_type": "stream",
     "text": [
      "1015it [01:08, 13.70it/s]"
     ]
    },
    {
     "name": "stdout",
     "output_type": "stream",
     "text": [
      "1016/3426 [=======>......................] - ETA: 2:43"
     ]
    },
    {
     "name": "stderr",
     "output_type": "stream",
     "text": [
      "1017it [01:09, 13.62it/s]"
     ]
    },
    {
     "name": "stdout",
     "output_type": "stream",
     "text": [
      "1018/3426 [=======>......................] - ETA: 2:43"
     ]
    },
    {
     "name": "stderr",
     "output_type": "stream",
     "text": [
      "1019it [01:09, 13.50it/s]"
     ]
    },
    {
     "name": "stdout",
     "output_type": "stream",
     "text": [
      "1020/3426 [=======>......................] - ETA: 2:43"
     ]
    },
    {
     "name": "stderr",
     "output_type": "stream",
     "text": [
      "1021it [01:09, 13.74it/s]"
     ]
    },
    {
     "name": "stdout",
     "output_type": "stream",
     "text": [
      "1022/3426 [=======>......................] - ETA: 2:43"
     ]
    },
    {
     "name": "stderr",
     "output_type": "stream",
     "text": [
      "1023it [01:09, 13.87it/s]"
     ]
    },
    {
     "name": "stdout",
     "output_type": "stream",
     "text": [
      "1024/3426 [=======>......................] - ETA: 2:43"
     ]
    },
    {
     "name": "stderr",
     "output_type": "stream",
     "text": [
      "1025it [01:09, 14.67it/s]"
     ]
    },
    {
     "name": "stdout",
     "output_type": "stream",
     "text": [
      "1026/3426 [=======>......................] - ETA: 2:43"
     ]
    },
    {
     "name": "stderr",
     "output_type": "stream",
     "text": [
      "1027it [01:09, 14.40it/s]"
     ]
    },
    {
     "name": "stdout",
     "output_type": "stream",
     "text": [
      "1028/3426 [========>.....................] - ETA: 2:43"
     ]
    },
    {
     "name": "stderr",
     "output_type": "stream",
     "text": [
      "1029it [01:09, 14.46it/s]"
     ]
    },
    {
     "name": "stdout",
     "output_type": "stream",
     "text": [
      "1030/3426 [========>.....................] - ETA: 2:42"
     ]
    },
    {
     "name": "stderr",
     "output_type": "stream",
     "text": [
      "1031it [01:10, 14.72it/s]"
     ]
    },
    {
     "name": "stdout",
     "output_type": "stream",
     "text": [
      "1032/3426 [========>.....................] - ETA: 2:42"
     ]
    },
    {
     "name": "stderr",
     "output_type": "stream",
     "text": [
      "1033it [01:10, 14.37it/s]"
     ]
    },
    {
     "name": "stdout",
     "output_type": "stream",
     "text": [
      "1034/3426 [========>.....................] - ETA: 2:42"
     ]
    },
    {
     "name": "stderr",
     "output_type": "stream",
     "text": [
      "1035it [01:10, 14.61it/s]"
     ]
    },
    {
     "name": "stdout",
     "output_type": "stream",
     "text": [
      "1036/3426 [========>.....................] - ETA: 2:42"
     ]
    },
    {
     "name": "stderr",
     "output_type": "stream",
     "text": [
      "1037it [01:10, 14.08it/s]"
     ]
    },
    {
     "name": "stdout",
     "output_type": "stream",
     "text": [
      "1038/3426 [========>.....................] - ETA: 2:42"
     ]
    },
    {
     "name": "stderr",
     "output_type": "stream",
     "text": [
      "1039it [01:10, 14.54it/s]"
     ]
    },
    {
     "name": "stdout",
     "output_type": "stream",
     "text": [
      "1040/3426 [========>.....................] - ETA: 2:42"
     ]
    },
    {
     "name": "stderr",
     "output_type": "stream",
     "text": [
      "1041it [01:10, 14.98it/s]"
     ]
    },
    {
     "name": "stdout",
     "output_type": "stream",
     "text": [
      "1042/3426 [========>.....................] - ETA: 2:42"
     ]
    },
    {
     "name": "stderr",
     "output_type": "stream",
     "text": [
      "1043it [01:10, 15.07it/s]"
     ]
    },
    {
     "name": "stdout",
     "output_type": "stream",
     "text": [
      "1044/3426 [========>.....................] - ETA: 2:41"
     ]
    },
    {
     "name": "stderr",
     "output_type": "stream",
     "text": [
      "1045it [01:10, 15.17it/s]"
     ]
    },
    {
     "name": "stdout",
     "output_type": "stream",
     "text": [
      "1046/3426 [========>.....................] - ETA: 2:41"
     ]
    },
    {
     "name": "stderr",
     "output_type": "stream",
     "text": [
      "1047it [01:11, 15.38it/s]"
     ]
    },
    {
     "name": "stdout",
     "output_type": "stream",
     "text": [
      "1048/3426 [========>.....................] - ETA: 2:41"
     ]
    },
    {
     "name": "stderr",
     "output_type": "stream",
     "text": [
      "1049it [01:11, 15.75it/s]"
     ]
    },
    {
     "name": "stdout",
     "output_type": "stream",
     "text": [
      "1050/3426 [========>.....................] - ETA: 2:41"
     ]
    },
    {
     "name": "stderr",
     "output_type": "stream",
     "text": [
      "1051it [01:11, 15.81it/s]"
     ]
    },
    {
     "name": "stdout",
     "output_type": "stream",
     "text": [
      "1052/3426 [========>.....................] - ETA: 2:41"
     ]
    },
    {
     "name": "stderr",
     "output_type": "stream",
     "text": [
      "1053it [01:11,  9.31it/s]"
     ]
    },
    {
     "name": "stdout",
     "output_type": "stream",
     "text": [
      "1054/3426 [========>.....................] - ETA: 2:41"
     ]
    },
    {
     "name": "stderr",
     "output_type": "stream",
     "text": [
      "1055it [01:11, 10.81it/s]"
     ]
    },
    {
     "name": "stdout",
     "output_type": "stream",
     "text": [
      "1056/3426 [========>.....................] - ETA: 2:41"
     ]
    },
    {
     "name": "stderr",
     "output_type": "stream",
     "text": [
      "1057it [01:12, 10.63it/s]"
     ]
    },
    {
     "name": "stdout",
     "output_type": "stream",
     "text": [
      "1058/3426 [========>.....................] - ETA: 2:41"
     ]
    },
    {
     "name": "stderr",
     "output_type": "stream",
     "text": [
      "1059it [01:12, 11.95it/s]"
     ]
    },
    {
     "name": "stdout",
     "output_type": "stream",
     "text": [
      "1060/3426 [========>.....................] - ETA: 2:41"
     ]
    },
    {
     "name": "stderr",
     "output_type": "stream",
     "text": [
      "1061it [01:12, 11.25it/s]"
     ]
    },
    {
     "name": "stdout",
     "output_type": "stream",
     "text": [
      "1062/3426 [========>.....................] - ETA: 2:41"
     ]
    },
    {
     "name": "stderr",
     "output_type": "stream",
     "text": [
      "1063it [01:12, 12.21it/s]"
     ]
    },
    {
     "name": "stdout",
     "output_type": "stream",
     "text": [
      "1064/3426 [========>.....................] - ETA: 2:41"
     ]
    },
    {
     "name": "stderr",
     "output_type": "stream",
     "text": [
      "1065it [01:12, 13.42it/s]"
     ]
    },
    {
     "name": "stdout",
     "output_type": "stream",
     "text": [
      "1066/3426 [========>.....................] - ETA: 2:41"
     ]
    },
    {
     "name": "stderr",
     "output_type": "stream",
     "text": [
      "1067it [01:12, 14.31it/s]"
     ]
    },
    {
     "name": "stdout",
     "output_type": "stream",
     "text": [
      "1068/3426 [========>.....................] - ETA: 2:40"
     ]
    },
    {
     "name": "stderr",
     "output_type": "stream",
     "text": [
      "1069it [01:12, 14.97it/s]"
     ]
    },
    {
     "name": "stdout",
     "output_type": "stream",
     "text": [
      "1070/3426 [========>.....................] - ETA: 2:40"
     ]
    },
    {
     "name": "stderr",
     "output_type": "stream",
     "text": [
      "1071it [01:13, 15.10it/s]"
     ]
    },
    {
     "name": "stdout",
     "output_type": "stream",
     "text": [
      "1072/3426 [========>.....................] - ETA: 2:40"
     ]
    },
    {
     "name": "stderr",
     "output_type": "stream",
     "text": [
      "1073it [01:13, 15.75it/s]"
     ]
    },
    {
     "name": "stdout",
     "output_type": "stream",
     "text": [
      "1074/3426 [========>.....................] - ETA: 2:40"
     ]
    },
    {
     "name": "stderr",
     "output_type": "stream",
     "text": [
      "1075it [01:13, 15.83it/s]"
     ]
    },
    {
     "name": "stdout",
     "output_type": "stream",
     "text": [
      "1076/3426 [========>.....................] - ETA: 2:40"
     ]
    },
    {
     "name": "stderr",
     "output_type": "stream",
     "text": [
      "1077it [01:13, 15.04it/s]"
     ]
    },
    {
     "name": "stdout",
     "output_type": "stream",
     "text": [
      "1078/3426 [========>.....................] - ETA: 2:40"
     ]
    },
    {
     "name": "stderr",
     "output_type": "stream",
     "text": [
      "1079it [01:13, 15.00it/s]"
     ]
    },
    {
     "name": "stdout",
     "output_type": "stream",
     "text": [
      "1080/3426 [========>.....................] - ETA: 2:40"
     ]
    },
    {
     "name": "stderr",
     "output_type": "stream",
     "text": [
      "1081it [01:13, 15.19it/s]"
     ]
    },
    {
     "name": "stdout",
     "output_type": "stream",
     "text": [
      "1082/3426 [========>.....................] - ETA: 2:39"
     ]
    },
    {
     "name": "stderr",
     "output_type": "stream",
     "text": [
      "1083it [01:13, 15.08it/s]"
     ]
    },
    {
     "name": "stdout",
     "output_type": "stream",
     "text": [
      "1084/3426 [========>.....................] - ETA: 2:39"
     ]
    },
    {
     "name": "stderr",
     "output_type": "stream",
     "text": [
      "1085it [01:13, 15.25it/s]"
     ]
    },
    {
     "name": "stdout",
     "output_type": "stream",
     "text": [
      "1086/3426 [========>.....................] - ETA: 2:39"
     ]
    },
    {
     "name": "stderr",
     "output_type": "stream",
     "text": [
      "1087it [01:14, 14.01it/s]"
     ]
    },
    {
     "name": "stdout",
     "output_type": "stream",
     "text": [
      "1088/3426 [========>.....................] - ETA: 2:39"
     ]
    },
    {
     "name": "stderr",
     "output_type": "stream",
     "text": [
      "1089it [01:14, 14.80it/s]"
     ]
    },
    {
     "name": "stdout",
     "output_type": "stream",
     "text": [
      "1090/3426 [========>.....................] - ETA: 2:39"
     ]
    },
    {
     "name": "stderr",
     "output_type": "stream",
     "text": [
      "1091it [01:14, 15.24it/s]"
     ]
    },
    {
     "name": "stdout",
     "output_type": "stream",
     "text": [
      "1092/3426 [========>.....................] - ETA: 2:39"
     ]
    },
    {
     "name": "stderr",
     "output_type": "stream",
     "text": [
      "1093it [01:14, 14.51it/s]"
     ]
    },
    {
     "name": "stdout",
     "output_type": "stream",
     "text": [
      "1094/3426 [========>.....................] - ETA: 2:39"
     ]
    },
    {
     "name": "stderr",
     "output_type": "stream",
     "text": [
      "1095it [01:14, 15.20it/s]"
     ]
    },
    {
     "name": "stdout",
     "output_type": "stream",
     "text": [
      "1096/3426 [========>.....................] - ETA: 2:38"
     ]
    },
    {
     "name": "stderr",
     "output_type": "stream",
     "text": [
      "1097it [01:14, 15.61it/s]"
     ]
    },
    {
     "name": "stdout",
     "output_type": "stream",
     "text": [
      "1098/3426 [========>.....................] - ETA: 2:38"
     ]
    },
    {
     "name": "stderr",
     "output_type": "stream",
     "text": [
      "1099it [01:14, 15.25it/s]"
     ]
    },
    {
     "name": "stdout",
     "output_type": "stream",
     "text": [
      "1100/3426 [========>.....................] - ETA: 2:39"
     ]
    },
    {
     "name": "stderr",
     "output_type": "stream",
     "text": [
      "1101it [01:15, 10.42it/s]"
     ]
    },
    {
     "name": "stdout",
     "output_type": "stream",
     "text": [
      "1102/3426 [========>.....................] - ETA: 2:38"
     ]
    },
    {
     "name": "stderr",
     "output_type": "stream",
     "text": [
      "1103it [01:15, 11.68it/s]"
     ]
    },
    {
     "name": "stdout",
     "output_type": "stream",
     "text": [
      "1104/3426 [========>.....................] - ETA: 2:38"
     ]
    },
    {
     "name": "stderr",
     "output_type": "stream",
     "text": [
      "1105it [01:15, 11.69it/s]"
     ]
    },
    {
     "name": "stdout",
     "output_type": "stream",
     "text": [
      "1106/3426 [========>.....................] - ETA: 2:38"
     ]
    },
    {
     "name": "stderr",
     "output_type": "stream",
     "text": [
      "1107it [01:15, 12.74it/s]"
     ]
    },
    {
     "name": "stdout",
     "output_type": "stream",
     "text": [
      "1108/3426 [========>.....................] - ETA: 2:38"
     ]
    },
    {
     "name": "stderr",
     "output_type": "stream",
     "text": [
      "1109it [01:15, 14.22it/s]"
     ]
    },
    {
     "name": "stdout",
     "output_type": "stream",
     "text": [
      "1110/3426 [========>.....................] - ETA: 2:38"
     ]
    },
    {
     "name": "stderr",
     "output_type": "stream",
     "text": [
      "1111it [01:15, 14.93it/s]"
     ]
    },
    {
     "name": "stdout",
     "output_type": "stream",
     "text": [
      "1112/3426 [========>.....................] - ETA: 2:38"
     ]
    },
    {
     "name": "stderr",
     "output_type": "stream",
     "text": [
      "1113it [01:15, 15.43it/s]"
     ]
    },
    {
     "name": "stdout",
     "output_type": "stream",
     "text": [
      "1114/3426 [========>.....................] - ETA: 2:37"
     ]
    },
    {
     "name": "stderr",
     "output_type": "stream",
     "text": [
      "1115it [01:16, 15.34it/s]"
     ]
    },
    {
     "name": "stdout",
     "output_type": "stream",
     "text": [
      "1116/3426 [========>.....................] - ETA: 2:37"
     ]
    },
    {
     "name": "stderr",
     "output_type": "stream",
     "text": [
      "1117it [01:16, 15.50it/s]"
     ]
    },
    {
     "name": "stdout",
     "output_type": "stream",
     "text": [
      "1118/3426 [========>.....................] - ETA: 2:37"
     ]
    },
    {
     "name": "stderr",
     "output_type": "stream",
     "text": [
      "1119it [01:16, 16.19it/s]"
     ]
    },
    {
     "name": "stdout",
     "output_type": "stream",
     "text": [
      "1120/3426 [========>.....................] - ETA: 2:37"
     ]
    },
    {
     "name": "stderr",
     "output_type": "stream",
     "text": [
      "1121it [01:16, 16.45it/s]"
     ]
    },
    {
     "name": "stdout",
     "output_type": "stream",
     "text": [
      "1122/3426 [========>.....................] - ETA: 2:37"
     ]
    },
    {
     "name": "stderr",
     "output_type": "stream",
     "text": [
      "1123it [01:16, 16.47it/s]"
     ]
    },
    {
     "name": "stdout",
     "output_type": "stream",
     "text": [
      "1124/3426 [========>.....................] - ETA: 2:37"
     ]
    },
    {
     "name": "stderr",
     "output_type": "stream",
     "text": [
      "1125it [01:16, 16.12it/s]"
     ]
    },
    {
     "name": "stdout",
     "output_type": "stream",
     "text": [
      "1126/3426 [========>.....................] - ETA: 2:37"
     ]
    },
    {
     "name": "stderr",
     "output_type": "stream",
     "text": [
      "1127it [01:16, 14.28it/s]"
     ]
    },
    {
     "name": "stdout",
     "output_type": "stream",
     "text": [
      "1128/3426 [========>.....................] - ETA: 2:37"
     ]
    },
    {
     "name": "stderr",
     "output_type": "stream",
     "text": [
      "1129it [01:17, 11.29it/s]"
     ]
    },
    {
     "name": "stdout",
     "output_type": "stream",
     "text": [
      "1130/3426 [========>.....................] - ETA: 2:36"
     ]
    },
    {
     "name": "stderr",
     "output_type": "stream",
     "text": [
      "1131it [01:17, 12.31it/s]"
     ]
    },
    {
     "name": "stdout",
     "output_type": "stream",
     "text": [
      "1132/3426 [========>.....................] - ETA: 2:36"
     ]
    },
    {
     "name": "stderr",
     "output_type": "stream",
     "text": [
      "1133it [01:17, 13.27it/s]"
     ]
    },
    {
     "name": "stdout",
     "output_type": "stream",
     "text": [
      "1134/3426 [========>.....................] - ETA: 2:36"
     ]
    },
    {
     "name": "stderr",
     "output_type": "stream",
     "text": [
      "1135it [01:17, 14.30it/s]"
     ]
    },
    {
     "name": "stdout",
     "output_type": "stream",
     "text": [
      "1136/3426 [========>.....................] - ETA: 2:36"
     ]
    },
    {
     "name": "stderr",
     "output_type": "stream",
     "text": [
      "1137it [01:17, 14.86it/s]"
     ]
    },
    {
     "name": "stdout",
     "output_type": "stream",
     "text": [
      "1138/3426 [========>.....................] - ETA: 2:36"
     ]
    },
    {
     "name": "stderr",
     "output_type": "stream",
     "text": [
      "1139it [01:17, 15.37it/s]"
     ]
    },
    {
     "name": "stdout",
     "output_type": "stream",
     "text": [
      "1140/3426 [========>.....................] - ETA: 2:36"
     ]
    },
    {
     "name": "stderr",
     "output_type": "stream",
     "text": [
      "1141it [01:17, 15.73it/s]"
     ]
    },
    {
     "name": "stdout",
     "output_type": "stream",
     "text": [
      "1142/3426 [=========>....................] - ETA: 2:35"
     ]
    },
    {
     "name": "stderr",
     "output_type": "stream",
     "text": [
      "1143it [01:17, 15.68it/s]"
     ]
    },
    {
     "name": "stdout",
     "output_type": "stream",
     "text": [
      "1144/3426 [=========>....................] - ETA: 2:35"
     ]
    },
    {
     "name": "stderr",
     "output_type": "stream",
     "text": [
      "1145it [01:18, 14.21it/s]"
     ]
    },
    {
     "name": "stdout",
     "output_type": "stream",
     "text": [
      "1146/3426 [=========>....................] - ETA: 2:35"
     ]
    },
    {
     "name": "stderr",
     "output_type": "stream",
     "text": [
      "1147it [01:18, 14.57it/s]"
     ]
    },
    {
     "name": "stdout",
     "output_type": "stream",
     "text": [
      "1148/3426 [=========>....................] - ETA: 2:35"
     ]
    },
    {
     "name": "stderr",
     "output_type": "stream",
     "text": [
      "1149it [01:18, 15.09it/s]"
     ]
    },
    {
     "name": "stdout",
     "output_type": "stream",
     "text": [
      "1150/3426 [=========>....................] - ETA: 2:35"
     ]
    },
    {
     "name": "stderr",
     "output_type": "stream",
     "text": [
      "1151it [01:18, 13.91it/s]"
     ]
    },
    {
     "name": "stdout",
     "output_type": "stream",
     "text": [
      "1152/3426 [=========>....................] - ETA: 2:35"
     ]
    },
    {
     "name": "stderr",
     "output_type": "stream",
     "text": [
      "1153it [01:18, 14.24it/s]"
     ]
    },
    {
     "name": "stdout",
     "output_type": "stream",
     "text": [
      "1154/3426 [=========>....................] - ETA: 2:35"
     ]
    },
    {
     "name": "stderr",
     "output_type": "stream",
     "text": [
      "1155it [01:18, 15.55it/s]"
     ]
    },
    {
     "name": "stdout",
     "output_type": "stream",
     "text": [
      "1156/3426 [=========>....................] - ETA: 2:35"
     ]
    },
    {
     "name": "stderr",
     "output_type": "stream",
     "text": [
      "1157it [01:18, 15.36it/s]"
     ]
    },
    {
     "name": "stdout",
     "output_type": "stream",
     "text": [
      "1158/3426 [=========>....................] - ETA: 2:34"
     ]
    },
    {
     "name": "stderr",
     "output_type": "stream",
     "text": [
      "1159it [01:19, 15.53it/s]"
     ]
    },
    {
     "name": "stdout",
     "output_type": "stream",
     "text": [
      "1160/3426 [=========>....................] - ETA: 2:34"
     ]
    },
    {
     "name": "stderr",
     "output_type": "stream",
     "text": [
      "1161it [01:19, 15.17it/s]"
     ]
    },
    {
     "name": "stdout",
     "output_type": "stream",
     "text": [
      "1162/3426 [=========>....................] - ETA: 2:34"
     ]
    },
    {
     "name": "stderr",
     "output_type": "stream",
     "text": [
      "1163it [01:19, 15.01it/s]"
     ]
    },
    {
     "name": "stdout",
     "output_type": "stream",
     "text": [
      "1164/3426 [=========>....................] - ETA: 2:34"
     ]
    },
    {
     "name": "stderr",
     "output_type": "stream",
     "text": [
      "1165it [01:19, 15.30it/s]"
     ]
    },
    {
     "name": "stdout",
     "output_type": "stream",
     "text": [
      "1166/3426 [=========>....................] - ETA: 2:34"
     ]
    },
    {
     "name": "stderr",
     "output_type": "stream",
     "text": [
      "1167it [01:19, 15.82it/s]"
     ]
    },
    {
     "name": "stdout",
     "output_type": "stream",
     "text": [
      "1168/3426 [=========>....................] - ETA: 2:34"
     ]
    },
    {
     "name": "stderr",
     "output_type": "stream",
     "text": [
      "1169it [01:19, 15.50it/s]"
     ]
    },
    {
     "name": "stdout",
     "output_type": "stream",
     "text": [
      "1170/3426 [=========>....................] - ETA: 2:34"
     ]
    },
    {
     "name": "stderr",
     "output_type": "stream",
     "text": [
      "1171it [01:19, 14.63it/s]"
     ]
    },
    {
     "name": "stdout",
     "output_type": "stream",
     "text": [
      "1172/3426 [=========>....................] - ETA: 2:33"
     ]
    },
    {
     "name": "stderr",
     "output_type": "stream",
     "text": [
      "1173it [01:20, 14.87it/s]"
     ]
    },
    {
     "name": "stdout",
     "output_type": "stream",
     "text": [
      "1174/3426 [=========>....................] - ETA: 2:33"
     ]
    },
    {
     "name": "stderr",
     "output_type": "stream",
     "text": [
      "1175it [01:20, 14.80it/s]"
     ]
    },
    {
     "name": "stdout",
     "output_type": "stream",
     "text": [
      "1176/3426 [=========>....................] - ETA: 2:33"
     ]
    },
    {
     "name": "stderr",
     "output_type": "stream",
     "text": [
      "1177it [01:20, 15.00it/s]"
     ]
    },
    {
     "name": "stdout",
     "output_type": "stream",
     "text": [
      "1178/3426 [=========>....................] - ETA: 2:33"
     ]
    },
    {
     "name": "stderr",
     "output_type": "stream",
     "text": [
      "1179it [01:20, 15.59it/s]"
     ]
    },
    {
     "name": "stdout",
     "output_type": "stream",
     "text": [
      "1180/3426 [=========>....................] - ETA: 2:33"
     ]
    },
    {
     "name": "stderr",
     "output_type": "stream",
     "text": [
      "1181it [01:20, 16.31it/s]"
     ]
    },
    {
     "name": "stdout",
     "output_type": "stream",
     "text": [
      "1182/3426 [=========>....................] - ETA: 2:33"
     ]
    },
    {
     "name": "stderr",
     "output_type": "stream",
     "text": [
      "1183it [01:20, 16.50it/s]"
     ]
    },
    {
     "name": "stdout",
     "output_type": "stream",
     "text": [
      "1184/3426 [=========>....................] - ETA: 2:32"
     ]
    },
    {
     "name": "stderr",
     "output_type": "stream",
     "text": [
      "1185it [01:20, 16.37it/s]"
     ]
    },
    {
     "name": "stdout",
     "output_type": "stream",
     "text": [
      "1186/3426 [=========>....................] - ETA: 2:32"
     ]
    },
    {
     "name": "stderr",
     "output_type": "stream",
     "text": [
      "1187it [01:20, 16.24it/s]"
     ]
    },
    {
     "name": "stdout",
     "output_type": "stream",
     "text": [
      "1188/3426 [=========>....................] - ETA: 2:32"
     ]
    },
    {
     "name": "stderr",
     "output_type": "stream",
     "text": [
      "1189it [01:20, 16.34it/s]"
     ]
    },
    {
     "name": "stdout",
     "output_type": "stream",
     "text": [
      "1190/3426 [=========>....................] - ETA: 2:32"
     ]
    },
    {
     "name": "stderr",
     "output_type": "stream",
     "text": [
      "1191it [01:21, 16.54it/s]"
     ]
    },
    {
     "name": "stdout",
     "output_type": "stream",
     "text": [
      "1192/3426 [=========>....................] - ETA: 2:32"
     ]
    },
    {
     "name": "stderr",
     "output_type": "stream",
     "text": [
      "1193it [01:21, 14.17it/s]"
     ]
    },
    {
     "name": "stdout",
     "output_type": "stream",
     "text": [
      "1194/3426 [=========>....................] - ETA: 2:32"
     ]
    },
    {
     "name": "stderr",
     "output_type": "stream",
     "text": [
      "1195it [01:21, 14.67it/s]"
     ]
    },
    {
     "name": "stdout",
     "output_type": "stream",
     "text": [
      "1196/3426 [=========>....................] - ETA: 2:32"
     ]
    },
    {
     "name": "stderr",
     "output_type": "stream",
     "text": [
      "1197it [01:21, 15.32it/s]"
     ]
    },
    {
     "name": "stdout",
     "output_type": "stream",
     "text": [
      "1198/3426 [=========>....................] - ETA: 2:31"
     ]
    },
    {
     "name": "stderr",
     "output_type": "stream",
     "text": [
      "1199it [01:21, 15.67it/s]"
     ]
    },
    {
     "name": "stdout",
     "output_type": "stream",
     "text": [
      "1200/3426 [=========>....................] - ETA: 2:31"
     ]
    },
    {
     "name": "stderr",
     "output_type": "stream",
     "text": [
      "1201it [01:21, 15.22it/s]"
     ]
    },
    {
     "name": "stdout",
     "output_type": "stream",
     "text": [
      "1202/3426 [=========>....................] - ETA: 2:31"
     ]
    },
    {
     "name": "stderr",
     "output_type": "stream",
     "text": [
      "1203it [01:21, 15.62it/s]"
     ]
    },
    {
     "name": "stdout",
     "output_type": "stream",
     "text": [
      "1204/3426 [=========>....................] - ETA: 2:31"
     ]
    },
    {
     "name": "stderr",
     "output_type": "stream",
     "text": [
      "1205it [01:22, 16.07it/s]"
     ]
    },
    {
     "name": "stdout",
     "output_type": "stream",
     "text": [
      "1206/3426 [=========>....................] - ETA: 2:31"
     ]
    },
    {
     "name": "stderr",
     "output_type": "stream",
     "text": [
      "1207it [01:22, 15.79it/s]"
     ]
    },
    {
     "name": "stdout",
     "output_type": "stream",
     "text": [
      "1208/3426 [=========>....................] - ETA: 2:31"
     ]
    },
    {
     "name": "stderr",
     "output_type": "stream",
     "text": [
      "1209it [01:22, 15.70it/s]"
     ]
    },
    {
     "name": "stdout",
     "output_type": "stream",
     "text": [
      "1210/3426 [=========>....................] - ETA: 2:30"
     ]
    },
    {
     "name": "stderr",
     "output_type": "stream",
     "text": [
      "1211it [01:22, 15.85it/s]"
     ]
    },
    {
     "name": "stdout",
     "output_type": "stream",
     "text": [
      "1212/3426 [=========>....................] - ETA: 2:30"
     ]
    },
    {
     "name": "stderr",
     "output_type": "stream",
     "text": [
      "1213it [01:22, 16.74it/s]"
     ]
    },
    {
     "name": "stdout",
     "output_type": "stream",
     "text": [
      "1214/3426 [=========>....................] - ETA: 2:30"
     ]
    },
    {
     "name": "stderr",
     "output_type": "stream",
     "text": [
      "1215it [01:22, 16.69it/s]"
     ]
    },
    {
     "name": "stdout",
     "output_type": "stream",
     "text": [
      "1216/3426 [=========>....................] - ETA: 2:30"
     ]
    },
    {
     "name": "stderr",
     "output_type": "stream",
     "text": [
      "1217it [01:22, 17.17it/s]"
     ]
    },
    {
     "name": "stdout",
     "output_type": "stream",
     "text": [
      "1218/3426 [=========>....................] - ETA: 2:30"
     ]
    },
    {
     "name": "stderr",
     "output_type": "stream",
     "text": [
      "1219it [01:22, 17.02it/s]"
     ]
    },
    {
     "name": "stdout",
     "output_type": "stream",
     "text": [
      "1220/3426 [=========>....................] - ETA: 2:30"
     ]
    },
    {
     "name": "stderr",
     "output_type": "stream",
     "text": [
      "1221it [01:22, 17.61it/s]"
     ]
    },
    {
     "name": "stdout",
     "output_type": "stream",
     "text": [
      "1222/3426 [=========>....................] - ETA: 2:29"
     ]
    },
    {
     "name": "stderr",
     "output_type": "stream",
     "text": [
      "1223it [01:23, 17.54it/s]"
     ]
    },
    {
     "name": "stdout",
     "output_type": "stream",
     "text": [
      "1224/3426 [=========>....................] - ETA: 2:29"
     ]
    },
    {
     "name": "stderr",
     "output_type": "stream",
     "text": [
      "1225it [01:23, 17.72it/s]"
     ]
    },
    {
     "name": "stdout",
     "output_type": "stream",
     "text": [
      "1226/3426 [=========>....................] - ETA: 2:29"
     ]
    },
    {
     "name": "stderr",
     "output_type": "stream",
     "text": [
      "1227it [01:23, 17.30it/s]"
     ]
    },
    {
     "name": "stdout",
     "output_type": "stream",
     "text": [
      "1228/3426 [=========>....................] - ETA: 2:29"
     ]
    },
    {
     "name": "stderr",
     "output_type": "stream",
     "text": [
      "1229it [01:23, 16.57it/s]"
     ]
    },
    {
     "name": "stdout",
     "output_type": "stream",
     "text": [
      "1230/3426 [=========>....................] - ETA: 2:29"
     ]
    },
    {
     "name": "stderr",
     "output_type": "stream",
     "text": [
      "1231it [01:23, 16.02it/s]"
     ]
    },
    {
     "name": "stdout",
     "output_type": "stream",
     "text": [
      "1232/3426 [=========>....................] - ETA: 2:29"
     ]
    },
    {
     "name": "stderr",
     "output_type": "stream",
     "text": [
      "1233it [01:23, 16.24it/s]"
     ]
    },
    {
     "name": "stdout",
     "output_type": "stream",
     "text": [
      "1234/3426 [=========>....................] - ETA: 2:28"
     ]
    },
    {
     "name": "stderr",
     "output_type": "stream",
     "text": [
      "1235it [01:23, 16.30it/s]"
     ]
    },
    {
     "name": "stdout",
     "output_type": "stream",
     "text": [
      "1236/3426 [=========>....................] - ETA: 2:28"
     ]
    },
    {
     "name": "stderr",
     "output_type": "stream",
     "text": [
      "1237it [01:23, 17.00it/s]"
     ]
    },
    {
     "name": "stdout",
     "output_type": "stream",
     "text": [
      "1238/3426 [=========>....................] - ETA: 2:28"
     ]
    },
    {
     "name": "stderr",
     "output_type": "stream",
     "text": [
      "1239it [01:24, 16.46it/s]"
     ]
    },
    {
     "name": "stdout",
     "output_type": "stream",
     "text": [
      "1240/3426 [=========>....................] - ETA: 2:28"
     ]
    },
    {
     "name": "stderr",
     "output_type": "stream",
     "text": [
      "1241it [01:24, 16.51it/s]"
     ]
    },
    {
     "name": "stdout",
     "output_type": "stream",
     "text": [
      "1241/3426 [=========>....................] - ETA: 2:28"
     ]
    },
    {
     "name": "stderr",
     "output_type": "stream",
     "text": [
      "1243it [01:24, 14.75it/s]"
     ]
    },
    {
     "name": "stdout",
     "output_type": "stream",
     "text": [
      "1243/3426 [=========>....................] - ETA: 2:28"
     ]
    },
    {
     "name": "stderr",
     "output_type": "stream",
     "text": [
      "1245it [01:24, 15.70it/s]"
     ]
    },
    {
     "name": "stdout",
     "output_type": "stream",
     "text": [
      "1246/3426 [=========>....................] - ETA: 2:27"
     ]
    },
    {
     "name": "stderr",
     "output_type": "stream",
     "text": [
      "1247it [01:24, 16.12it/s]"
     ]
    },
    {
     "name": "stdout",
     "output_type": "stream",
     "text": [
      "1248/3426 [=========>....................] - ETA: 2:27"
     ]
    },
    {
     "name": "stderr",
     "output_type": "stream",
     "text": [
      "1249it [01:24, 16.14it/s]"
     ]
    },
    {
     "name": "stdout",
     "output_type": "stream",
     "text": [
      "1250/3426 [=========>....................] - ETA: 2:27"
     ]
    },
    {
     "name": "stderr",
     "output_type": "stream",
     "text": [
      "1251it [01:24, 16.06it/s]"
     ]
    },
    {
     "name": "stdout",
     "output_type": "stream",
     "text": [
      "1251/3426 [=========>....................] - ETA: 2:27"
     ]
    },
    {
     "name": "stderr",
     "output_type": "stream",
     "text": [
      "1253it [01:24, 16.79it/s]"
     ]
    },
    {
     "name": "stdout",
     "output_type": "stream",
     "text": [
      "1254/3426 [=========>....................] - ETA: 2:27"
     ]
    },
    {
     "name": "stderr",
     "output_type": "stream",
     "text": [
      "1255it [01:25, 16.85it/s]"
     ]
    },
    {
     "name": "stdout",
     "output_type": "stream",
     "text": [
      "1256/3426 [=========>....................] - ETA: 2:27"
     ]
    },
    {
     "name": "stderr",
     "output_type": "stream",
     "text": [
      "1257it [01:25, 16.56it/s]"
     ]
    },
    {
     "name": "stdout",
     "output_type": "stream",
     "text": [
      "1257/3426 [==========>...................] - ETA: 2:27"
     ]
    },
    {
     "name": "stderr",
     "output_type": "stream",
     "text": [
      "1259it [01:25, 17.17it/s]"
     ]
    },
    {
     "name": "stdout",
     "output_type": "stream",
     "text": [
      "1260/3426 [==========>...................] - ETA: 2:26"
     ]
    },
    {
     "name": "stderr",
     "output_type": "stream",
     "text": [
      "1261it [01:25, 17.11it/s]"
     ]
    },
    {
     "name": "stdout",
     "output_type": "stream",
     "text": [
      "1262/3426 [==========>...................] - ETA: 2:26"
     ]
    },
    {
     "name": "stderr",
     "output_type": "stream",
     "text": [
      "1263it [01:25, 16.44it/s]"
     ]
    },
    {
     "name": "stdout",
     "output_type": "stream",
     "text": [
      "1264/3426 [==========>...................] - ETA: 2:26"
     ]
    },
    {
     "name": "stderr",
     "output_type": "stream",
     "text": [
      "1265it [01:25, 11.16it/s]"
     ]
    },
    {
     "name": "stdout",
     "output_type": "stream",
     "text": [
      "1266/3426 [==========>...................] - ETA: 2:26"
     ]
    },
    {
     "name": "stderr",
     "output_type": "stream",
     "text": [
      "1267it [01:26, 11.18it/s]"
     ]
    },
    {
     "name": "stdout",
     "output_type": "stream",
     "text": [
      "1268/3426 [==========>...................] - ETA: 2:26"
     ]
    },
    {
     "name": "stderr",
     "output_type": "stream",
     "text": [
      "1269it [01:26, 12.37it/s]"
     ]
    },
    {
     "name": "stdout",
     "output_type": "stream",
     "text": [
      "1270/3426 [==========>...................] - ETA: 2:26"
     ]
    },
    {
     "name": "stderr",
     "output_type": "stream",
     "text": [
      "1271it [01:26, 13.66it/s]"
     ]
    },
    {
     "name": "stdout",
     "output_type": "stream",
     "text": [
      "1272/3426 [==========>...................] - ETA: 2:26"
     ]
    },
    {
     "name": "stderr",
     "output_type": "stream",
     "text": [
      "1273it [01:26, 11.49it/s]"
     ]
    },
    {
     "name": "stdout",
     "output_type": "stream",
     "text": [
      "1274/3426 [==========>...................] - ETA: 2:26"
     ]
    },
    {
     "name": "stderr",
     "output_type": "stream",
     "text": [
      "1275it [01:26, 12.78it/s]"
     ]
    },
    {
     "name": "stdout",
     "output_type": "stream",
     "text": [
      "1276/3426 [==========>...................] - ETA: 2:26"
     ]
    },
    {
     "name": "stderr",
     "output_type": "stream",
     "text": [
      "1277it [01:26, 14.17it/s]"
     ]
    },
    {
     "name": "stdout",
     "output_type": "stream",
     "text": [
      "1278/3426 [==========>...................] - ETA: 2:26"
     ]
    },
    {
     "name": "stderr",
     "output_type": "stream",
     "text": [
      "1279it [01:26, 13.22it/s]"
     ]
    },
    {
     "name": "stdout",
     "output_type": "stream",
     "text": [
      "1280/3426 [==========>...................] - ETA: 2:25"
     ]
    },
    {
     "name": "stderr",
     "output_type": "stream",
     "text": [
      "1281it [01:27, 14.36it/s]"
     ]
    },
    {
     "name": "stdout",
     "output_type": "stream",
     "text": [
      "1282/3426 [==========>...................] - ETA: 2:25"
     ]
    },
    {
     "name": "stderr",
     "output_type": "stream",
     "text": [
      "1283it [01:27, 14.38it/s]"
     ]
    },
    {
     "name": "stdout",
     "output_type": "stream",
     "text": [
      "1284/3426 [==========>...................] - ETA: 2:25"
     ]
    },
    {
     "name": "stderr",
     "output_type": "stream",
     "text": [
      "1285it [01:27, 15.14it/s]"
     ]
    },
    {
     "name": "stdout",
     "output_type": "stream",
     "text": [
      "1286/3426 [==========>...................] - ETA: 2:25"
     ]
    },
    {
     "name": "stderr",
     "output_type": "stream",
     "text": [
      "1287it [01:27, 13.65it/s]"
     ]
    },
    {
     "name": "stdout",
     "output_type": "stream",
     "text": [
      "1288/3426 [==========>...................] - ETA: 2:25"
     ]
    },
    {
     "name": "stderr",
     "output_type": "stream",
     "text": [
      "1289it [01:27, 14.72it/s]"
     ]
    },
    {
     "name": "stdout",
     "output_type": "stream",
     "text": [
      "1290/3426 [==========>...................] - ETA: 2:25"
     ]
    },
    {
     "name": "stderr",
     "output_type": "stream",
     "text": [
      "1291it [01:27, 14.74it/s]"
     ]
    },
    {
     "name": "stdout",
     "output_type": "stream",
     "text": [
      "1292/3426 [==========>...................] - ETA: 2:25"
     ]
    },
    {
     "name": "stderr",
     "output_type": "stream",
     "text": [
      "1293it [01:27, 14.96it/s]"
     ]
    },
    {
     "name": "stdout",
     "output_type": "stream",
     "text": [
      "1294/3426 [==========>...................] - ETA: 2:24"
     ]
    },
    {
     "name": "stderr",
     "output_type": "stream",
     "text": [
      "1295it [01:27, 15.40it/s]"
     ]
    },
    {
     "name": "stdout",
     "output_type": "stream",
     "text": [
      "1296/3426 [==========>...................] - ETA: 2:24"
     ]
    },
    {
     "name": "stderr",
     "output_type": "stream",
     "text": [
      "1297it [01:28, 16.02it/s]"
     ]
    },
    {
     "name": "stdout",
     "output_type": "stream",
     "text": [
      "1298/3426 [==========>...................] - ETA: 2:24"
     ]
    },
    {
     "name": "stderr",
     "output_type": "stream",
     "text": [
      "1299it [01:28, 15.28it/s]"
     ]
    },
    {
     "name": "stdout",
     "output_type": "stream",
     "text": [
      "1300/3426 [==========>...................] - ETA: 2:24"
     ]
    },
    {
     "name": "stderr",
     "output_type": "stream",
     "text": [
      "1301it [01:28, 12.46it/s]"
     ]
    },
    {
     "name": "stdout",
     "output_type": "stream",
     "text": [
      "1302/3426 [==========>...................] - ETA: 2:24"
     ]
    },
    {
     "name": "stderr",
     "output_type": "stream",
     "text": [
      "1303it [01:28, 13.43it/s]"
     ]
    },
    {
     "name": "stdout",
     "output_type": "stream",
     "text": [
      "1304/3426 [==========>...................] - ETA: 2:24"
     ]
    },
    {
     "name": "stderr",
     "output_type": "stream",
     "text": [
      "1305it [01:28, 14.59it/s]"
     ]
    },
    {
     "name": "stdout",
     "output_type": "stream",
     "text": [
      "1306/3426 [==========>...................] - ETA: 2:24"
     ]
    },
    {
     "name": "stderr",
     "output_type": "stream",
     "text": [
      "1307it [01:28, 15.12it/s]"
     ]
    },
    {
     "name": "stdout",
     "output_type": "stream",
     "text": [
      "1308/3426 [==========>...................] - ETA: 2:23"
     ]
    },
    {
     "name": "stderr",
     "output_type": "stream",
     "text": [
      "1309it [01:28, 15.25it/s]"
     ]
    },
    {
     "name": "stdout",
     "output_type": "stream",
     "text": [
      "1310/3426 [==========>...................] - ETA: 2:23"
     ]
    },
    {
     "name": "stderr",
     "output_type": "stream",
     "text": [
      "1311it [01:29, 15.06it/s]"
     ]
    },
    {
     "name": "stdout",
     "output_type": "stream",
     "text": [
      "1312/3426 [==========>...................] - ETA: 2:23"
     ]
    },
    {
     "name": "stderr",
     "output_type": "stream",
     "text": [
      "1313it [01:29, 15.62it/s]"
     ]
    },
    {
     "name": "stdout",
     "output_type": "stream",
     "text": [
      "1314/3426 [==========>...................] - ETA: 2:23"
     ]
    },
    {
     "name": "stderr",
     "output_type": "stream",
     "text": [
      "1315it [01:29, 15.93it/s]"
     ]
    },
    {
     "name": "stdout",
     "output_type": "stream",
     "text": [
      "1316/3426 [==========>...................] - ETA: 2:23"
     ]
    },
    {
     "name": "stderr",
     "output_type": "stream",
     "text": [
      "1317it [01:29, 15.29it/s]"
     ]
    },
    {
     "name": "stdout",
     "output_type": "stream",
     "text": [
      "1318/3426 [==========>...................] - ETA: 2:23"
     ]
    },
    {
     "name": "stderr",
     "output_type": "stream",
     "text": [
      "1319it [01:29, 16.09it/s]"
     ]
    },
    {
     "name": "stdout",
     "output_type": "stream",
     "text": [
      "1320/3426 [==========>...................] - ETA: 2:23"
     ]
    },
    {
     "name": "stderr",
     "output_type": "stream",
     "text": [
      "1321it [01:29, 16.23it/s]"
     ]
    },
    {
     "name": "stdout",
     "output_type": "stream",
     "text": [
      "1322/3426 [==========>...................] - ETA: 2:22"
     ]
    },
    {
     "name": "stderr",
     "output_type": "stream",
     "text": [
      "1323it [01:29, 16.39it/s]"
     ]
    },
    {
     "name": "stdout",
     "output_type": "stream",
     "text": [
      "1324/3426 [==========>...................] - ETA: 2:22"
     ]
    },
    {
     "name": "stderr",
     "output_type": "stream",
     "text": [
      "1325it [01:29, 16.43it/s]"
     ]
    },
    {
     "name": "stdout",
     "output_type": "stream",
     "text": [
      "1326/3426 [==========>...................] - ETA: 2:22"
     ]
    },
    {
     "name": "stderr",
     "output_type": "stream",
     "text": [
      "1327it [01:30, 16.99it/s]"
     ]
    },
    {
     "name": "stdout",
     "output_type": "stream",
     "text": [
      "1328/3426 [==========>...................] - ETA: 2:22"
     ]
    },
    {
     "name": "stderr",
     "output_type": "stream",
     "text": [
      "1329it [01:30, 16.62it/s]"
     ]
    },
    {
     "name": "stdout",
     "output_type": "stream",
     "text": [
      "1330/3426 [==========>...................] - ETA: 2:22"
     ]
    },
    {
     "name": "stderr",
     "output_type": "stream",
     "text": [
      "1331it [01:30, 16.70it/s]"
     ]
    },
    {
     "name": "stdout",
     "output_type": "stream",
     "text": [
      "1332/3426 [==========>...................] - ETA: 2:22"
     ]
    },
    {
     "name": "stderr",
     "output_type": "stream",
     "text": [
      "1333it [01:30, 13.72it/s]"
     ]
    },
    {
     "name": "stdout",
     "output_type": "stream",
     "text": [
      "1334/3426 [==========>...................] - ETA: 2:22"
     ]
    },
    {
     "name": "stderr",
     "output_type": "stream",
     "text": [
      "1335it [01:30, 14.07it/s]"
     ]
    },
    {
     "name": "stdout",
     "output_type": "stream",
     "text": [
      "1336/3426 [==========>...................] - ETA: 2:21"
     ]
    },
    {
     "name": "stderr",
     "output_type": "stream",
     "text": [
      "1337it [01:30, 15.04it/s]"
     ]
    },
    {
     "name": "stdout",
     "output_type": "stream",
     "text": [
      "1338/3426 [==========>...................] - ETA: 2:21"
     ]
    },
    {
     "name": "stderr",
     "output_type": "stream",
     "text": [
      "1339it [01:30, 15.78it/s]"
     ]
    },
    {
     "name": "stdout",
     "output_type": "stream",
     "text": [
      "1340/3426 [==========>...................] - ETA: 2:21"
     ]
    },
    {
     "name": "stderr",
     "output_type": "stream",
     "text": [
      "1341it [01:30, 16.31it/s]"
     ]
    },
    {
     "name": "stdout",
     "output_type": "stream",
     "text": [
      "1342/3426 [==========>...................] - ETA: 2:21"
     ]
    },
    {
     "name": "stderr",
     "output_type": "stream",
     "text": [
      "1343it [01:31, 16.26it/s]"
     ]
    },
    {
     "name": "stdout",
     "output_type": "stream",
     "text": [
      "1344/3426 [==========>...................] - ETA: 2:21"
     ]
    },
    {
     "name": "stderr",
     "output_type": "stream",
     "text": [
      "1345it [01:31, 16.14it/s]"
     ]
    },
    {
     "name": "stdout",
     "output_type": "stream",
     "text": [
      "1346/3426 [==========>...................] - ETA: 2:21"
     ]
    },
    {
     "name": "stderr",
     "output_type": "stream",
     "text": [
      "1347it [01:31, 14.29it/s]"
     ]
    },
    {
     "name": "stdout",
     "output_type": "stream",
     "text": [
      "1348/3426 [==========>...................] - ETA: 2:20"
     ]
    },
    {
     "name": "stderr",
     "output_type": "stream",
     "text": [
      "1349it [01:31, 15.40it/s]"
     ]
    },
    {
     "name": "stdout",
     "output_type": "stream",
     "text": [
      "1350/3426 [==========>...................] - ETA: 2:20"
     ]
    },
    {
     "name": "stderr",
     "output_type": "stream",
     "text": [
      "1351it [01:31, 15.94it/s]"
     ]
    },
    {
     "name": "stdout",
     "output_type": "stream",
     "text": [
      "1352/3426 [==========>...................] - ETA: 2:20"
     ]
    },
    {
     "name": "stderr",
     "output_type": "stream",
     "text": [
      "1353it [01:31, 16.28it/s]"
     ]
    },
    {
     "name": "stdout",
     "output_type": "stream",
     "text": [
      "1354/3426 [==========>...................] - ETA: 2:20"
     ]
    },
    {
     "name": "stderr",
     "output_type": "stream",
     "text": [
      "1355it [01:31, 16.47it/s]"
     ]
    },
    {
     "name": "stdout",
     "output_type": "stream",
     "text": [
      "1356/3426 [==========>...................] - ETA: 2:20"
     ]
    },
    {
     "name": "stderr",
     "output_type": "stream",
     "text": [
      "1357it [01:31, 16.01it/s]"
     ]
    },
    {
     "name": "stdout",
     "output_type": "stream",
     "text": [
      "1358/3426 [==========>...................] - ETA: 2:20"
     ]
    },
    {
     "name": "stderr",
     "output_type": "stream",
     "text": [
      "1359it [01:32, 16.38it/s]"
     ]
    },
    {
     "name": "stdout",
     "output_type": "stream",
     "text": [
      "1360/3426 [==========>...................] - ETA: 2:20"
     ]
    },
    {
     "name": "stderr",
     "output_type": "stream",
     "text": [
      "1361it [01:32, 16.20it/s]"
     ]
    },
    {
     "name": "stdout",
     "output_type": "stream",
     "text": [
      "1362/3426 [==========>...................] - ETA: 2:19"
     ]
    },
    {
     "name": "stderr",
     "output_type": "stream",
     "text": [
      "1363it [01:32, 16.29it/s]"
     ]
    },
    {
     "name": "stdout",
     "output_type": "stream",
     "text": [
      "1364/3426 [==========>...................] - ETA: 2:19"
     ]
    },
    {
     "name": "stderr",
     "output_type": "stream",
     "text": [
      "1365it [01:32, 16.35it/s]"
     ]
    },
    {
     "name": "stdout",
     "output_type": "stream",
     "text": [
      "1366/3426 [==========>...................] - ETA: 2:19"
     ]
    },
    {
     "name": "stderr",
     "output_type": "stream",
     "text": [
      "1367it [01:32, 15.49it/s]"
     ]
    },
    {
     "name": "stdout",
     "output_type": "stream",
     "text": [
      "1368/3426 [==========>...................] - ETA: 2:19"
     ]
    },
    {
     "name": "stderr",
     "output_type": "stream",
     "text": [
      "1369it [01:32, 15.95it/s]"
     ]
    },
    {
     "name": "stdout",
     "output_type": "stream",
     "text": [
      "1370/3426 [==========>...................] - ETA: 2:19"
     ]
    },
    {
     "name": "stderr",
     "output_type": "stream",
     "text": [
      "1371it [01:32, 16.42it/s]"
     ]
    },
    {
     "name": "stdout",
     "output_type": "stream",
     "text": [
      "1372/3426 [===========>..................] - ETA: 2:19"
     ]
    },
    {
     "name": "stderr",
     "output_type": "stream",
     "text": [
      "1373it [01:32, 16.08it/s]"
     ]
    },
    {
     "name": "stdout",
     "output_type": "stream",
     "text": [
      "1374/3426 [===========>..................] - ETA: 2:18"
     ]
    },
    {
     "name": "stderr",
     "output_type": "stream",
     "text": [
      "1375it [01:33, 16.29it/s]"
     ]
    },
    {
     "name": "stdout",
     "output_type": "stream",
     "text": [
      "1376/3426 [===========>..................] - ETA: 2:18"
     ]
    },
    {
     "name": "stderr",
     "output_type": "stream",
     "text": [
      "1377it [01:33, 16.57it/s]"
     ]
    },
    {
     "name": "stdout",
     "output_type": "stream",
     "text": [
      "1378/3426 [===========>..................] - ETA: 2:18"
     ]
    },
    {
     "name": "stderr",
     "output_type": "stream",
     "text": [
      "1379it [01:33, 15.95it/s]"
     ]
    },
    {
     "name": "stdout",
     "output_type": "stream",
     "text": [
      "1380/3426 [===========>..................] - ETA: 2:18"
     ]
    },
    {
     "name": "stderr",
     "output_type": "stream",
     "text": [
      "1381it [01:33, 13.66it/s]"
     ]
    },
    {
     "name": "stdout",
     "output_type": "stream",
     "text": [
      "1382/3426 [===========>..................] - ETA: 2:18"
     ]
    },
    {
     "name": "stderr",
     "output_type": "stream",
     "text": [
      "1383it [01:33, 14.36it/s]"
     ]
    },
    {
     "name": "stdout",
     "output_type": "stream",
     "text": [
      "1384/3426 [===========>..................] - ETA: 2:18"
     ]
    },
    {
     "name": "stderr",
     "output_type": "stream",
     "text": [
      "1385it [01:33, 15.04it/s]"
     ]
    },
    {
     "name": "stdout",
     "output_type": "stream",
     "text": [
      "1386/3426 [===========>..................] - ETA: 2:18"
     ]
    },
    {
     "name": "stderr",
     "output_type": "stream",
     "text": [
      "1387it [01:33, 15.31it/s]"
     ]
    },
    {
     "name": "stdout",
     "output_type": "stream",
     "text": [
      "1388/3426 [===========>..................] - ETA: 2:18"
     ]
    },
    {
     "name": "stderr",
     "output_type": "stream",
     "text": [
      "1389it [01:34, 14.67it/s]"
     ]
    },
    {
     "name": "stdout",
     "output_type": "stream",
     "text": [
      "1389/3426 [===========>..................] - ETA: 2:17"
     ]
    },
    {
     "name": "stderr",
     "output_type": "stream",
     "text": [
      "1391it [01:34, 15.67it/s]"
     ]
    },
    {
     "name": "stdout",
     "output_type": "stream",
     "text": [
      "1392/3426 [===========>..................] - ETA: 2:17"
     ]
    },
    {
     "name": "stderr",
     "output_type": "stream",
     "text": [
      "1393it [01:34, 14.88it/s]"
     ]
    },
    {
     "name": "stdout",
     "output_type": "stream",
     "text": [
      "1394/3426 [===========>..................] - ETA: 2:17"
     ]
    },
    {
     "name": "stderr",
     "output_type": "stream",
     "text": [
      "1395it [01:34, 15.86it/s]"
     ]
    },
    {
     "name": "stdout",
     "output_type": "stream",
     "text": [
      "1396/3426 [===========>..................] - ETA: 2:17"
     ]
    },
    {
     "name": "stderr",
     "output_type": "stream",
     "text": [
      "1397it [01:34, 16.09it/s]"
     ]
    },
    {
     "name": "stdout",
     "output_type": "stream",
     "text": [
      "1398/3426 [===========>..................] - ETA: 2:17"
     ]
    },
    {
     "name": "stderr",
     "output_type": "stream",
     "text": [
      "1399it [01:34, 15.83it/s]"
     ]
    },
    {
     "name": "stdout",
     "output_type": "stream",
     "text": [
      "1400/3426 [===========>..................] - ETA: 2:17"
     ]
    },
    {
     "name": "stderr",
     "output_type": "stream",
     "text": [
      "1401it [01:34, 15.90it/s]"
     ]
    },
    {
     "name": "stdout",
     "output_type": "stream",
     "text": [
      "1402/3426 [===========>..................] - ETA: 2:16"
     ]
    },
    {
     "name": "stderr",
     "output_type": "stream",
     "text": [
      "1403it [01:34, 15.96it/s]"
     ]
    },
    {
     "name": "stdout",
     "output_type": "stream",
     "text": [
      "1404/3426 [===========>..................] - ETA: 2:16"
     ]
    },
    {
     "name": "stderr",
     "output_type": "stream",
     "text": [
      "1405it [01:35, 15.80it/s]"
     ]
    },
    {
     "name": "stdout",
     "output_type": "stream",
     "text": [
      "1406/3426 [===========>..................] - ETA: 2:16"
     ]
    },
    {
     "name": "stderr",
     "output_type": "stream",
     "text": [
      "1407it [01:35, 15.88it/s]"
     ]
    },
    {
     "name": "stdout",
     "output_type": "stream",
     "text": [
      "1408/3426 [===========>..................] - ETA: 2:16"
     ]
    },
    {
     "name": "stderr",
     "output_type": "stream",
     "text": [
      "1409it [01:35, 16.73it/s]"
     ]
    },
    {
     "name": "stdout",
     "output_type": "stream",
     "text": [
      "1410/3426 [===========>..................] - ETA: 2:16"
     ]
    },
    {
     "name": "stderr",
     "output_type": "stream",
     "text": [
      "1411it [01:35, 16.94it/s]"
     ]
    },
    {
     "name": "stdout",
     "output_type": "stream",
     "text": [
      "1412/3426 [===========>..................] - ETA: 2:16"
     ]
    },
    {
     "name": "stderr",
     "output_type": "stream",
     "text": [
      "1413it [01:35, 16.81it/s]"
     ]
    },
    {
     "name": "stdout",
     "output_type": "stream",
     "text": [
      "1414/3426 [===========>..................] - ETA: 2:16"
     ]
    },
    {
     "name": "stderr",
     "output_type": "stream",
     "text": [
      "1415it [01:35, 15.79it/s]"
     ]
    },
    {
     "name": "stdout",
     "output_type": "stream",
     "text": [
      "1416/3426 [===========>..................] - ETA: 2:15"
     ]
    },
    {
     "name": "stderr",
     "output_type": "stream",
     "text": [
      "1417it [01:35, 13.89it/s]"
     ]
    },
    {
     "name": "stdout",
     "output_type": "stream",
     "text": [
      "1418/3426 [===========>..................] - ETA: 2:15"
     ]
    },
    {
     "name": "stderr",
     "output_type": "stream",
     "text": [
      "1419it [01:35, 14.54it/s]"
     ]
    },
    {
     "name": "stdout",
     "output_type": "stream",
     "text": [
      "1420/3426 [===========>..................] - ETA: 2:15"
     ]
    },
    {
     "name": "stderr",
     "output_type": "stream",
     "text": [
      "1421it [01:36, 15.24it/s]"
     ]
    },
    {
     "name": "stdout",
     "output_type": "stream",
     "text": [
      "1422/3426 [===========>..................] - ETA: 2:15"
     ]
    },
    {
     "name": "stderr",
     "output_type": "stream",
     "text": [
      "1423it [01:36, 15.88it/s]"
     ]
    },
    {
     "name": "stdout",
     "output_type": "stream",
     "text": [
      "1424/3426 [===========>..................] - ETA: 2:15"
     ]
    },
    {
     "name": "stderr",
     "output_type": "stream",
     "text": [
      "1425it [01:36, 16.16it/s]"
     ]
    },
    {
     "name": "stdout",
     "output_type": "stream",
     "text": [
      "1426/3426 [===========>..................] - ETA: 2:15"
     ]
    },
    {
     "name": "stderr",
     "output_type": "stream",
     "text": [
      "1427it [01:36,  8.82it/s]"
     ]
    },
    {
     "name": "stdout",
     "output_type": "stream",
     "text": [
      "1428/3426 [===========>..................] - ETA: 2:15"
     ]
    },
    {
     "name": "stderr",
     "output_type": "stream",
     "text": [
      "1429it [01:36, 10.38it/s]"
     ]
    },
    {
     "name": "stdout",
     "output_type": "stream",
     "text": [
      "1430/3426 [===========>..................] - ETA: 2:15"
     ]
    },
    {
     "name": "stderr",
     "output_type": "stream",
     "text": [
      "1431it [01:36, 11.60it/s]"
     ]
    },
    {
     "name": "stdout",
     "output_type": "stream",
     "text": [
      "1432/3426 [===========>..................] - ETA: 2:15"
     ]
    },
    {
     "name": "stderr",
     "output_type": "stream",
     "text": [
      "1433it [01:37, 12.36it/s]"
     ]
    },
    {
     "name": "stdout",
     "output_type": "stream",
     "text": [
      "1434/3426 [===========>..................] - ETA: 2:15"
     ]
    },
    {
     "name": "stderr",
     "output_type": "stream",
     "text": [
      "1435it [01:37, 13.33it/s]"
     ]
    },
    {
     "name": "stdout",
     "output_type": "stream",
     "text": [
      "1436/3426 [===========>..................] - ETA: 2:14"
     ]
    },
    {
     "name": "stderr",
     "output_type": "stream",
     "text": [
      "1437it [01:37, 13.87it/s]"
     ]
    },
    {
     "name": "stdout",
     "output_type": "stream",
     "text": [
      "1438/3426 [===========>..................] - ETA: 2:14"
     ]
    },
    {
     "name": "stderr",
     "output_type": "stream",
     "text": [
      "1439it [01:37, 14.10it/s]"
     ]
    },
    {
     "name": "stdout",
     "output_type": "stream",
     "text": [
      "1440/3426 [===========>..................] - ETA: 2:14"
     ]
    },
    {
     "name": "stderr",
     "output_type": "stream",
     "text": [
      "1441it [01:37, 14.73it/s]"
     ]
    },
    {
     "name": "stdout",
     "output_type": "stream",
     "text": [
      "1442/3426 [===========>..................] - ETA: 2:14"
     ]
    },
    {
     "name": "stderr",
     "output_type": "stream",
     "text": [
      "1443it [01:37, 14.96it/s]"
     ]
    },
    {
     "name": "stdout",
     "output_type": "stream",
     "text": [
      "1444/3426 [===========>..................] - ETA: 2:14"
     ]
    },
    {
     "name": "stderr",
     "output_type": "stream",
     "text": [
      "1445it [01:37, 15.37it/s]"
     ]
    },
    {
     "name": "stdout",
     "output_type": "stream",
     "text": [
      "1446/3426 [===========>..................] - ETA: 2:14"
     ]
    },
    {
     "name": "stderr",
     "output_type": "stream",
     "text": [
      "1447it [01:37, 16.00it/s]"
     ]
    },
    {
     "name": "stdout",
     "output_type": "stream",
     "text": [
      "1448/3426 [===========>..................] - ETA: 2:14"
     ]
    },
    {
     "name": "stderr",
     "output_type": "stream",
     "text": [
      "1449it [01:38, 16.27it/s]"
     ]
    },
    {
     "name": "stdout",
     "output_type": "stream",
     "text": [
      "1450/3426 [===========>..................] - ETA: 2:13"
     ]
    },
    {
     "name": "stderr",
     "output_type": "stream",
     "text": [
      "1451it [01:38, 16.34it/s]"
     ]
    },
    {
     "name": "stdout",
     "output_type": "stream",
     "text": [
      "1452/3426 [===========>..................] - ETA: 2:13"
     ]
    },
    {
     "name": "stderr",
     "output_type": "stream",
     "text": [
      "1453it [01:38, 16.33it/s]"
     ]
    },
    {
     "name": "stdout",
     "output_type": "stream",
     "text": [
      "1454/3426 [===========>..................] - ETA: 2:13"
     ]
    },
    {
     "name": "stderr",
     "output_type": "stream",
     "text": [
      "1455it [01:38, 15.69it/s]"
     ]
    },
    {
     "name": "stdout",
     "output_type": "stream",
     "text": [
      "1456/3426 [===========>..................] - ETA: 2:13"
     ]
    },
    {
     "name": "stderr",
     "output_type": "stream",
     "text": [
      "1457it [01:38, 16.18it/s]"
     ]
    },
    {
     "name": "stdout",
     "output_type": "stream",
     "text": [
      "1458/3426 [===========>..................] - ETA: 2:13"
     ]
    },
    {
     "name": "stderr",
     "output_type": "stream",
     "text": [
      "1459it [01:38, 16.76it/s]"
     ]
    },
    {
     "name": "stdout",
     "output_type": "stream",
     "text": [
      "1460/3426 [===========>..................] - ETA: 2:13"
     ]
    },
    {
     "name": "stderr",
     "output_type": "stream",
     "text": [
      "1461it [01:38, 16.29it/s]"
     ]
    },
    {
     "name": "stdout",
     "output_type": "stream",
     "text": [
      "1462/3426 [===========>..................] - ETA: 2:12"
     ]
    },
    {
     "name": "stderr",
     "output_type": "stream",
     "text": [
      "1463it [01:38, 16.06it/s]"
     ]
    },
    {
     "name": "stdout",
     "output_type": "stream",
     "text": [
      "1464/3426 [===========>..................] - ETA: 2:12"
     ]
    },
    {
     "name": "stderr",
     "output_type": "stream",
     "text": [
      "1465it [01:39, 15.75it/s]"
     ]
    },
    {
     "name": "stdout",
     "output_type": "stream",
     "text": [
      "1466/3426 [===========>..................] - ETA: 2:12"
     ]
    },
    {
     "name": "stderr",
     "output_type": "stream",
     "text": [
      "1467it [01:39, 16.20it/s]"
     ]
    },
    {
     "name": "stdout",
     "output_type": "stream",
     "text": [
      "1468/3426 [===========>..................] - ETA: 2:12"
     ]
    },
    {
     "name": "stderr",
     "output_type": "stream",
     "text": [
      "1469it [01:39, 16.31it/s]"
     ]
    },
    {
     "name": "stdout",
     "output_type": "stream",
     "text": [
      "1470/3426 [===========>..................] - ETA: 2:12"
     ]
    },
    {
     "name": "stderr",
     "output_type": "stream",
     "text": [
      "1471it [01:39, 16.43it/s]"
     ]
    },
    {
     "name": "stdout",
     "output_type": "stream",
     "text": [
      "1472/3426 [===========>..................] - ETA: 2:12"
     ]
    },
    {
     "name": "stderr",
     "output_type": "stream",
     "text": [
      "1473it [01:39, 14.15it/s]"
     ]
    },
    {
     "name": "stdout",
     "output_type": "stream",
     "text": [
      "1474/3426 [===========>..................] - ETA: 2:12"
     ]
    },
    {
     "name": "stderr",
     "output_type": "stream",
     "text": [
      "1475it [01:39, 14.55it/s]"
     ]
    },
    {
     "name": "stdout",
     "output_type": "stream",
     "text": [
      "1476/3426 [===========>..................] - ETA: 2:11"
     ]
    },
    {
     "name": "stderr",
     "output_type": "stream",
     "text": [
      "1477it [01:39, 15.26it/s]"
     ]
    },
    {
     "name": "stdout",
     "output_type": "stream",
     "text": [
      "1478/3426 [===========>..................] - ETA: 2:11"
     ]
    },
    {
     "name": "stderr",
     "output_type": "stream",
     "text": [
      "1479it [01:40, 15.98it/s]"
     ]
    },
    {
     "name": "stdout",
     "output_type": "stream",
     "text": [
      "1480/3426 [===========>..................] - ETA: 2:11"
     ]
    },
    {
     "name": "stderr",
     "output_type": "stream",
     "text": [
      "1481it [01:40, 15.96it/s]"
     ]
    },
    {
     "name": "stdout",
     "output_type": "stream",
     "text": [
      "1482/3426 [===========>..................] - ETA: 2:11"
     ]
    },
    {
     "name": "stderr",
     "output_type": "stream",
     "text": [
      "1483it [01:40, 16.28it/s]"
     ]
    },
    {
     "name": "stdout",
     "output_type": "stream",
     "text": [
      "1484/3426 [===========>..................] - ETA: 2:11"
     ]
    },
    {
     "name": "stderr",
     "output_type": "stream",
     "text": [
      "1485it [01:40, 16.14it/s]"
     ]
    },
    {
     "name": "stdout",
     "output_type": "stream",
     "text": [
      "1486/3426 [============>.................] - ETA: 2:11"
     ]
    },
    {
     "name": "stderr",
     "output_type": "stream",
     "text": [
      "1487it [01:40, 16.48it/s]"
     ]
    },
    {
     "name": "stdout",
     "output_type": "stream",
     "text": [
      "1488/3426 [============>.................] - ETA: 2:11"
     ]
    },
    {
     "name": "stderr",
     "output_type": "stream",
     "text": [
      "1489it [01:40, 16.25it/s]"
     ]
    },
    {
     "name": "stdout",
     "output_type": "stream",
     "text": [
      "1490/3426 [============>.................] - ETA: 2:10"
     ]
    },
    {
     "name": "stderr",
     "output_type": "stream",
     "text": [
      "1491it [01:40, 16.12it/s]"
     ]
    },
    {
     "name": "stdout",
     "output_type": "stream",
     "text": [
      "1492/3426 [============>.................] - ETA: 2:10"
     ]
    },
    {
     "name": "stderr",
     "output_type": "stream",
     "text": [
      "1493it [01:40, 16.23it/s]"
     ]
    },
    {
     "name": "stdout",
     "output_type": "stream",
     "text": [
      "1494/3426 [============>.................] - ETA: 2:10"
     ]
    },
    {
     "name": "stderr",
     "output_type": "stream",
     "text": [
      "1495it [01:40, 16.03it/s]"
     ]
    },
    {
     "name": "stdout",
     "output_type": "stream",
     "text": [
      "1496/3426 [============>.................] - ETA: 2:10"
     ]
    },
    {
     "name": "stderr",
     "output_type": "stream",
     "text": [
      "1497it [01:41, 15.81it/s]"
     ]
    },
    {
     "name": "stdout",
     "output_type": "stream",
     "text": [
      "1498/3426 [============>.................] - ETA: 2:10"
     ]
    },
    {
     "name": "stderr",
     "output_type": "stream",
     "text": [
      "1499it [01:41, 16.00it/s]"
     ]
    },
    {
     "name": "stdout",
     "output_type": "stream",
     "text": [
      "1500/3426 [============>.................] - ETA: 2:10"
     ]
    },
    {
     "name": "stderr",
     "output_type": "stream",
     "text": [
      "1501it [01:41, 16.52it/s]"
     ]
    },
    {
     "name": "stdout",
     "output_type": "stream",
     "text": [
      "1502/3426 [============>.................] - ETA: 2:09"
     ]
    },
    {
     "name": "stderr",
     "output_type": "stream",
     "text": [
      "1503it [01:41, 16.55it/s]"
     ]
    },
    {
     "name": "stdout",
     "output_type": "stream",
     "text": [
      "1504/3426 [============>.................] - ETA: 2:09"
     ]
    },
    {
     "name": "stderr",
     "output_type": "stream",
     "text": [
      "1505it [01:41, 16.60it/s]"
     ]
    },
    {
     "name": "stdout",
     "output_type": "stream",
     "text": [
      "1506/3426 [============>.................] - ETA: 2:09"
     ]
    },
    {
     "name": "stderr",
     "output_type": "stream",
     "text": [
      "1507it [01:41, 17.07it/s]"
     ]
    },
    {
     "name": "stdout",
     "output_type": "stream",
     "text": [
      "1508/3426 [============>.................] - ETA: 2:09"
     ]
    },
    {
     "name": "stderr",
     "output_type": "stream",
     "text": [
      "1509it [01:41, 16.86it/s]"
     ]
    },
    {
     "name": "stdout",
     "output_type": "stream",
     "text": [
      "1510/3426 [============>.................] - ETA: 2:09"
     ]
    },
    {
     "name": "stderr",
     "output_type": "stream",
     "text": [
      "1511it [01:41, 16.35it/s]"
     ]
    },
    {
     "name": "stdout",
     "output_type": "stream",
     "text": [
      "1512/3426 [============>.................] - ETA: 2:09"
     ]
    },
    {
     "name": "stderr",
     "output_type": "stream",
     "text": [
      "1513it [01:42, 16.18it/s]"
     ]
    },
    {
     "name": "stdout",
     "output_type": "stream",
     "text": [
      "1514/3426 [============>.................] - ETA: 2:09"
     ]
    },
    {
     "name": "stderr",
     "output_type": "stream",
     "text": [
      "1515it [01:42, 15.60it/s]"
     ]
    },
    {
     "name": "stdout",
     "output_type": "stream",
     "text": [
      "1516/3426 [============>.................] - ETA: 2:08"
     ]
    },
    {
     "name": "stderr",
     "output_type": "stream",
     "text": [
      "1517it [01:42, 15.72it/s]"
     ]
    },
    {
     "name": "stdout",
     "output_type": "stream",
     "text": [
      "1518/3426 [============>.................] - ETA: 2:08"
     ]
    },
    {
     "name": "stderr",
     "output_type": "stream",
     "text": [
      "1519it [01:42, 14.40it/s]"
     ]
    },
    {
     "name": "stdout",
     "output_type": "stream",
     "text": [
      "1520/3426 [============>.................] - ETA: 2:08"
     ]
    },
    {
     "name": "stderr",
     "output_type": "stream",
     "text": [
      "1521it [01:42, 12.67it/s]"
     ]
    },
    {
     "name": "stdout",
     "output_type": "stream",
     "text": [
      "1522/3426 [============>.................] - ETA: 2:08"
     ]
    },
    {
     "name": "stderr",
     "output_type": "stream",
     "text": [
      "1523it [01:42, 13.59it/s]"
     ]
    },
    {
     "name": "stdout",
     "output_type": "stream",
     "text": [
      "1524/3426 [============>.................] - ETA: 2:08"
     ]
    },
    {
     "name": "stderr",
     "output_type": "stream",
     "text": [
      "1525it [01:42, 14.49it/s]"
     ]
    },
    {
     "name": "stdout",
     "output_type": "stream",
     "text": [
      "1526/3426 [============>.................] - ETA: 2:08"
     ]
    },
    {
     "name": "stderr",
     "output_type": "stream",
     "text": [
      "1527it [01:43, 13.81it/s]"
     ]
    },
    {
     "name": "stdout",
     "output_type": "stream",
     "text": [
      "1528/3426 [============>.................] - ETA: 2:08"
     ]
    },
    {
     "name": "stderr",
     "output_type": "stream",
     "text": [
      "1529it [01:43, 13.59it/s]"
     ]
    },
    {
     "name": "stdout",
     "output_type": "stream",
     "text": [
      "1530/3426 [============>.................] - ETA: 2:08"
     ]
    },
    {
     "name": "stderr",
     "output_type": "stream",
     "text": [
      "1531it [01:43, 13.81it/s]"
     ]
    },
    {
     "name": "stdout",
     "output_type": "stream",
     "text": [
      "1532/3426 [============>.................] - ETA: 2:08"
     ]
    },
    {
     "name": "stderr",
     "output_type": "stream",
     "text": [
      "1533it [01:43, 13.78it/s]"
     ]
    },
    {
     "name": "stdout",
     "output_type": "stream",
     "text": [
      "1534/3426 [============>.................] - ETA: 2:07"
     ]
    },
    {
     "name": "stderr",
     "output_type": "stream",
     "text": [
      "1535it [01:43, 13.78it/s]"
     ]
    },
    {
     "name": "stdout",
     "output_type": "stream",
     "text": [
      "1536/3426 [============>.................] - ETA: 2:07"
     ]
    },
    {
     "name": "stderr",
     "output_type": "stream",
     "text": [
      "1537it [01:43, 13.54it/s]"
     ]
    },
    {
     "name": "stdout",
     "output_type": "stream",
     "text": [
      "1538/3426 [============>.................] - ETA: 2:07"
     ]
    },
    {
     "name": "stderr",
     "output_type": "stream",
     "text": [
      "1539it [01:43, 14.17it/s]"
     ]
    },
    {
     "name": "stdout",
     "output_type": "stream",
     "text": [
      "1540/3426 [============>.................] - ETA: 2:07"
     ]
    },
    {
     "name": "stderr",
     "output_type": "stream",
     "text": [
      "1541it [01:44, 13.91it/s]"
     ]
    },
    {
     "name": "stdout",
     "output_type": "stream",
     "text": [
      "1542/3426 [============>.................] - ETA: 2:07"
     ]
    },
    {
     "name": "stderr",
     "output_type": "stream",
     "text": [
      "1543it [01:44, 13.99it/s]"
     ]
    },
    {
     "name": "stdout",
     "output_type": "stream",
     "text": [
      "1544/3426 [============>.................] - ETA: 2:07"
     ]
    },
    {
     "name": "stderr",
     "output_type": "stream",
     "text": [
      "1545it [01:44, 14.14it/s]"
     ]
    },
    {
     "name": "stdout",
     "output_type": "stream",
     "text": [
      "1546/3426 [============>.................] - ETA: 2:07"
     ]
    },
    {
     "name": "stderr",
     "output_type": "stream",
     "text": [
      "1547it [01:44, 14.09it/s]"
     ]
    },
    {
     "name": "stdout",
     "output_type": "stream",
     "text": [
      "1548/3426 [============>.................] - ETA: 2:07"
     ]
    },
    {
     "name": "stderr",
     "output_type": "stream",
     "text": [
      "1549it [01:44, 14.38it/s]"
     ]
    },
    {
     "name": "stdout",
     "output_type": "stream",
     "text": [
      "1550/3426 [============>.................] - ETA: 2:06"
     ]
    },
    {
     "name": "stderr",
     "output_type": "stream",
     "text": [
      "1551it [01:44, 14.18it/s]"
     ]
    },
    {
     "name": "stdout",
     "output_type": "stream",
     "text": [
      "1552/3426 [============>.................] - ETA: 2:06"
     ]
    },
    {
     "name": "stderr",
     "output_type": "stream",
     "text": [
      "1553it [01:44, 14.53it/s]"
     ]
    },
    {
     "name": "stdout",
     "output_type": "stream",
     "text": [
      "1554/3426 [============>.................] - ETA: 2:06"
     ]
    },
    {
     "name": "stderr",
     "output_type": "stream",
     "text": [
      "1555it [01:45, 14.29it/s]"
     ]
    },
    {
     "name": "stdout",
     "output_type": "stream",
     "text": [
      "1556/3426 [============>.................] - ETA: 2:06"
     ]
    },
    {
     "name": "stderr",
     "output_type": "stream",
     "text": [
      "1557it [01:45, 14.26it/s]"
     ]
    },
    {
     "name": "stdout",
     "output_type": "stream",
     "text": [
      "1558/3426 [============>.................] - ETA: 2:06"
     ]
    },
    {
     "name": "stderr",
     "output_type": "stream",
     "text": [
      "1559it [01:45, 15.01it/s]"
     ]
    },
    {
     "name": "stdout",
     "output_type": "stream",
     "text": [
      "1560/3426 [============>.................] - ETA: 2:06"
     ]
    },
    {
     "name": "stderr",
     "output_type": "stream",
     "text": [
      "1561it [01:45, 13.82it/s]"
     ]
    },
    {
     "name": "stdout",
     "output_type": "stream",
     "text": [
      "1562/3426 [============>.................] - ETA: 2:06"
     ]
    },
    {
     "name": "stderr",
     "output_type": "stream",
     "text": [
      "1563it [01:45, 13.60it/s]"
     ]
    },
    {
     "name": "stdout",
     "output_type": "stream",
     "text": [
      "1564/3426 [============>.................] - ETA: 2:06"
     ]
    },
    {
     "name": "stderr",
     "output_type": "stream",
     "text": [
      "1565it [01:45, 12.37it/s]"
     ]
    },
    {
     "name": "stdout",
     "output_type": "stream",
     "text": [
      "1566/3426 [============>.................] - ETA: 2:05"
     ]
    },
    {
     "name": "stderr",
     "output_type": "stream",
     "text": [
      "1567it [01:46, 12.92it/s]"
     ]
    },
    {
     "name": "stdout",
     "output_type": "stream",
     "text": [
      "1568/3426 [============>.................] - ETA: 2:05"
     ]
    },
    {
     "name": "stderr",
     "output_type": "stream",
     "text": [
      "1569it [01:46, 12.96it/s]"
     ]
    },
    {
     "name": "stdout",
     "output_type": "stream",
     "text": [
      "1570/3426 [============>.................] - ETA: 2:05"
     ]
    },
    {
     "name": "stderr",
     "output_type": "stream",
     "text": [
      "1571it [01:46, 14.04it/s]"
     ]
    },
    {
     "name": "stdout",
     "output_type": "stream",
     "text": [
      "1572/3426 [============>.................] - ETA: 2:05"
     ]
    },
    {
     "name": "stderr",
     "output_type": "stream",
     "text": [
      "1573it [01:46, 14.68it/s]"
     ]
    },
    {
     "name": "stdout",
     "output_type": "stream",
     "text": [
      "1574/3426 [============>.................] - ETA: 2:05"
     ]
    },
    {
     "name": "stderr",
     "output_type": "stream",
     "text": [
      "1575it [01:46, 13.54it/s]"
     ]
    },
    {
     "name": "stdout",
     "output_type": "stream",
     "text": [
      "1576/3426 [============>.................] - ETA: 2:05"
     ]
    },
    {
     "name": "stderr",
     "output_type": "stream",
     "text": [
      "1577it [01:46, 12.83it/s]"
     ]
    },
    {
     "name": "stdout",
     "output_type": "stream",
     "text": [
      "1578/3426 [============>.................] - ETA: 2:05"
     ]
    },
    {
     "name": "stderr",
     "output_type": "stream",
     "text": [
      "1579it [01:47, 10.66it/s]"
     ]
    },
    {
     "name": "stdout",
     "output_type": "stream",
     "text": [
      "1580/3426 [============>.................] - ETA: 2:05"
     ]
    },
    {
     "name": "stderr",
     "output_type": "stream",
     "text": [
      "1581it [01:47, 11.53it/s]"
     ]
    },
    {
     "name": "stdout",
     "output_type": "stream",
     "text": [
      "1582/3426 [============>.................] - ETA: 2:05"
     ]
    },
    {
     "name": "stderr",
     "output_type": "stream",
     "text": [
      "1583it [01:47, 12.40it/s]"
     ]
    },
    {
     "name": "stdout",
     "output_type": "stream",
     "text": [
      "1584/3426 [============>.................] - ETA: 2:04"
     ]
    },
    {
     "name": "stderr",
     "output_type": "stream",
     "text": [
      "1585it [01:47, 12.60it/s]"
     ]
    },
    {
     "name": "stdout",
     "output_type": "stream",
     "text": [
      "1586/3426 [============>.................] - ETA: 2:04"
     ]
    },
    {
     "name": "stderr",
     "output_type": "stream",
     "text": [
      "1587it [01:47, 13.10it/s]"
     ]
    },
    {
     "name": "stdout",
     "output_type": "stream",
     "text": [
      "1588/3426 [============>.................] - ETA: 2:04"
     ]
    },
    {
     "name": "stderr",
     "output_type": "stream",
     "text": [
      "1589it [01:47, 13.18it/s]"
     ]
    },
    {
     "name": "stdout",
     "output_type": "stream",
     "text": [
      "1590/3426 [============>.................] - ETA: 2:04"
     ]
    },
    {
     "name": "stderr",
     "output_type": "stream",
     "text": [
      "1591it [01:47, 14.19it/s]"
     ]
    },
    {
     "name": "stdout",
     "output_type": "stream",
     "text": [
      "1592/3426 [============>.................] - ETA: 2:04"
     ]
    },
    {
     "name": "stderr",
     "output_type": "stream",
     "text": [
      "1593it [01:47, 14.42it/s]"
     ]
    },
    {
     "name": "stdout",
     "output_type": "stream",
     "text": [
      "1594/3426 [============>.................] - ETA: 2:04"
     ]
    },
    {
     "name": "stderr",
     "output_type": "stream",
     "text": [
      "1595it [01:48, 14.91it/s]"
     ]
    },
    {
     "name": "stdout",
     "output_type": "stream",
     "text": [
      "1596/3426 [============>.................] - ETA: 2:04"
     ]
    },
    {
     "name": "stderr",
     "output_type": "stream",
     "text": [
      "1597it [01:48, 14.84it/s]"
     ]
    },
    {
     "name": "stdout",
     "output_type": "stream",
     "text": [
      "1598/3426 [============>.................] - ETA: 2:04"
     ]
    },
    {
     "name": "stderr",
     "output_type": "stream",
     "text": [
      "1599it [01:48, 14.27it/s]"
     ]
    },
    {
     "name": "stdout",
     "output_type": "stream",
     "text": [
      "1600/3426 [=============>................] - ETA: 2:03"
     ]
    },
    {
     "name": "stderr",
     "output_type": "stream",
     "text": [
      "1601it [01:48, 14.14it/s]"
     ]
    },
    {
     "name": "stdout",
     "output_type": "stream",
     "text": [
      "1602/3426 [=============>................] - ETA: 2:03"
     ]
    },
    {
     "name": "stderr",
     "output_type": "stream",
     "text": [
      "1603it [01:48, 13.39it/s]"
     ]
    },
    {
     "name": "stdout",
     "output_type": "stream",
     "text": [
      "1604/3426 [=============>................] - ETA: 2:03"
     ]
    },
    {
     "name": "stderr",
     "output_type": "stream",
     "text": [
      "1605it [01:48, 12.78it/s]"
     ]
    },
    {
     "name": "stdout",
     "output_type": "stream",
     "text": [
      "1606/3426 [=============>................] - ETA: 2:03"
     ]
    },
    {
     "name": "stderr",
     "output_type": "stream",
     "text": [
      "1607it [01:49, 12.82it/s]"
     ]
    },
    {
     "name": "stdout",
     "output_type": "stream",
     "text": [
      "1608/3426 [=============>................] - ETA: 2:03"
     ]
    },
    {
     "name": "stderr",
     "output_type": "stream",
     "text": [
      "1609it [01:49, 13.13it/s]"
     ]
    },
    {
     "name": "stdout",
     "output_type": "stream",
     "text": [
      "1610/3426 [=============>................] - ETA: 2:03"
     ]
    },
    {
     "name": "stderr",
     "output_type": "stream",
     "text": [
      "1611it [01:49, 14.03it/s]"
     ]
    },
    {
     "name": "stdout",
     "output_type": "stream",
     "text": [
      "1612/3426 [=============>................] - ETA: 2:03"
     ]
    },
    {
     "name": "stderr",
     "output_type": "stream",
     "text": [
      "1613it [01:49, 12.62it/s]"
     ]
    },
    {
     "name": "stdout",
     "output_type": "stream",
     "text": [
      "1614/3426 [=============>................] - ETA: 2:03"
     ]
    },
    {
     "name": "stderr",
     "output_type": "stream",
     "text": [
      "1615it [01:49, 13.34it/s]"
     ]
    },
    {
     "name": "stdout",
     "output_type": "stream",
     "text": [
      "1616/3426 [=============>................] - ETA: 2:02"
     ]
    },
    {
     "name": "stderr",
     "output_type": "stream",
     "text": [
      "1617it [01:49, 13.75it/s]"
     ]
    },
    {
     "name": "stdout",
     "output_type": "stream",
     "text": [
      "1618/3426 [=============>................] - ETA: 2:02"
     ]
    },
    {
     "name": "stderr",
     "output_type": "stream",
     "text": [
      "1619it [01:49, 14.00it/s]"
     ]
    },
    {
     "name": "stdout",
     "output_type": "stream",
     "text": [
      "1620/3426 [=============>................] - ETA: 2:02"
     ]
    },
    {
     "name": "stderr",
     "output_type": "stream",
     "text": [
      "1621it [01:50, 13.77it/s]"
     ]
    },
    {
     "name": "stdout",
     "output_type": "stream",
     "text": [
      "1622/3426 [=============>................] - ETA: 2:02"
     ]
    },
    {
     "name": "stderr",
     "output_type": "stream",
     "text": [
      "1623it [01:50,  8.84it/s]"
     ]
    },
    {
     "name": "stdout",
     "output_type": "stream",
     "text": [
      "1624/3426 [=============>................] - ETA: 2:02"
     ]
    },
    {
     "name": "stderr",
     "output_type": "stream",
     "text": [
      "1625it [01:50,  8.78it/s]"
     ]
    },
    {
     "name": "stdout",
     "output_type": "stream",
     "text": [
      "1626/3426 [=============>................] - ETA: 2:02"
     ]
    },
    {
     "name": "stderr",
     "output_type": "stream",
     "text": [
      "1627it [01:50,  9.12it/s]"
     ]
    },
    {
     "name": "stdout",
     "output_type": "stream",
     "text": [
      "1628/3426 [=============>................] - ETA: 2:02"
     ]
    },
    {
     "name": "stderr",
     "output_type": "stream",
     "text": [
      "1629it [01:51, 10.23it/s]"
     ]
    },
    {
     "name": "stdout",
     "output_type": "stream",
     "text": [
      "1630/3426 [=============>................] - ETA: 2:02"
     ]
    },
    {
     "name": "stderr",
     "output_type": "stream",
     "text": [
      "1631it [01:51, 11.60it/s]"
     ]
    },
    {
     "name": "stdout",
     "output_type": "stream",
     "text": [
      "1632/3426 [=============>................] - ETA: 2:02"
     ]
    },
    {
     "name": "stderr",
     "output_type": "stream",
     "text": [
      "1633it [01:51, 12.69it/s]"
     ]
    },
    {
     "name": "stdout",
     "output_type": "stream",
     "text": [
      "1634/3426 [=============>................] - ETA: 2:02"
     ]
    },
    {
     "name": "stderr",
     "output_type": "stream",
     "text": [
      "1635it [01:51, 13.01it/s]"
     ]
    },
    {
     "name": "stdout",
     "output_type": "stream",
     "text": [
      "1636/3426 [=============>................] - ETA: 2:02"
     ]
    },
    {
     "name": "stderr",
     "output_type": "stream",
     "text": [
      "1637it [01:51, 10.56it/s]"
     ]
    },
    {
     "name": "stdout",
     "output_type": "stream",
     "text": [
      "1638/3426 [=============>................] - ETA: 2:02"
     ]
    },
    {
     "name": "stderr",
     "output_type": "stream",
     "text": [
      "1639it [01:51, 11.76it/s]"
     ]
    },
    {
     "name": "stdout",
     "output_type": "stream",
     "text": [
      "1640/3426 [=============>................] - ETA: 2:02"
     ]
    },
    {
     "name": "stderr",
     "output_type": "stream",
     "text": [
      "1641it [01:52,  9.75it/s]"
     ]
    },
    {
     "name": "stdout",
     "output_type": "stream",
     "text": [
      "1642/3426 [=============>................] - ETA: 2:02"
     ]
    },
    {
     "name": "stderr",
     "output_type": "stream",
     "text": [
      "1643it [01:52,  7.82it/s]"
     ]
    },
    {
     "name": "stdout",
     "output_type": "stream",
     "text": [
      "1644/3426 [=============>................] - ETA: 2:02"
     ]
    },
    {
     "name": "stderr",
     "output_type": "stream",
     "text": [
      "1645it [01:52,  8.22it/s]"
     ]
    },
    {
     "name": "stdout",
     "output_type": "stream",
     "text": [
      "1646/3426 [=============>................] - ETA: 2:02"
     ]
    },
    {
     "name": "stderr",
     "output_type": "stream",
     "text": [
      "1647it [01:52,  9.29it/s]"
     ]
    },
    {
     "name": "stdout",
     "output_type": "stream",
     "text": [
      "1648/3426 [=============>................] - ETA: 2:01"
     ]
    },
    {
     "name": "stderr",
     "output_type": "stream",
     "text": [
      "1649it [01:53,  9.52it/s]"
     ]
    },
    {
     "name": "stdout",
     "output_type": "stream",
     "text": [
      "1650/3426 [=============>................] - ETA: 2:01"
     ]
    },
    {
     "name": "stderr",
     "output_type": "stream",
     "text": [
      "1651it [01:53, 10.81it/s]"
     ]
    },
    {
     "name": "stdout",
     "output_type": "stream",
     "text": [
      "1652/3426 [=============>................] - ETA: 2:01"
     ]
    },
    {
     "name": "stderr",
     "output_type": "stream",
     "text": [
      "1653it [01:53, 11.21it/s]"
     ]
    },
    {
     "name": "stdout",
     "output_type": "stream",
     "text": [
      "1653/3426 [=============>................] - ETA: 2:01"
     ]
    },
    {
     "name": "stderr",
     "output_type": "stream",
     "text": [
      "1655it [01:53, 12.02it/s]"
     ]
    },
    {
     "name": "stdout",
     "output_type": "stream",
     "text": [
      "1656/3426 [=============>................] - ETA: 2:01"
     ]
    },
    {
     "name": "stderr",
     "output_type": "stream",
     "text": [
      "1657it [01:53, 10.61it/s]"
     ]
    },
    {
     "name": "stdout",
     "output_type": "stream",
     "text": [
      "1658/3426 [=============>................] - ETA: 2:01"
     ]
    },
    {
     "name": "stderr",
     "output_type": "stream",
     "text": [
      "1659it [01:53,  9.52it/s]"
     ]
    },
    {
     "name": "stdout",
     "output_type": "stream",
     "text": [
      "1660/3426 [=============>................] - ETA: 2:01"
     ]
    },
    {
     "name": "stderr",
     "output_type": "stream",
     "text": [
      "1661it [01:54,  9.47it/s]"
     ]
    },
    {
     "name": "stdout",
     "output_type": "stream",
     "text": [
      "1662/3426 [=============>................] - ETA: 2:01"
     ]
    },
    {
     "name": "stderr",
     "output_type": "stream",
     "text": [
      "1663it [01:54, 10.75it/s]"
     ]
    },
    {
     "name": "stdout",
     "output_type": "stream",
     "text": [
      "1664/3426 [=============>................] - ETA: 2:01"
     ]
    },
    {
     "name": "stderr",
     "output_type": "stream",
     "text": [
      "1665it [01:54, 11.56it/s]"
     ]
    },
    {
     "name": "stdout",
     "output_type": "stream",
     "text": [
      "1666/3426 [=============>................] - ETA: 2:01"
     ]
    },
    {
     "name": "stderr",
     "output_type": "stream",
     "text": [
      "1667it [01:54, 11.08it/s]"
     ]
    },
    {
     "name": "stdout",
     "output_type": "stream",
     "text": [
      "1668/3426 [=============>................] - ETA: 2:01"
     ]
    },
    {
     "name": "stderr",
     "output_type": "stream",
     "text": [
      "1669it [01:54, 10.60it/s]"
     ]
    },
    {
     "name": "stdout",
     "output_type": "stream",
     "text": [
      "1670/3426 [=============>................] - ETA: 2:01"
     ]
    },
    {
     "name": "stderr",
     "output_type": "stream",
     "text": [
      "1671it [01:55,  6.95it/s]"
     ]
    },
    {
     "name": "stdout",
     "output_type": "stream",
     "text": [
      "1672/3426 [=============>................] - ETA: 2:01"
     ]
    },
    {
     "name": "stderr",
     "output_type": "stream",
     "text": [
      "1673it [01:55,  8.42it/s]"
     ]
    },
    {
     "name": "stdout",
     "output_type": "stream",
     "text": [
      "1674/3426 [=============>................] - ETA: 2:01"
     ]
    },
    {
     "name": "stderr",
     "output_type": "stream",
     "text": [
      "1675it [01:55,  9.72it/s]"
     ]
    },
    {
     "name": "stdout",
     "output_type": "stream",
     "text": [
      "1676/3426 [=============>................] - ETA: 2:00"
     ]
    },
    {
     "name": "stderr",
     "output_type": "stream",
     "text": [
      "1677it [01:55,  9.78it/s]"
     ]
    },
    {
     "name": "stdout",
     "output_type": "stream",
     "text": [
      "1678/3426 [=============>................] - ETA: 2:00"
     ]
    },
    {
     "name": "stderr",
     "output_type": "stream",
     "text": [
      "1679it [01:56, 10.08it/s]"
     ]
    },
    {
     "name": "stdout",
     "output_type": "stream",
     "text": [
      "1680/3426 [=============>................] - ETA: 2:00"
     ]
    },
    {
     "name": "stderr",
     "output_type": "stream",
     "text": [
      "1681it [01:56, 10.88it/s]"
     ]
    },
    {
     "name": "stdout",
     "output_type": "stream",
     "text": [
      "1682/3426 [=============>................] - ETA: 2:00"
     ]
    },
    {
     "name": "stderr",
     "output_type": "stream",
     "text": [
      "1683it [01:56, 11.32it/s]"
     ]
    },
    {
     "name": "stdout",
     "output_type": "stream",
     "text": [
      "1684/3426 [=============>................] - ETA: 2:00"
     ]
    },
    {
     "name": "stderr",
     "output_type": "stream",
     "text": [
      "1685it [01:56, 10.93it/s]"
     ]
    },
    {
     "name": "stdout",
     "output_type": "stream",
     "text": [
      "1686/3426 [=============>................] - ETA: 2:00"
     ]
    },
    {
     "name": "stderr",
     "output_type": "stream",
     "text": [
      "1687it [01:56, 10.61it/s]"
     ]
    },
    {
     "name": "stdout",
     "output_type": "stream",
     "text": [
      "1688/3426 [=============>................] - ETA: 2:00"
     ]
    },
    {
     "name": "stderr",
     "output_type": "stream",
     "text": [
      "1689it [01:56, 11.12it/s]"
     ]
    },
    {
     "name": "stdout",
     "output_type": "stream",
     "text": [
      "1690/3426 [=============>................] - ETA: 2:00"
     ]
    },
    {
     "name": "stderr",
     "output_type": "stream",
     "text": [
      "1691it [01:57, 11.55it/s]"
     ]
    },
    {
     "name": "stdout",
     "output_type": "stream",
     "text": [
      "1692/3426 [=============>................] - ETA: 2:00"
     ]
    },
    {
     "name": "stderr",
     "output_type": "stream",
     "text": [
      "1693it [01:57, 11.65it/s]"
     ]
    },
    {
     "name": "stdout",
     "output_type": "stream",
     "text": [
      "1694/3426 [=============>................] - ETA: 1:59"
     ]
    },
    {
     "name": "stderr",
     "output_type": "stream",
     "text": [
      "1695it [01:57, 12.25it/s]"
     ]
    },
    {
     "name": "stdout",
     "output_type": "stream",
     "text": [
      "1696/3426 [=============>................] - ETA: 1:59"
     ]
    },
    {
     "name": "stderr",
     "output_type": "stream",
     "text": [
      "1697it [01:57, 13.02it/s]"
     ]
    },
    {
     "name": "stdout",
     "output_type": "stream",
     "text": [
      "1698/3426 [=============>................] - ETA: 1:59"
     ]
    },
    {
     "name": "stderr",
     "output_type": "stream",
     "text": [
      "1699it [01:57, 12.99it/s]"
     ]
    },
    {
     "name": "stdout",
     "output_type": "stream",
     "text": [
      "1700/3426 [=============>................] - ETA: 1:59"
     ]
    },
    {
     "name": "stderr",
     "output_type": "stream",
     "text": [
      "1701it [01:57, 13.37it/s]"
     ]
    },
    {
     "name": "stdout",
     "output_type": "stream",
     "text": [
      "1702/3426 [=============>................] - ETA: 1:59"
     ]
    },
    {
     "name": "stderr",
     "output_type": "stream",
     "text": [
      "1703it [01:57, 12.96it/s]"
     ]
    },
    {
     "name": "stdout",
     "output_type": "stream",
     "text": [
      "1704/3426 [=============>................] - ETA: 1:59"
     ]
    },
    {
     "name": "stderr",
     "output_type": "stream",
     "text": [
      "1705it [01:58, 10.28it/s]"
     ]
    },
    {
     "name": "stdout",
     "output_type": "stream",
     "text": [
      "1706/3426 [=============>................] - ETA: 1:59"
     ]
    },
    {
     "name": "stderr",
     "output_type": "stream",
     "text": [
      "1707it [01:58, 10.65it/s]"
     ]
    },
    {
     "name": "stdout",
     "output_type": "stream",
     "text": [
      "1708/3426 [=============>................] - ETA: 1:59"
     ]
    },
    {
     "name": "stderr",
     "output_type": "stream",
     "text": [
      "1709it [01:58, 11.55it/s]"
     ]
    },
    {
     "name": "stdout",
     "output_type": "stream",
     "text": [
      "1710/3426 [=============>................] - ETA: 1:59"
     ]
    },
    {
     "name": "stderr",
     "output_type": "stream",
     "text": [
      "1711it [01:58, 11.49it/s]"
     ]
    },
    {
     "name": "stdout",
     "output_type": "stream",
     "text": [
      "1712/3426 [=============>................] - ETA: 1:59"
     ]
    },
    {
     "name": "stderr",
     "output_type": "stream",
     "text": [
      "1713it [01:58, 11.64it/s]"
     ]
    },
    {
     "name": "stdout",
     "output_type": "stream",
     "text": [
      "1714/3426 [==============>...............] - ETA: 1:58"
     ]
    },
    {
     "name": "stderr",
     "output_type": "stream",
     "text": [
      "1715it [01:59, 11.45it/s]"
     ]
    },
    {
     "name": "stdout",
     "output_type": "stream",
     "text": [
      "1716/3426 [==============>...............] - ETA: 1:58"
     ]
    },
    {
     "name": "stderr",
     "output_type": "stream",
     "text": [
      "1717it [01:59, 11.75it/s]"
     ]
    },
    {
     "name": "stdout",
     "output_type": "stream",
     "text": [
      "1718/3426 [==============>...............] - ETA: 1:58"
     ]
    },
    {
     "name": "stderr",
     "output_type": "stream",
     "text": [
      "1719it [01:59, 12.34it/s]"
     ]
    },
    {
     "name": "stdout",
     "output_type": "stream",
     "text": [
      "1720/3426 [==============>...............] - ETA: 1:58"
     ]
    },
    {
     "name": "stderr",
     "output_type": "stream",
     "text": [
      "1721it [01:59, 12.94it/s]"
     ]
    },
    {
     "name": "stdout",
     "output_type": "stream",
     "text": [
      "1722/3426 [==============>...............] - ETA: 1:58"
     ]
    },
    {
     "name": "stderr",
     "output_type": "stream",
     "text": [
      "1723it [01:59, 12.57it/s]"
     ]
    },
    {
     "name": "stdout",
     "output_type": "stream",
     "text": [
      "1724/3426 [==============>...............] - ETA: 1:58"
     ]
    },
    {
     "name": "stderr",
     "output_type": "stream",
     "text": [
      "1725it [01:59, 12.03it/s]"
     ]
    },
    {
     "name": "stdout",
     "output_type": "stream",
     "text": [
      "1726/3426 [==============>...............] - ETA: 1:58"
     ]
    },
    {
     "name": "stderr",
     "output_type": "stream",
     "text": [
      "1727it [02:00, 12.18it/s]"
     ]
    },
    {
     "name": "stdout",
     "output_type": "stream",
     "text": [
      "1728/3426 [==============>...............] - ETA: 1:58"
     ]
    },
    {
     "name": "stderr",
     "output_type": "stream",
     "text": [
      "1729it [02:00, 12.26it/s]"
     ]
    },
    {
     "name": "stdout",
     "output_type": "stream",
     "text": [
      "1730/3426 [==============>...............] - ETA: 1:58"
     ]
    },
    {
     "name": "stderr",
     "output_type": "stream",
     "text": [
      "1731it [02:00, 11.74it/s]"
     ]
    },
    {
     "name": "stdout",
     "output_type": "stream",
     "text": [
      "1732/3426 [==============>...............] - ETA: 1:57"
     ]
    },
    {
     "name": "stderr",
     "output_type": "stream",
     "text": [
      "1733it [02:00, 11.65it/s]"
     ]
    },
    {
     "name": "stdout",
     "output_type": "stream",
     "text": [
      "1734/3426 [==============>...............] - ETA: 1:57"
     ]
    },
    {
     "name": "stderr",
     "output_type": "stream",
     "text": [
      "1735it [02:00, 12.28it/s]"
     ]
    },
    {
     "name": "stdout",
     "output_type": "stream",
     "text": [
      "1736/3426 [==============>...............] - ETA: 1:57"
     ]
    },
    {
     "name": "stderr",
     "output_type": "stream",
     "text": [
      "1737it [02:00, 12.83it/s]"
     ]
    },
    {
     "name": "stdout",
     "output_type": "stream",
     "text": [
      "1738/3426 [==============>...............] - ETA: 1:57"
     ]
    },
    {
     "name": "stderr",
     "output_type": "stream",
     "text": [
      "1739it [02:00, 13.52it/s]"
     ]
    },
    {
     "name": "stdout",
     "output_type": "stream",
     "text": [
      "1740/3426 [==============>...............] - ETA: 1:57"
     ]
    },
    {
     "name": "stderr",
     "output_type": "stream",
     "text": [
      "1741it [02:01, 11.76it/s]"
     ]
    },
    {
     "name": "stdout",
     "output_type": "stream",
     "text": [
      "1742/3426 [==============>...............] - ETA: 1:57"
     ]
    },
    {
     "name": "stderr",
     "output_type": "stream",
     "text": [
      "1743it [02:01, 11.00it/s]"
     ]
    },
    {
     "name": "stdout",
     "output_type": "stream",
     "text": [
      "1744/3426 [==============>...............] - ETA: 1:57"
     ]
    },
    {
     "name": "stderr",
     "output_type": "stream",
     "text": [
      "1745it [02:01, 11.75it/s]"
     ]
    },
    {
     "name": "stdout",
     "output_type": "stream",
     "text": [
      "1746/3426 [==============>...............] - ETA: 1:57"
     ]
    },
    {
     "name": "stderr",
     "output_type": "stream",
     "text": [
      "1747it [02:01, 12.32it/s]"
     ]
    },
    {
     "name": "stdout",
     "output_type": "stream",
     "text": [
      "1748/3426 [==============>...............] - ETA: 1:56"
     ]
    },
    {
     "name": "stderr",
     "output_type": "stream",
     "text": [
      "1749it [02:01, 12.81it/s]"
     ]
    },
    {
     "name": "stdout",
     "output_type": "stream",
     "text": [
      "1750/3426 [==============>...............] - ETA: 1:56"
     ]
    },
    {
     "name": "stderr",
     "output_type": "stream",
     "text": [
      "1751it [02:01, 13.36it/s]"
     ]
    },
    {
     "name": "stdout",
     "output_type": "stream",
     "text": [
      "1752/3426 [==============>...............] - ETA: 1:56"
     ]
    },
    {
     "name": "stderr",
     "output_type": "stream",
     "text": [
      "1753it [02:02, 13.64it/s]"
     ]
    },
    {
     "name": "stdout",
     "output_type": "stream",
     "text": [
      "1754/3426 [==============>...............] - ETA: 1:56"
     ]
    },
    {
     "name": "stderr",
     "output_type": "stream",
     "text": [
      "1755it [02:02, 13.61it/s]"
     ]
    },
    {
     "name": "stdout",
     "output_type": "stream",
     "text": [
      "1756/3426 [==============>...............] - ETA: 1:56"
     ]
    },
    {
     "name": "stderr",
     "output_type": "stream",
     "text": [
      "1757it [02:02, 13.88it/s]"
     ]
    },
    {
     "name": "stdout",
     "output_type": "stream",
     "text": [
      "1758/3426 [==============>...............] - ETA: 1:56"
     ]
    },
    {
     "name": "stderr",
     "output_type": "stream",
     "text": [
      "1759it [02:02, 13.85it/s]"
     ]
    },
    {
     "name": "stdout",
     "output_type": "stream",
     "text": [
      "1760/3426 [==============>...............] - ETA: 1:56"
     ]
    },
    {
     "name": "stderr",
     "output_type": "stream",
     "text": [
      "1761it [02:02, 13.18it/s]"
     ]
    },
    {
     "name": "stdout",
     "output_type": "stream",
     "text": [
      "1762/3426 [==============>...............] - ETA: 1:56"
     ]
    },
    {
     "name": "stderr",
     "output_type": "stream",
     "text": [
      "1763it [02:02, 12.85it/s]"
     ]
    },
    {
     "name": "stdout",
     "output_type": "stream",
     "text": [
      "1764/3426 [==============>...............] - ETA: 1:55"
     ]
    },
    {
     "name": "stderr",
     "output_type": "stream",
     "text": [
      "1765it [02:02, 13.23it/s]"
     ]
    },
    {
     "name": "stdout",
     "output_type": "stream",
     "text": [
      "1766/3426 [==============>...............] - ETA: 1:55"
     ]
    },
    {
     "name": "stderr",
     "output_type": "stream",
     "text": [
      "1767it [02:03, 13.80it/s]"
     ]
    },
    {
     "name": "stdout",
     "output_type": "stream",
     "text": [
      "1768/3426 [==============>...............] - ETA: 1:55"
     ]
    },
    {
     "name": "stderr",
     "output_type": "stream",
     "text": [
      "1769it [02:03, 12.42it/s]"
     ]
    },
    {
     "name": "stdout",
     "output_type": "stream",
     "text": [
      "1770/3426 [==============>...............] - ETA: 1:55"
     ]
    },
    {
     "name": "stderr",
     "output_type": "stream",
     "text": [
      "1771it [02:03, 12.38it/s]"
     ]
    },
    {
     "name": "stdout",
     "output_type": "stream",
     "text": [
      "1772/3426 [==============>...............] - ETA: 1:55"
     ]
    },
    {
     "name": "stderr",
     "output_type": "stream",
     "text": [
      "1773it [02:03, 13.34it/s]"
     ]
    },
    {
     "name": "stdout",
     "output_type": "stream",
     "text": [
      "1774/3426 [==============>...............] - ETA: 1:55"
     ]
    },
    {
     "name": "stderr",
     "output_type": "stream",
     "text": [
      "1775it [02:03, 13.51it/s]"
     ]
    },
    {
     "name": "stdout",
     "output_type": "stream",
     "text": [
      "1776/3426 [==============>...............] - ETA: 1:55"
     ]
    },
    {
     "name": "stderr",
     "output_type": "stream",
     "text": [
      "1777it [02:03, 12.57it/s]"
     ]
    },
    {
     "name": "stdout",
     "output_type": "stream",
     "text": [
      "1778/3426 [==============>...............] - ETA: 1:55"
     ]
    },
    {
     "name": "stderr",
     "output_type": "stream",
     "text": [
      "1779it [02:04, 12.84it/s]"
     ]
    },
    {
     "name": "stdout",
     "output_type": "stream",
     "text": [
      "1780/3426 [==============>...............] - ETA: 1:54"
     ]
    },
    {
     "name": "stderr",
     "output_type": "stream",
     "text": [
      "1781it [02:04, 11.11it/s]"
     ]
    },
    {
     "name": "stdout",
     "output_type": "stream",
     "text": [
      "1782/3426 [==============>...............] - ETA: 1:54"
     ]
    },
    {
     "name": "stderr",
     "output_type": "stream",
     "text": [
      "1783it [02:04, 11.55it/s]"
     ]
    },
    {
     "name": "stdout",
     "output_type": "stream",
     "text": [
      "1784/3426 [==============>...............] - ETA: 1:54"
     ]
    },
    {
     "name": "stderr",
     "output_type": "stream",
     "text": [
      "1785it [02:04, 12.46it/s]"
     ]
    },
    {
     "name": "stdout",
     "output_type": "stream",
     "text": [
      "1786/3426 [==============>...............] - ETA: 1:54"
     ]
    },
    {
     "name": "stderr",
     "output_type": "stream",
     "text": [
      "1787it [02:04, 13.23it/s]"
     ]
    },
    {
     "name": "stdout",
     "output_type": "stream",
     "text": [
      "1788/3426 [==============>...............] - ETA: 1:54"
     ]
    },
    {
     "name": "stderr",
     "output_type": "stream",
     "text": [
      "1789it [02:04, 13.30it/s]"
     ]
    },
    {
     "name": "stdout",
     "output_type": "stream",
     "text": [
      "1790/3426 [==============>...............] - ETA: 1:54"
     ]
    },
    {
     "name": "stderr",
     "output_type": "stream",
     "text": [
      "1791it [02:05, 13.48it/s]"
     ]
    },
    {
     "name": "stdout",
     "output_type": "stream",
     "text": [
      "1792/3426 [==============>...............] - ETA: 1:54"
     ]
    },
    {
     "name": "stderr",
     "output_type": "stream",
     "text": [
      "1793it [02:05, 13.11it/s]"
     ]
    },
    {
     "name": "stdout",
     "output_type": "stream",
     "text": [
      "1794/3426 [==============>...............] - ETA: 1:54"
     ]
    },
    {
     "name": "stderr",
     "output_type": "stream",
     "text": [
      "1795it [02:05, 13.73it/s]"
     ]
    },
    {
     "name": "stdout",
     "output_type": "stream",
     "text": [
      "1796/3426 [==============>...............] - ETA: 1:53"
     ]
    },
    {
     "name": "stderr",
     "output_type": "stream",
     "text": [
      "1797it [02:05, 13.99it/s]"
     ]
    },
    {
     "name": "stdout",
     "output_type": "stream",
     "text": [
      "1798/3426 [==============>...............] - ETA: 1:53"
     ]
    },
    {
     "name": "stderr",
     "output_type": "stream",
     "text": [
      "1799it [02:05, 13.25it/s]"
     ]
    },
    {
     "name": "stdout",
     "output_type": "stream",
     "text": [
      "1800/3426 [==============>...............] - ETA: 1:53"
     ]
    },
    {
     "name": "stderr",
     "output_type": "stream",
     "text": [
      "1801it [02:05, 13.02it/s]"
     ]
    },
    {
     "name": "stdout",
     "output_type": "stream",
     "text": [
      "1802/3426 [==============>...............] - ETA: 1:53"
     ]
    },
    {
     "name": "stderr",
     "output_type": "stream",
     "text": [
      "1803it [02:05, 13.37it/s]"
     ]
    },
    {
     "name": "stdout",
     "output_type": "stream",
     "text": [
      "1804/3426 [==============>...............] - ETA: 1:53"
     ]
    },
    {
     "name": "stderr",
     "output_type": "stream",
     "text": [
      "1805it [02:06, 13.16it/s]"
     ]
    },
    {
     "name": "stdout",
     "output_type": "stream",
     "text": [
      "1806/3426 [==============>...............] - ETA: 1:53"
     ]
    },
    {
     "name": "stderr",
     "output_type": "stream",
     "text": [
      "1807it [02:06, 13.61it/s]"
     ]
    },
    {
     "name": "stdout",
     "output_type": "stream",
     "text": [
      "1808/3426 [==============>...............] - ETA: 1:53"
     ]
    },
    {
     "name": "stderr",
     "output_type": "stream",
     "text": [
      "1809it [02:06,  9.65it/s]"
     ]
    },
    {
     "name": "stdout",
     "output_type": "stream",
     "text": [
      "1810/3426 [==============>...............] - ETA: 1:53"
     ]
    },
    {
     "name": "stderr",
     "output_type": "stream",
     "text": [
      "1811it [02:06, 10.76it/s]"
     ]
    },
    {
     "name": "stdout",
     "output_type": "stream",
     "text": [
      "1812/3426 [==============>...............] - ETA: 1:52"
     ]
    },
    {
     "name": "stderr",
     "output_type": "stream",
     "text": [
      "1813it [02:06, 11.51it/s]"
     ]
    },
    {
     "name": "stdout",
     "output_type": "stream",
     "text": [
      "1814/3426 [==============>...............] - ETA: 1:52"
     ]
    },
    {
     "name": "stderr",
     "output_type": "stream",
     "text": [
      "1815it [02:06, 12.31it/s]"
     ]
    },
    {
     "name": "stdout",
     "output_type": "stream",
     "text": [
      "1816/3426 [==============>...............] - ETA: 1:52"
     ]
    },
    {
     "name": "stderr",
     "output_type": "stream",
     "text": [
      "1817it [02:07, 12.00it/s]"
     ]
    },
    {
     "name": "stdout",
     "output_type": "stream",
     "text": [
      "1818/3426 [==============>...............] - ETA: 1:52"
     ]
    },
    {
     "name": "stderr",
     "output_type": "stream",
     "text": [
      "1819it [02:07, 10.70it/s]"
     ]
    },
    {
     "name": "stdout",
     "output_type": "stream",
     "text": [
      "1820/3426 [==============>...............] - ETA: 1:52"
     ]
    },
    {
     "name": "stderr",
     "output_type": "stream",
     "text": [
      "1821it [02:07, 11.10it/s]"
     ]
    },
    {
     "name": "stdout",
     "output_type": "stream",
     "text": [
      "1822/3426 [==============>...............] - ETA: 1:52"
     ]
    },
    {
     "name": "stderr",
     "output_type": "stream",
     "text": [
      "1823it [02:07, 11.99it/s]"
     ]
    },
    {
     "name": "stdout",
     "output_type": "stream",
     "text": [
      "1824/3426 [==============>...............] - ETA: 1:52"
     ]
    },
    {
     "name": "stderr",
     "output_type": "stream",
     "text": [
      "1825it [02:07, 12.68it/s]"
     ]
    },
    {
     "name": "stdout",
     "output_type": "stream",
     "text": [
      "1826/3426 [==============>...............] - ETA: 1:52"
     ]
    },
    {
     "name": "stderr",
     "output_type": "stream",
     "text": [
      "1827it [02:08, 12.63it/s]"
     ]
    },
    {
     "name": "stdout",
     "output_type": "stream",
     "text": [
      "1828/3426 [===============>..............] - ETA: 1:52"
     ]
    },
    {
     "name": "stderr",
     "output_type": "stream",
     "text": [
      "1829it [02:08, 13.03it/s]"
     ]
    },
    {
     "name": "stdout",
     "output_type": "stream",
     "text": [
      "1830/3426 [===============>..............] - ETA: 1:51"
     ]
    },
    {
     "name": "stderr",
     "output_type": "stream",
     "text": [
      "1831it [02:08, 13.03it/s]"
     ]
    },
    {
     "name": "stdout",
     "output_type": "stream",
     "text": [
      "1832/3426 [===============>..............] - ETA: 1:51"
     ]
    },
    {
     "name": "stderr",
     "output_type": "stream",
     "text": [
      "1833it [02:08, 11.62it/s]"
     ]
    },
    {
     "name": "stdout",
     "output_type": "stream",
     "text": [
      "1834/3426 [===============>..............] - ETA: 1:51"
     ]
    },
    {
     "name": "stderr",
     "output_type": "stream",
     "text": [
      "1835it [02:08, 11.38it/s]"
     ]
    },
    {
     "name": "stdout",
     "output_type": "stream",
     "text": [
      "1836/3426 [===============>..............] - ETA: 1:51"
     ]
    },
    {
     "name": "stderr",
     "output_type": "stream",
     "text": [
      "1837it [02:08, 10.41it/s]"
     ]
    },
    {
     "name": "stdout",
     "output_type": "stream",
     "text": [
      "1838/3426 [===============>..............] - ETA: 1:51"
     ]
    },
    {
     "name": "stderr",
     "output_type": "stream",
     "text": [
      "1839it [02:09, 10.97it/s]"
     ]
    },
    {
     "name": "stdout",
     "output_type": "stream",
     "text": [
      "1840/3426 [===============>..............] - ETA: 1:51"
     ]
    },
    {
     "name": "stderr",
     "output_type": "stream",
     "text": [
      "1841it [02:09, 12.16it/s]"
     ]
    },
    {
     "name": "stdout",
     "output_type": "stream",
     "text": [
      "1842/3426 [===============>..............] - ETA: 1:51"
     ]
    },
    {
     "name": "stderr",
     "output_type": "stream",
     "text": [
      "1843it [02:09, 12.42it/s]"
     ]
    },
    {
     "name": "stdout",
     "output_type": "stream",
     "text": [
      "1844/3426 [===============>..............] - ETA: 1:51"
     ]
    },
    {
     "name": "stderr",
     "output_type": "stream",
     "text": [
      "1845it [02:09, 12.20it/s]"
     ]
    },
    {
     "name": "stdout",
     "output_type": "stream",
     "text": [
      "1846/3426 [===============>..............] - ETA: 1:51"
     ]
    },
    {
     "name": "stderr",
     "output_type": "stream",
     "text": [
      "1847it [02:09, 12.28it/s]"
     ]
    },
    {
     "name": "stdout",
     "output_type": "stream",
     "text": [
      "1848/3426 [===============>..............] - ETA: 1:50"
     ]
    },
    {
     "name": "stderr",
     "output_type": "stream",
     "text": [
      "1849it [02:09, 12.45it/s]"
     ]
    },
    {
     "name": "stdout",
     "output_type": "stream",
     "text": [
      "1850/3426 [===============>..............] - ETA: 1:50"
     ]
    },
    {
     "name": "stderr",
     "output_type": "stream",
     "text": [
      "1851it [02:10, 12.65it/s]"
     ]
    },
    {
     "name": "stdout",
     "output_type": "stream",
     "text": [
      "1852/3426 [===============>..............] - ETA: 1:50"
     ]
    },
    {
     "name": "stderr",
     "output_type": "stream",
     "text": [
      "1853it [02:10, 12.47it/s]"
     ]
    },
    {
     "name": "stdout",
     "output_type": "stream",
     "text": [
      "1854/3426 [===============>..............] - ETA: 1:50"
     ]
    },
    {
     "name": "stderr",
     "output_type": "stream",
     "text": [
      "1855it [02:10, 10.89it/s]"
     ]
    },
    {
     "name": "stdout",
     "output_type": "stream",
     "text": [
      "1856/3426 [===============>..............] - ETA: 1:50"
     ]
    },
    {
     "name": "stderr",
     "output_type": "stream",
     "text": [
      "1857it [02:10, 11.74it/s]"
     ]
    },
    {
     "name": "stdout",
     "output_type": "stream",
     "text": [
      "1858/3426 [===============>..............] - ETA: 1:50"
     ]
    },
    {
     "name": "stderr",
     "output_type": "stream",
     "text": [
      "1859it [02:10, 12.34it/s]"
     ]
    },
    {
     "name": "stdout",
     "output_type": "stream",
     "text": [
      "1860/3426 [===============>..............] - ETA: 1:50"
     ]
    },
    {
     "name": "stderr",
     "output_type": "stream",
     "text": [
      "1861it [02:10, 13.13it/s]"
     ]
    },
    {
     "name": "stdout",
     "output_type": "stream",
     "text": [
      "1862/3426 [===============>..............] - ETA: 1:50"
     ]
    },
    {
     "name": "stderr",
     "output_type": "stream",
     "text": [
      "1863it [02:11, 11.97it/s]"
     ]
    },
    {
     "name": "stdout",
     "output_type": "stream",
     "text": [
      "1864/3426 [===============>..............] - ETA: 1:49"
     ]
    },
    {
     "name": "stderr",
     "output_type": "stream",
     "text": [
      "1865it [02:11, 12.73it/s]"
     ]
    },
    {
     "name": "stdout",
     "output_type": "stream",
     "text": [
      "1866/3426 [===============>..............] - ETA: 1:49"
     ]
    },
    {
     "name": "stderr",
     "output_type": "stream",
     "text": [
      "1867it [02:11, 13.23it/s]"
     ]
    },
    {
     "name": "stdout",
     "output_type": "stream",
     "text": [
      "1868/3426 [===============>..............] - ETA: 1:49"
     ]
    },
    {
     "name": "stderr",
     "output_type": "stream",
     "text": [
      "1869it [02:11, 13.06it/s]"
     ]
    },
    {
     "name": "stdout",
     "output_type": "stream",
     "text": [
      "1870/3426 [===============>..............] - ETA: 1:49"
     ]
    },
    {
     "name": "stderr",
     "output_type": "stream",
     "text": [
      "1871it [02:11, 11.80it/s]"
     ]
    },
    {
     "name": "stdout",
     "output_type": "stream",
     "text": [
      "1872/3426 [===============>..............] - ETA: 1:49"
     ]
    },
    {
     "name": "stderr",
     "output_type": "stream",
     "text": [
      "1873it [02:11, 11.30it/s]"
     ]
    },
    {
     "name": "stdout",
     "output_type": "stream",
     "text": [
      "1874/3426 [===============>..............] - ETA: 1:49"
     ]
    },
    {
     "name": "stderr",
     "output_type": "stream",
     "text": [
      "1875it [02:12, 11.14it/s]"
     ]
    },
    {
     "name": "stdout",
     "output_type": "stream",
     "text": [
      "1876/3426 [===============>..............] - ETA: 1:49"
     ]
    },
    {
     "name": "stderr",
     "output_type": "stream",
     "text": [
      "1877it [02:12, 11.61it/s]"
     ]
    },
    {
     "name": "stdout",
     "output_type": "stream",
     "text": [
      "1878/3426 [===============>..............] - ETA: 1:49"
     ]
    },
    {
     "name": "stderr",
     "output_type": "stream",
     "text": [
      "1879it [02:12, 11.25it/s]"
     ]
    },
    {
     "name": "stdout",
     "output_type": "stream",
     "text": [
      "1880/3426 [===============>..............] - ETA: 1:49"
     ]
    },
    {
     "name": "stderr",
     "output_type": "stream",
     "text": [
      "1881it [02:12, 11.45it/s]"
     ]
    },
    {
     "name": "stdout",
     "output_type": "stream",
     "text": [
      "1882/3426 [===============>..............] - ETA: 1:48"
     ]
    },
    {
     "name": "stderr",
     "output_type": "stream",
     "text": [
      "1883it [02:12, 12.00it/s]"
     ]
    },
    {
     "name": "stdout",
     "output_type": "stream",
     "text": [
      "1884/3426 [===============>..............] - ETA: 1:48"
     ]
    },
    {
     "name": "stderr",
     "output_type": "stream",
     "text": [
      "1885it [02:12, 12.46it/s]"
     ]
    },
    {
     "name": "stdout",
     "output_type": "stream",
     "text": [
      "1886/3426 [===============>..............] - ETA: 1:48"
     ]
    },
    {
     "name": "stderr",
     "output_type": "stream",
     "text": [
      "1887it [02:12, 13.34it/s]"
     ]
    },
    {
     "name": "stdout",
     "output_type": "stream",
     "text": [
      "1888/3426 [===============>..............] - ETA: 1:48"
     ]
    },
    {
     "name": "stderr",
     "output_type": "stream",
     "text": [
      "1889it [02:13, 13.47it/s]"
     ]
    },
    {
     "name": "stdout",
     "output_type": "stream",
     "text": [
      "1890/3426 [===============>..............] - ETA: 1:48"
     ]
    },
    {
     "name": "stderr",
     "output_type": "stream",
     "text": [
      "1891it [02:13, 12.71it/s]"
     ]
    },
    {
     "name": "stdout",
     "output_type": "stream",
     "text": [
      "1892/3426 [===============>..............] - ETA: 1:48"
     ]
    },
    {
     "name": "stderr",
     "output_type": "stream",
     "text": [
      "1893it [02:13, 11.10it/s]"
     ]
    },
    {
     "name": "stdout",
     "output_type": "stream",
     "text": [
      "1894/3426 [===============>..............] - ETA: 1:48"
     ]
    },
    {
     "name": "stderr",
     "output_type": "stream",
     "text": [
      "1895it [02:13, 11.83it/s]"
     ]
    },
    {
     "name": "stdout",
     "output_type": "stream",
     "text": [
      "1896/3426 [===============>..............] - ETA: 1:48"
     ]
    },
    {
     "name": "stderr",
     "output_type": "stream",
     "text": [
      "1897it [02:13, 11.19it/s]"
     ]
    },
    {
     "name": "stdout",
     "output_type": "stream",
     "text": [
      "1898/3426 [===============>..............] - ETA: 1:47"
     ]
    },
    {
     "name": "stderr",
     "output_type": "stream",
     "text": [
      "1899it [02:14, 12.11it/s]"
     ]
    },
    {
     "name": "stdout",
     "output_type": "stream",
     "text": [
      "1900/3426 [===============>..............] - ETA: 1:47"
     ]
    },
    {
     "name": "stderr",
     "output_type": "stream",
     "text": [
      "1901it [02:14, 12.57it/s]"
     ]
    },
    {
     "name": "stdout",
     "output_type": "stream",
     "text": [
      "1902/3426 [===============>..............] - ETA: 1:47"
     ]
    },
    {
     "name": "stderr",
     "output_type": "stream",
     "text": [
      "1903it [02:14, 13.42it/s]"
     ]
    },
    {
     "name": "stdout",
     "output_type": "stream",
     "text": [
      "1904/3426 [===============>..............] - ETA: 1:47"
     ]
    },
    {
     "name": "stderr",
     "output_type": "stream",
     "text": [
      "1905it [02:14, 11.49it/s]"
     ]
    },
    {
     "name": "stdout",
     "output_type": "stream",
     "text": [
      "1906/3426 [===============>..............] - ETA: 1:47"
     ]
    },
    {
     "name": "stderr",
     "output_type": "stream",
     "text": [
      "1907it [02:14,  7.88it/s]"
     ]
    },
    {
     "name": "stdout",
     "output_type": "stream",
     "text": [
      "1908/3426 [===============>..............] - ETA: 1:47"
     ]
    },
    {
     "name": "stderr",
     "output_type": "stream",
     "text": [
      "1909it [02:15,  8.81it/s]"
     ]
    },
    {
     "name": "stdout",
     "output_type": "stream",
     "text": [
      "1910/3426 [===============>..............] - ETA: 1:47"
     ]
    },
    {
     "name": "stderr",
     "output_type": "stream",
     "text": [
      "1911it [02:15,  8.20it/s]"
     ]
    },
    {
     "name": "stdout",
     "output_type": "stream",
     "text": [
      "1912/3426 [===============>..............] - ETA: 1:47"
     ]
    },
    {
     "name": "stderr",
     "output_type": "stream",
     "text": [
      "1913it [02:15,  9.54it/s]"
     ]
    },
    {
     "name": "stdout",
     "output_type": "stream",
     "text": [
      "1914/3426 [===============>..............] - ETA: 1:47"
     ]
    },
    {
     "name": "stderr",
     "output_type": "stream",
     "text": [
      "1915it [02:15, 10.51it/s]"
     ]
    },
    {
     "name": "stdout",
     "output_type": "stream",
     "text": [
      "1916/3426 [===============>..............] - ETA: 1:47"
     ]
    },
    {
     "name": "stderr",
     "output_type": "stream",
     "text": [
      "1917it [02:15, 10.84it/s]"
     ]
    },
    {
     "name": "stdout",
     "output_type": "stream",
     "text": [
      "1918/3426 [===============>..............] - ETA: 1:46"
     ]
    },
    {
     "name": "stderr",
     "output_type": "stream",
     "text": [
      "1919it [02:15, 11.54it/s]"
     ]
    },
    {
     "name": "stdout",
     "output_type": "stream",
     "text": [
      "1920/3426 [===============>..............] - ETA: 1:46"
     ]
    },
    {
     "name": "stderr",
     "output_type": "stream",
     "text": [
      "1921it [02:16, 11.45it/s]"
     ]
    },
    {
     "name": "stdout",
     "output_type": "stream",
     "text": [
      "1922/3426 [===============>..............] - ETA: 1:46"
     ]
    },
    {
     "name": "stderr",
     "output_type": "stream",
     "text": [
      "1923it [02:16, 11.82it/s]"
     ]
    },
    {
     "name": "stdout",
     "output_type": "stream",
     "text": [
      "1924/3426 [===============>..............] - ETA: 1:46"
     ]
    },
    {
     "name": "stderr",
     "output_type": "stream",
     "text": [
      "1925it [02:16, 10.46it/s]"
     ]
    },
    {
     "name": "stdout",
     "output_type": "stream",
     "text": [
      "1926/3426 [===============>..............] - ETA: 1:46"
     ]
    },
    {
     "name": "stderr",
     "output_type": "stream",
     "text": [
      "1927it [02:16, 10.32it/s]"
     ]
    },
    {
     "name": "stdout",
     "output_type": "stream",
     "text": [
      "1928/3426 [===============>..............] - ETA: 1:46"
     ]
    },
    {
     "name": "stderr",
     "output_type": "stream",
     "text": [
      "1929it [02:16, 10.00it/s]"
     ]
    },
    {
     "name": "stdout",
     "output_type": "stream",
     "text": [
      "1930/3426 [===============>..............] - ETA: 1:46"
     ]
    },
    {
     "name": "stderr",
     "output_type": "stream",
     "text": [
      "1931it [02:17, 10.64it/s]"
     ]
    },
    {
     "name": "stdout",
     "output_type": "stream",
     "text": [
      "1932/3426 [===============>..............] - ETA: 1:46"
     ]
    },
    {
     "name": "stderr",
     "output_type": "stream",
     "text": [
      "1933it [02:17, 12.08it/s]"
     ]
    },
    {
     "name": "stdout",
     "output_type": "stream",
     "text": [
      "1934/3426 [===============>..............] - ETA: 1:45"
     ]
    },
    {
     "name": "stderr",
     "output_type": "stream",
     "text": [
      "1935it [02:17, 13.00it/s]"
     ]
    },
    {
     "name": "stdout",
     "output_type": "stream",
     "text": [
      "1936/3426 [===============>..............] - ETA: 1:45"
     ]
    },
    {
     "name": "stderr",
     "output_type": "stream",
     "text": [
      "1937it [02:17, 13.44it/s]"
     ]
    },
    {
     "name": "stdout",
     "output_type": "stream",
     "text": [
      "1938/3426 [===============>..............] - ETA: 1:45"
     ]
    },
    {
     "name": "stderr",
     "output_type": "stream",
     "text": [
      "1939it [02:17, 13.24it/s]"
     ]
    },
    {
     "name": "stdout",
     "output_type": "stream",
     "text": [
      "1940/3426 [===============>..............] - ETA: 1:45"
     ]
    },
    {
     "name": "stderr",
     "output_type": "stream",
     "text": [
      "1941it [02:17, 13.73it/s]"
     ]
    },
    {
     "name": "stdout",
     "output_type": "stream",
     "text": [
      "1942/3426 [================>.............] - ETA: 1:45"
     ]
    },
    {
     "name": "stderr",
     "output_type": "stream",
     "text": [
      "1943it [02:17, 13.14it/s]"
     ]
    },
    {
     "name": "stdout",
     "output_type": "stream",
     "text": [
      "1944/3426 [================>.............] - ETA: 1:45"
     ]
    },
    {
     "name": "stderr",
     "output_type": "stream",
     "text": [
      "1945it [02:18, 13.30it/s]"
     ]
    },
    {
     "name": "stdout",
     "output_type": "stream",
     "text": [
      "1946/3426 [================>.............] - ETA: 1:45"
     ]
    },
    {
     "name": "stderr",
     "output_type": "stream",
     "text": [
      "1947it [02:18, 12.35it/s]"
     ]
    },
    {
     "name": "stdout",
     "output_type": "stream",
     "text": [
      "1948/3426 [================>.............] - ETA: 1:45"
     ]
    },
    {
     "name": "stderr",
     "output_type": "stream",
     "text": [
      "1949it [02:18, 11.47it/s]"
     ]
    },
    {
     "name": "stdout",
     "output_type": "stream",
     "text": [
      "1950/3426 [================>.............] - ETA: 1:44"
     ]
    },
    {
     "name": "stderr",
     "output_type": "stream",
     "text": [
      "1951it [02:18, 11.34it/s]"
     ]
    },
    {
     "name": "stdout",
     "output_type": "stream",
     "text": [
      "1952/3426 [================>.............] - ETA: 1:44"
     ]
    },
    {
     "name": "stderr",
     "output_type": "stream",
     "text": [
      "1953it [02:18, 11.66it/s]"
     ]
    },
    {
     "name": "stdout",
     "output_type": "stream",
     "text": [
      "1954/3426 [================>.............] - ETA: 1:44"
     ]
    },
    {
     "name": "stderr",
     "output_type": "stream",
     "text": [
      "1955it [02:18, 12.35it/s]"
     ]
    },
    {
     "name": "stdout",
     "output_type": "stream",
     "text": [
      "1956/3426 [================>.............] - ETA: 1:44"
     ]
    },
    {
     "name": "stderr",
     "output_type": "stream",
     "text": [
      "1957it [02:19, 13.20it/s]"
     ]
    },
    {
     "name": "stdout",
     "output_type": "stream",
     "text": [
      "1958/3426 [================>.............] - ETA: 1:44"
     ]
    },
    {
     "name": "stderr",
     "output_type": "stream",
     "text": [
      "1959it [02:19, 13.03it/s]"
     ]
    },
    {
     "name": "stdout",
     "output_type": "stream",
     "text": [
      "1960/3426 [================>.............] - ETA: 1:44"
     ]
    },
    {
     "name": "stderr",
     "output_type": "stream",
     "text": [
      "1961it [02:19, 12.04it/s]"
     ]
    },
    {
     "name": "stdout",
     "output_type": "stream",
     "text": [
      "1962/3426 [================>.............] - ETA: 1:44"
     ]
    },
    {
     "name": "stderr",
     "output_type": "stream",
     "text": [
      "1963it [02:19, 10.70it/s]"
     ]
    },
    {
     "name": "stdout",
     "output_type": "stream",
     "text": [
      "1964/3426 [================>.............] - ETA: 1:44"
     ]
    },
    {
     "name": "stderr",
     "output_type": "stream",
     "text": [
      "1965it [02:19, 11.50it/s]"
     ]
    },
    {
     "name": "stdout",
     "output_type": "stream",
     "text": [
      "1966/3426 [================>.............] - ETA: 1:43"
     ]
    },
    {
     "name": "stderr",
     "output_type": "stream",
     "text": [
      "1967it [02:20, 11.87it/s]"
     ]
    },
    {
     "name": "stdout",
     "output_type": "stream",
     "text": [
      "1968/3426 [================>.............] - ETA: 1:43"
     ]
    },
    {
     "name": "stderr",
     "output_type": "stream",
     "text": [
      "1969it [02:20, 12.24it/s]"
     ]
    },
    {
     "name": "stdout",
     "output_type": "stream",
     "text": [
      "1970/3426 [================>.............] - ETA: 1:43"
     ]
    },
    {
     "name": "stderr",
     "output_type": "stream",
     "text": [
      "1971it [02:20, 13.20it/s]"
     ]
    },
    {
     "name": "stdout",
     "output_type": "stream",
     "text": [
      "1972/3426 [================>.............] - ETA: 1:43"
     ]
    },
    {
     "name": "stderr",
     "output_type": "stream",
     "text": [
      "1973it [02:20, 13.54it/s]"
     ]
    },
    {
     "name": "stdout",
     "output_type": "stream",
     "text": [
      "1974/3426 [================>.............] - ETA: 1:43"
     ]
    },
    {
     "name": "stderr",
     "output_type": "stream",
     "text": [
      "1975it [02:20, 13.71it/s]"
     ]
    },
    {
     "name": "stdout",
     "output_type": "stream",
     "text": [
      "1976/3426 [================>.............] - ETA: 1:43"
     ]
    },
    {
     "name": "stderr",
     "output_type": "stream",
     "text": [
      "1977it [02:20, 13.30it/s]"
     ]
    },
    {
     "name": "stdout",
     "output_type": "stream",
     "text": [
      "1978/3426 [================>.............] - ETA: 1:43"
     ]
    },
    {
     "name": "stderr",
     "output_type": "stream",
     "text": [
      "1979it [02:20, 11.71it/s]"
     ]
    },
    {
     "name": "stdout",
     "output_type": "stream",
     "text": [
      "1980/3426 [================>.............] - ETA: 1:43"
     ]
    },
    {
     "name": "stderr",
     "output_type": "stream",
     "text": [
      "1981it [02:21, 10.60it/s]"
     ]
    },
    {
     "name": "stdout",
     "output_type": "stream",
     "text": [
      "1982/3426 [================>.............] - ETA: 1:42"
     ]
    },
    {
     "name": "stderr",
     "output_type": "stream",
     "text": [
      "1983it [02:21, 11.63it/s]"
     ]
    },
    {
     "name": "stdout",
     "output_type": "stream",
     "text": [
      "1984/3426 [================>.............] - ETA: 1:42"
     ]
    },
    {
     "name": "stderr",
     "output_type": "stream",
     "text": [
      "1985it [02:21, 12.55it/s]"
     ]
    },
    {
     "name": "stdout",
     "output_type": "stream",
     "text": [
      "1986/3426 [================>.............] - ETA: 1:42"
     ]
    },
    {
     "name": "stderr",
     "output_type": "stream",
     "text": [
      "1987it [02:21, 12.52it/s]"
     ]
    },
    {
     "name": "stdout",
     "output_type": "stream",
     "text": [
      "1988/3426 [================>.............] - ETA: 1:42"
     ]
    },
    {
     "name": "stderr",
     "output_type": "stream",
     "text": [
      "1989it [02:21, 12.98it/s]"
     ]
    },
    {
     "name": "stdout",
     "output_type": "stream",
     "text": [
      "1990/3426 [================>.............] - ETA: 1:42"
     ]
    },
    {
     "name": "stderr",
     "output_type": "stream",
     "text": [
      "1991it [02:21, 13.62it/s]"
     ]
    },
    {
     "name": "stdout",
     "output_type": "stream",
     "text": [
      "1992/3426 [================>.............] - ETA: 1:42"
     ]
    },
    {
     "name": "stderr",
     "output_type": "stream",
     "text": [
      "1993it [02:22, 13.92it/s]"
     ]
    },
    {
     "name": "stdout",
     "output_type": "stream",
     "text": [
      "1994/3426 [================>.............] - ETA: 1:42"
     ]
    },
    {
     "name": "stderr",
     "output_type": "stream",
     "text": [
      "1995it [02:22, 11.53it/s]"
     ]
    },
    {
     "name": "stdout",
     "output_type": "stream",
     "text": [
      "1996/3426 [================>.............] - ETA: 1:42"
     ]
    },
    {
     "name": "stderr",
     "output_type": "stream",
     "text": [
      "1997it [02:22, 12.49it/s]"
     ]
    },
    {
     "name": "stdout",
     "output_type": "stream",
     "text": [
      "1998/3426 [================>.............] - ETA: 1:41"
     ]
    },
    {
     "name": "stderr",
     "output_type": "stream",
     "text": [
      "1999it [02:22, 12.12it/s]"
     ]
    },
    {
     "name": "stdout",
     "output_type": "stream",
     "text": [
      "2000/3426 [================>.............] - ETA: 1:41"
     ]
    },
    {
     "name": "stderr",
     "output_type": "stream",
     "text": [
      "2001it [02:22, 11.42it/s]"
     ]
    },
    {
     "name": "stdout",
     "output_type": "stream",
     "text": [
      "2002/3426 [================>.............] - ETA: 1:41"
     ]
    },
    {
     "name": "stderr",
     "output_type": "stream",
     "text": [
      "2003it [02:22, 12.38it/s]"
     ]
    },
    {
     "name": "stdout",
     "output_type": "stream",
     "text": [
      "2004/3426 [================>.............] - ETA: 1:41"
     ]
    },
    {
     "name": "stderr",
     "output_type": "stream",
     "text": [
      "2005it [02:23, 13.29it/s]"
     ]
    },
    {
     "name": "stdout",
     "output_type": "stream",
     "text": [
      "2006/3426 [================>.............] - ETA: 1:41"
     ]
    },
    {
     "name": "stderr",
     "output_type": "stream",
     "text": [
      "2007it [02:23, 13.47it/s]"
     ]
    },
    {
     "name": "stdout",
     "output_type": "stream",
     "text": [
      "2008/3426 [================>.............] - ETA: 1:41"
     ]
    },
    {
     "name": "stderr",
     "output_type": "stream",
     "text": [
      "2009it [02:23, 13.72it/s]"
     ]
    },
    {
     "name": "stdout",
     "output_type": "stream",
     "text": [
      "2010/3426 [================>.............] - ETA: 1:41"
     ]
    },
    {
     "name": "stderr",
     "output_type": "stream",
     "text": [
      "2011it [02:23, 14.23it/s]"
     ]
    },
    {
     "name": "stdout",
     "output_type": "stream",
     "text": [
      "2012/3426 [================>.............] - ETA: 1:40"
     ]
    },
    {
     "name": "stderr",
     "output_type": "stream",
     "text": [
      "2013it [02:23, 14.33it/s]"
     ]
    },
    {
     "name": "stdout",
     "output_type": "stream",
     "text": [
      "2014/3426 [================>.............] - ETA: 1:40"
     ]
    },
    {
     "name": "stderr",
     "output_type": "stream",
     "text": [
      "2015it [02:23, 14.42it/s]"
     ]
    },
    {
     "name": "stdout",
     "output_type": "stream",
     "text": [
      "2016/3426 [================>.............] - ETA: 1:40"
     ]
    },
    {
     "name": "stderr",
     "output_type": "stream",
     "text": [
      "2017it [02:23, 14.25it/s]"
     ]
    },
    {
     "name": "stdout",
     "output_type": "stream",
     "text": [
      "2018/3426 [================>.............] - ETA: 1:40"
     ]
    },
    {
     "name": "stderr",
     "output_type": "stream",
     "text": [
      "2019it [02:23, 14.80it/s]"
     ]
    },
    {
     "name": "stdout",
     "output_type": "stream",
     "text": [
      "2020/3426 [================>.............] - ETA: 1:40"
     ]
    },
    {
     "name": "stderr",
     "output_type": "stream",
     "text": [
      "2021it [02:24, 13.82it/s]"
     ]
    },
    {
     "name": "stdout",
     "output_type": "stream",
     "text": [
      "2022/3426 [================>.............] - ETA: 1:40"
     ]
    },
    {
     "name": "stderr",
     "output_type": "stream",
     "text": [
      "2023it [02:24, 12.35it/s]"
     ]
    },
    {
     "name": "stdout",
     "output_type": "stream",
     "text": [
      "2024/3426 [================>.............] - ETA: 1:40"
     ]
    },
    {
     "name": "stderr",
     "output_type": "stream",
     "text": [
      "2025it [02:24, 10.35it/s]"
     ]
    },
    {
     "name": "stdout",
     "output_type": "stream",
     "text": [
      "2026/3426 [================>.............] - ETA: 1:40"
     ]
    },
    {
     "name": "stderr",
     "output_type": "stream",
     "text": [
      "2027it [02:24, 11.46it/s]"
     ]
    },
    {
     "name": "stdout",
     "output_type": "stream",
     "text": [
      "2028/3426 [================>.............] - ETA: 1:39"
     ]
    },
    {
     "name": "stderr",
     "output_type": "stream",
     "text": [
      "2029it [02:24, 12.35it/s]"
     ]
    },
    {
     "name": "stdout",
     "output_type": "stream",
     "text": [
      "2030/3426 [================>.............] - ETA: 1:39"
     ]
    },
    {
     "name": "stderr",
     "output_type": "stream",
     "text": [
      "2031it [02:25, 12.14it/s]"
     ]
    },
    {
     "name": "stdout",
     "output_type": "stream",
     "text": [
      "2032/3426 [================>.............] - ETA: 1:39"
     ]
    },
    {
     "name": "stderr",
     "output_type": "stream",
     "text": [
      "2033it [02:25, 12.56it/s]"
     ]
    },
    {
     "name": "stdout",
     "output_type": "stream",
     "text": [
      "2034/3426 [================>.............] - ETA: 1:39"
     ]
    },
    {
     "name": "stderr",
     "output_type": "stream",
     "text": [
      "2035it [02:25, 13.06it/s]"
     ]
    },
    {
     "name": "stdout",
     "output_type": "stream",
     "text": [
      "2036/3426 [================>.............] - ETA: 1:39"
     ]
    },
    {
     "name": "stderr",
     "output_type": "stream",
     "text": [
      "2037it [02:25, 11.31it/s]"
     ]
    },
    {
     "name": "stdout",
     "output_type": "stream",
     "text": [
      "2038/3426 [================>.............] - ETA: 1:39"
     ]
    },
    {
     "name": "stderr",
     "output_type": "stream",
     "text": [
      "2039it [02:25, 10.92it/s]"
     ]
    },
    {
     "name": "stdout",
     "output_type": "stream",
     "text": [
      "2040/3426 [================>.............] - ETA: 1:39"
     ]
    },
    {
     "name": "stderr",
     "output_type": "stream",
     "text": [
      "2041it [02:25, 12.20it/s]"
     ]
    },
    {
     "name": "stdout",
     "output_type": "stream",
     "text": [
      "2042/3426 [================>.............] - ETA: 1:38"
     ]
    },
    {
     "name": "stderr",
     "output_type": "stream",
     "text": [
      "2043it [02:26, 12.54it/s]"
     ]
    },
    {
     "name": "stdout",
     "output_type": "stream",
     "text": [
      "2044/3426 [================>.............] - ETA: 1:38"
     ]
    },
    {
     "name": "stderr",
     "output_type": "stream",
     "text": [
      "2045it [02:26, 13.59it/s]"
     ]
    },
    {
     "name": "stdout",
     "output_type": "stream",
     "text": [
      "2046/3426 [================>.............] - ETA: 1:38"
     ]
    },
    {
     "name": "stderr",
     "output_type": "stream",
     "text": [
      "2047it [02:26, 14.34it/s]"
     ]
    },
    {
     "name": "stdout",
     "output_type": "stream",
     "text": [
      "2048/3426 [================>.............] - ETA: 1:38"
     ]
    },
    {
     "name": "stderr",
     "output_type": "stream",
     "text": [
      "2049it [02:26, 14.70it/s]"
     ]
    },
    {
     "name": "stdout",
     "output_type": "stream",
     "text": [
      "2050/3426 [================>.............] - ETA: 1:38"
     ]
    },
    {
     "name": "stderr",
     "output_type": "stream",
     "text": [
      "2051it [02:26, 13.93it/s]"
     ]
    },
    {
     "name": "stdout",
     "output_type": "stream",
     "text": [
      "2052/3426 [================>.............] - ETA: 1:38"
     ]
    },
    {
     "name": "stderr",
     "output_type": "stream",
     "text": [
      "2053it [02:26, 13.95it/s]"
     ]
    },
    {
     "name": "stdout",
     "output_type": "stream",
     "text": [
      "2054/3426 [================>.............] - ETA: 1:38"
     ]
    },
    {
     "name": "stderr",
     "output_type": "stream",
     "text": [
      "2055it [02:26, 14.65it/s]"
     ]
    },
    {
     "name": "stdout",
     "output_type": "stream",
     "text": [
      "2056/3426 [=================>............] - ETA: 1:37"
     ]
    },
    {
     "name": "stderr",
     "output_type": "stream",
     "text": [
      "2057it [02:26, 13.05it/s]"
     ]
    },
    {
     "name": "stdout",
     "output_type": "stream",
     "text": [
      "2058/3426 [=================>............] - ETA: 1:37"
     ]
    },
    {
     "name": "stderr",
     "output_type": "stream",
     "text": [
      "2059it [02:27, 13.36it/s]"
     ]
    },
    {
     "name": "stdout",
     "output_type": "stream",
     "text": [
      "2060/3426 [=================>............] - ETA: 1:37"
     ]
    },
    {
     "name": "stderr",
     "output_type": "stream",
     "text": [
      "2061it [02:27, 13.51it/s]"
     ]
    },
    {
     "name": "stdout",
     "output_type": "stream",
     "text": [
      "2062/3426 [=================>............] - ETA: 1:37"
     ]
    },
    {
     "name": "stderr",
     "output_type": "stream",
     "text": [
      "2063it [02:27, 14.26it/s]"
     ]
    },
    {
     "name": "stdout",
     "output_type": "stream",
     "text": [
      "2064/3426 [=================>............] - ETA: 1:37"
     ]
    },
    {
     "name": "stderr",
     "output_type": "stream",
     "text": [
      "2065it [02:27, 13.88it/s]"
     ]
    },
    {
     "name": "stdout",
     "output_type": "stream",
     "text": [
      "2066/3426 [=================>............] - ETA: 1:37"
     ]
    },
    {
     "name": "stderr",
     "output_type": "stream",
     "text": [
      "2067it [02:27, 14.47it/s]"
     ]
    },
    {
     "name": "stdout",
     "output_type": "stream",
     "text": [
      "2068/3426 [=================>............] - ETA: 1:37"
     ]
    },
    {
     "name": "stderr",
     "output_type": "stream",
     "text": [
      "2069it [02:27, 15.35it/s]"
     ]
    },
    {
     "name": "stdout",
     "output_type": "stream",
     "text": [
      "2070/3426 [=================>............] - ETA: 1:36"
     ]
    },
    {
     "name": "stderr",
     "output_type": "stream",
     "text": [
      "2071it [02:28, 12.47it/s]"
     ]
    },
    {
     "name": "stdout",
     "output_type": "stream",
     "text": [
      "2072/3426 [=================>............] - ETA: 1:36"
     ]
    },
    {
     "name": "stderr",
     "output_type": "stream",
     "text": [
      "2073it [02:28, 11.69it/s]"
     ]
    },
    {
     "name": "stdout",
     "output_type": "stream",
     "text": [
      "2074/3426 [=================>............] - ETA: 1:36"
     ]
    },
    {
     "name": "stderr",
     "output_type": "stream",
     "text": [
      "2075it [02:28, 12.82it/s]"
     ]
    },
    {
     "name": "stdout",
     "output_type": "stream",
     "text": [
      "2076/3426 [=================>............] - ETA: 1:36"
     ]
    },
    {
     "name": "stderr",
     "output_type": "stream",
     "text": [
      "2077it [02:28, 13.90it/s]"
     ]
    },
    {
     "name": "stdout",
     "output_type": "stream",
     "text": [
      "2078/3426 [=================>............] - ETA: 1:36"
     ]
    },
    {
     "name": "stderr",
     "output_type": "stream",
     "text": [
      "2079it [02:28, 12.78it/s]"
     ]
    },
    {
     "name": "stdout",
     "output_type": "stream",
     "text": [
      "2080/3426 [=================>............] - ETA: 1:36"
     ]
    },
    {
     "name": "stderr",
     "output_type": "stream",
     "text": [
      "2081it [02:28, 12.30it/s]"
     ]
    },
    {
     "name": "stdout",
     "output_type": "stream",
     "text": [
      "2082/3426 [=================>............] - ETA: 1:36"
     ]
    },
    {
     "name": "stderr",
     "output_type": "stream",
     "text": [
      "2083it [02:28, 12.91it/s]"
     ]
    },
    {
     "name": "stdout",
     "output_type": "stream",
     "text": [
      "2084/3426 [=================>............] - ETA: 1:36"
     ]
    },
    {
     "name": "stderr",
     "output_type": "stream",
     "text": [
      "2085it [02:29, 13.60it/s]"
     ]
    },
    {
     "name": "stdout",
     "output_type": "stream",
     "text": [
      "2086/3426 [=================>............] - ETA: 1:35"
     ]
    },
    {
     "name": "stderr",
     "output_type": "stream",
     "text": [
      "2087it [02:29, 13.55it/s]"
     ]
    },
    {
     "name": "stdout",
     "output_type": "stream",
     "text": [
      "2088/3426 [=================>............] - ETA: 1:35"
     ]
    },
    {
     "name": "stderr",
     "output_type": "stream",
     "text": [
      "2089it [02:29, 14.49it/s]"
     ]
    },
    {
     "name": "stdout",
     "output_type": "stream",
     "text": [
      "2090/3426 [=================>............] - ETA: 1:35"
     ]
    },
    {
     "name": "stderr",
     "output_type": "stream",
     "text": [
      "2091it [02:29, 14.67it/s]"
     ]
    },
    {
     "name": "stdout",
     "output_type": "stream",
     "text": [
      "2092/3426 [=================>............] - ETA: 1:35"
     ]
    },
    {
     "name": "stderr",
     "output_type": "stream",
     "text": [
      "2093it [02:29, 14.38it/s]"
     ]
    },
    {
     "name": "stdout",
     "output_type": "stream",
     "text": [
      "2094/3426 [=================>............] - ETA: 1:35"
     ]
    },
    {
     "name": "stderr",
     "output_type": "stream",
     "text": [
      "2095it [02:29, 12.02it/s]"
     ]
    },
    {
     "name": "stdout",
     "output_type": "stream",
     "text": [
      "2096/3426 [=================>............] - ETA: 1:35"
     ]
    },
    {
     "name": "stderr",
     "output_type": "stream",
     "text": [
      "2097it [02:30, 12.41it/s]"
     ]
    },
    {
     "name": "stdout",
     "output_type": "stream",
     "text": [
      "2098/3426 [=================>............] - ETA: 1:35"
     ]
    },
    {
     "name": "stderr",
     "output_type": "stream",
     "text": [
      "2099it [02:30, 12.88it/s]"
     ]
    },
    {
     "name": "stdout",
     "output_type": "stream",
     "text": [
      "2100/3426 [=================>............] - ETA: 1:34"
     ]
    },
    {
     "name": "stderr",
     "output_type": "stream",
     "text": [
      "2101it [02:30, 13.46it/s]"
     ]
    },
    {
     "name": "stdout",
     "output_type": "stream",
     "text": [
      "2102/3426 [=================>............] - ETA: 1:34"
     ]
    },
    {
     "name": "stderr",
     "output_type": "stream",
     "text": [
      "2103it [02:30, 14.25it/s]"
     ]
    },
    {
     "name": "stdout",
     "output_type": "stream",
     "text": [
      "2104/3426 [=================>............] - ETA: 1:34"
     ]
    },
    {
     "name": "stderr",
     "output_type": "stream",
     "text": [
      "2105it [02:30, 14.63it/s]"
     ]
    },
    {
     "name": "stdout",
     "output_type": "stream",
     "text": [
      "2106/3426 [=================>............] - ETA: 1:34"
     ]
    },
    {
     "name": "stderr",
     "output_type": "stream",
     "text": [
      "2107it [02:30, 14.53it/s]"
     ]
    },
    {
     "name": "stdout",
     "output_type": "stream",
     "text": [
      "2108/3426 [=================>............] - ETA: 1:34"
     ]
    },
    {
     "name": "stderr",
     "output_type": "stream",
     "text": [
      "2109it [02:30, 14.98it/s]"
     ]
    },
    {
     "name": "stdout",
     "output_type": "stream",
     "text": [
      "2110/3426 [=================>............] - ETA: 1:34"
     ]
    },
    {
     "name": "stderr",
     "output_type": "stream",
     "text": [
      "2111it [02:31, 11.45it/s]"
     ]
    },
    {
     "name": "stdout",
     "output_type": "stream",
     "text": [
      "2112/3426 [=================>............] - ETA: 1:34"
     ]
    },
    {
     "name": "stderr",
     "output_type": "stream",
     "text": [
      "2113it [02:31, 12.11it/s]"
     ]
    },
    {
     "name": "stdout",
     "output_type": "stream",
     "text": [
      "2114/3426 [=================>............] - ETA: 1:33"
     ]
    },
    {
     "name": "stderr",
     "output_type": "stream",
     "text": [
      "2115it [02:31, 12.59it/s]"
     ]
    },
    {
     "name": "stdout",
     "output_type": "stream",
     "text": [
      "2116/3426 [=================>............] - ETA: 1:33"
     ]
    },
    {
     "name": "stderr",
     "output_type": "stream",
     "text": [
      "2117it [02:31, 13.07it/s]"
     ]
    },
    {
     "name": "stdout",
     "output_type": "stream",
     "text": [
      "2118/3426 [=================>............] - ETA: 1:33"
     ]
    },
    {
     "name": "stderr",
     "output_type": "stream",
     "text": [
      "2119it [02:31, 13.76it/s]"
     ]
    },
    {
     "name": "stdout",
     "output_type": "stream",
     "text": [
      "2120/3426 [=================>............] - ETA: 1:33"
     ]
    },
    {
     "name": "stderr",
     "output_type": "stream",
     "text": [
      "2121it [02:31, 13.96it/s]"
     ]
    },
    {
     "name": "stdout",
     "output_type": "stream",
     "text": [
      "2122/3426 [=================>............] - ETA: 1:33"
     ]
    },
    {
     "name": "stderr",
     "output_type": "stream",
     "text": [
      "2123it [02:31, 11.55it/s]"
     ]
    },
    {
     "name": "stdout",
     "output_type": "stream",
     "text": [
      "2124/3426 [=================>............] - ETA: 1:33"
     ]
    },
    {
     "name": "stderr",
     "output_type": "stream",
     "text": [
      "2125it [02:32, 11.54it/s]"
     ]
    },
    {
     "name": "stdout",
     "output_type": "stream",
     "text": [
      "2126/3426 [=================>............] - ETA: 1:33"
     ]
    },
    {
     "name": "stderr",
     "output_type": "stream",
     "text": [
      "2127it [02:32, 12.99it/s]"
     ]
    },
    {
     "name": "stdout",
     "output_type": "stream",
     "text": [
      "2128/3426 [=================>............] - ETA: 1:32"
     ]
    },
    {
     "name": "stderr",
     "output_type": "stream",
     "text": [
      "2129it [02:32, 13.73it/s]"
     ]
    },
    {
     "name": "stdout",
     "output_type": "stream",
     "text": [
      "2130/3426 [=================>............] - ETA: 1:32"
     ]
    },
    {
     "name": "stderr",
     "output_type": "stream",
     "text": [
      "2131it [02:32, 14.65it/s]"
     ]
    },
    {
     "name": "stdout",
     "output_type": "stream",
     "text": [
      "2132/3426 [=================>............] - ETA: 1:32"
     ]
    },
    {
     "name": "stderr",
     "output_type": "stream",
     "text": [
      "2133it [02:32, 15.28it/s]"
     ]
    },
    {
     "name": "stdout",
     "output_type": "stream",
     "text": [
      "2134/3426 [=================>............] - ETA: 1:32"
     ]
    },
    {
     "name": "stderr",
     "output_type": "stream",
     "text": [
      "2135it [02:32, 15.45it/s]"
     ]
    },
    {
     "name": "stdout",
     "output_type": "stream",
     "text": [
      "2136/3426 [=================>............] - ETA: 1:32"
     ]
    },
    {
     "name": "stderr",
     "output_type": "stream",
     "text": [
      "2137it [02:32, 16.04it/s]"
     ]
    },
    {
     "name": "stdout",
     "output_type": "stream",
     "text": [
      "2138/3426 [=================>............] - ETA: 1:32"
     ]
    },
    {
     "name": "stderr",
     "output_type": "stream",
     "text": [
      "2139it [02:33, 15.29it/s]"
     ]
    },
    {
     "name": "stdout",
     "output_type": "stream",
     "text": [
      "2140/3426 [=================>............] - ETA: 1:32"
     ]
    },
    {
     "name": "stderr",
     "output_type": "stream",
     "text": [
      "2141it [02:33, 15.76it/s]"
     ]
    },
    {
     "name": "stdout",
     "output_type": "stream",
     "text": [
      "2142/3426 [=================>............] - ETA: 1:31"
     ]
    },
    {
     "name": "stderr",
     "output_type": "stream",
     "text": [
      "2143it [02:33, 15.95it/s]"
     ]
    },
    {
     "name": "stdout",
     "output_type": "stream",
     "text": [
      "2144/3426 [=================>............] - ETA: 1:31"
     ]
    },
    {
     "name": "stderr",
     "output_type": "stream",
     "text": [
      "2145it [02:33, 16.32it/s]"
     ]
    },
    {
     "name": "stdout",
     "output_type": "stream",
     "text": [
      "2146/3426 [=================>............] - ETA: 1:31"
     ]
    },
    {
     "name": "stderr",
     "output_type": "stream",
     "text": [
      "2147it [02:33, 16.45it/s]"
     ]
    },
    {
     "name": "stdout",
     "output_type": "stream",
     "text": [
      "2148/3426 [=================>............] - ETA: 1:31"
     ]
    },
    {
     "name": "stderr",
     "output_type": "stream",
     "text": [
      "2149it [02:33, 16.56it/s]"
     ]
    },
    {
     "name": "stdout",
     "output_type": "stream",
     "text": [
      "2150/3426 [=================>............] - ETA: 1:31"
     ]
    },
    {
     "name": "stderr",
     "output_type": "stream",
     "text": [
      "2151it [02:33, 17.20it/s]"
     ]
    },
    {
     "name": "stdout",
     "output_type": "stream",
     "text": [
      "2152/3426 [=================>............] - ETA: 1:31"
     ]
    },
    {
     "name": "stderr",
     "output_type": "stream",
     "text": [
      "2153it [02:33, 16.76it/s]"
     ]
    },
    {
     "name": "stdout",
     "output_type": "stream",
     "text": [
      "2154/3426 [=================>............] - ETA: 1:30"
     ]
    },
    {
     "name": "stderr",
     "output_type": "stream",
     "text": [
      "2155it [02:33, 15.80it/s]"
     ]
    },
    {
     "name": "stdout",
     "output_type": "stream",
     "text": [
      "2156/3426 [=================>............] - ETA: 1:30"
     ]
    },
    {
     "name": "stderr",
     "output_type": "stream",
     "text": [
      "2157it [02:34, 16.31it/s]"
     ]
    },
    {
     "name": "stdout",
     "output_type": "stream",
     "text": [
      "2158/3426 [=================>............] - ETA: 1:30"
     ]
    },
    {
     "name": "stderr",
     "output_type": "stream",
     "text": [
      "2159it [02:34, 15.91it/s]"
     ]
    },
    {
     "name": "stdout",
     "output_type": "stream",
     "text": [
      "2160/3426 [=================>............] - ETA: 1:30"
     ]
    },
    {
     "name": "stderr",
     "output_type": "stream",
     "text": [
      "2161it [02:34, 15.49it/s]"
     ]
    },
    {
     "name": "stdout",
     "output_type": "stream",
     "text": [
      "2162/3426 [=================>............] - ETA: 1:30"
     ]
    },
    {
     "name": "stderr",
     "output_type": "stream",
     "text": [
      "2163it [02:34, 15.88it/s]"
     ]
    },
    {
     "name": "stdout",
     "output_type": "stream",
     "text": [
      "2164/3426 [=================>............] - ETA: 1:30"
     ]
    },
    {
     "name": "stderr",
     "output_type": "stream",
     "text": [
      "2165it [02:34, 16.06it/s]"
     ]
    },
    {
     "name": "stdout",
     "output_type": "stream",
     "text": [
      "2166/3426 [=================>............] - ETA: 1:30"
     ]
    },
    {
     "name": "stderr",
     "output_type": "stream",
     "text": [
      "2167it [02:34, 15.96it/s]"
     ]
    },
    {
     "name": "stdout",
     "output_type": "stream",
     "text": [
      "2167/3426 [=================>............] - ETA: 1:29"
     ]
    },
    {
     "name": "stderr",
     "output_type": "stream",
     "text": [
      "2169it [02:34, 16.51it/s]"
     ]
    },
    {
     "name": "stdout",
     "output_type": "stream",
     "text": [
      "2170/3426 [==================>...........] - ETA: 1:29"
     ]
    },
    {
     "name": "stderr",
     "output_type": "stream",
     "text": [
      "2171it [02:35, 14.66it/s]"
     ]
    },
    {
     "name": "stdout",
     "output_type": "stream",
     "text": [
      "2172/3426 [==================>...........] - ETA: 1:29"
     ]
    },
    {
     "name": "stderr",
     "output_type": "stream",
     "text": [
      "2173it [02:35, 14.70it/s]"
     ]
    },
    {
     "name": "stdout",
     "output_type": "stream",
     "text": [
      "2174/3426 [==================>...........] - ETA: 1:29"
     ]
    },
    {
     "name": "stderr",
     "output_type": "stream",
     "text": [
      "2175it [02:35, 15.26it/s]"
     ]
    },
    {
     "name": "stdout",
     "output_type": "stream",
     "text": [
      "2176/3426 [==================>...........] - ETA: 1:29"
     ]
    },
    {
     "name": "stderr",
     "output_type": "stream",
     "text": [
      "2177it [02:35, 15.83it/s]"
     ]
    },
    {
     "name": "stdout",
     "output_type": "stream",
     "text": [
      "2178/3426 [==================>...........] - ETA: 1:29"
     ]
    },
    {
     "name": "stderr",
     "output_type": "stream",
     "text": [
      "2179it [02:35, 15.94it/s]"
     ]
    },
    {
     "name": "stdout",
     "output_type": "stream",
     "text": [
      "2180/3426 [==================>...........] - ETA: 1:28"
     ]
    },
    {
     "name": "stderr",
     "output_type": "stream",
     "text": [
      "2181it [02:35, 16.08it/s]"
     ]
    },
    {
     "name": "stdout",
     "output_type": "stream",
     "text": [
      "2182/3426 [==================>...........] - ETA: 1:28"
     ]
    },
    {
     "name": "stderr",
     "output_type": "stream",
     "text": [
      "2183it [02:35, 16.01it/s]"
     ]
    },
    {
     "name": "stdout",
     "output_type": "stream",
     "text": [
      "2184/3426 [==================>...........] - ETA: 1:28"
     ]
    },
    {
     "name": "stderr",
     "output_type": "stream",
     "text": [
      "2185it [02:35, 15.69it/s]"
     ]
    },
    {
     "name": "stdout",
     "output_type": "stream",
     "text": [
      "2186/3426 [==================>...........] - ETA: 1:28"
     ]
    },
    {
     "name": "stderr",
     "output_type": "stream",
     "text": [
      "2187it [02:36, 15.77it/s]"
     ]
    },
    {
     "name": "stdout",
     "output_type": "stream",
     "text": [
      "2188/3426 [==================>...........] - ETA: 1:28"
     ]
    },
    {
     "name": "stderr",
     "output_type": "stream",
     "text": [
      "2189it [02:36, 16.11it/s]"
     ]
    },
    {
     "name": "stdout",
     "output_type": "stream",
     "text": [
      "2190/3426 [==================>...........] - ETA: 1:28"
     ]
    },
    {
     "name": "stderr",
     "output_type": "stream",
     "text": [
      "2191it [02:36, 16.20it/s]"
     ]
    },
    {
     "name": "stdout",
     "output_type": "stream",
     "text": [
      "2192/3426 [==================>...........] - ETA: 1:28"
     ]
    },
    {
     "name": "stderr",
     "output_type": "stream",
     "text": [
      "2193it [02:36,  8.96it/s]"
     ]
    },
    {
     "name": "stdout",
     "output_type": "stream",
     "text": [
      "2194/3426 [==================>...........] - ETA: 1:28"
     ]
    },
    {
     "name": "stderr",
     "output_type": "stream",
     "text": [
      "2195it [02:36, 10.31it/s]"
     ]
    },
    {
     "name": "stdout",
     "output_type": "stream",
     "text": [
      "2196/3426 [==================>...........] - ETA: 1:27"
     ]
    },
    {
     "name": "stderr",
     "output_type": "stream",
     "text": [
      "2197it [02:36, 11.63it/s]"
     ]
    },
    {
     "name": "stdout",
     "output_type": "stream",
     "text": [
      "2198/3426 [==================>...........] - ETA: 1:27"
     ]
    },
    {
     "name": "stderr",
     "output_type": "stream",
     "text": [
      "2199it [02:37, 12.24it/s]"
     ]
    },
    {
     "name": "stdout",
     "output_type": "stream",
     "text": [
      "2200/3426 [==================>...........] - ETA: 1:27"
     ]
    },
    {
     "name": "stderr",
     "output_type": "stream",
     "text": [
      "2201it [02:37, 12.95it/s]"
     ]
    },
    {
     "name": "stdout",
     "output_type": "stream",
     "text": [
      "2202/3426 [==================>...........] - ETA: 1:27"
     ]
    },
    {
     "name": "stderr",
     "output_type": "stream",
     "text": [
      "2203it [02:37, 13.30it/s]"
     ]
    },
    {
     "name": "stdout",
     "output_type": "stream",
     "text": [
      "2204/3426 [==================>...........] - ETA: 1:27"
     ]
    },
    {
     "name": "stderr",
     "output_type": "stream",
     "text": [
      "2205it [02:37, 13.08it/s]"
     ]
    },
    {
     "name": "stdout",
     "output_type": "stream",
     "text": [
      "2206/3426 [==================>...........] - ETA: 1:27"
     ]
    },
    {
     "name": "stderr",
     "output_type": "stream",
     "text": [
      "2207it [02:37, 13.36it/s]"
     ]
    },
    {
     "name": "stdout",
     "output_type": "stream",
     "text": [
      "2208/3426 [==================>...........] - ETA: 1:27"
     ]
    },
    {
     "name": "stderr",
     "output_type": "stream",
     "text": [
      "2209it [02:37, 13.24it/s]"
     ]
    },
    {
     "name": "stdout",
     "output_type": "stream",
     "text": [
      "2210/3426 [==================>...........] - ETA: 1:27"
     ]
    },
    {
     "name": "stderr",
     "output_type": "stream",
     "text": [
      "2211it [02:38,  9.68it/s]"
     ]
    },
    {
     "name": "stdout",
     "output_type": "stream",
     "text": [
      "2212/3426 [==================>...........] - ETA: 1:26"
     ]
    },
    {
     "name": "stderr",
     "output_type": "stream",
     "text": [
      "2213it [02:38, 10.17it/s]"
     ]
    },
    {
     "name": "stdout",
     "output_type": "stream",
     "text": [
      "2214/3426 [==================>...........] - ETA: 1:26"
     ]
    },
    {
     "name": "stderr",
     "output_type": "stream",
     "text": [
      "2215it [02:38, 10.19it/s]"
     ]
    },
    {
     "name": "stdout",
     "output_type": "stream",
     "text": [
      "2216/3426 [==================>...........] - ETA: 1:26"
     ]
    },
    {
     "name": "stderr",
     "output_type": "stream",
     "text": [
      "2217it [02:38, 10.98it/s]"
     ]
    },
    {
     "name": "stdout",
     "output_type": "stream",
     "text": [
      "2218/3426 [==================>...........] - ETA: 1:26"
     ]
    },
    {
     "name": "stderr",
     "output_type": "stream",
     "text": [
      "2219it [02:38, 10.23it/s]"
     ]
    },
    {
     "name": "stdout",
     "output_type": "stream",
     "text": [
      "2220/3426 [==================>...........] - ETA: 1:26"
     ]
    },
    {
     "name": "stderr",
     "output_type": "stream",
     "text": [
      "2221it [02:39, 10.65it/s]"
     ]
    },
    {
     "name": "stdout",
     "output_type": "stream",
     "text": [
      "2222/3426 [==================>...........] - ETA: 1:26"
     ]
    },
    {
     "name": "stderr",
     "output_type": "stream",
     "text": [
      "2223it [02:39, 11.30it/s]"
     ]
    },
    {
     "name": "stdout",
     "output_type": "stream",
     "text": [
      "2224/3426 [==================>...........] - ETA: 1:26"
     ]
    },
    {
     "name": "stderr",
     "output_type": "stream",
     "text": [
      "2225it [02:39, 12.75it/s]"
     ]
    },
    {
     "name": "stdout",
     "output_type": "stream",
     "text": [
      "2226/3426 [==================>...........] - ETA: 1:25"
     ]
    },
    {
     "name": "stderr",
     "output_type": "stream",
     "text": [
      "2227it [02:39, 12.61it/s]"
     ]
    },
    {
     "name": "stdout",
     "output_type": "stream",
     "text": [
      "2228/3426 [==================>...........] - ETA: 1:25"
     ]
    },
    {
     "name": "stderr",
     "output_type": "stream",
     "text": [
      "2229it [02:39, 13.40it/s]"
     ]
    },
    {
     "name": "stdout",
     "output_type": "stream",
     "text": [
      "2230/3426 [==================>...........] - ETA: 1:25"
     ]
    },
    {
     "name": "stderr",
     "output_type": "stream",
     "text": [
      "2231it [02:39, 11.54it/s]"
     ]
    },
    {
     "name": "stdout",
     "output_type": "stream",
     "text": [
      "2232/3426 [==================>...........] - ETA: 1:25"
     ]
    },
    {
     "name": "stderr",
     "output_type": "stream",
     "text": [
      "2233it [02:40, 12.38it/s]"
     ]
    },
    {
     "name": "stdout",
     "output_type": "stream",
     "text": [
      "2234/3426 [==================>...........] - ETA: 1:25"
     ]
    },
    {
     "name": "stderr",
     "output_type": "stream",
     "text": [
      "2235it [02:40, 12.40it/s]"
     ]
    },
    {
     "name": "stdout",
     "output_type": "stream",
     "text": [
      "2236/3426 [==================>...........] - ETA: 1:25"
     ]
    },
    {
     "name": "stderr",
     "output_type": "stream",
     "text": [
      "2237it [02:40, 12.59it/s]"
     ]
    },
    {
     "name": "stdout",
     "output_type": "stream",
     "text": [
      "2238/3426 [==================>...........] - ETA: 1:25"
     ]
    },
    {
     "name": "stderr",
     "output_type": "stream",
     "text": [
      "2239it [02:40, 12.26it/s]"
     ]
    },
    {
     "name": "stdout",
     "output_type": "stream",
     "text": [
      "2240/3426 [==================>...........] - ETA: 1:25"
     ]
    },
    {
     "name": "stderr",
     "output_type": "stream",
     "text": [
      "2241it [02:40, 11.65it/s]"
     ]
    },
    {
     "name": "stdout",
     "output_type": "stream",
     "text": [
      "2242/3426 [==================>...........] - ETA: 1:24"
     ]
    },
    {
     "name": "stderr",
     "output_type": "stream",
     "text": [
      "2243it [02:40, 12.60it/s]"
     ]
    },
    {
     "name": "stdout",
     "output_type": "stream",
     "text": [
      "2244/3426 [==================>...........] - ETA: 1:24"
     ]
    },
    {
     "name": "stderr",
     "output_type": "stream",
     "text": [
      "2245it [02:40, 13.47it/s]"
     ]
    },
    {
     "name": "stdout",
     "output_type": "stream",
     "text": [
      "2246/3426 [==================>...........] - ETA: 1:24"
     ]
    },
    {
     "name": "stderr",
     "output_type": "stream",
     "text": [
      "2247it [02:41, 11.41it/s]"
     ]
    },
    {
     "name": "stdout",
     "output_type": "stream",
     "text": [
      "2248/3426 [==================>...........] - ETA: 1:24"
     ]
    },
    {
     "name": "stderr",
     "output_type": "stream",
     "text": [
      "2249it [02:41, 12.65it/s]"
     ]
    },
    {
     "name": "stdout",
     "output_type": "stream",
     "text": [
      "2250/3426 [==================>...........] - ETA: 1:24"
     ]
    },
    {
     "name": "stderr",
     "output_type": "stream",
     "text": [
      "2251it [02:41, 13.03it/s]"
     ]
    },
    {
     "name": "stdout",
     "output_type": "stream",
     "text": [
      "2252/3426 [==================>...........] - ETA: 1:24"
     ]
    },
    {
     "name": "stderr",
     "output_type": "stream",
     "text": [
      "2253it [02:41, 13.58it/s]"
     ]
    },
    {
     "name": "stdout",
     "output_type": "stream",
     "text": [
      "2254/3426 [==================>...........] - ETA: 1:24"
     ]
    },
    {
     "name": "stderr",
     "output_type": "stream",
     "text": [
      "2255it [02:41, 13.04it/s]"
     ]
    },
    {
     "name": "stdout",
     "output_type": "stream",
     "text": [
      "2256/3426 [==================>...........] - ETA: 1:23"
     ]
    },
    {
     "name": "stderr",
     "output_type": "stream",
     "text": [
      "2257it [02:41, 12.57it/s]"
     ]
    },
    {
     "name": "stdout",
     "output_type": "stream",
     "text": [
      "2257/3426 [==================>...........] - ETA: 1:23"
     ]
    },
    {
     "name": "stderr",
     "output_type": "stream",
     "text": [
      "2259it [02:42, 13.74it/s]"
     ]
    },
    {
     "name": "stdout",
     "output_type": "stream",
     "text": [
      "2260/3426 [==================>...........] - ETA: 1:23"
     ]
    },
    {
     "name": "stderr",
     "output_type": "stream",
     "text": [
      "2261it [02:42, 14.45it/s]"
     ]
    },
    {
     "name": "stdout",
     "output_type": "stream",
     "text": [
      "2262/3426 [==================>...........] - ETA: 1:23"
     ]
    },
    {
     "name": "stderr",
     "output_type": "stream",
     "text": [
      "2263it [02:42, 14.51it/s]"
     ]
    },
    {
     "name": "stdout",
     "output_type": "stream",
     "text": [
      "2264/3426 [==================>...........] - ETA: 1:23"
     ]
    },
    {
     "name": "stderr",
     "output_type": "stream",
     "text": [
      "2265it [02:42, 14.24it/s]"
     ]
    },
    {
     "name": "stdout",
     "output_type": "stream",
     "text": [
      "2266/3426 [==================>...........] - ETA: 1:23"
     ]
    },
    {
     "name": "stderr",
     "output_type": "stream",
     "text": [
      "2267it [02:42, 14.80it/s]"
     ]
    },
    {
     "name": "stdout",
     "output_type": "stream",
     "text": [
      "2268/3426 [==================>...........] - ETA: 1:23"
     ]
    },
    {
     "name": "stderr",
     "output_type": "stream",
     "text": [
      "2269it [02:42, 15.21it/s]"
     ]
    },
    {
     "name": "stdout",
     "output_type": "stream",
     "text": [
      "2270/3426 [==================>...........] - ETA: 1:22"
     ]
    },
    {
     "name": "stderr",
     "output_type": "stream",
     "text": [
      "2271it [02:42, 14.68it/s]"
     ]
    },
    {
     "name": "stdout",
     "output_type": "stream",
     "text": [
      "2272/3426 [==================>...........] - ETA: 1:22"
     ]
    },
    {
     "name": "stderr",
     "output_type": "stream",
     "text": [
      "2273it [02:42, 15.39it/s]"
     ]
    },
    {
     "name": "stdout",
     "output_type": "stream",
     "text": [
      "2274/3426 [==================>...........] - ETA: 1:22"
     ]
    },
    {
     "name": "stderr",
     "output_type": "stream",
     "text": [
      "2275it [02:43, 15.75it/s]"
     ]
    },
    {
     "name": "stdout",
     "output_type": "stream",
     "text": [
      "2276/3426 [==================>...........] - ETA: 1:22"
     ]
    },
    {
     "name": "stderr",
     "output_type": "stream",
     "text": [
      "2277it [02:43, 16.32it/s]"
     ]
    },
    {
     "name": "stdout",
     "output_type": "stream",
     "text": [
      "2278/3426 [==================>...........] - ETA: 1:22"
     ]
    },
    {
     "name": "stderr",
     "output_type": "stream",
     "text": [
      "2279it [02:43, 16.50it/s]"
     ]
    },
    {
     "name": "stdout",
     "output_type": "stream",
     "text": [
      "2280/3426 [==================>...........] - ETA: 1:22"
     ]
    },
    {
     "name": "stderr",
     "output_type": "stream",
     "text": [
      "2281it [02:43, 16.50it/s]"
     ]
    },
    {
     "name": "stdout",
     "output_type": "stream",
     "text": [
      "2282/3426 [==================>...........] - ETA: 1:21"
     ]
    },
    {
     "name": "stderr",
     "output_type": "stream",
     "text": [
      "2283it [02:43, 16.82it/s]"
     ]
    },
    {
     "name": "stdout",
     "output_type": "stream",
     "text": [
      "2284/3426 [===================>..........] - ETA: 1:21"
     ]
    },
    {
     "name": "stderr",
     "output_type": "stream",
     "text": [
      "2285it [02:43, 16.15it/s]"
     ]
    },
    {
     "name": "stdout",
     "output_type": "stream",
     "text": [
      "2286/3426 [===================>..........] - ETA: 1:21"
     ]
    },
    {
     "name": "stderr",
     "output_type": "stream",
     "text": [
      "2287it [02:43, 15.89it/s]"
     ]
    },
    {
     "name": "stdout",
     "output_type": "stream",
     "text": [
      "2288/3426 [===================>..........] - ETA: 1:21"
     ]
    },
    {
     "name": "stderr",
     "output_type": "stream",
     "text": [
      "2289it [02:43, 15.89it/s]"
     ]
    },
    {
     "name": "stdout",
     "output_type": "stream",
     "text": [
      "2290/3426 [===================>..........] - ETA: 1:21"
     ]
    },
    {
     "name": "stderr",
     "output_type": "stream",
     "text": [
      "2291it [02:44, 15.54it/s]"
     ]
    },
    {
     "name": "stdout",
     "output_type": "stream",
     "text": [
      "2292/3426 [===================>..........] - ETA: 1:21"
     ]
    },
    {
     "name": "stderr",
     "output_type": "stream",
     "text": [
      "2293it [02:44, 12.67it/s]"
     ]
    },
    {
     "name": "stdout",
     "output_type": "stream",
     "text": [
      "2294/3426 [===================>..........] - ETA: 1:21"
     ]
    },
    {
     "name": "stderr",
     "output_type": "stream",
     "text": [
      "2295it [02:44,  8.26it/s]"
     ]
    },
    {
     "name": "stdout",
     "output_type": "stream",
     "text": [
      "2296/3426 [===================>..........] - ETA: 1:21"
     ]
    },
    {
     "name": "stderr",
     "output_type": "stream",
     "text": [
      "2297it [02:44,  9.79it/s]"
     ]
    },
    {
     "name": "stdout",
     "output_type": "stream",
     "text": [
      "2297/3426 [===================>..........] - ETA: 1:21"
     ]
    },
    {
     "name": "stderr",
     "output_type": "stream",
     "text": [
      "2299it [02:44, 11.37it/s]"
     ]
    },
    {
     "name": "stdout",
     "output_type": "stream",
     "text": [
      "2300/3426 [===================>..........] - ETA: 1:20"
     ]
    },
    {
     "name": "stderr",
     "output_type": "stream",
     "text": [
      "2301it [02:45, 12.71it/s]"
     ]
    },
    {
     "name": "stdout",
     "output_type": "stream",
     "text": [
      "2302/3426 [===================>..........] - ETA: 1:20"
     ]
    },
    {
     "name": "stderr",
     "output_type": "stream",
     "text": [
      "2303it [02:45, 13.57it/s]"
     ]
    },
    {
     "name": "stdout",
     "output_type": "stream",
     "text": [
      "2304/3426 [===================>..........] - ETA: 1:20"
     ]
    },
    {
     "name": "stderr",
     "output_type": "stream",
     "text": [
      "2305it [02:45, 13.89it/s]"
     ]
    },
    {
     "name": "stdout",
     "output_type": "stream",
     "text": [
      "2306/3426 [===================>..........] - ETA: 1:20"
     ]
    },
    {
     "name": "stderr",
     "output_type": "stream",
     "text": [
      "2307it [02:45, 14.02it/s]"
     ]
    },
    {
     "name": "stdout",
     "output_type": "stream",
     "text": [
      "2308/3426 [===================>..........] - ETA: 1:20"
     ]
    },
    {
     "name": "stderr",
     "output_type": "stream",
     "text": [
      "2309it [02:45, 14.29it/s]"
     ]
    },
    {
     "name": "stdout",
     "output_type": "stream",
     "text": [
      "2311/3426 [===================>..........] - ETA: 1:19"
     ]
    },
    {
     "name": "stderr",
     "output_type": "stream",
     "text": [
      "2312it [02:45, 15.35it/s]"
     ]
    },
    {
     "name": "stdout",
     "output_type": "stream",
     "text": [
      "2313/3426 [===================>..........] - ETA: 1:19"
     ]
    },
    {
     "name": "stderr",
     "output_type": "stream",
     "text": [
      "2314it [02:45, 15.71it/s]"
     ]
    },
    {
     "name": "stdout",
     "output_type": "stream",
     "text": [
      "2315/3426 [===================>..........] - ETA: 1:19"
     ]
    },
    {
     "name": "stderr",
     "output_type": "stream",
     "text": [
      "2316it [02:45, 16.35it/s]"
     ]
    },
    {
     "name": "stdout",
     "output_type": "stream",
     "text": [
      "2317/3426 [===================>..........] - ETA: 1:19"
     ]
    },
    {
     "name": "stderr",
     "output_type": "stream",
     "text": [
      "2318it [02:46, 15.21it/s]"
     ]
    },
    {
     "name": "stdout",
     "output_type": "stream",
     "text": [
      "2319/3426 [===================>..........] - ETA: 1:19"
     ]
    },
    {
     "name": "stderr",
     "output_type": "stream",
     "text": [
      "2320it [02:46, 15.79it/s]"
     ]
    },
    {
     "name": "stdout",
     "output_type": "stream",
     "text": [
      "2321/3426 [===================>..........] - ETA: 1:19"
     ]
    },
    {
     "name": "stderr",
     "output_type": "stream",
     "text": [
      "2322it [02:46, 15.87it/s]"
     ]
    },
    {
     "name": "stdout",
     "output_type": "stream",
     "text": [
      "2323/3426 [===================>..........] - ETA: 1:19"
     ]
    },
    {
     "name": "stderr",
     "output_type": "stream",
     "text": [
      "2324it [02:46, 16.14it/s]"
     ]
    },
    {
     "name": "stdout",
     "output_type": "stream",
     "text": [
      "2325/3426 [===================>..........] - ETA: 1:18"
     ]
    },
    {
     "name": "stderr",
     "output_type": "stream",
     "text": [
      "2326it [02:46, 16.50it/s]"
     ]
    },
    {
     "name": "stdout",
     "output_type": "stream",
     "text": [
      "2327/3426 [===================>..........] - ETA: 1:18"
     ]
    },
    {
     "name": "stderr",
     "output_type": "stream",
     "text": [
      "2328it [02:46, 16.38it/s]"
     ]
    },
    {
     "name": "stdout",
     "output_type": "stream",
     "text": [
      "2329/3426 [===================>..........] - ETA: 1:18"
     ]
    },
    {
     "name": "stderr",
     "output_type": "stream",
     "text": [
      "2330it [02:46, 16.34it/s]"
     ]
    },
    {
     "name": "stdout",
     "output_type": "stream",
     "text": [
      "2331/3426 [===================>..........] - ETA: 1:18"
     ]
    },
    {
     "name": "stderr",
     "output_type": "stream",
     "text": [
      "2332it [02:46, 16.69it/s]"
     ]
    },
    {
     "name": "stdout",
     "output_type": "stream",
     "text": [
      "2333/3426 [===================>..........] - ETA: 1:18"
     ]
    },
    {
     "name": "stderr",
     "output_type": "stream",
     "text": [
      "2334it [02:47, 16.71it/s]"
     ]
    },
    {
     "name": "stdout",
     "output_type": "stream",
     "text": [
      "2335/3426 [===================>..........] - ETA: 1:18"
     ]
    },
    {
     "name": "stderr",
     "output_type": "stream",
     "text": [
      "2336it [02:47, 13.31it/s]"
     ]
    },
    {
     "name": "stdout",
     "output_type": "stream",
     "text": [
      "2337/3426 [===================>..........] - ETA: 1:18"
     ]
    },
    {
     "name": "stderr",
     "output_type": "stream",
     "text": [
      "2338it [02:47, 14.58it/s]"
     ]
    },
    {
     "name": "stdout",
     "output_type": "stream",
     "text": [
      "2339/3426 [===================>..........] - ETA: 1:17"
     ]
    },
    {
     "name": "stderr",
     "output_type": "stream",
     "text": [
      "2340it [02:47, 15.14it/s]"
     ]
    },
    {
     "name": "stdout",
     "output_type": "stream",
     "text": [
      "2341/3426 [===================>..........] - ETA: 1:17"
     ]
    },
    {
     "name": "stderr",
     "output_type": "stream",
     "text": [
      "2342it [02:47, 15.79it/s]"
     ]
    },
    {
     "name": "stdout",
     "output_type": "stream",
     "text": [
      "2343/3426 [===================>..........] - ETA: 1:17"
     ]
    },
    {
     "name": "stderr",
     "output_type": "stream",
     "text": [
      "2344it [02:47, 16.46it/s]"
     ]
    },
    {
     "name": "stdout",
     "output_type": "stream",
     "text": [
      "2345/3426 [===================>..........] - ETA: 1:17"
     ]
    },
    {
     "name": "stderr",
     "output_type": "stream",
     "text": [
      "2346it [02:47, 14.02it/s]"
     ]
    },
    {
     "name": "stdout",
     "output_type": "stream",
     "text": [
      "2347/3426 [===================>..........] - ETA: 1:17"
     ]
    },
    {
     "name": "stderr",
     "output_type": "stream",
     "text": [
      "2348it [02:48, 14.55it/s]"
     ]
    },
    {
     "name": "stdout",
     "output_type": "stream",
     "text": [
      "2349/3426 [===================>..........] - ETA: 1:17"
     ]
    },
    {
     "name": "stderr",
     "output_type": "stream",
     "text": [
      "2350it [02:48, 15.19it/s]"
     ]
    },
    {
     "name": "stdout",
     "output_type": "stream",
     "text": [
      "2351/3426 [===================>..........] - ETA: 1:16"
     ]
    },
    {
     "name": "stderr",
     "output_type": "stream",
     "text": [
      "2352it [02:48, 15.74it/s]"
     ]
    },
    {
     "name": "stdout",
     "output_type": "stream",
     "text": [
      "2353/3426 [===================>..........] - ETA: 1:16"
     ]
    },
    {
     "name": "stderr",
     "output_type": "stream",
     "text": [
      "2354it [02:48, 15.40it/s]"
     ]
    },
    {
     "name": "stdout",
     "output_type": "stream",
     "text": [
      "2355/3426 [===================>..........] - ETA: 1:16"
     ]
    },
    {
     "name": "stderr",
     "output_type": "stream",
     "text": [
      "2356it [02:48, 15.58it/s]"
     ]
    },
    {
     "name": "stdout",
     "output_type": "stream",
     "text": [
      "2357/3426 [===================>..........] - ETA: 1:16"
     ]
    },
    {
     "name": "stderr",
     "output_type": "stream",
     "text": [
      "2358it [02:48, 14.12it/s]"
     ]
    },
    {
     "name": "stdout",
     "output_type": "stream",
     "text": [
      "2359/3426 [===================>..........] - ETA: 1:16"
     ]
    },
    {
     "name": "stderr",
     "output_type": "stream",
     "text": [
      "2360it [02:48, 14.80it/s]"
     ]
    },
    {
     "name": "stdout",
     "output_type": "stream",
     "text": [
      "2361/3426 [===================>..........] - ETA: 1:16"
     ]
    },
    {
     "name": "stderr",
     "output_type": "stream",
     "text": [
      "2362it [02:48, 15.26it/s]"
     ]
    },
    {
     "name": "stdout",
     "output_type": "stream",
     "text": [
      "2363/3426 [===================>..........] - ETA: 1:16"
     ]
    },
    {
     "name": "stderr",
     "output_type": "stream",
     "text": [
      "2364it [02:49, 15.83it/s]"
     ]
    },
    {
     "name": "stdout",
     "output_type": "stream",
     "text": [
      "2365/3426 [===================>..........] - ETA: 1:15"
     ]
    },
    {
     "name": "stderr",
     "output_type": "stream",
     "text": [
      "2366it [02:49, 16.20it/s]"
     ]
    },
    {
     "name": "stdout",
     "output_type": "stream",
     "text": [
      "2367/3426 [===================>..........] - ETA: 1:15"
     ]
    },
    {
     "name": "stderr",
     "output_type": "stream",
     "text": [
      "2368it [02:49, 16.10it/s]"
     ]
    },
    {
     "name": "stdout",
     "output_type": "stream",
     "text": [
      "2369/3426 [===================>..........] - ETA: 1:15"
     ]
    },
    {
     "name": "stderr",
     "output_type": "stream",
     "text": [
      "2370it [02:49, 15.90it/s]"
     ]
    },
    {
     "name": "stdout",
     "output_type": "stream",
     "text": [
      "2371/3426 [===================>..........] - ETA: 1:15"
     ]
    },
    {
     "name": "stderr",
     "output_type": "stream",
     "text": [
      "2372it [02:49, 15.91it/s]"
     ]
    },
    {
     "name": "stdout",
     "output_type": "stream",
     "text": [
      "2373/3426 [===================>..........] - ETA: 1:15"
     ]
    },
    {
     "name": "stderr",
     "output_type": "stream",
     "text": [
      "2374it [02:49, 16.67it/s]"
     ]
    },
    {
     "name": "stdout",
     "output_type": "stream",
     "text": [
      "2375/3426 [===================>..........] - ETA: 1:15"
     ]
    },
    {
     "name": "stderr",
     "output_type": "stream",
     "text": [
      "2376it [02:49, 17.21it/s]"
     ]
    },
    {
     "name": "stdout",
     "output_type": "stream",
     "text": [
      "2377/3426 [===================>..........] - ETA: 1:14"
     ]
    },
    {
     "name": "stderr",
     "output_type": "stream",
     "text": [
      "2378it [02:49, 17.19it/s]"
     ]
    },
    {
     "name": "stdout",
     "output_type": "stream",
     "text": [
      "2379/3426 [===================>..........] - ETA: 1:14"
     ]
    },
    {
     "name": "stderr",
     "output_type": "stream",
     "text": [
      "2380it [02:50, 16.19it/s]"
     ]
    },
    {
     "name": "stdout",
     "output_type": "stream",
     "text": [
      "2381/3426 [===================>..........] - ETA: 1:14"
     ]
    },
    {
     "name": "stderr",
     "output_type": "stream",
     "text": [
      "2382it [02:50, 16.36it/s]"
     ]
    },
    {
     "name": "stdout",
     "output_type": "stream",
     "text": [
      "2383/3426 [===================>..........] - ETA: 1:14"
     ]
    },
    {
     "name": "stderr",
     "output_type": "stream",
     "text": [
      "2384it [02:50, 13.52it/s]"
     ]
    },
    {
     "name": "stdout",
     "output_type": "stream",
     "text": [
      "2385/3426 [===================>..........] - ETA: 1:14"
     ]
    },
    {
     "name": "stderr",
     "output_type": "stream",
     "text": [
      "2386it [02:50, 14.92it/s]"
     ]
    },
    {
     "name": "stdout",
     "output_type": "stream",
     "text": [
      "2387/3426 [===================>..........] - ETA: 1:14"
     ]
    },
    {
     "name": "stderr",
     "output_type": "stream",
     "text": [
      "2388it [02:50, 15.42it/s]"
     ]
    },
    {
     "name": "stdout",
     "output_type": "stream",
     "text": [
      "2389/3426 [===================>..........] - ETA: 1:14"
     ]
    },
    {
     "name": "stderr",
     "output_type": "stream",
     "text": [
      "2390it [02:50, 15.46it/s]"
     ]
    },
    {
     "name": "stdout",
     "output_type": "stream",
     "text": [
      "2391/3426 [===================>..........] - ETA: 1:13"
     ]
    },
    {
     "name": "stderr",
     "output_type": "stream",
     "text": [
      "2392it [02:50, 15.64it/s]"
     ]
    },
    {
     "name": "stdout",
     "output_type": "stream",
     "text": [
      "2393/3426 [===================>..........] - ETA: 1:13"
     ]
    },
    {
     "name": "stderr",
     "output_type": "stream",
     "text": [
      "2394it [02:50, 16.29it/s]"
     ]
    },
    {
     "name": "stdout",
     "output_type": "stream",
     "text": [
      "2395/3426 [===================>..........] - ETA: 1:13"
     ]
    },
    {
     "name": "stderr",
     "output_type": "stream",
     "text": [
      "2396it [02:51, 16.33it/s]"
     ]
    },
    {
     "name": "stdout",
     "output_type": "stream",
     "text": [
      "2397/3426 [===================>..........] - ETA: 1:13"
     ]
    },
    {
     "name": "stderr",
     "output_type": "stream",
     "text": [
      "2398it [02:51, 16.24it/s]"
     ]
    },
    {
     "name": "stdout",
     "output_type": "stream",
     "text": [
      "2399/3426 [====================>.........] - ETA: 1:13"
     ]
    },
    {
     "name": "stderr",
     "output_type": "stream",
     "text": [
      "2400it [02:51, 15.83it/s]"
     ]
    },
    {
     "name": "stdout",
     "output_type": "stream",
     "text": [
      "2401/3426 [====================>.........] - ETA: 1:13"
     ]
    },
    {
     "name": "stderr",
     "output_type": "stream",
     "text": [
      "2402it [02:51, 16.35it/s]"
     ]
    },
    {
     "name": "stdout",
     "output_type": "stream",
     "text": [
      "2403/3426 [====================>.........] - ETA: 1:13"
     ]
    },
    {
     "name": "stderr",
     "output_type": "stream",
     "text": [
      "2404it [02:51, 17.05it/s]"
     ]
    },
    {
     "name": "stdout",
     "output_type": "stream",
     "text": [
      "2405/3426 [====================>.........] - ETA: 1:12"
     ]
    },
    {
     "name": "stderr",
     "output_type": "stream",
     "text": [
      "2406it [02:51, 16.49it/s]"
     ]
    },
    {
     "name": "stdout",
     "output_type": "stream",
     "text": [
      "2406/3426 [====================>.........] - ETA: 1:12"
     ]
    },
    {
     "name": "stderr",
     "output_type": "stream",
     "text": [
      "2408it [02:51, 17.32it/s]"
     ]
    },
    {
     "name": "stdout",
     "output_type": "stream",
     "text": [
      "2409/3426 [====================>.........] - ETA: 1:12"
     ]
    },
    {
     "name": "stderr",
     "output_type": "stream",
     "text": [
      "2410it [02:51, 17.52it/s]"
     ]
    },
    {
     "name": "stdout",
     "output_type": "stream",
     "text": [
      "2411/3426 [====================>.........] - ETA: 1:12"
     ]
    },
    {
     "name": "stderr",
     "output_type": "stream",
     "text": [
      "2412it [02:52, 15.90it/s]"
     ]
    },
    {
     "name": "stdout",
     "output_type": "stream",
     "text": [
      "2413/3426 [====================>.........] - ETA: 1:12"
     ]
    },
    {
     "name": "stderr",
     "output_type": "stream",
     "text": [
      "2414it [02:52, 16.22it/s]"
     ]
    },
    {
     "name": "stdout",
     "output_type": "stream",
     "text": [
      "2415/3426 [====================>.........] - ETA: 1:12"
     ]
    },
    {
     "name": "stderr",
     "output_type": "stream",
     "text": [
      "2416it [02:52, 16.13it/s]"
     ]
    },
    {
     "name": "stdout",
     "output_type": "stream",
     "text": [
      "2417/3426 [====================>.........] - ETA: 1:11"
     ]
    },
    {
     "name": "stderr",
     "output_type": "stream",
     "text": [
      "2418it [02:52, 16.86it/s]"
     ]
    },
    {
     "name": "stdout",
     "output_type": "stream",
     "text": [
      "2419/3426 [====================>.........] - ETA: 1:11"
     ]
    },
    {
     "name": "stderr",
     "output_type": "stream",
     "text": [
      "2420it [02:52, 16.76it/s]"
     ]
    },
    {
     "name": "stdout",
     "output_type": "stream",
     "text": [
      "2421/3426 [====================>.........] - ETA: 1:11"
     ]
    },
    {
     "name": "stderr",
     "output_type": "stream",
     "text": [
      "2422it [02:52, 16.81it/s]"
     ]
    },
    {
     "name": "stdout",
     "output_type": "stream",
     "text": [
      "2423/3426 [====================>.........] - ETA: 1:11"
     ]
    },
    {
     "name": "stderr",
     "output_type": "stream",
     "text": [
      "2424it [02:52, 16.54it/s]"
     ]
    },
    {
     "name": "stdout",
     "output_type": "stream",
     "text": [
      "2425/3426 [====================>.........] - ETA: 1:11"
     ]
    },
    {
     "name": "stderr",
     "output_type": "stream",
     "text": [
      "2426it [02:52, 15.95it/s]"
     ]
    },
    {
     "name": "stdout",
     "output_type": "stream",
     "text": [
      "2427/3426 [====================>.........] - ETA: 1:11"
     ]
    },
    {
     "name": "stderr",
     "output_type": "stream",
     "text": [
      "2428it [02:53, 15.77it/s]"
     ]
    },
    {
     "name": "stdout",
     "output_type": "stream",
     "text": [
      "2429/3426 [====================>.........] - ETA: 1:11"
     ]
    },
    {
     "name": "stderr",
     "output_type": "stream",
     "text": [
      "2430it [02:53, 16.41it/s]"
     ]
    },
    {
     "name": "stdout",
     "output_type": "stream",
     "text": [
      "2431/3426 [====================>.........] - ETA: 1:11"
     ]
    },
    {
     "name": "stderr",
     "output_type": "stream",
     "text": [
      "2432it [02:53, 10.76it/s]"
     ]
    },
    {
     "name": "stdout",
     "output_type": "stream",
     "text": [
      "2433/3426 [====================>.........] - ETA: 1:10"
     ]
    },
    {
     "name": "stderr",
     "output_type": "stream",
     "text": [
      "2434it [02:53, 12.05it/s]"
     ]
    },
    {
     "name": "stdout",
     "output_type": "stream",
     "text": [
      "2435/3426 [====================>.........] - ETA: 1:10"
     ]
    },
    {
     "name": "stderr",
     "output_type": "stream",
     "text": [
      "2436it [02:53, 13.30it/s]"
     ]
    },
    {
     "name": "stdout",
     "output_type": "stream",
     "text": [
      "2437/3426 [====================>.........] - ETA: 1:10"
     ]
    },
    {
     "name": "stderr",
     "output_type": "stream",
     "text": [
      "2438it [02:53, 14.06it/s]"
     ]
    },
    {
     "name": "stdout",
     "output_type": "stream",
     "text": [
      "2439/3426 [====================>.........] - ETA: 1:10"
     ]
    },
    {
     "name": "stderr",
     "output_type": "stream",
     "text": [
      "2440it [02:53, 15.13it/s]"
     ]
    },
    {
     "name": "stdout",
     "output_type": "stream",
     "text": [
      "2441/3426 [====================>.........] - ETA: 1:10"
     ]
    },
    {
     "name": "stderr",
     "output_type": "stream",
     "text": [
      "2442it [02:54, 15.88it/s]"
     ]
    },
    {
     "name": "stdout",
     "output_type": "stream",
     "text": [
      "2443/3426 [====================>.........] - ETA: 1:10"
     ]
    },
    {
     "name": "stderr",
     "output_type": "stream",
     "text": [
      "2444it [02:54, 15.43it/s]"
     ]
    },
    {
     "name": "stdout",
     "output_type": "stream",
     "text": [
      "2445/3426 [====================>.........] - ETA: 1:09"
     ]
    },
    {
     "name": "stderr",
     "output_type": "stream",
     "text": [
      "2446it [02:54, 16.15it/s]"
     ]
    },
    {
     "name": "stdout",
     "output_type": "stream",
     "text": [
      "2447/3426 [====================>.........] - ETA: 1:09"
     ]
    },
    {
     "name": "stderr",
     "output_type": "stream",
     "text": [
      "2448it [02:54, 16.50it/s]"
     ]
    },
    {
     "name": "stdout",
     "output_type": "stream",
     "text": [
      "2448/3426 [====================>.........] - ETA: 1:09"
     ]
    },
    {
     "name": "stderr",
     "output_type": "stream",
     "text": [
      "2450it [02:54, 16.96it/s]"
     ]
    },
    {
     "name": "stdout",
     "output_type": "stream",
     "text": [
      "2451/3426 [====================>.........] - ETA: 1:09"
     ]
    },
    {
     "name": "stderr",
     "output_type": "stream",
     "text": [
      "2452it [02:54, 16.43it/s]"
     ]
    },
    {
     "name": "stdout",
     "output_type": "stream",
     "text": [
      "2453/3426 [====================>.........] - ETA: 1:09"
     ]
    },
    {
     "name": "stderr",
     "output_type": "stream",
     "text": [
      "2454it [02:54, 16.82it/s]"
     ]
    },
    {
     "name": "stdout",
     "output_type": "stream",
     "text": [
      "2455/3426 [====================>.........] - ETA: 1:09"
     ]
    },
    {
     "name": "stderr",
     "output_type": "stream",
     "text": [
      "2456it [02:54, 16.52it/s]"
     ]
    },
    {
     "name": "stdout",
     "output_type": "stream",
     "text": [
      "2457/3426 [====================>.........] - ETA: 1:09"
     ]
    },
    {
     "name": "stderr",
     "output_type": "stream",
     "text": [
      "2458it [02:55, 16.08it/s]"
     ]
    },
    {
     "name": "stdout",
     "output_type": "stream",
     "text": [
      "2459/3426 [====================>.........] - ETA: 1:08"
     ]
    },
    {
     "name": "stderr",
     "output_type": "stream",
     "text": [
      "2460it [02:55, 16.77it/s]"
     ]
    },
    {
     "name": "stdout",
     "output_type": "stream",
     "text": [
      "2461/3426 [====================>.........] - ETA: 1:08"
     ]
    },
    {
     "name": "stderr",
     "output_type": "stream",
     "text": [
      "2462it [02:55, 17.13it/s]"
     ]
    },
    {
     "name": "stdout",
     "output_type": "stream",
     "text": [
      "2463/3426 [====================>.........] - ETA: 1:08"
     ]
    },
    {
     "name": "stderr",
     "output_type": "stream",
     "text": [
      "2464it [02:55, 16.75it/s]"
     ]
    },
    {
     "name": "stdout",
     "output_type": "stream",
     "text": [
      "2465/3426 [====================>.........] - ETA: 1:08"
     ]
    },
    {
     "name": "stderr",
     "output_type": "stream",
     "text": [
      "2466it [02:55, 17.42it/s]"
     ]
    },
    {
     "name": "stdout",
     "output_type": "stream",
     "text": [
      "2467/3426 [====================>.........] - ETA: 1:08"
     ]
    },
    {
     "name": "stderr",
     "output_type": "stream",
     "text": [
      "2468it [02:55, 17.43it/s]"
     ]
    },
    {
     "name": "stdout",
     "output_type": "stream",
     "text": [
      "2469/3426 [====================>.........] - ETA: 1:08"
     ]
    },
    {
     "name": "stderr",
     "output_type": "stream",
     "text": [
      "2470it [02:55, 16.73it/s]"
     ]
    },
    {
     "name": "stdout",
     "output_type": "stream",
     "text": [
      "2471/3426 [====================>.........] - ETA: 1:07"
     ]
    },
    {
     "name": "stderr",
     "output_type": "stream",
     "text": [
      "2472it [02:55, 16.71it/s]"
     ]
    },
    {
     "name": "stdout",
     "output_type": "stream",
     "text": [
      "2473/3426 [====================>.........] - ETA: 1:07"
     ]
    },
    {
     "name": "stderr",
     "output_type": "stream",
     "text": [
      "2474it [02:55, 16.37it/s]"
     ]
    },
    {
     "name": "stdout",
     "output_type": "stream",
     "text": [
      "2475/3426 [====================>.........] - ETA: 1:07"
     ]
    },
    {
     "name": "stderr",
     "output_type": "stream",
     "text": [
      "2476it [02:56, 15.96it/s]"
     ]
    },
    {
     "name": "stdout",
     "output_type": "stream",
     "text": [
      "2477/3426 [====================>.........] - ETA: 1:07"
     ]
    },
    {
     "name": "stderr",
     "output_type": "stream",
     "text": [
      "2478it [02:56, 16.09it/s]"
     ]
    },
    {
     "name": "stdout",
     "output_type": "stream",
     "text": [
      "2479/3426 [====================>.........] - ETA: 1:07"
     ]
    },
    {
     "name": "stderr",
     "output_type": "stream",
     "text": [
      "2480it [02:56, 13.89it/s]"
     ]
    },
    {
     "name": "stdout",
     "output_type": "stream",
     "text": [
      "2481/3426 [====================>.........] - ETA: 1:07"
     ]
    },
    {
     "name": "stderr",
     "output_type": "stream",
     "text": [
      "2482it [02:56, 14.72it/s]"
     ]
    },
    {
     "name": "stdout",
     "output_type": "stream",
     "text": [
      "2483/3426 [====================>.........] - ETA: 1:07"
     ]
    },
    {
     "name": "stderr",
     "output_type": "stream",
     "text": [
      "2484it [02:56, 14.93it/s]"
     ]
    },
    {
     "name": "stdout",
     "output_type": "stream",
     "text": [
      "2485/3426 [====================>.........] - ETA: 1:06"
     ]
    },
    {
     "name": "stderr",
     "output_type": "stream",
     "text": [
      "2486it [02:56, 15.37it/s]"
     ]
    },
    {
     "name": "stdout",
     "output_type": "stream",
     "text": [
      "2487/3426 [====================>.........] - ETA: 1:06"
     ]
    },
    {
     "name": "stderr",
     "output_type": "stream",
     "text": [
      "2488it [02:56, 15.24it/s]"
     ]
    },
    {
     "name": "stdout",
     "output_type": "stream",
     "text": [
      "2489/3426 [====================>.........] - ETA: 1:06"
     ]
    },
    {
     "name": "stderr",
     "output_type": "stream",
     "text": [
      "2490it [02:57, 15.00it/s]"
     ]
    },
    {
     "name": "stdout",
     "output_type": "stream",
     "text": [
      "2491/3426 [====================>.........] - ETA: 1:06"
     ]
    },
    {
     "name": "stderr",
     "output_type": "stream",
     "text": [
      "2492it [02:57, 15.87it/s]"
     ]
    },
    {
     "name": "stdout",
     "output_type": "stream",
     "text": [
      "2493/3426 [====================>.........] - ETA: 1:06"
     ]
    },
    {
     "name": "stderr",
     "output_type": "stream",
     "text": [
      "2494it [02:57, 16.19it/s]"
     ]
    },
    {
     "name": "stdout",
     "output_type": "stream",
     "text": [
      "2495/3426 [====================>.........] - ETA: 1:06"
     ]
    },
    {
     "name": "stderr",
     "output_type": "stream",
     "text": [
      "2496it [02:57, 16.31it/s]"
     ]
    },
    {
     "name": "stdout",
     "output_type": "stream",
     "text": [
      "2497/3426 [====================>.........] - ETA: 1:06"
     ]
    },
    {
     "name": "stderr",
     "output_type": "stream",
     "text": [
      "2498it [02:57, 16.14it/s]"
     ]
    },
    {
     "name": "stdout",
     "output_type": "stream",
     "text": [
      "2499/3426 [====================>.........] - ETA: 1:05"
     ]
    },
    {
     "name": "stderr",
     "output_type": "stream",
     "text": [
      "2500it [02:57, 16.26it/s]"
     ]
    },
    {
     "name": "stdout",
     "output_type": "stream",
     "text": [
      "2501/3426 [====================>.........] - ETA: 1:05"
     ]
    },
    {
     "name": "stderr",
     "output_type": "stream",
     "text": [
      "2502it [02:57, 16.50it/s]"
     ]
    },
    {
     "name": "stdout",
     "output_type": "stream",
     "text": [
      "2503/3426 [====================>.........] - ETA: 1:05"
     ]
    },
    {
     "name": "stderr",
     "output_type": "stream",
     "text": [
      "2504it [02:57, 16.27it/s]"
     ]
    },
    {
     "name": "stdout",
     "output_type": "stream",
     "text": [
      "2505/3426 [====================>.........] - ETA: 1:05"
     ]
    },
    {
     "name": "stderr",
     "output_type": "stream",
     "text": [
      "2506it [02:58, 16.67it/s]"
     ]
    },
    {
     "name": "stdout",
     "output_type": "stream",
     "text": [
      "2507/3426 [====================>.........] - ETA: 1:05"
     ]
    },
    {
     "name": "stderr",
     "output_type": "stream",
     "text": [
      "2508it [02:58, 16.36it/s]"
     ]
    },
    {
     "name": "stdout",
     "output_type": "stream",
     "text": [
      "2509/3426 [====================>.........] - ETA: 1:05"
     ]
    },
    {
     "name": "stderr",
     "output_type": "stream",
     "text": [
      "2510it [02:58, 16.59it/s]"
     ]
    },
    {
     "name": "stdout",
     "output_type": "stream",
     "text": [
      "2511/3426 [====================>.........] - ETA: 1:05"
     ]
    },
    {
     "name": "stderr",
     "output_type": "stream",
     "text": [
      "2512it [02:58, 16.46it/s]"
     ]
    },
    {
     "name": "stdout",
     "output_type": "stream",
     "text": [
      "2513/3426 [=====================>........] - ETA: 1:04"
     ]
    },
    {
     "name": "stderr",
     "output_type": "stream",
     "text": [
      "2514it [02:58, 16.31it/s]"
     ]
    },
    {
     "name": "stdout",
     "output_type": "stream",
     "text": [
      "2515/3426 [=====================>........] - ETA: 1:04"
     ]
    },
    {
     "name": "stderr",
     "output_type": "stream",
     "text": [
      "2516it [02:58, 16.65it/s]"
     ]
    },
    {
     "name": "stdout",
     "output_type": "stream",
     "text": [
      "2517/3426 [=====================>........] - ETA: 1:04"
     ]
    },
    {
     "name": "stderr",
     "output_type": "stream",
     "text": [
      "2518it [02:58, 16.36it/s]"
     ]
    },
    {
     "name": "stdout",
     "output_type": "stream",
     "text": [
      "2519/3426 [=====================>........] - ETA: 1:04"
     ]
    },
    {
     "name": "stderr",
     "output_type": "stream",
     "text": [
      "2520it [02:58, 16.73it/s]"
     ]
    },
    {
     "name": "stdout",
     "output_type": "stream",
     "text": [
      "2521/3426 [=====================>........] - ETA: 1:04"
     ]
    },
    {
     "name": "stderr",
     "output_type": "stream",
     "text": [
      "2522it [02:59, 12.19it/s]"
     ]
    },
    {
     "name": "stdout",
     "output_type": "stream",
     "text": [
      "2523/3426 [=====================>........] - ETA: 1:04"
     ]
    },
    {
     "name": "stderr",
     "output_type": "stream",
     "text": [
      "2524it [02:59, 13.37it/s]"
     ]
    },
    {
     "name": "stdout",
     "output_type": "stream",
     "text": [
      "2525/3426 [=====================>........] - ETA: 1:04"
     ]
    },
    {
     "name": "stderr",
     "output_type": "stream",
     "text": [
      "2526it [02:59, 14.27it/s]"
     ]
    },
    {
     "name": "stdout",
     "output_type": "stream",
     "text": [
      "2527/3426 [=====================>........] - ETA: 1:03"
     ]
    },
    {
     "name": "stderr",
     "output_type": "stream",
     "text": [
      "2528it [02:59, 12.92it/s]"
     ]
    },
    {
     "name": "stdout",
     "output_type": "stream",
     "text": [
      "2529/3426 [=====================>........] - ETA: 1:03"
     ]
    },
    {
     "name": "stderr",
     "output_type": "stream",
     "text": [
      "2530it [02:59, 13.68it/s]"
     ]
    },
    {
     "name": "stdout",
     "output_type": "stream",
     "text": [
      "2531/3426 [=====================>........] - ETA: 1:03"
     ]
    },
    {
     "name": "stderr",
     "output_type": "stream",
     "text": [
      "2532it [02:59, 12.94it/s]"
     ]
    },
    {
     "name": "stdout",
     "output_type": "stream",
     "text": [
      "2533/3426 [=====================>........] - ETA: 1:03"
     ]
    },
    {
     "name": "stderr",
     "output_type": "stream",
     "text": [
      "2534it [02:59, 13.90it/s]"
     ]
    },
    {
     "name": "stdout",
     "output_type": "stream",
     "text": [
      "2535/3426 [=====================>........] - ETA: 1:03"
     ]
    },
    {
     "name": "stderr",
     "output_type": "stream",
     "text": [
      "2536it [03:00, 14.55it/s]"
     ]
    },
    {
     "name": "stdout",
     "output_type": "stream",
     "text": [
      "2537/3426 [=====================>........] - ETA: 1:03"
     ]
    },
    {
     "name": "stderr",
     "output_type": "stream",
     "text": [
      "2538it [03:00, 15.10it/s]"
     ]
    },
    {
     "name": "stdout",
     "output_type": "stream",
     "text": [
      "2539/3426 [=====================>........] - ETA: 1:03"
     ]
    },
    {
     "name": "stderr",
     "output_type": "stream",
     "text": [
      "2540it [03:00, 14.98it/s]"
     ]
    },
    {
     "name": "stdout",
     "output_type": "stream",
     "text": [
      "2541/3426 [=====================>........] - ETA: 1:02"
     ]
    },
    {
     "name": "stderr",
     "output_type": "stream",
     "text": [
      "2542it [03:00, 15.25it/s]"
     ]
    },
    {
     "name": "stdout",
     "output_type": "stream",
     "text": [
      "2543/3426 [=====================>........] - ETA: 1:02"
     ]
    },
    {
     "name": "stderr",
     "output_type": "stream",
     "text": [
      "2544it [03:00, 15.63it/s]"
     ]
    },
    {
     "name": "stdout",
     "output_type": "stream",
     "text": [
      "2545/3426 [=====================>........] - ETA: 1:02"
     ]
    },
    {
     "name": "stderr",
     "output_type": "stream",
     "text": [
      "2546it [03:00, 15.83it/s]"
     ]
    },
    {
     "name": "stdout",
     "output_type": "stream",
     "text": [
      "2547/3426 [=====================>........] - ETA: 1:02"
     ]
    },
    {
     "name": "stderr",
     "output_type": "stream",
     "text": [
      "2548it [03:00, 15.55it/s]"
     ]
    },
    {
     "name": "stdout",
     "output_type": "stream",
     "text": [
      "2549/3426 [=====================>........] - ETA: 1:02"
     ]
    },
    {
     "name": "stderr",
     "output_type": "stream",
     "text": [
      "2550it [03:00, 16.13it/s]"
     ]
    },
    {
     "name": "stdout",
     "output_type": "stream",
     "text": [
      "2551/3426 [=====================>........] - ETA: 1:02"
     ]
    },
    {
     "name": "stderr",
     "output_type": "stream",
     "text": [
      "2552it [03:01, 16.65it/s]"
     ]
    },
    {
     "name": "stdout",
     "output_type": "stream",
     "text": [
      "2553/3426 [=====================>........] - ETA: 1:01"
     ]
    },
    {
     "name": "stderr",
     "output_type": "stream",
     "text": [
      "2554it [03:01, 16.74it/s]"
     ]
    },
    {
     "name": "stdout",
     "output_type": "stream",
     "text": [
      "2555/3426 [=====================>........] - ETA: 1:01"
     ]
    },
    {
     "name": "stderr",
     "output_type": "stream",
     "text": [
      "2556it [03:01, 16.89it/s]"
     ]
    },
    {
     "name": "stdout",
     "output_type": "stream",
     "text": [
      "2557/3426 [=====================>........] - ETA: 1:01"
     ]
    },
    {
     "name": "stderr",
     "output_type": "stream",
     "text": [
      "2558it [03:01, 16.88it/s]"
     ]
    },
    {
     "name": "stdout",
     "output_type": "stream",
     "text": [
      "2559/3426 [=====================>........] - ETA: 1:01"
     ]
    },
    {
     "name": "stderr",
     "output_type": "stream",
     "text": [
      "2560it [03:01, 17.04it/s]"
     ]
    },
    {
     "name": "stdout",
     "output_type": "stream",
     "text": [
      "2561/3426 [=====================>........] - ETA: 1:01"
     ]
    },
    {
     "name": "stderr",
     "output_type": "stream",
     "text": [
      "2562it [03:01, 17.53it/s]"
     ]
    },
    {
     "name": "stdout",
     "output_type": "stream",
     "text": [
      "2563/3426 [=====================>........] - ETA: 1:01"
     ]
    },
    {
     "name": "stderr",
     "output_type": "stream",
     "text": [
      "2564it [03:01, 17.12it/s]"
     ]
    },
    {
     "name": "stdout",
     "output_type": "stream",
     "text": [
      "2565/3426 [=====================>........] - ETA: 1:01"
     ]
    },
    {
     "name": "stderr",
     "output_type": "stream",
     "text": [
      "2566it [03:01, 17.30it/s]"
     ]
    },
    {
     "name": "stdout",
     "output_type": "stream",
     "text": [
      "2567/3426 [=====================>........] - ETA: 1:00"
     ]
    },
    {
     "name": "stderr",
     "output_type": "stream",
     "text": [
      "2568it [03:02, 16.76it/s]"
     ]
    },
    {
     "name": "stdout",
     "output_type": "stream",
     "text": [
      "2569/3426 [=====================>........] - ETA: 1:00"
     ]
    },
    {
     "name": "stderr",
     "output_type": "stream",
     "text": [
      "2570it [03:02, 16.73it/s]"
     ]
    },
    {
     "name": "stdout",
     "output_type": "stream",
     "text": [
      "2571/3426 [=====================>........] - ETA: 1:00"
     ]
    },
    {
     "name": "stderr",
     "output_type": "stream",
     "text": [
      "2572it [03:02, 16.46it/s]"
     ]
    },
    {
     "name": "stdout",
     "output_type": "stream",
     "text": [
      "2573/3426 [=====================>........] - ETA: 1:00"
     ]
    },
    {
     "name": "stderr",
     "output_type": "stream",
     "text": [
      "2574it [03:02, 16.86it/s]"
     ]
    },
    {
     "name": "stdout",
     "output_type": "stream",
     "text": [
      "2575/3426 [=====================>........] - ETA: 1:00"
     ]
    },
    {
     "name": "stderr",
     "output_type": "stream",
     "text": [
      "2576it [03:02, 14.03it/s]"
     ]
    },
    {
     "name": "stdout",
     "output_type": "stream",
     "text": [
      "2577/3426 [=====================>........] - ETA: 1:00"
     ]
    },
    {
     "name": "stderr",
     "output_type": "stream",
     "text": [
      "2578it [03:02, 13.98it/s]"
     ]
    },
    {
     "name": "stdout",
     "output_type": "stream",
     "text": [
      "2579/3426 [=====================>........] - ETA: 1:00"
     ]
    },
    {
     "name": "stderr",
     "output_type": "stream",
     "text": [
      "2580it [03:02, 14.89it/s]"
     ]
    },
    {
     "name": "stdout",
     "output_type": "stream",
     "text": [
      "2581/3426 [=====================>........] - ETA: 59s"
     ]
    },
    {
     "name": "stderr",
     "output_type": "stream",
     "text": [
      "2582it [03:02, 14.81it/s]"
     ]
    },
    {
     "name": "stdout",
     "output_type": "stream",
     "text": [
      "2583/3426 [=====================>........] - ETA: 59s"
     ]
    },
    {
     "name": "stderr",
     "output_type": "stream",
     "text": [
      "2584it [03:03, 14.76it/s]"
     ]
    },
    {
     "name": "stdout",
     "output_type": "stream",
     "text": [
      "2585/3426 [=====================>........] - ETA: 59s"
     ]
    },
    {
     "name": "stderr",
     "output_type": "stream",
     "text": [
      "2586it [03:03, 15.41it/s]"
     ]
    },
    {
     "name": "stdout",
     "output_type": "stream",
     "text": [
      "2587/3426 [=====================>........] - ETA: 59s"
     ]
    },
    {
     "name": "stderr",
     "output_type": "stream",
     "text": [
      "2588it [03:03, 15.67it/s]"
     ]
    },
    {
     "name": "stdout",
     "output_type": "stream",
     "text": [
      "2589/3426 [=====================>........] - ETA: 59s"
     ]
    },
    {
     "name": "stderr",
     "output_type": "stream",
     "text": [
      "2590it [03:03, 15.96it/s]"
     ]
    },
    {
     "name": "stdout",
     "output_type": "stream",
     "text": [
      "2591/3426 [=====================>........] - ETA: 59s"
     ]
    },
    {
     "name": "stderr",
     "output_type": "stream",
     "text": [
      "2592it [03:03, 15.95it/s]"
     ]
    },
    {
     "name": "stdout",
     "output_type": "stream",
     "text": [
      "2593/3426 [=====================>........] - ETA: 59s"
     ]
    },
    {
     "name": "stderr",
     "output_type": "stream",
     "text": [
      "2594it [03:03, 16.35it/s]"
     ]
    },
    {
     "name": "stdout",
     "output_type": "stream",
     "text": [
      "2595/3426 [=====================>........] - ETA: 58s"
     ]
    },
    {
     "name": "stderr",
     "output_type": "stream",
     "text": [
      "2596it [03:03, 16.47it/s]"
     ]
    },
    {
     "name": "stdout",
     "output_type": "stream",
     "text": [
      "2597/3426 [=====================>........] - ETA: 58s"
     ]
    },
    {
     "name": "stderr",
     "output_type": "stream",
     "text": [
      "2598it [03:03, 16.28it/s]"
     ]
    },
    {
     "name": "stdout",
     "output_type": "stream",
     "text": [
      "2599/3426 [=====================>........] - ETA: 58s"
     ]
    },
    {
     "name": "stderr",
     "output_type": "stream",
     "text": [
      "2600it [03:04, 16.61it/s]"
     ]
    },
    {
     "name": "stdout",
     "output_type": "stream",
     "text": [
      "2601/3426 [=====================>........] - ETA: 58s"
     ]
    },
    {
     "name": "stderr",
     "output_type": "stream",
     "text": [
      "2602it [03:04, 17.06it/s]"
     ]
    },
    {
     "name": "stdout",
     "output_type": "stream",
     "text": [
      "2603/3426 [=====================>........] - ETA: 58s"
     ]
    },
    {
     "name": "stderr",
     "output_type": "stream",
     "text": [
      "2604it [03:04, 17.00it/s]"
     ]
    },
    {
     "name": "stdout",
     "output_type": "stream",
     "text": [
      "2605/3426 [=====================>........] - ETA: 58s"
     ]
    },
    {
     "name": "stderr",
     "output_type": "stream",
     "text": [
      "2606it [03:04, 16.98it/s]"
     ]
    },
    {
     "name": "stdout",
     "output_type": "stream",
     "text": [
      "2607/3426 [=====================>........] - ETA: 57s"
     ]
    },
    {
     "name": "stderr",
     "output_type": "stream",
     "text": [
      "2608it [03:04, 16.82it/s]"
     ]
    },
    {
     "name": "stdout",
     "output_type": "stream",
     "text": [
      "2609/3426 [=====================>........] - ETA: 57s"
     ]
    },
    {
     "name": "stderr",
     "output_type": "stream",
     "text": [
      "2610it [03:04, 17.11it/s]"
     ]
    },
    {
     "name": "stdout",
     "output_type": "stream",
     "text": [
      "2611/3426 [=====================>........] - ETA: 57s"
     ]
    },
    {
     "name": "stderr",
     "output_type": "stream",
     "text": [
      "2612it [03:04, 16.42it/s]"
     ]
    },
    {
     "name": "stdout",
     "output_type": "stream",
     "text": [
      "2613/3426 [=====================>........] - ETA: 57s"
     ]
    },
    {
     "name": "stderr",
     "output_type": "stream",
     "text": [
      "2614it [03:04, 16.60it/s]"
     ]
    },
    {
     "name": "stdout",
     "output_type": "stream",
     "text": [
      "2615/3426 [=====================>........] - ETA: 57s"
     ]
    },
    {
     "name": "stderr",
     "output_type": "stream",
     "text": [
      "2616it [03:05, 15.45it/s]"
     ]
    },
    {
     "name": "stdout",
     "output_type": "stream",
     "text": [
      "2617/3426 [=====================>........] - ETA: 57s"
     ]
    },
    {
     "name": "stderr",
     "output_type": "stream",
     "text": [
      "2618it [03:05, 14.51it/s]"
     ]
    },
    {
     "name": "stdout",
     "output_type": "stream",
     "text": [
      "2618/3426 [=====================>........] - ETA: 57s"
     ]
    },
    {
     "name": "stderr",
     "output_type": "stream",
     "text": [
      "2620it [03:05, 15.34it/s]"
     ]
    },
    {
     "name": "stdout",
     "output_type": "stream",
     "text": [
      "2621/3426 [=====================>........] - ETA: 56s"
     ]
    },
    {
     "name": "stderr",
     "output_type": "stream",
     "text": [
      "2622it [03:05, 15.15it/s]"
     ]
    },
    {
     "name": "stdout",
     "output_type": "stream",
     "text": [
      "2623/3426 [=====================>........] - ETA: 56s"
     ]
    },
    {
     "name": "stderr",
     "output_type": "stream",
     "text": [
      "2624it [03:05, 13.32it/s]"
     ]
    },
    {
     "name": "stdout",
     "output_type": "stream",
     "text": [
      "2625/3426 [=====================>........] - ETA: 56s"
     ]
    },
    {
     "name": "stderr",
     "output_type": "stream",
     "text": [
      "2626it [03:05, 14.07it/s]"
     ]
    },
    {
     "name": "stdout",
     "output_type": "stream",
     "text": [
      "2627/3426 [======================>.......] - ETA: 56s"
     ]
    },
    {
     "name": "stderr",
     "output_type": "stream",
     "text": [
      "2628it [03:05, 15.05it/s]"
     ]
    },
    {
     "name": "stdout",
     "output_type": "stream",
     "text": [
      "2629/3426 [======================>.......] - ETA: 56s"
     ]
    },
    {
     "name": "stderr",
     "output_type": "stream",
     "text": [
      "2630it [03:06, 15.63it/s]"
     ]
    },
    {
     "name": "stdout",
     "output_type": "stream",
     "text": [
      "2631/3426 [======================>.......] - ETA: 56s"
     ]
    },
    {
     "name": "stderr",
     "output_type": "stream",
     "text": [
      "2632it [03:06, 16.21it/s]"
     ]
    },
    {
     "name": "stdout",
     "output_type": "stream",
     "text": [
      "2633/3426 [======================>.......] - ETA: 56s"
     ]
    },
    {
     "name": "stderr",
     "output_type": "stream",
     "text": [
      "2634it [03:06, 16.38it/s]"
     ]
    },
    {
     "name": "stdout",
     "output_type": "stream",
     "text": [
      "2635/3426 [======================>.......] - ETA: 56s"
     ]
    },
    {
     "name": "stderr",
     "output_type": "stream",
     "text": [
      "2636it [03:06,  9.48it/s]"
     ]
    },
    {
     "name": "stdout",
     "output_type": "stream",
     "text": [
      "2637/3426 [======================>.......] - ETA: 55s"
     ]
    },
    {
     "name": "stderr",
     "output_type": "stream",
     "text": [
      "2638it [03:06, 11.04it/s]"
     ]
    },
    {
     "name": "stdout",
     "output_type": "stream",
     "text": [
      "2639/3426 [======================>.......] - ETA: 55s"
     ]
    },
    {
     "name": "stderr",
     "output_type": "stream",
     "text": [
      "2640it [03:06, 12.29it/s]"
     ]
    },
    {
     "name": "stdout",
     "output_type": "stream",
     "text": [
      "2641/3426 [======================>.......] - ETA: 55s"
     ]
    },
    {
     "name": "stderr",
     "output_type": "stream",
     "text": [
      "2642it [03:07, 12.30it/s]"
     ]
    },
    {
     "name": "stdout",
     "output_type": "stream",
     "text": [
      "2643/3426 [======================>.......] - ETA: 55s"
     ]
    },
    {
     "name": "stderr",
     "output_type": "stream",
     "text": [
      "2644it [03:07, 13.12it/s]"
     ]
    },
    {
     "name": "stdout",
     "output_type": "stream",
     "text": [
      "2645/3426 [======================>.......] - ETA: 55s"
     ]
    },
    {
     "name": "stderr",
     "output_type": "stream",
     "text": [
      "2646it [03:07, 14.02it/s]"
     ]
    },
    {
     "name": "stdout",
     "output_type": "stream",
     "text": [
      "2647/3426 [======================>.......] - ETA: 55s"
     ]
    },
    {
     "name": "stderr",
     "output_type": "stream",
     "text": [
      "2648it [03:07, 14.73it/s]"
     ]
    },
    {
     "name": "stdout",
     "output_type": "stream",
     "text": [
      "2649/3426 [======================>.......] - ETA: 55s"
     ]
    },
    {
     "name": "stderr",
     "output_type": "stream",
     "text": [
      "2650it [03:07, 15.60it/s]"
     ]
    },
    {
     "name": "stdout",
     "output_type": "stream",
     "text": [
      "2651/3426 [======================>.......] - ETA: 54s"
     ]
    },
    {
     "name": "stderr",
     "output_type": "stream",
     "text": [
      "2652it [03:07, 16.24it/s]"
     ]
    },
    {
     "name": "stdout",
     "output_type": "stream",
     "text": [
      "2653/3426 [======================>.......] - ETA: 54s"
     ]
    },
    {
     "name": "stderr",
     "output_type": "stream",
     "text": [
      "2654it [03:07, 16.62it/s]"
     ]
    },
    {
     "name": "stdout",
     "output_type": "stream",
     "text": [
      "2655/3426 [======================>.......] - ETA: 54s"
     ]
    },
    {
     "name": "stderr",
     "output_type": "stream",
     "text": [
      "2656it [03:07, 16.97it/s]"
     ]
    },
    {
     "name": "stdout",
     "output_type": "stream",
     "text": [
      "2657/3426 [======================>.......] - ETA: 54s"
     ]
    },
    {
     "name": "stderr",
     "output_type": "stream",
     "text": [
      "2658it [03:08, 13.68it/s]"
     ]
    },
    {
     "name": "stdout",
     "output_type": "stream",
     "text": [
      "2659/3426 [======================>.......] - ETA: 54s"
     ]
    },
    {
     "name": "stderr",
     "output_type": "stream",
     "text": [
      "2660it [03:08, 12.49it/s]"
     ]
    },
    {
     "name": "stdout",
     "output_type": "stream",
     "text": [
      "2661/3426 [======================>.......] - ETA: 54s"
     ]
    },
    {
     "name": "stderr",
     "output_type": "stream",
     "text": [
      "2662it [03:08, 11.67it/s]"
     ]
    },
    {
     "name": "stdout",
     "output_type": "stream",
     "text": [
      "2663/3426 [======================>.......] - ETA: 54s"
     ]
    },
    {
     "name": "stderr",
     "output_type": "stream",
     "text": [
      "2664it [03:08,  9.56it/s]"
     ]
    },
    {
     "name": "stdout",
     "output_type": "stream",
     "text": [
      "2665/3426 [======================>.......] - ETA: 53s"
     ]
    },
    {
     "name": "stderr",
     "output_type": "stream",
     "text": [
      "2666it [03:08, 10.70it/s]"
     ]
    },
    {
     "name": "stdout",
     "output_type": "stream",
     "text": [
      "2667/3426 [======================>.......] - ETA: 53s"
     ]
    },
    {
     "name": "stderr",
     "output_type": "stream",
     "text": [
      "2668it [03:09, 11.07it/s]"
     ]
    },
    {
     "name": "stdout",
     "output_type": "stream",
     "text": [
      "2669/3426 [======================>.......] - ETA: 53s"
     ]
    },
    {
     "name": "stderr",
     "output_type": "stream",
     "text": [
      "2670it [03:09, 11.65it/s]"
     ]
    },
    {
     "name": "stdout",
     "output_type": "stream",
     "text": [
      "2671/3426 [======================>.......] - ETA: 53s"
     ]
    },
    {
     "name": "stderr",
     "output_type": "stream",
     "text": [
      "2672it [03:09, 12.24it/s]"
     ]
    },
    {
     "name": "stdout",
     "output_type": "stream",
     "text": [
      "2673/3426 [======================>.......] - ETA: 53s"
     ]
    },
    {
     "name": "stderr",
     "output_type": "stream",
     "text": [
      "2674it [03:09, 12.64it/s]"
     ]
    },
    {
     "name": "stdout",
     "output_type": "stream",
     "text": [
      "2675/3426 [======================>.......] - ETA: 53s"
     ]
    },
    {
     "name": "stderr",
     "output_type": "stream",
     "text": [
      "2676it [03:09, 13.29it/s]"
     ]
    },
    {
     "name": "stdout",
     "output_type": "stream",
     "text": [
      "2677/3426 [======================>.......] - ETA: 53s"
     ]
    },
    {
     "name": "stderr",
     "output_type": "stream",
     "text": [
      "2678it [03:09, 13.55it/s]"
     ]
    },
    {
     "name": "stdout",
     "output_type": "stream",
     "text": [
      "2679/3426 [======================>.......] - ETA: 52s"
     ]
    },
    {
     "name": "stderr",
     "output_type": "stream",
     "text": [
      "2680it [03:09, 14.79it/s]"
     ]
    },
    {
     "name": "stdout",
     "output_type": "stream",
     "text": [
      "2681/3426 [======================>.......] - ETA: 52s"
     ]
    },
    {
     "name": "stderr",
     "output_type": "stream",
     "text": [
      "2682it [03:10, 10.88it/s]"
     ]
    },
    {
     "name": "stdout",
     "output_type": "stream",
     "text": [
      "2683/3426 [======================>.......] - ETA: 52s"
     ]
    },
    {
     "name": "stderr",
     "output_type": "stream",
     "text": [
      "2684it [03:10,  8.97it/s]"
     ]
    },
    {
     "name": "stdout",
     "output_type": "stream",
     "text": [
      "2685/3426 [======================>.......] - ETA: 52s"
     ]
    },
    {
     "name": "stderr",
     "output_type": "stream",
     "text": [
      "2686it [03:10,  8.48it/s]"
     ]
    },
    {
     "name": "stdout",
     "output_type": "stream",
     "text": [
      "2687/3426 [======================>.......] - ETA: 52s"
     ]
    },
    {
     "name": "stderr",
     "output_type": "stream",
     "text": [
      "2688it [03:10, 10.02it/s]"
     ]
    },
    {
     "name": "stdout",
     "output_type": "stream",
     "text": [
      "2689/3426 [======================>.......] - ETA: 52s"
     ]
    },
    {
     "name": "stderr",
     "output_type": "stream",
     "text": [
      "2690it [03:11, 10.49it/s]"
     ]
    },
    {
     "name": "stdout",
     "output_type": "stream",
     "text": [
      "2691/3426 [======================>.......] - ETA: 52s"
     ]
    },
    {
     "name": "stderr",
     "output_type": "stream",
     "text": [
      "2692it [03:11, 12.01it/s]"
     ]
    },
    {
     "name": "stdout",
     "output_type": "stream",
     "text": [
      "2693/3426 [======================>.......] - ETA: 52s"
     ]
    },
    {
     "name": "stderr",
     "output_type": "stream",
     "text": [
      "2694it [03:11, 12.54it/s]"
     ]
    },
    {
     "name": "stdout",
     "output_type": "stream",
     "text": [
      "2695/3426 [======================>.......] - ETA: 51s"
     ]
    },
    {
     "name": "stderr",
     "output_type": "stream",
     "text": [
      "2696it [03:11, 13.57it/s]"
     ]
    },
    {
     "name": "stdout",
     "output_type": "stream",
     "text": [
      "2697/3426 [======================>.......] - ETA: 51s"
     ]
    },
    {
     "name": "stderr",
     "output_type": "stream",
     "text": [
      "2698it [03:11, 14.16it/s]"
     ]
    },
    {
     "name": "stdout",
     "output_type": "stream",
     "text": [
      "2699/3426 [======================>.......] - ETA: 51s"
     ]
    },
    {
     "name": "stderr",
     "output_type": "stream",
     "text": [
      "2700it [03:11, 11.52it/s]"
     ]
    },
    {
     "name": "stdout",
     "output_type": "stream",
     "text": [
      "2701/3426 [======================>.......] - ETA: 51s"
     ]
    },
    {
     "name": "stderr",
     "output_type": "stream",
     "text": [
      "2702it [03:11, 12.69it/s]"
     ]
    },
    {
     "name": "stdout",
     "output_type": "stream",
     "text": [
      "2703/3426 [======================>.......] - ETA: 51s"
     ]
    },
    {
     "name": "stderr",
     "output_type": "stream",
     "text": [
      "2704it [03:12, 13.49it/s]"
     ]
    },
    {
     "name": "stdout",
     "output_type": "stream",
     "text": [
      "2705/3426 [======================>.......] - ETA: 51s"
     ]
    },
    {
     "name": "stderr",
     "output_type": "stream",
     "text": [
      "2706it [03:12, 12.98it/s]"
     ]
    },
    {
     "name": "stdout",
     "output_type": "stream",
     "text": [
      "2707/3426 [======================>.......] - ETA: 51s"
     ]
    },
    {
     "name": "stderr",
     "output_type": "stream",
     "text": [
      "2708it [03:12, 13.63it/s]"
     ]
    },
    {
     "name": "stdout",
     "output_type": "stream",
     "text": [
      "2709/3426 [======================>.......] - ETA: 50s"
     ]
    },
    {
     "name": "stderr",
     "output_type": "stream",
     "text": [
      "2710it [03:12, 10.27it/s]"
     ]
    },
    {
     "name": "stdout",
     "output_type": "stream",
     "text": [
      "2711/3426 [======================>.......] - ETA: 50s"
     ]
    },
    {
     "name": "stderr",
     "output_type": "stream",
     "text": [
      "2712it [03:12, 11.68it/s]"
     ]
    },
    {
     "name": "stdout",
     "output_type": "stream",
     "text": [
      "2713/3426 [======================>.......] - ETA: 50s"
     ]
    },
    {
     "name": "stderr",
     "output_type": "stream",
     "text": [
      "2714it [03:12, 12.49it/s]"
     ]
    },
    {
     "name": "stdout",
     "output_type": "stream",
     "text": [
      "2715/3426 [======================>.......] - ETA: 50s"
     ]
    },
    {
     "name": "stderr",
     "output_type": "stream",
     "text": [
      "2716it [03:13, 13.63it/s]"
     ]
    },
    {
     "name": "stdout",
     "output_type": "stream",
     "text": [
      "2717/3426 [======================>.......] - ETA: 50s"
     ]
    },
    {
     "name": "stderr",
     "output_type": "stream",
     "text": [
      "2718it [03:13, 14.05it/s]"
     ]
    },
    {
     "name": "stdout",
     "output_type": "stream",
     "text": [
      "2719/3426 [======================>.......] - ETA: 50s"
     ]
    },
    {
     "name": "stderr",
     "output_type": "stream",
     "text": [
      "2720it [03:13, 12.56it/s]"
     ]
    },
    {
     "name": "stdout",
     "output_type": "stream",
     "text": [
      "2721/3426 [======================>.......] - ETA: 50s"
     ]
    },
    {
     "name": "stderr",
     "output_type": "stream",
     "text": [
      "2722it [03:13, 11.87it/s]"
     ]
    },
    {
     "name": "stdout",
     "output_type": "stream",
     "text": [
      "2723/3426 [======================>.......] - ETA: 50s"
     ]
    },
    {
     "name": "stderr",
     "output_type": "stream",
     "text": [
      "2724it [03:13, 12.53it/s]"
     ]
    },
    {
     "name": "stdout",
     "output_type": "stream",
     "text": [
      "2725/3426 [======================>.......] - ETA: 49s"
     ]
    },
    {
     "name": "stderr",
     "output_type": "stream",
     "text": [
      "2726it [03:13, 12.01it/s]"
     ]
    },
    {
     "name": "stdout",
     "output_type": "stream",
     "text": [
      "2727/3426 [======================>.......] - ETA: 49s"
     ]
    },
    {
     "name": "stderr",
     "output_type": "stream",
     "text": [
      "2728it [03:14,  8.09it/s]"
     ]
    },
    {
     "name": "stdout",
     "output_type": "stream",
     "text": [
      "2729/3426 [======================>.......] - ETA: 49s"
     ]
    },
    {
     "name": "stderr",
     "output_type": "stream",
     "text": [
      "2730it [03:14,  8.59it/s]"
     ]
    },
    {
     "name": "stdout",
     "output_type": "stream",
     "text": [
      "2731/3426 [======================>.......] - ETA: 49s"
     ]
    },
    {
     "name": "stderr",
     "output_type": "stream",
     "text": [
      "2732it [03:14,  9.04it/s]"
     ]
    },
    {
     "name": "stdout",
     "output_type": "stream",
     "text": [
      "2733/3426 [======================>.......] - ETA: 49s"
     ]
    },
    {
     "name": "stderr",
     "output_type": "stream",
     "text": [
      "2734it [03:14,  8.84it/s]"
     ]
    },
    {
     "name": "stdout",
     "output_type": "stream",
     "text": [
      "2735/3426 [======================>.......] - ETA: 49s"
     ]
    },
    {
     "name": "stderr",
     "output_type": "stream",
     "text": [
      "2736it [03:15,  9.65it/s]"
     ]
    },
    {
     "name": "stdout",
     "output_type": "stream",
     "text": [
      "2737/3426 [======================>.......] - ETA: 49s"
     ]
    },
    {
     "name": "stderr",
     "output_type": "stream",
     "text": [
      "2738it [03:15, 10.67it/s]"
     ]
    },
    {
     "name": "stdout",
     "output_type": "stream",
     "text": [
      "2739/3426 [======================>.......] - ETA: 49s"
     ]
    },
    {
     "name": "stderr",
     "output_type": "stream",
     "text": [
      "2740it [03:15, 11.10it/s]"
     ]
    },
    {
     "name": "stdout",
     "output_type": "stream",
     "text": [
      "2741/3426 [=======================>......] - ETA: 48s"
     ]
    },
    {
     "name": "stderr",
     "output_type": "stream",
     "text": [
      "2742it [03:15, 11.73it/s]"
     ]
    },
    {
     "name": "stdout",
     "output_type": "stream",
     "text": [
      "2743/3426 [=======================>......] - ETA: 48s"
     ]
    },
    {
     "name": "stderr",
     "output_type": "stream",
     "text": [
      "2744it [03:15, 12.08it/s]"
     ]
    },
    {
     "name": "stdout",
     "output_type": "stream",
     "text": [
      "2745/3426 [=======================>......] - ETA: 48s"
     ]
    },
    {
     "name": "stderr",
     "output_type": "stream",
     "text": [
      "2746it [03:15, 12.68it/s]"
     ]
    },
    {
     "name": "stdout",
     "output_type": "stream",
     "text": [
      "2747/3426 [=======================>......] - ETA: 48s"
     ]
    },
    {
     "name": "stderr",
     "output_type": "stream",
     "text": [
      "2748it [03:16, 12.06it/s]"
     ]
    },
    {
     "name": "stdout",
     "output_type": "stream",
     "text": [
      "2749/3426 [=======================>......] - ETA: 48s"
     ]
    },
    {
     "name": "stderr",
     "output_type": "stream",
     "text": [
      "2750it [03:16, 12.40it/s]"
     ]
    },
    {
     "name": "stdout",
     "output_type": "stream",
     "text": [
      "2751/3426 [=======================>......] - ETA: 48s"
     ]
    },
    {
     "name": "stderr",
     "output_type": "stream",
     "text": [
      "2752it [03:16, 12.51it/s]"
     ]
    },
    {
     "name": "stdout",
     "output_type": "stream",
     "text": [
      "2753/3426 [=======================>......] - ETA: 48s"
     ]
    },
    {
     "name": "stderr",
     "output_type": "stream",
     "text": [
      "2754it [03:16, 12.56it/s]"
     ]
    },
    {
     "name": "stdout",
     "output_type": "stream",
     "text": [
      "2755/3426 [=======================>......] - ETA: 47s"
     ]
    },
    {
     "name": "stderr",
     "output_type": "stream",
     "text": [
      "2756it [03:16, 11.71it/s]"
     ]
    },
    {
     "name": "stdout",
     "output_type": "stream",
     "text": [
      "2757/3426 [=======================>......] - ETA: 47s"
     ]
    },
    {
     "name": "stderr",
     "output_type": "stream",
     "text": [
      "2758it [03:16, 11.94it/s]"
     ]
    },
    {
     "name": "stdout",
     "output_type": "stream",
     "text": [
      "2759/3426 [=======================>......] - ETA: 47s"
     ]
    },
    {
     "name": "stderr",
     "output_type": "stream",
     "text": [
      "2760it [03:17, 11.71it/s]"
     ]
    },
    {
     "name": "stdout",
     "output_type": "stream",
     "text": [
      "2761/3426 [=======================>......] - ETA: 47s"
     ]
    },
    {
     "name": "stderr",
     "output_type": "stream",
     "text": [
      "2762it [03:17, 12.82it/s]"
     ]
    },
    {
     "name": "stdout",
     "output_type": "stream",
     "text": [
      "2763/3426 [=======================>......] - ETA: 47s"
     ]
    },
    {
     "name": "stderr",
     "output_type": "stream",
     "text": [
      "2764it [03:17, 12.98it/s]"
     ]
    },
    {
     "name": "stdout",
     "output_type": "stream",
     "text": [
      "2765/3426 [=======================>......] - ETA: 47s"
     ]
    },
    {
     "name": "stderr",
     "output_type": "stream",
     "text": [
      "2766it [03:17, 12.86it/s]"
     ]
    },
    {
     "name": "stdout",
     "output_type": "stream",
     "text": [
      "2767/3426 [=======================>......] - ETA: 47s"
     ]
    },
    {
     "name": "stderr",
     "output_type": "stream",
     "text": [
      "2768it [03:17, 13.27it/s]"
     ]
    },
    {
     "name": "stdout",
     "output_type": "stream",
     "text": [
      "2769/3426 [=======================>......] - ETA: 46s"
     ]
    },
    {
     "name": "stderr",
     "output_type": "stream",
     "text": [
      "2770it [03:17, 14.12it/s]"
     ]
    },
    {
     "name": "stdout",
     "output_type": "stream",
     "text": [
      "2771/3426 [=======================>......] - ETA: 46s"
     ]
    },
    {
     "name": "stderr",
     "output_type": "stream",
     "text": [
      "2772it [03:17, 14.50it/s]"
     ]
    },
    {
     "name": "stdout",
     "output_type": "stream",
     "text": [
      "2773/3426 [=======================>......] - ETA: 46s"
     ]
    },
    {
     "name": "stderr",
     "output_type": "stream",
     "text": [
      "2774it [03:18, 13.02it/s]"
     ]
    },
    {
     "name": "stdout",
     "output_type": "stream",
     "text": [
      "2775/3426 [=======================>......] - ETA: 46s"
     ]
    },
    {
     "name": "stderr",
     "output_type": "stream",
     "text": [
      "2776it [03:18, 13.73it/s]"
     ]
    },
    {
     "name": "stdout",
     "output_type": "stream",
     "text": [
      "2777/3426 [=======================>......] - ETA: 46s"
     ]
    },
    {
     "name": "stderr",
     "output_type": "stream",
     "text": [
      "2778it [03:18, 13.26it/s]"
     ]
    },
    {
     "name": "stdout",
     "output_type": "stream",
     "text": [
      "2779/3426 [=======================>......] - ETA: 46s"
     ]
    },
    {
     "name": "stderr",
     "output_type": "stream",
     "text": [
      "2780it [03:18, 10.24it/s]"
     ]
    },
    {
     "name": "stdout",
     "output_type": "stream",
     "text": [
      "2781/3426 [=======================>......] - ETA: 46s"
     ]
    },
    {
     "name": "stderr",
     "output_type": "stream",
     "text": [
      "2782it [03:18, 11.52it/s]"
     ]
    },
    {
     "name": "stdout",
     "output_type": "stream",
     "text": [
      "2783/3426 [=======================>......] - ETA: 45s"
     ]
    },
    {
     "name": "stderr",
     "output_type": "stream",
     "text": [
      "2784it [03:18, 11.10it/s]"
     ]
    },
    {
     "name": "stdout",
     "output_type": "stream",
     "text": [
      "2785/3426 [=======================>......] - ETA: 45s"
     ]
    },
    {
     "name": "stderr",
     "output_type": "stream",
     "text": [
      "2786it [03:19, 11.94it/s]"
     ]
    },
    {
     "name": "stdout",
     "output_type": "stream",
     "text": [
      "2787/3426 [=======================>......] - ETA: 45s"
     ]
    },
    {
     "name": "stderr",
     "output_type": "stream",
     "text": [
      "2788it [03:19, 12.55it/s]"
     ]
    },
    {
     "name": "stdout",
     "output_type": "stream",
     "text": [
      "2789/3426 [=======================>......] - ETA: 45s"
     ]
    },
    {
     "name": "stderr",
     "output_type": "stream",
     "text": [
      "2790it [03:19, 13.45it/s]"
     ]
    },
    {
     "name": "stdout",
     "output_type": "stream",
     "text": [
      "2791/3426 [=======================>......] - ETA: 45s"
     ]
    },
    {
     "name": "stderr",
     "output_type": "stream",
     "text": [
      "2792it [03:19, 13.83it/s]"
     ]
    },
    {
     "name": "stdout",
     "output_type": "stream",
     "text": [
      "2793/3426 [=======================>......] - ETA: 45s"
     ]
    },
    {
     "name": "stderr",
     "output_type": "stream",
     "text": [
      "2794it [03:19, 13.47it/s]"
     ]
    },
    {
     "name": "stdout",
     "output_type": "stream",
     "text": [
      "2795/3426 [=======================>......] - ETA: 45s"
     ]
    },
    {
     "name": "stderr",
     "output_type": "stream",
     "text": [
      "2796it [03:19, 13.49it/s]"
     ]
    },
    {
     "name": "stdout",
     "output_type": "stream",
     "text": [
      "2797/3426 [=======================>......] - ETA: 44s"
     ]
    },
    {
     "name": "stderr",
     "output_type": "stream",
     "text": [
      "2798it [03:19, 13.85it/s]"
     ]
    },
    {
     "name": "stdout",
     "output_type": "stream",
     "text": [
      "2799/3426 [=======================>......] - ETA: 44s"
     ]
    },
    {
     "name": "stderr",
     "output_type": "stream",
     "text": [
      "2800it [03:20, 14.20it/s]"
     ]
    },
    {
     "name": "stdout",
     "output_type": "stream",
     "text": [
      "2801/3426 [=======================>......] - ETA: 44s"
     ]
    },
    {
     "name": "stderr",
     "output_type": "stream",
     "text": [
      "2802it [03:20, 14.23it/s]"
     ]
    },
    {
     "name": "stdout",
     "output_type": "stream",
     "text": [
      "2803/3426 [=======================>......] - ETA: 44s"
     ]
    },
    {
     "name": "stderr",
     "output_type": "stream",
     "text": [
      "2804it [03:20, 14.72it/s]"
     ]
    },
    {
     "name": "stdout",
     "output_type": "stream",
     "text": [
      "2805/3426 [=======================>......] - ETA: 44s"
     ]
    },
    {
     "name": "stderr",
     "output_type": "stream",
     "text": [
      "2806it [03:20, 13.98it/s]"
     ]
    },
    {
     "name": "stdout",
     "output_type": "stream",
     "text": [
      "2807/3426 [=======================>......] - ETA: 44s"
     ]
    },
    {
     "name": "stderr",
     "output_type": "stream",
     "text": [
      "2808it [03:20, 14.52it/s]"
     ]
    },
    {
     "name": "stdout",
     "output_type": "stream",
     "text": [
      "2809/3426 [=======================>......] - ETA: 44s"
     ]
    },
    {
     "name": "stderr",
     "output_type": "stream",
     "text": [
      "2810it [03:20, 14.16it/s]"
     ]
    },
    {
     "name": "stdout",
     "output_type": "stream",
     "text": [
      "2811/3426 [=======================>......] - ETA: 43s"
     ]
    },
    {
     "name": "stderr",
     "output_type": "stream",
     "text": [
      "2812it [03:20, 14.67it/s]"
     ]
    },
    {
     "name": "stdout",
     "output_type": "stream",
     "text": [
      "2813/3426 [=======================>......] - ETA: 43s"
     ]
    },
    {
     "name": "stderr",
     "output_type": "stream",
     "text": [
      "2814it [03:21, 12.54it/s]"
     ]
    },
    {
     "name": "stdout",
     "output_type": "stream",
     "text": [
      "2815/3426 [=======================>......] - ETA: 43s"
     ]
    },
    {
     "name": "stderr",
     "output_type": "stream",
     "text": [
      "2816it [03:21, 13.28it/s]"
     ]
    },
    {
     "name": "stdout",
     "output_type": "stream",
     "text": [
      "2817/3426 [=======================>......] - ETA: 43s"
     ]
    },
    {
     "name": "stderr",
     "output_type": "stream",
     "text": [
      "2818it [03:21, 13.97it/s]"
     ]
    },
    {
     "name": "stdout",
     "output_type": "stream",
     "text": [
      "2819/3426 [=======================>......] - ETA: 43s"
     ]
    },
    {
     "name": "stderr",
     "output_type": "stream",
     "text": [
      "2820it [03:21, 14.26it/s]"
     ]
    },
    {
     "name": "stdout",
     "output_type": "stream",
     "text": [
      "2821/3426 [=======================>......] - ETA: 43s"
     ]
    },
    {
     "name": "stderr",
     "output_type": "stream",
     "text": [
      "2822it [03:21, 13.71it/s]"
     ]
    },
    {
     "name": "stdout",
     "output_type": "stream",
     "text": [
      "2823/3426 [=======================>......] - ETA: 43s"
     ]
    },
    {
     "name": "stderr",
     "output_type": "stream",
     "text": [
      "2824it [03:21, 14.59it/s]"
     ]
    },
    {
     "name": "stdout",
     "output_type": "stream",
     "text": [
      "2825/3426 [=======================>......] - ETA: 42s"
     ]
    },
    {
     "name": "stderr",
     "output_type": "stream",
     "text": [
      "2826it [03:21, 14.77it/s]"
     ]
    },
    {
     "name": "stdout",
     "output_type": "stream",
     "text": [
      "2827/3426 [=======================>......] - ETA: 42s"
     ]
    },
    {
     "name": "stderr",
     "output_type": "stream",
     "text": [
      "2828it [03:22, 14.61it/s]"
     ]
    },
    {
     "name": "stdout",
     "output_type": "stream",
     "text": [
      "2829/3426 [=======================>......] - ETA: 42s"
     ]
    },
    {
     "name": "stderr",
     "output_type": "stream",
     "text": [
      "2830it [03:22, 14.90it/s]"
     ]
    },
    {
     "name": "stdout",
     "output_type": "stream",
     "text": [
      "2831/3426 [=======================>......] - ETA: 42s"
     ]
    },
    {
     "name": "stderr",
     "output_type": "stream",
     "text": [
      "2832it [03:22, 14.66it/s]"
     ]
    },
    {
     "name": "stdout",
     "output_type": "stream",
     "text": [
      "2833/3426 [=======================>......] - ETA: 42s"
     ]
    },
    {
     "name": "stderr",
     "output_type": "stream",
     "text": [
      "2834it [03:22, 14.69it/s]"
     ]
    },
    {
     "name": "stdout",
     "output_type": "stream",
     "text": [
      "2835/3426 [=======================>......] - ETA: 42s"
     ]
    },
    {
     "name": "stderr",
     "output_type": "stream",
     "text": [
      "2836it [03:22, 14.79it/s]"
     ]
    },
    {
     "name": "stdout",
     "output_type": "stream",
     "text": [
      "2837/3426 [=======================>......] - ETA: 42s"
     ]
    },
    {
     "name": "stderr",
     "output_type": "stream",
     "text": [
      "2838it [03:22, 15.45it/s]"
     ]
    },
    {
     "name": "stdout",
     "output_type": "stream",
     "text": [
      "2839/3426 [=======================>......] - ETA: 41s"
     ]
    },
    {
     "name": "stderr",
     "output_type": "stream",
     "text": [
      "2840it [03:22, 15.91it/s]"
     ]
    },
    {
     "name": "stdout",
     "output_type": "stream",
     "text": [
      "2841/3426 [=======================>......] - ETA: 41s"
     ]
    },
    {
     "name": "stderr",
     "output_type": "stream",
     "text": [
      "2842it [03:22, 16.65it/s]"
     ]
    },
    {
     "name": "stdout",
     "output_type": "stream",
     "text": [
      "2843/3426 [=======================>......] - ETA: 41s"
     ]
    },
    {
     "name": "stderr",
     "output_type": "stream",
     "text": [
      "2844it [03:23, 16.02it/s]"
     ]
    },
    {
     "name": "stdout",
     "output_type": "stream",
     "text": [
      "2845/3426 [=======================>......] - ETA: 41s"
     ]
    },
    {
     "name": "stderr",
     "output_type": "stream",
     "text": [
      "2846it [03:23, 16.07it/s]"
     ]
    },
    {
     "name": "stdout",
     "output_type": "stream",
     "text": [
      "2847/3426 [=======================>......] - ETA: 41s"
     ]
    },
    {
     "name": "stderr",
     "output_type": "stream",
     "text": [
      "2848it [03:23, 16.69it/s]"
     ]
    },
    {
     "name": "stdout",
     "output_type": "stream",
     "text": [
      "2849/3426 [=======================>......] - ETA: 41s"
     ]
    },
    {
     "name": "stderr",
     "output_type": "stream",
     "text": [
      "2850it [03:23, 16.81it/s]"
     ]
    },
    {
     "name": "stdout",
     "output_type": "stream",
     "text": [
      "2851/3426 [=======================>......] - ETA: 41s"
     ]
    },
    {
     "name": "stderr",
     "output_type": "stream",
     "text": [
      "2852it [03:23, 16.38it/s]"
     ]
    },
    {
     "name": "stdout",
     "output_type": "stream",
     "text": [
      "2853/3426 [=======================>......] - ETA: 40s"
     ]
    },
    {
     "name": "stderr",
     "output_type": "stream",
     "text": [
      "2854it [03:23, 16.35it/s]"
     ]
    },
    {
     "name": "stdout",
     "output_type": "stream",
     "text": [
      "2855/3426 [========================>.....] - ETA: 40s"
     ]
    },
    {
     "name": "stderr",
     "output_type": "stream",
     "text": [
      "2856it [03:23, 16.03it/s]"
     ]
    },
    {
     "name": "stdout",
     "output_type": "stream",
     "text": [
      "2857/3426 [========================>.....] - ETA: 40s"
     ]
    },
    {
     "name": "stderr",
     "output_type": "stream",
     "text": [
      "2858it [03:23, 15.89it/s]"
     ]
    },
    {
     "name": "stdout",
     "output_type": "stream",
     "text": [
      "2859/3426 [========================>.....] - ETA: 40s"
     ]
    },
    {
     "name": "stderr",
     "output_type": "stream",
     "text": [
      "2860it [03:24, 13.19it/s]"
     ]
    },
    {
     "name": "stdout",
     "output_type": "stream",
     "text": [
      "2861/3426 [========================>.....] - ETA: 40s"
     ]
    },
    {
     "name": "stderr",
     "output_type": "stream",
     "text": [
      "2862it [03:24, 13.63it/s]"
     ]
    },
    {
     "name": "stdout",
     "output_type": "stream",
     "text": [
      "2863/3426 [========================>.....] - ETA: 40s"
     ]
    },
    {
     "name": "stderr",
     "output_type": "stream",
     "text": [
      "2864it [03:24, 13.75it/s]"
     ]
    },
    {
     "name": "stdout",
     "output_type": "stream",
     "text": [
      "2865/3426 [========================>.....] - ETA: 40s"
     ]
    },
    {
     "name": "stderr",
     "output_type": "stream",
     "text": [
      "2866it [03:24, 14.33it/s]"
     ]
    },
    {
     "name": "stdout",
     "output_type": "stream",
     "text": [
      "2867/3426 [========================>.....] - ETA: 39s"
     ]
    },
    {
     "name": "stderr",
     "output_type": "stream",
     "text": [
      "2868it [03:24, 13.74it/s]"
     ]
    },
    {
     "name": "stdout",
     "output_type": "stream",
     "text": [
      "2869/3426 [========================>.....] - ETA: 39s"
     ]
    },
    {
     "name": "stderr",
     "output_type": "stream",
     "text": [
      "2870it [03:24, 13.92it/s]"
     ]
    },
    {
     "name": "stdout",
     "output_type": "stream",
     "text": [
      "2871/3426 [========================>.....] - ETA: 39s"
     ]
    },
    {
     "name": "stderr",
     "output_type": "stream",
     "text": [
      "2872it [03:24, 14.28it/s]"
     ]
    },
    {
     "name": "stdout",
     "output_type": "stream",
     "text": [
      "2873/3426 [========================>.....] - ETA: 39s"
     ]
    },
    {
     "name": "stderr",
     "output_type": "stream",
     "text": [
      "2874it [03:25, 13.32it/s]"
     ]
    },
    {
     "name": "stdout",
     "output_type": "stream",
     "text": [
      "2875/3426 [========================>.....] - ETA: 39s"
     ]
    },
    {
     "name": "stderr",
     "output_type": "stream",
     "text": [
      "2876it [03:25, 14.34it/s]"
     ]
    },
    {
     "name": "stdout",
     "output_type": "stream",
     "text": [
      "2877/3426 [========================>.....] - ETA: 39s"
     ]
    },
    {
     "name": "stderr",
     "output_type": "stream",
     "text": [
      "2878it [03:25, 14.86it/s]"
     ]
    },
    {
     "name": "stdout",
     "output_type": "stream",
     "text": [
      "2879/3426 [========================>.....] - ETA: 39s"
     ]
    },
    {
     "name": "stderr",
     "output_type": "stream",
     "text": [
      "2880it [03:25, 15.25it/s]"
     ]
    },
    {
     "name": "stdout",
     "output_type": "stream",
     "text": [
      "2881/3426 [========================>.....] - ETA: 38s"
     ]
    },
    {
     "name": "stderr",
     "output_type": "stream",
     "text": [
      "2882it [03:25, 15.14it/s]"
     ]
    },
    {
     "name": "stdout",
     "output_type": "stream",
     "text": [
      "2883/3426 [========================>.....] - ETA: 38s"
     ]
    },
    {
     "name": "stderr",
     "output_type": "stream",
     "text": [
      "2884it [03:25, 15.30it/s]"
     ]
    },
    {
     "name": "stdout",
     "output_type": "stream",
     "text": [
      "2885/3426 [========================>.....] - ETA: 38s"
     ]
    },
    {
     "name": "stderr",
     "output_type": "stream",
     "text": [
      "2886it [03:25, 15.41it/s]"
     ]
    },
    {
     "name": "stdout",
     "output_type": "stream",
     "text": [
      "2887/3426 [========================>.....] - ETA: 38s"
     ]
    },
    {
     "name": "stderr",
     "output_type": "stream",
     "text": [
      "2888it [03:25, 15.80it/s]"
     ]
    },
    {
     "name": "stdout",
     "output_type": "stream",
     "text": [
      "2889/3426 [========================>.....] - ETA: 38s"
     ]
    },
    {
     "name": "stderr",
     "output_type": "stream",
     "text": [
      "2890it [03:26, 16.06it/s]"
     ]
    },
    {
     "name": "stdout",
     "output_type": "stream",
     "text": [
      "2891/3426 [========================>.....] - ETA: 38s"
     ]
    },
    {
     "name": "stderr",
     "output_type": "stream",
     "text": [
      "2892it [03:26, 13.66it/s]"
     ]
    },
    {
     "name": "stdout",
     "output_type": "stream",
     "text": [
      "2893/3426 [========================>.....] - ETA: 38s"
     ]
    },
    {
     "name": "stderr",
     "output_type": "stream",
     "text": [
      "2894it [03:26, 14.39it/s]"
     ]
    },
    {
     "name": "stdout",
     "output_type": "stream",
     "text": [
      "2895/3426 [========================>.....] - ETA: 37s"
     ]
    },
    {
     "name": "stderr",
     "output_type": "stream",
     "text": [
      "2896it [03:26, 14.82it/s]"
     ]
    },
    {
     "name": "stdout",
     "output_type": "stream",
     "text": [
      "2897/3426 [========================>.....] - ETA: 37s"
     ]
    },
    {
     "name": "stderr",
     "output_type": "stream",
     "text": [
      "2898it [03:26, 15.19it/s]"
     ]
    },
    {
     "name": "stdout",
     "output_type": "stream",
     "text": [
      "2899/3426 [========================>.....] - ETA: 37s"
     ]
    },
    {
     "name": "stderr",
     "output_type": "stream",
     "text": [
      "2900it [03:26, 15.43it/s]"
     ]
    },
    {
     "name": "stdout",
     "output_type": "stream",
     "text": [
      "2901/3426 [========================>.....] - ETA: 37s"
     ]
    },
    {
     "name": "stderr",
     "output_type": "stream",
     "text": [
      "2902it [03:26, 15.29it/s]"
     ]
    },
    {
     "name": "stdout",
     "output_type": "stream",
     "text": [
      "2903/3426 [========================>.....] - ETA: 37s"
     ]
    },
    {
     "name": "stderr",
     "output_type": "stream",
     "text": [
      "2904it [03:27, 16.02it/s]"
     ]
    },
    {
     "name": "stdout",
     "output_type": "stream",
     "text": [
      "2905/3426 [========================>.....] - ETA: 37s"
     ]
    },
    {
     "name": "stderr",
     "output_type": "stream",
     "text": [
      "2906it [03:27, 11.81it/s]"
     ]
    },
    {
     "name": "stdout",
     "output_type": "stream",
     "text": [
      "2907/3426 [========================>.....] - ETA: 37s"
     ]
    },
    {
     "name": "stderr",
     "output_type": "stream",
     "text": [
      "2908it [03:27, 12.50it/s]"
     ]
    },
    {
     "name": "stdout",
     "output_type": "stream",
     "text": [
      "2909/3426 [========================>.....] - ETA: 36s"
     ]
    },
    {
     "name": "stderr",
     "output_type": "stream",
     "text": [
      "2910it [03:27, 13.30it/s]"
     ]
    },
    {
     "name": "stdout",
     "output_type": "stream",
     "text": [
      "2911/3426 [========================>.....] - ETA: 36s"
     ]
    },
    {
     "name": "stderr",
     "output_type": "stream",
     "text": [
      "2912it [03:27, 13.55it/s]"
     ]
    },
    {
     "name": "stdout",
     "output_type": "stream",
     "text": [
      "2913/3426 [========================>.....] - ETA: 36s"
     ]
    },
    {
     "name": "stderr",
     "output_type": "stream",
     "text": [
      "2914it [03:27, 13.33it/s]"
     ]
    },
    {
     "name": "stdout",
     "output_type": "stream",
     "text": [
      "2915/3426 [========================>.....] - ETA: 36s"
     ]
    },
    {
     "name": "stderr",
     "output_type": "stream",
     "text": [
      "2916it [03:28, 13.89it/s]"
     ]
    },
    {
     "name": "stdout",
     "output_type": "stream",
     "text": [
      "2917/3426 [========================>.....] - ETA: 36s"
     ]
    },
    {
     "name": "stderr",
     "output_type": "stream",
     "text": [
      "2918it [03:28, 13.22it/s]"
     ]
    },
    {
     "name": "stdout",
     "output_type": "stream",
     "text": [
      "2919/3426 [========================>.....] - ETA: 36s"
     ]
    },
    {
     "name": "stderr",
     "output_type": "stream",
     "text": [
      "2920it [03:28, 13.91it/s]"
     ]
    },
    {
     "name": "stdout",
     "output_type": "stream",
     "text": [
      "2921/3426 [========================>.....] - ETA: 36s"
     ]
    },
    {
     "name": "stderr",
     "output_type": "stream",
     "text": [
      "2922it [03:28, 14.30it/s]"
     ]
    },
    {
     "name": "stdout",
     "output_type": "stream",
     "text": [
      "2923/3426 [========================>.....] - ETA: 35s"
     ]
    },
    {
     "name": "stderr",
     "output_type": "stream",
     "text": [
      "2924it [03:28, 14.34it/s]"
     ]
    },
    {
     "name": "stdout",
     "output_type": "stream",
     "text": [
      "2925/3426 [========================>.....] - ETA: 35s"
     ]
    },
    {
     "name": "stderr",
     "output_type": "stream",
     "text": [
      "2926it [03:28, 14.43it/s]"
     ]
    },
    {
     "name": "stdout",
     "output_type": "stream",
     "text": [
      "2927/3426 [========================>.....] - ETA: 35s"
     ]
    },
    {
     "name": "stderr",
     "output_type": "stream",
     "text": [
      "2928it [03:28, 15.01it/s]"
     ]
    },
    {
     "name": "stdout",
     "output_type": "stream",
     "text": [
      "2929/3426 [========================>.....] - ETA: 35s"
     ]
    },
    {
     "name": "stderr",
     "output_type": "stream",
     "text": [
      "2930it [03:28, 14.71it/s]"
     ]
    },
    {
     "name": "stdout",
     "output_type": "stream",
     "text": [
      "2931/3426 [========================>.....] - ETA: 35s"
     ]
    },
    {
     "name": "stderr",
     "output_type": "stream",
     "text": [
      "2932it [03:29, 14.44it/s]"
     ]
    },
    {
     "name": "stdout",
     "output_type": "stream",
     "text": [
      "2933/3426 [========================>.....] - ETA: 35s"
     ]
    },
    {
     "name": "stderr",
     "output_type": "stream",
     "text": [
      "2934it [03:29, 14.70it/s]"
     ]
    },
    {
     "name": "stdout",
     "output_type": "stream",
     "text": [
      "2935/3426 [========================>.....] - ETA: 35s"
     ]
    },
    {
     "name": "stderr",
     "output_type": "stream",
     "text": [
      "2936it [03:29, 14.63it/s]"
     ]
    },
    {
     "name": "stdout",
     "output_type": "stream",
     "text": [
      "2937/3426 [========================>.....] - ETA: 34s"
     ]
    },
    {
     "name": "stderr",
     "output_type": "stream",
     "text": [
      "2938it [03:29, 15.18it/s]"
     ]
    },
    {
     "name": "stdout",
     "output_type": "stream",
     "text": [
      "2939/3426 [========================>.....] - ETA: 34s"
     ]
    },
    {
     "name": "stderr",
     "output_type": "stream",
     "text": [
      "2940it [03:29, 15.25it/s]"
     ]
    },
    {
     "name": "stdout",
     "output_type": "stream",
     "text": [
      "2941/3426 [========================>.....] - ETA: 34s"
     ]
    },
    {
     "name": "stderr",
     "output_type": "stream",
     "text": [
      "2942it [03:29, 15.50it/s]"
     ]
    },
    {
     "name": "stdout",
     "output_type": "stream",
     "text": [
      "2943/3426 [========================>.....] - ETA: 34s"
     ]
    },
    {
     "name": "stderr",
     "output_type": "stream",
     "text": [
      "2944it [03:29, 14.07it/s]"
     ]
    },
    {
     "name": "stdout",
     "output_type": "stream",
     "text": [
      "2945/3426 [========================>.....] - ETA: 34s"
     ]
    },
    {
     "name": "stderr",
     "output_type": "stream",
     "text": [
      "2946it [03:30, 14.53it/s]"
     ]
    },
    {
     "name": "stdout",
     "output_type": "stream",
     "text": [
      "2947/3426 [========================>.....] - ETA: 34s"
     ]
    },
    {
     "name": "stderr",
     "output_type": "stream",
     "text": [
      "2948it [03:30, 12.62it/s]"
     ]
    },
    {
     "name": "stdout",
     "output_type": "stream",
     "text": [
      "2949/3426 [========================>.....] - ETA: 34s"
     ]
    },
    {
     "name": "stderr",
     "output_type": "stream",
     "text": [
      "2950it [03:30, 13.32it/s]"
     ]
    },
    {
     "name": "stdout",
     "output_type": "stream",
     "text": [
      "2951/3426 [========================>.....] - ETA: 33s"
     ]
    },
    {
     "name": "stderr",
     "output_type": "stream",
     "text": [
      "2952it [03:30, 14.25it/s]"
     ]
    },
    {
     "name": "stdout",
     "output_type": "stream",
     "text": [
      "2953/3426 [========================>.....] - ETA: 33s"
     ]
    },
    {
     "name": "stderr",
     "output_type": "stream",
     "text": [
      "2954it [03:30, 14.59it/s]"
     ]
    },
    {
     "name": "stdout",
     "output_type": "stream",
     "text": [
      "2955/3426 [========================>.....] - ETA: 33s"
     ]
    },
    {
     "name": "stderr",
     "output_type": "stream",
     "text": [
      "2956it [03:30, 15.19it/s]"
     ]
    },
    {
     "name": "stdout",
     "output_type": "stream",
     "text": [
      "2957/3426 [========================>.....] - ETA: 33s"
     ]
    },
    {
     "name": "stderr",
     "output_type": "stream",
     "text": [
      "2958it [03:31, 10.91it/s]"
     ]
    },
    {
     "name": "stdout",
     "output_type": "stream",
     "text": [
      "2959/3426 [========================>.....] - ETA: 33s"
     ]
    },
    {
     "name": "stderr",
     "output_type": "stream",
     "text": [
      "2960it [03:31, 10.75it/s]"
     ]
    },
    {
     "name": "stdout",
     "output_type": "stream",
     "text": [
      "2961/3426 [========================>.....] - ETA: 33s"
     ]
    },
    {
     "name": "stderr",
     "output_type": "stream",
     "text": [
      "2962it [03:31, 12.17it/s]"
     ]
    },
    {
     "name": "stdout",
     "output_type": "stream",
     "text": [
      "2963/3426 [========================>.....] - ETA: 33s"
     ]
    },
    {
     "name": "stderr",
     "output_type": "stream",
     "text": [
      "2964it [03:31, 13.24it/s]"
     ]
    },
    {
     "name": "stdout",
     "output_type": "stream",
     "text": [
      "2965/3426 [========================>.....] - ETA: 32s"
     ]
    },
    {
     "name": "stderr",
     "output_type": "stream",
     "text": [
      "2966it [03:31, 13.72it/s]"
     ]
    },
    {
     "name": "stdout",
     "output_type": "stream",
     "text": [
      "2967/3426 [========================>.....] - ETA: 32s"
     ]
    },
    {
     "name": "stderr",
     "output_type": "stream",
     "text": [
      "2968it [03:31, 14.55it/s]"
     ]
    },
    {
     "name": "stdout",
     "output_type": "stream",
     "text": [
      "2969/3426 [========================>.....] - ETA: 32s"
     ]
    },
    {
     "name": "stderr",
     "output_type": "stream",
     "text": [
      "2970it [03:31, 15.06it/s]"
     ]
    },
    {
     "name": "stdout",
     "output_type": "stream",
     "text": [
      "2971/3426 [=========================>....] - ETA: 32s"
     ]
    },
    {
     "name": "stderr",
     "output_type": "stream",
     "text": [
      "2972it [03:32, 14.83it/s]"
     ]
    },
    {
     "name": "stdout",
     "output_type": "stream",
     "text": [
      "2972/3426 [=========================>....] - ETA: 32s"
     ]
    },
    {
     "name": "stderr",
     "output_type": "stream",
     "text": [
      "2974it [03:32, 15.52it/s]"
     ]
    },
    {
     "name": "stdout",
     "output_type": "stream",
     "text": [
      "2975/3426 [=========================>....] - ETA: 32s"
     ]
    },
    {
     "name": "stderr",
     "output_type": "stream",
     "text": [
      "2976it [03:32, 13.54it/s]"
     ]
    },
    {
     "name": "stdout",
     "output_type": "stream",
     "text": [
      "2977/3426 [=========================>....] - ETA: 32s"
     ]
    },
    {
     "name": "stderr",
     "output_type": "stream",
     "text": [
      "2978it [03:32, 13.62it/s]"
     ]
    },
    {
     "name": "stdout",
     "output_type": "stream",
     "text": [
      "2979/3426 [=========================>....] - ETA: 31s"
     ]
    },
    {
     "name": "stderr",
     "output_type": "stream",
     "text": [
      "2980it [03:32, 14.03it/s]"
     ]
    },
    {
     "name": "stdout",
     "output_type": "stream",
     "text": [
      "2981/3426 [=========================>....] - ETA: 31s"
     ]
    },
    {
     "name": "stderr",
     "output_type": "stream",
     "text": [
      "2982it [03:32, 13.61it/s]"
     ]
    },
    {
     "name": "stdout",
     "output_type": "stream",
     "text": [
      "2983/3426 [=========================>....] - ETA: 31s"
     ]
    },
    {
     "name": "stderr",
     "output_type": "stream",
     "text": [
      "2984it [03:32, 14.12it/s]"
     ]
    },
    {
     "name": "stdout",
     "output_type": "stream",
     "text": [
      "2985/3426 [=========================>....] - ETA: 31s"
     ]
    },
    {
     "name": "stderr",
     "output_type": "stream",
     "text": [
      "2986it [03:33, 14.69it/s]"
     ]
    },
    {
     "name": "stdout",
     "output_type": "stream",
     "text": [
      "2987/3426 [=========================>....] - ETA: 31s"
     ]
    },
    {
     "name": "stderr",
     "output_type": "stream",
     "text": [
      "2988it [03:33, 15.25it/s]"
     ]
    },
    {
     "name": "stdout",
     "output_type": "stream",
     "text": [
      "2989/3426 [=========================>....] - ETA: 31s"
     ]
    },
    {
     "name": "stderr",
     "output_type": "stream",
     "text": [
      "2990it [03:33, 13.47it/s]"
     ]
    },
    {
     "name": "stdout",
     "output_type": "stream",
     "text": [
      "2991/3426 [=========================>....] - ETA: 31s"
     ]
    },
    {
     "name": "stderr",
     "output_type": "stream",
     "text": [
      "2992it [03:33, 14.30it/s]"
     ]
    },
    {
     "name": "stdout",
     "output_type": "stream",
     "text": [
      "2993/3426 [=========================>....] - ETA: 30s"
     ]
    },
    {
     "name": "stderr",
     "output_type": "stream",
     "text": [
      "2994it [03:33, 14.08it/s]"
     ]
    },
    {
     "name": "stdout",
     "output_type": "stream",
     "text": [
      "2995/3426 [=========================>....] - ETA: 30s"
     ]
    },
    {
     "name": "stderr",
     "output_type": "stream",
     "text": [
      "2996it [03:33, 14.56it/s]"
     ]
    },
    {
     "name": "stdout",
     "output_type": "stream",
     "text": [
      "2997/3426 [=========================>....] - ETA: 30s"
     ]
    },
    {
     "name": "stderr",
     "output_type": "stream",
     "text": [
      "2998it [03:33, 14.88it/s]"
     ]
    },
    {
     "name": "stdout",
     "output_type": "stream",
     "text": [
      "2999/3426 [=========================>....] - ETA: 30s"
     ]
    },
    {
     "name": "stderr",
     "output_type": "stream",
     "text": [
      "3000it [03:33, 15.08it/s]"
     ]
    },
    {
     "name": "stdout",
     "output_type": "stream",
     "text": [
      "3001/3426 [=========================>....] - ETA: 30s"
     ]
    },
    {
     "name": "stderr",
     "output_type": "stream",
     "text": [
      "3002it [03:34, 15.25it/s]"
     ]
    },
    {
     "name": "stdout",
     "output_type": "stream",
     "text": [
      "3003/3426 [=========================>....] - ETA: 30s"
     ]
    },
    {
     "name": "stderr",
     "output_type": "stream",
     "text": [
      "3004it [03:34, 15.77it/s]"
     ]
    },
    {
     "name": "stdout",
     "output_type": "stream",
     "text": [
      "3005/3426 [=========================>....] - ETA: 30s"
     ]
    },
    {
     "name": "stderr",
     "output_type": "stream",
     "text": [
      "3006it [03:34, 15.68it/s]"
     ]
    },
    {
     "name": "stdout",
     "output_type": "stream",
     "text": [
      "3007/3426 [=========================>....] - ETA: 29s"
     ]
    },
    {
     "name": "stderr",
     "output_type": "stream",
     "text": [
      "3008it [03:34, 13.61it/s]"
     ]
    },
    {
     "name": "stdout",
     "output_type": "stream",
     "text": [
      "3009/3426 [=========================>....] - ETA: 29s"
     ]
    },
    {
     "name": "stderr",
     "output_type": "stream",
     "text": [
      "3010it [03:34, 14.45it/s]"
     ]
    },
    {
     "name": "stdout",
     "output_type": "stream",
     "text": [
      "3011/3426 [=========================>....] - ETA: 29s"
     ]
    },
    {
     "name": "stderr",
     "output_type": "stream",
     "text": [
      "3012it [03:34, 14.96it/s]"
     ]
    },
    {
     "name": "stdout",
     "output_type": "stream",
     "text": [
      "3013/3426 [=========================>....] - ETA: 29s"
     ]
    },
    {
     "name": "stderr",
     "output_type": "stream",
     "text": [
      "3014it [03:34, 15.55it/s]"
     ]
    },
    {
     "name": "stdout",
     "output_type": "stream",
     "text": [
      "3015/3426 [=========================>....] - ETA: 29s"
     ]
    },
    {
     "name": "stderr",
     "output_type": "stream",
     "text": [
      "3016it [03:35, 15.61it/s]"
     ]
    },
    {
     "name": "stdout",
     "output_type": "stream",
     "text": [
      "3017/3426 [=========================>....] - ETA: 29s"
     ]
    },
    {
     "name": "stderr",
     "output_type": "stream",
     "text": [
      "3018it [03:35, 16.03it/s]"
     ]
    },
    {
     "name": "stdout",
     "output_type": "stream",
     "text": [
      "3019/3426 [=========================>....] - ETA: 29s"
     ]
    },
    {
     "name": "stderr",
     "output_type": "stream",
     "text": [
      "3020it [03:35, 16.36it/s]"
     ]
    },
    {
     "name": "stdout",
     "output_type": "stream",
     "text": [
      "3021/3426 [=========================>....] - ETA: 28s"
     ]
    },
    {
     "name": "stderr",
     "output_type": "stream",
     "text": [
      "3022it [03:35, 15.90it/s]"
     ]
    },
    {
     "name": "stdout",
     "output_type": "stream",
     "text": [
      "3023/3426 [=========================>....] - ETA: 28s"
     ]
    },
    {
     "name": "stderr",
     "output_type": "stream",
     "text": [
      "3024it [03:35, 15.64it/s]"
     ]
    },
    {
     "name": "stdout",
     "output_type": "stream",
     "text": [
      "3025/3426 [=========================>....] - ETA: 28s"
     ]
    },
    {
     "name": "stderr",
     "output_type": "stream",
     "text": [
      "3026it [03:35, 15.58it/s]"
     ]
    },
    {
     "name": "stdout",
     "output_type": "stream",
     "text": [
      "3027/3426 [=========================>....] - ETA: 28s"
     ]
    },
    {
     "name": "stderr",
     "output_type": "stream",
     "text": [
      "3028it [03:35, 15.89it/s]"
     ]
    },
    {
     "name": "stdout",
     "output_type": "stream",
     "text": [
      "3029/3426 [=========================>....] - ETA: 28s"
     ]
    },
    {
     "name": "stderr",
     "output_type": "stream",
     "text": [
      "3030it [03:35, 16.27it/s]"
     ]
    },
    {
     "name": "stdout",
     "output_type": "stream",
     "text": [
      "3031/3426 [=========================>....] - ETA: 28s"
     ]
    },
    {
     "name": "stderr",
     "output_type": "stream",
     "text": [
      "3032it [03:35, 16.57it/s]"
     ]
    },
    {
     "name": "stdout",
     "output_type": "stream",
     "text": [
      "3033/3426 [=========================>....] - ETA: 28s"
     ]
    },
    {
     "name": "stderr",
     "output_type": "stream",
     "text": [
      "3034it [03:36, 15.79it/s]"
     ]
    },
    {
     "name": "stdout",
     "output_type": "stream",
     "text": [
      "3035/3426 [=========================>....] - ETA: 27s"
     ]
    },
    {
     "name": "stderr",
     "output_type": "stream",
     "text": [
      "3036it [03:36, 15.51it/s]"
     ]
    },
    {
     "name": "stdout",
     "output_type": "stream",
     "text": [
      "3037/3426 [=========================>....] - ETA: 27s"
     ]
    },
    {
     "name": "stderr",
     "output_type": "stream",
     "text": [
      "3038it [03:36,  8.84it/s]"
     ]
    },
    {
     "name": "stdout",
     "output_type": "stream",
     "text": [
      "3039/3426 [=========================>....] - ETA: 27s"
     ]
    },
    {
     "name": "stderr",
     "output_type": "stream",
     "text": [
      "3040it [03:36, 10.00it/s]"
     ]
    },
    {
     "name": "stdout",
     "output_type": "stream",
     "text": [
      "3041/3426 [=========================>....] - ETA: 27s"
     ]
    },
    {
     "name": "stderr",
     "output_type": "stream",
     "text": [
      "3042it [03:36, 11.22it/s]"
     ]
    },
    {
     "name": "stdout",
     "output_type": "stream",
     "text": [
      "3043/3426 [=========================>....] - ETA: 27s"
     ]
    },
    {
     "name": "stderr",
     "output_type": "stream",
     "text": [
      "3044it [03:37, 12.23it/s]"
     ]
    },
    {
     "name": "stdout",
     "output_type": "stream",
     "text": [
      "3045/3426 [=========================>....] - ETA: 27s"
     ]
    },
    {
     "name": "stderr",
     "output_type": "stream",
     "text": [
      "3046it [03:37, 13.07it/s]"
     ]
    },
    {
     "name": "stdout",
     "output_type": "stream",
     "text": [
      "3047/3426 [=========================>....] - ETA: 27s"
     ]
    },
    {
     "name": "stderr",
     "output_type": "stream",
     "text": [
      "3048it [03:37, 13.92it/s]"
     ]
    },
    {
     "name": "stdout",
     "output_type": "stream",
     "text": [
      "3049/3426 [=========================>....] - ETA: 26s"
     ]
    },
    {
     "name": "stderr",
     "output_type": "stream",
     "text": [
      "3050it [03:37, 14.29it/s]"
     ]
    },
    {
     "name": "stdout",
     "output_type": "stream",
     "text": [
      "3051/3426 [=========================>....] - ETA: 26s"
     ]
    },
    {
     "name": "stderr",
     "output_type": "stream",
     "text": [
      "3052it [03:37, 14.76it/s]"
     ]
    },
    {
     "name": "stdout",
     "output_type": "stream",
     "text": [
      "3053/3426 [=========================>....] - ETA: 26s"
     ]
    },
    {
     "name": "stderr",
     "output_type": "stream",
     "text": [
      "3054it [03:37, 14.96it/s]"
     ]
    },
    {
     "name": "stdout",
     "output_type": "stream",
     "text": [
      "3055/3426 [=========================>....] - ETA: 26s"
     ]
    },
    {
     "name": "stderr",
     "output_type": "stream",
     "text": [
      "3056it [03:37, 15.39it/s]"
     ]
    },
    {
     "name": "stdout",
     "output_type": "stream",
     "text": [
      "3057/3426 [=========================>....] - ETA: 26s"
     ]
    },
    {
     "name": "stderr",
     "output_type": "stream",
     "text": [
      "3058it [03:37, 15.70it/s]"
     ]
    },
    {
     "name": "stdout",
     "output_type": "stream",
     "text": [
      "3059/3426 [=========================>....] - ETA: 26s"
     ]
    },
    {
     "name": "stderr",
     "output_type": "stream",
     "text": [
      "3060it [03:38, 15.52it/s]"
     ]
    },
    {
     "name": "stdout",
     "output_type": "stream",
     "text": [
      "3061/3426 [=========================>....] - ETA: 26s"
     ]
    },
    {
     "name": "stderr",
     "output_type": "stream",
     "text": [
      "3062it [03:38, 15.51it/s]"
     ]
    },
    {
     "name": "stdout",
     "output_type": "stream",
     "text": [
      "3063/3426 [=========================>....] - ETA: 25s"
     ]
    },
    {
     "name": "stderr",
     "output_type": "stream",
     "text": [
      "3064it [03:38, 15.57it/s]"
     ]
    },
    {
     "name": "stdout",
     "output_type": "stream",
     "text": [
      "3065/3426 [=========================>....] - ETA: 25s"
     ]
    },
    {
     "name": "stderr",
     "output_type": "stream",
     "text": [
      "3066it [03:38, 14.20it/s]"
     ]
    },
    {
     "name": "stdout",
     "output_type": "stream",
     "text": [
      "3067/3426 [=========================>....] - ETA: 25s"
     ]
    },
    {
     "name": "stderr",
     "output_type": "stream",
     "text": [
      "3068it [03:38, 14.18it/s]"
     ]
    },
    {
     "name": "stdout",
     "output_type": "stream",
     "text": [
      "3069/3426 [=========================>....] - ETA: 25s"
     ]
    },
    {
     "name": "stderr",
     "output_type": "stream",
     "text": [
      "3070it [03:38, 14.43it/s]"
     ]
    },
    {
     "name": "stdout",
     "output_type": "stream",
     "text": [
      "3071/3426 [=========================>....] - ETA: 25s"
     ]
    },
    {
     "name": "stderr",
     "output_type": "stream",
     "text": [
      "3072it [03:38, 14.40it/s]"
     ]
    },
    {
     "name": "stdout",
     "output_type": "stream",
     "text": [
      "3073/3426 [=========================>....] - ETA: 25s"
     ]
    },
    {
     "name": "stderr",
     "output_type": "stream",
     "text": [
      "3074it [03:39, 13.44it/s]"
     ]
    },
    {
     "name": "stdout",
     "output_type": "stream",
     "text": [
      "3075/3426 [=========================>....] - ETA: 25s"
     ]
    },
    {
     "name": "stderr",
     "output_type": "stream",
     "text": [
      "3076it [03:39, 13.88it/s]"
     ]
    },
    {
     "name": "stdout",
     "output_type": "stream",
     "text": [
      "3077/3426 [=========================>....] - ETA: 24s"
     ]
    },
    {
     "name": "stderr",
     "output_type": "stream",
     "text": [
      "3078it [03:39, 11.87it/s]"
     ]
    },
    {
     "name": "stdout",
     "output_type": "stream",
     "text": [
      "3079/3426 [=========================>....] - ETA: 24s"
     ]
    },
    {
     "name": "stderr",
     "output_type": "stream",
     "text": [
      "3080it [03:39, 12.51it/s]"
     ]
    },
    {
     "name": "stdout",
     "output_type": "stream",
     "text": [
      "3081/3426 [=========================>....] - ETA: 24s"
     ]
    },
    {
     "name": "stderr",
     "output_type": "stream",
     "text": [
      "3082it [03:39, 13.28it/s]"
     ]
    },
    {
     "name": "stdout",
     "output_type": "stream",
     "text": [
      "3083/3426 [=========================>....] - ETA: 24s"
     ]
    },
    {
     "name": "stderr",
     "output_type": "stream",
     "text": [
      "3084it [03:39, 13.74it/s]"
     ]
    },
    {
     "name": "stdout",
     "output_type": "stream",
     "text": [
      "3085/3426 [==========================>...] - ETA: 24s"
     ]
    },
    {
     "name": "stderr",
     "output_type": "stream",
     "text": [
      "3086it [03:40, 14.22it/s]"
     ]
    },
    {
     "name": "stdout",
     "output_type": "stream",
     "text": [
      "3087/3426 [==========================>...] - ETA: 24s"
     ]
    },
    {
     "name": "stderr",
     "output_type": "stream",
     "text": [
      "3088it [03:40, 14.75it/s]"
     ]
    },
    {
     "name": "stdout",
     "output_type": "stream",
     "text": [
      "3089/3426 [==========================>...] - ETA: 24s"
     ]
    },
    {
     "name": "stderr",
     "output_type": "stream",
     "text": [
      "3090it [03:40, 15.39it/s]"
     ]
    },
    {
     "name": "stdout",
     "output_type": "stream",
     "text": [
      "3091/3426 [==========================>...] - ETA: 23s"
     ]
    },
    {
     "name": "stderr",
     "output_type": "stream",
     "text": [
      "3092it [03:40, 15.72it/s]"
     ]
    },
    {
     "name": "stdout",
     "output_type": "stream",
     "text": [
      "3093/3426 [==========================>...] - ETA: 23s"
     ]
    },
    {
     "name": "stderr",
     "output_type": "stream",
     "text": [
      "3094it [03:40, 15.88it/s]"
     ]
    },
    {
     "name": "stdout",
     "output_type": "stream",
     "text": [
      "3095/3426 [==========================>...] - ETA: 23s"
     ]
    },
    {
     "name": "stderr",
     "output_type": "stream",
     "text": [
      "3096it [03:40, 15.73it/s]"
     ]
    },
    {
     "name": "stdout",
     "output_type": "stream",
     "text": [
      "3097/3426 [==========================>...] - ETA: 23s"
     ]
    },
    {
     "name": "stderr",
     "output_type": "stream",
     "text": [
      "3098it [03:40, 15.63it/s]"
     ]
    },
    {
     "name": "stdout",
     "output_type": "stream",
     "text": [
      "3099/3426 [==========================>...] - ETA: 23s"
     ]
    },
    {
     "name": "stderr",
     "output_type": "stream",
     "text": [
      "3100it [03:40, 15.89it/s]"
     ]
    },
    {
     "name": "stdout",
     "output_type": "stream",
     "text": [
      "3101/3426 [==========================>...] - ETA: 23s"
     ]
    },
    {
     "name": "stderr",
     "output_type": "stream",
     "text": [
      "3102it [03:41, 16.07it/s]"
     ]
    },
    {
     "name": "stdout",
     "output_type": "stream",
     "text": [
      "3103/3426 [==========================>...] - ETA: 23s"
     ]
    },
    {
     "name": "stderr",
     "output_type": "stream",
     "text": [
      "3104it [03:41, 15.29it/s]"
     ]
    },
    {
     "name": "stdout",
     "output_type": "stream",
     "text": [
      "3105/3426 [==========================>...] - ETA: 22s"
     ]
    },
    {
     "name": "stderr",
     "output_type": "stream",
     "text": [
      "3106it [03:41, 15.61it/s]"
     ]
    },
    {
     "name": "stdout",
     "output_type": "stream",
     "text": [
      "3107/3426 [==========================>...] - ETA: 22s"
     ]
    },
    {
     "name": "stderr",
     "output_type": "stream",
     "text": [
      "3108it [03:41, 15.98it/s]"
     ]
    },
    {
     "name": "stdout",
     "output_type": "stream",
     "text": [
      "3109/3426 [==========================>...] - ETA: 22s"
     ]
    },
    {
     "name": "stderr",
     "output_type": "stream",
     "text": [
      "3110it [03:41, 16.36it/s]"
     ]
    },
    {
     "name": "stdout",
     "output_type": "stream",
     "text": [
      "3111/3426 [==========================>...] - ETA: 22s"
     ]
    },
    {
     "name": "stderr",
     "output_type": "stream",
     "text": [
      "3112it [03:41, 15.55it/s]"
     ]
    },
    {
     "name": "stdout",
     "output_type": "stream",
     "text": [
      "3113/3426 [==========================>...] - ETA: 22s"
     ]
    },
    {
     "name": "stderr",
     "output_type": "stream",
     "text": [
      "3114it [03:41, 15.66it/s]"
     ]
    },
    {
     "name": "stdout",
     "output_type": "stream",
     "text": [
      "3115/3426 [==========================>...] - ETA: 22s"
     ]
    },
    {
     "name": "stderr",
     "output_type": "stream",
     "text": [
      "3116it [03:41, 13.77it/s]"
     ]
    },
    {
     "name": "stdout",
     "output_type": "stream",
     "text": [
      "3117/3426 [==========================>...] - ETA: 22s"
     ]
    },
    {
     "name": "stderr",
     "output_type": "stream",
     "text": [
      "3118it [03:42, 14.40it/s]"
     ]
    },
    {
     "name": "stdout",
     "output_type": "stream",
     "text": [
      "3119/3426 [==========================>...] - ETA: 21s"
     ]
    },
    {
     "name": "stderr",
     "output_type": "stream",
     "text": [
      "3120it [03:42, 15.11it/s]"
     ]
    },
    {
     "name": "stdout",
     "output_type": "stream",
     "text": [
      "3121/3426 [==========================>...] - ETA: 21s"
     ]
    },
    {
     "name": "stderr",
     "output_type": "stream",
     "text": [
      "3122it [03:42, 15.71it/s]"
     ]
    },
    {
     "name": "stdout",
     "output_type": "stream",
     "text": [
      "3123/3426 [==========================>...] - ETA: 21s"
     ]
    },
    {
     "name": "stderr",
     "output_type": "stream",
     "text": [
      "3124it [03:42, 11.97it/s]"
     ]
    },
    {
     "name": "stdout",
     "output_type": "stream",
     "text": [
      "3125/3426 [==========================>...] - ETA: 21s"
     ]
    },
    {
     "name": "stderr",
     "output_type": "stream",
     "text": [
      "3126it [03:43,  7.85it/s]"
     ]
    },
    {
     "name": "stdout",
     "output_type": "stream",
     "text": [
      "3127/3426 [==========================>...] - ETA: 21s"
     ]
    },
    {
     "name": "stderr",
     "output_type": "stream",
     "text": [
      "3128it [03:43,  9.11it/s]"
     ]
    },
    {
     "name": "stdout",
     "output_type": "stream",
     "text": [
      "3129/3426 [==========================>...] - ETA: 21s"
     ]
    },
    {
     "name": "stderr",
     "output_type": "stream",
     "text": [
      "3130it [03:43, 10.60it/s]"
     ]
    },
    {
     "name": "stdout",
     "output_type": "stream",
     "text": [
      "3131/3426 [==========================>...] - ETA: 21s"
     ]
    },
    {
     "name": "stderr",
     "output_type": "stream",
     "text": [
      "3132it [03:43, 11.89it/s]"
     ]
    },
    {
     "name": "stdout",
     "output_type": "stream",
     "text": [
      "3133/3426 [==========================>...] - ETA: 20s"
     ]
    },
    {
     "name": "stderr",
     "output_type": "stream",
     "text": [
      "3134it [03:43, 12.86it/s]"
     ]
    },
    {
     "name": "stdout",
     "output_type": "stream",
     "text": [
      "3135/3426 [==========================>...] - ETA: 20s"
     ]
    },
    {
     "name": "stderr",
     "output_type": "stream",
     "text": [
      "3136it [03:43, 13.75it/s]"
     ]
    },
    {
     "name": "stdout",
     "output_type": "stream",
     "text": [
      "3137/3426 [==========================>...] - ETA: 20s"
     ]
    },
    {
     "name": "stderr",
     "output_type": "stream",
     "text": [
      "3138it [03:43, 14.61it/s]"
     ]
    },
    {
     "name": "stdout",
     "output_type": "stream",
     "text": [
      "3139/3426 [==========================>...] - ETA: 20s"
     ]
    },
    {
     "name": "stderr",
     "output_type": "stream",
     "text": [
      "3140it [03:43, 14.87it/s]"
     ]
    },
    {
     "name": "stdout",
     "output_type": "stream",
     "text": [
      "3141/3426 [==========================>...] - ETA: 20s"
     ]
    },
    {
     "name": "stderr",
     "output_type": "stream",
     "text": [
      "3142it [03:44, 15.06it/s]"
     ]
    },
    {
     "name": "stdout",
     "output_type": "stream",
     "text": [
      "3143/3426 [==========================>...] - ETA: 20s"
     ]
    },
    {
     "name": "stderr",
     "output_type": "stream",
     "text": [
      "3144it [03:44, 15.05it/s]"
     ]
    },
    {
     "name": "stdout",
     "output_type": "stream",
     "text": [
      "3145/3426 [==========================>...] - ETA: 20s"
     ]
    },
    {
     "name": "stderr",
     "output_type": "stream",
     "text": [
      "3146it [03:44, 14.96it/s]"
     ]
    },
    {
     "name": "stdout",
     "output_type": "stream",
     "text": [
      "3147/3426 [==========================>...] - ETA: 19s"
     ]
    },
    {
     "name": "stderr",
     "output_type": "stream",
     "text": [
      "3148it [03:44, 15.07it/s]"
     ]
    },
    {
     "name": "stdout",
     "output_type": "stream",
     "text": [
      "3149/3426 [==========================>...] - ETA: 19s"
     ]
    },
    {
     "name": "stderr",
     "output_type": "stream",
     "text": [
      "3150it [03:44, 15.63it/s]"
     ]
    },
    {
     "name": "stdout",
     "output_type": "stream",
     "text": [
      "3151/3426 [==========================>...] - ETA: 19s"
     ]
    },
    {
     "name": "stderr",
     "output_type": "stream",
     "text": [
      "3152it [03:44, 15.65it/s]"
     ]
    },
    {
     "name": "stdout",
     "output_type": "stream",
     "text": [
      "3153/3426 [==========================>...] - ETA: 19s"
     ]
    },
    {
     "name": "stderr",
     "output_type": "stream",
     "text": [
      "3154it [03:44, 16.00it/s]"
     ]
    },
    {
     "name": "stdout",
     "output_type": "stream",
     "text": [
      "3155/3426 [==========================>...] - ETA: 19s"
     ]
    },
    {
     "name": "stderr",
     "output_type": "stream",
     "text": [
      "3156it [03:44, 15.74it/s]"
     ]
    },
    {
     "name": "stdout",
     "output_type": "stream",
     "text": [
      "3157/3426 [==========================>...] - ETA: 19s"
     ]
    },
    {
     "name": "stderr",
     "output_type": "stream",
     "text": [
      "3158it [03:45, 15.47it/s]"
     ]
    },
    {
     "name": "stdout",
     "output_type": "stream",
     "text": [
      "3158/3426 [==========================>...] - ETA: 19s"
     ]
    },
    {
     "name": "stderr",
     "output_type": "stream",
     "text": [
      "3160it [03:45, 16.27it/s]"
     ]
    },
    {
     "name": "stdout",
     "output_type": "stream",
     "text": [
      "3161/3426 [==========================>...] - ETA: 18s"
     ]
    },
    {
     "name": "stderr",
     "output_type": "stream",
     "text": [
      "3162it [03:45, 16.75it/s]"
     ]
    },
    {
     "name": "stdout",
     "output_type": "stream",
     "text": [
      "3163/3426 [==========================>...] - ETA: 18s"
     ]
    },
    {
     "name": "stderr",
     "output_type": "stream",
     "text": [
      "3164it [03:45, 16.15it/s]"
     ]
    },
    {
     "name": "stdout",
     "output_type": "stream",
     "text": [
      "3165/3426 [==========================>...] - ETA: 18s"
     ]
    },
    {
     "name": "stderr",
     "output_type": "stream",
     "text": [
      "3166it [03:45, 13.97it/s]"
     ]
    },
    {
     "name": "stdout",
     "output_type": "stream",
     "text": [
      "3167/3426 [==========================>...] - ETA: 18s"
     ]
    },
    {
     "name": "stderr",
     "output_type": "stream",
     "text": [
      "3168it [03:45, 14.11it/s]"
     ]
    },
    {
     "name": "stdout",
     "output_type": "stream",
     "text": [
      "3169/3426 [==========================>...] - ETA: 18s"
     ]
    },
    {
     "name": "stderr",
     "output_type": "stream",
     "text": [
      "3170it [03:45, 13.30it/s]"
     ]
    },
    {
     "name": "stdout",
     "output_type": "stream",
     "text": [
      "3171/3426 [==========================>...] - ETA: 18s"
     ]
    },
    {
     "name": "stderr",
     "output_type": "stream",
     "text": [
      "3172it [03:46, 13.57it/s]"
     ]
    },
    {
     "name": "stdout",
     "output_type": "stream",
     "text": [
      "3173/3426 [==========================>...] - ETA: 18s"
     ]
    },
    {
     "name": "stderr",
     "output_type": "stream",
     "text": [
      "3174it [03:46, 14.18it/s]"
     ]
    },
    {
     "name": "stdout",
     "output_type": "stream",
     "text": [
      "3175/3426 [==========================>...] - ETA: 17s"
     ]
    },
    {
     "name": "stderr",
     "output_type": "stream",
     "text": [
      "3176it [03:46, 14.58it/s]"
     ]
    },
    {
     "name": "stdout",
     "output_type": "stream",
     "text": [
      "3177/3426 [==========================>...] - ETA: 17s"
     ]
    },
    {
     "name": "stderr",
     "output_type": "stream",
     "text": [
      "3178it [03:46, 15.02it/s]"
     ]
    },
    {
     "name": "stdout",
     "output_type": "stream",
     "text": [
      "3179/3426 [==========================>...] - ETA: 17s"
     ]
    },
    {
     "name": "stderr",
     "output_type": "stream",
     "text": [
      "3180it [03:46, 15.12it/s]"
     ]
    },
    {
     "name": "stdout",
     "output_type": "stream",
     "text": [
      "3181/3426 [==========================>...] - ETA: 17s"
     ]
    },
    {
     "name": "stderr",
     "output_type": "stream",
     "text": [
      "3182it [03:46, 15.53it/s]"
     ]
    },
    {
     "name": "stdout",
     "output_type": "stream",
     "text": [
      "3183/3426 [==========================>...] - ETA: 17s"
     ]
    },
    {
     "name": "stderr",
     "output_type": "stream",
     "text": [
      "3184it [03:46, 16.06it/s]"
     ]
    },
    {
     "name": "stdout",
     "output_type": "stream",
     "text": [
      "3185/3426 [==========================>...] - ETA: 17s"
     ]
    },
    {
     "name": "stderr",
     "output_type": "stream",
     "text": [
      "3186it [03:47, 13.69it/s]"
     ]
    },
    {
     "name": "stdout",
     "output_type": "stream",
     "text": [
      "3187/3426 [==========================>...] - ETA: 17s"
     ]
    },
    {
     "name": "stderr",
     "output_type": "stream",
     "text": [
      "3188it [03:47, 14.07it/s]"
     ]
    },
    {
     "name": "stdout",
     "output_type": "stream",
     "text": [
      "3189/3426 [==========================>...] - ETA: 16s"
     ]
    },
    {
     "name": "stderr",
     "output_type": "stream",
     "text": [
      "3190it [03:47, 11.75it/s]"
     ]
    },
    {
     "name": "stdout",
     "output_type": "stream",
     "text": [
      "3191/3426 [==========================>...] - ETA: 16s"
     ]
    },
    {
     "name": "stderr",
     "output_type": "stream",
     "text": [
      "3192it [03:47, 12.51it/s]"
     ]
    },
    {
     "name": "stdout",
     "output_type": "stream",
     "text": [
      "3193/3426 [==========================>...] - ETA: 16s"
     ]
    },
    {
     "name": "stderr",
     "output_type": "stream",
     "text": [
      "3194it [03:47, 13.52it/s]"
     ]
    },
    {
     "name": "stdout",
     "output_type": "stream",
     "text": [
      "3195/3426 [==========================>...] - ETA: 16s"
     ]
    },
    {
     "name": "stderr",
     "output_type": "stream",
     "text": [
      "3196it [03:47, 13.83it/s]"
     ]
    },
    {
     "name": "stdout",
     "output_type": "stream",
     "text": [
      "3197/3426 [==========================>...] - ETA: 16s"
     ]
    },
    {
     "name": "stderr",
     "output_type": "stream",
     "text": [
      "3198it [03:47, 14.16it/s]"
     ]
    },
    {
     "name": "stdout",
     "output_type": "stream",
     "text": [
      "3199/3426 [===========================>..] - ETA: 16s"
     ]
    },
    {
     "name": "stderr",
     "output_type": "stream",
     "text": [
      "3200it [03:48, 13.71it/s]"
     ]
    },
    {
     "name": "stdout",
     "output_type": "stream",
     "text": [
      "3201/3426 [===========================>..] - ETA: 16s"
     ]
    },
    {
     "name": "stderr",
     "output_type": "stream",
     "text": [
      "3202it [03:48, 14.58it/s]"
     ]
    },
    {
     "name": "stdout",
     "output_type": "stream",
     "text": [
      "3203/3426 [===========================>..] - ETA: 15s"
     ]
    },
    {
     "name": "stderr",
     "output_type": "stream",
     "text": [
      "3204it [03:48, 15.33it/s]"
     ]
    },
    {
     "name": "stdout",
     "output_type": "stream",
     "text": [
      "3205/3426 [===========================>..] - ETA: 15s"
     ]
    },
    {
     "name": "stderr",
     "output_type": "stream",
     "text": [
      "3206it [03:48, 15.35it/s]"
     ]
    },
    {
     "name": "stdout",
     "output_type": "stream",
     "text": [
      "3207/3426 [===========================>..] - ETA: 15s"
     ]
    },
    {
     "name": "stderr",
     "output_type": "stream",
     "text": [
      "3208it [03:48, 15.67it/s]"
     ]
    },
    {
     "name": "stdout",
     "output_type": "stream",
     "text": [
      "3209/3426 [===========================>..] - ETA: 15s"
     ]
    },
    {
     "name": "stderr",
     "output_type": "stream",
     "text": [
      "3210it [03:48, 13.24it/s]"
     ]
    },
    {
     "name": "stdout",
     "output_type": "stream",
     "text": [
      "3211/3426 [===========================>..] - ETA: 15s"
     ]
    },
    {
     "name": "stderr",
     "output_type": "stream",
     "text": [
      "3212it [03:48, 13.96it/s]"
     ]
    },
    {
     "name": "stdout",
     "output_type": "stream",
     "text": [
      "3213/3426 [===========================>..] - ETA: 15s"
     ]
    },
    {
     "name": "stderr",
     "output_type": "stream",
     "text": [
      "3214it [03:48, 14.51it/s]"
     ]
    },
    {
     "name": "stdout",
     "output_type": "stream",
     "text": [
      "3215/3426 [===========================>..] - ETA: 15s"
     ]
    },
    {
     "name": "stderr",
     "output_type": "stream",
     "text": [
      "3216it [03:49, 14.90it/s]"
     ]
    },
    {
     "name": "stdout",
     "output_type": "stream",
     "text": [
      "3217/3426 [===========================>..] - ETA: 14s"
     ]
    },
    {
     "name": "stderr",
     "output_type": "stream",
     "text": [
      "3218it [03:49, 15.90it/s]"
     ]
    },
    {
     "name": "stdout",
     "output_type": "stream",
     "text": [
      "3219/3426 [===========================>..] - ETA: 14s"
     ]
    },
    {
     "name": "stderr",
     "output_type": "stream",
     "text": [
      "3220it [03:49, 16.05it/s]"
     ]
    },
    {
     "name": "stdout",
     "output_type": "stream",
     "text": [
      "3221/3426 [===========================>..] - ETA: 14s"
     ]
    },
    {
     "name": "stderr",
     "output_type": "stream",
     "text": [
      "3222it [03:49, 15.03it/s]"
     ]
    },
    {
     "name": "stdout",
     "output_type": "stream",
     "text": [
      "3223/3426 [===========================>..] - ETA: 14s"
     ]
    },
    {
     "name": "stderr",
     "output_type": "stream",
     "text": [
      "3224it [03:49, 15.37it/s]"
     ]
    },
    {
     "name": "stdout",
     "output_type": "stream",
     "text": [
      "3225/3426 [===========================>..] - ETA: 14s"
     ]
    },
    {
     "name": "stderr",
     "output_type": "stream",
     "text": [
      "3226it [03:49, 15.84it/s]"
     ]
    },
    {
     "name": "stdout",
     "output_type": "stream",
     "text": [
      "3227/3426 [===========================>..] - ETA: 14s"
     ]
    },
    {
     "name": "stderr",
     "output_type": "stream",
     "text": [
      "3228it [03:49, 15.28it/s]"
     ]
    },
    {
     "name": "stdout",
     "output_type": "stream",
     "text": [
      "3229/3426 [===========================>..] - ETA: 14s"
     ]
    },
    {
     "name": "stderr",
     "output_type": "stream",
     "text": [
      "3230it [03:50, 13.41it/s]"
     ]
    },
    {
     "name": "stdout",
     "output_type": "stream",
     "text": [
      "3231/3426 [===========================>..] - ETA: 13s"
     ]
    },
    {
     "name": "stderr",
     "output_type": "stream",
     "text": [
      "3232it [03:50, 13.42it/s]"
     ]
    },
    {
     "name": "stdout",
     "output_type": "stream",
     "text": [
      "3233/3426 [===========================>..] - ETA: 13s"
     ]
    },
    {
     "name": "stderr",
     "output_type": "stream",
     "text": [
      "3234it [03:50, 14.63it/s]"
     ]
    },
    {
     "name": "stdout",
     "output_type": "stream",
     "text": [
      "3235/3426 [===========================>..] - ETA: 13s"
     ]
    },
    {
     "name": "stderr",
     "output_type": "stream",
     "text": [
      "3236it [03:50, 14.90it/s]"
     ]
    },
    {
     "name": "stdout",
     "output_type": "stream",
     "text": [
      "3237/3426 [===========================>..] - ETA: 13s"
     ]
    },
    {
     "name": "stderr",
     "output_type": "stream",
     "text": [
      "3238it [03:50, 15.45it/s]"
     ]
    },
    {
     "name": "stdout",
     "output_type": "stream",
     "text": [
      "3239/3426 [===========================>..] - ETA: 13s"
     ]
    },
    {
     "name": "stderr",
     "output_type": "stream",
     "text": [
      "3240it [03:50, 15.69it/s]"
     ]
    },
    {
     "name": "stdout",
     "output_type": "stream",
     "text": [
      "3241/3426 [===========================>..] - ETA: 13s"
     ]
    },
    {
     "name": "stderr",
     "output_type": "stream",
     "text": [
      "3242it [03:50, 16.25it/s]"
     ]
    },
    {
     "name": "stdout",
     "output_type": "stream",
     "text": [
      "3243/3426 [===========================>..] - ETA: 13s"
     ]
    },
    {
     "name": "stderr",
     "output_type": "stream",
     "text": [
      "3244it [03:50, 15.33it/s]"
     ]
    },
    {
     "name": "stdout",
     "output_type": "stream",
     "text": [
      "3245/3426 [===========================>..] - ETA: 12s"
     ]
    },
    {
     "name": "stderr",
     "output_type": "stream",
     "text": [
      "3246it [03:51, 15.82it/s]"
     ]
    },
    {
     "name": "stdout",
     "output_type": "stream",
     "text": [
      "3247/3426 [===========================>..] - ETA: 12s"
     ]
    },
    {
     "name": "stderr",
     "output_type": "stream",
     "text": [
      "3248it [03:51, 15.85it/s]"
     ]
    },
    {
     "name": "stdout",
     "output_type": "stream",
     "text": [
      "3249/3426 [===========================>..] - ETA: 12s"
     ]
    },
    {
     "name": "stderr",
     "output_type": "stream",
     "text": [
      "3250it [03:51, 15.77it/s]"
     ]
    },
    {
     "name": "stdout",
     "output_type": "stream",
     "text": [
      "3251/3426 [===========================>..] - ETA: 12s"
     ]
    },
    {
     "name": "stderr",
     "output_type": "stream",
     "text": [
      "3252it [03:51, 15.95it/s]"
     ]
    },
    {
     "name": "stdout",
     "output_type": "stream",
     "text": [
      "3253/3426 [===========================>..] - ETA: 12s"
     ]
    },
    {
     "name": "stderr",
     "output_type": "stream",
     "text": [
      "3254it [03:51, 16.46it/s]"
     ]
    },
    {
     "name": "stdout",
     "output_type": "stream",
     "text": [
      "3255/3426 [===========================>..] - ETA: 12s"
     ]
    },
    {
     "name": "stderr",
     "output_type": "stream",
     "text": [
      "3256it [03:51, 11.94it/s]"
     ]
    },
    {
     "name": "stdout",
     "output_type": "stream",
     "text": [
      "3257/3426 [===========================>..] - ETA: 12s"
     ]
    },
    {
     "name": "stderr",
     "output_type": "stream",
     "text": [
      "3258it [03:52, 10.31it/s]"
     ]
    },
    {
     "name": "stdout",
     "output_type": "stream",
     "text": [
      "3259/3426 [===========================>..] - ETA: 11s"
     ]
    },
    {
     "name": "stderr",
     "output_type": "stream",
     "text": [
      "3260it [03:52, 10.47it/s]"
     ]
    },
    {
     "name": "stdout",
     "output_type": "stream",
     "text": [
      "3261/3426 [===========================>..] - ETA: 11s"
     ]
    },
    {
     "name": "stderr",
     "output_type": "stream",
     "text": [
      "3262it [03:52, 11.67it/s]"
     ]
    },
    {
     "name": "stdout",
     "output_type": "stream",
     "text": [
      "3263/3426 [===========================>..] - ETA: 11s"
     ]
    },
    {
     "name": "stderr",
     "output_type": "stream",
     "text": [
      "3264it [03:52, 11.63it/s]"
     ]
    },
    {
     "name": "stdout",
     "output_type": "stream",
     "text": [
      "3265/3426 [===========================>..] - ETA: 11s"
     ]
    },
    {
     "name": "stderr",
     "output_type": "stream",
     "text": [
      "3266it [03:52, 12.66it/s]"
     ]
    },
    {
     "name": "stdout",
     "output_type": "stream",
     "text": [
      "3267/3426 [===========================>..] - ETA: 11s"
     ]
    },
    {
     "name": "stderr",
     "output_type": "stream",
     "text": [
      "3268it [03:52, 13.74it/s]"
     ]
    },
    {
     "name": "stdout",
     "output_type": "stream",
     "text": [
      "3269/3426 [===========================>..] - ETA: 11s"
     ]
    },
    {
     "name": "stderr",
     "output_type": "stream",
     "text": [
      "3270it [03:52, 14.47it/s]"
     ]
    },
    {
     "name": "stdout",
     "output_type": "stream",
     "text": [
      "3271/3426 [===========================>..] - ETA: 11s"
     ]
    },
    {
     "name": "stderr",
     "output_type": "stream",
     "text": [
      "3272it [03:53, 14.91it/s]"
     ]
    },
    {
     "name": "stdout",
     "output_type": "stream",
     "text": [
      "3273/3426 [===========================>..] - ETA: 10s"
     ]
    },
    {
     "name": "stderr",
     "output_type": "stream",
     "text": [
      "3274it [03:53, 14.87it/s]"
     ]
    },
    {
     "name": "stdout",
     "output_type": "stream",
     "text": [
      "3275/3426 [===========================>..] - ETA: 10s"
     ]
    },
    {
     "name": "stderr",
     "output_type": "stream",
     "text": [
      "3276it [03:53, 13.63it/s]"
     ]
    },
    {
     "name": "stdout",
     "output_type": "stream",
     "text": [
      "3277/3426 [===========================>..] - ETA: 10s"
     ]
    },
    {
     "name": "stderr",
     "output_type": "stream",
     "text": [
      "3278it [03:53, 12.90it/s]"
     ]
    },
    {
     "name": "stdout",
     "output_type": "stream",
     "text": [
      "3279/3426 [===========================>..] - ETA: 10s"
     ]
    },
    {
     "name": "stderr",
     "output_type": "stream",
     "text": [
      "3280it [03:53, 13.68it/s]"
     ]
    },
    {
     "name": "stdout",
     "output_type": "stream",
     "text": [
      "3281/3426 [===========================>..] - ETA: 10s"
     ]
    },
    {
     "name": "stderr",
     "output_type": "stream",
     "text": [
      "3282it [03:53, 14.57it/s]"
     ]
    },
    {
     "name": "stdout",
     "output_type": "stream",
     "text": [
      "3283/3426 [===========================>..] - ETA: 10s"
     ]
    },
    {
     "name": "stderr",
     "output_type": "stream",
     "text": [
      "3284it [03:53, 14.75it/s]"
     ]
    },
    {
     "name": "stdout",
     "output_type": "stream",
     "text": [
      "3285/3426 [===========================>..] - ETA: 10s"
     ]
    },
    {
     "name": "stderr",
     "output_type": "stream",
     "text": [
      "3286it [03:54, 15.62it/s]"
     ]
    },
    {
     "name": "stdout",
     "output_type": "stream",
     "text": [
      "3287/3426 [===========================>..] - ETA: 9s"
     ]
    },
    {
     "name": "stderr",
     "output_type": "stream",
     "text": [
      "3288it [03:54, 15.58it/s]"
     ]
    },
    {
     "name": "stdout",
     "output_type": "stream",
     "text": [
      "3289/3426 [===========================>..] - ETA: 9s"
     ]
    },
    {
     "name": "stderr",
     "output_type": "stream",
     "text": [
      "3290it [03:54, 14.95it/s]"
     ]
    },
    {
     "name": "stdout",
     "output_type": "stream",
     "text": [
      "3291/3426 [===========================>..] - ETA: 9s"
     ]
    },
    {
     "name": "stderr",
     "output_type": "stream",
     "text": [
      "3292it [03:54, 14.78it/s]"
     ]
    },
    {
     "name": "stdout",
     "output_type": "stream",
     "text": [
      "3293/3426 [===========================>..] - ETA: 9s"
     ]
    },
    {
     "name": "stderr",
     "output_type": "stream",
     "text": [
      "3294it [03:54, 14.22it/s]"
     ]
    },
    {
     "name": "stdout",
     "output_type": "stream",
     "text": [
      "3295/3426 [===========================>..] - ETA: 9s"
     ]
    },
    {
     "name": "stderr",
     "output_type": "stream",
     "text": [
      "3296it [03:54, 11.19it/s]"
     ]
    },
    {
     "name": "stdout",
     "output_type": "stream",
     "text": [
      "3297/3426 [===========================>..] - ETA: 9s"
     ]
    },
    {
     "name": "stderr",
     "output_type": "stream",
     "text": [
      "3298it [03:54, 12.47it/s]"
     ]
    },
    {
     "name": "stdout",
     "output_type": "stream",
     "text": [
      "3299/3426 [===========================>..] - ETA: 9s"
     ]
    },
    {
     "name": "stderr",
     "output_type": "stream",
     "text": [
      "3300it [03:55, 12.61it/s]"
     ]
    },
    {
     "name": "stdout",
     "output_type": "stream",
     "text": [
      "3301/3426 [===========================>..] - ETA: 8s"
     ]
    },
    {
     "name": "stderr",
     "output_type": "stream",
     "text": [
      "3302it [03:55, 13.56it/s]"
     ]
    },
    {
     "name": "stdout",
     "output_type": "stream",
     "text": [
      "3303/3426 [===========================>..] - ETA: 8s"
     ]
    },
    {
     "name": "stderr",
     "output_type": "stream",
     "text": [
      "3304it [03:55, 14.43it/s]"
     ]
    },
    {
     "name": "stdout",
     "output_type": "stream",
     "text": [
      "3305/3426 [===========================>..] - ETA: 8s"
     ]
    },
    {
     "name": "stderr",
     "output_type": "stream",
     "text": [
      "3306it [03:55, 15.22it/s]"
     ]
    },
    {
     "name": "stdout",
     "output_type": "stream",
     "text": [
      "3307/3426 [===========================>..] - ETA: 8s"
     ]
    },
    {
     "name": "stderr",
     "output_type": "stream",
     "text": [
      "3308it [03:55, 16.01it/s]"
     ]
    },
    {
     "name": "stdout",
     "output_type": "stream",
     "text": [
      "3309/3426 [===========================>..] - ETA: 8s"
     ]
    },
    {
     "name": "stderr",
     "output_type": "stream",
     "text": [
      "3310it [03:55, 16.03it/s]"
     ]
    },
    {
     "name": "stdout",
     "output_type": "stream",
     "text": [
      "3311/3426 [===========================>..] - ETA: 8s"
     ]
    },
    {
     "name": "stderr",
     "output_type": "stream",
     "text": [
      "3312it [03:55, 16.34it/s]"
     ]
    },
    {
     "name": "stdout",
     "output_type": "stream",
     "text": [
      "3313/3426 [============================>.] - ETA: 8s"
     ]
    },
    {
     "name": "stderr",
     "output_type": "stream",
     "text": [
      "3314it [03:55, 16.24it/s]"
     ]
    },
    {
     "name": "stdout",
     "output_type": "stream",
     "text": [
      "3315/3426 [============================>.] - ETA: 7s"
     ]
    },
    {
     "name": "stderr",
     "output_type": "stream",
     "text": [
      "3316it [03:56, 16.21it/s]"
     ]
    },
    {
     "name": "stdout",
     "output_type": "stream",
     "text": [
      "3317/3426 [============================>.] - ETA: 7s"
     ]
    },
    {
     "name": "stderr",
     "output_type": "stream",
     "text": [
      "3318it [03:56, 16.37it/s]"
     ]
    },
    {
     "name": "stdout",
     "output_type": "stream",
     "text": [
      "3318/3426 [============================>.] - ETA: 7s"
     ]
    },
    {
     "name": "stderr",
     "output_type": "stream",
     "text": [
      "3320it [03:56, 17.15it/s]"
     ]
    },
    {
     "name": "stdout",
     "output_type": "stream",
     "text": [
      "3321/3426 [============================>.] - ETA: 7s"
     ]
    },
    {
     "name": "stderr",
     "output_type": "stream",
     "text": [
      "3322it [03:56, 16.22it/s]"
     ]
    },
    {
     "name": "stdout",
     "output_type": "stream",
     "text": [
      "3323/3426 [============================>.] - ETA: 7s"
     ]
    },
    {
     "name": "stderr",
     "output_type": "stream",
     "text": [
      "3324it [03:56, 16.99it/s]"
     ]
    },
    {
     "name": "stdout",
     "output_type": "stream",
     "text": [
      "3325/3426 [============================>.] - ETA: 7s"
     ]
    },
    {
     "name": "stderr",
     "output_type": "stream",
     "text": [
      "3326it [03:56, 17.46it/s]"
     ]
    },
    {
     "name": "stdout",
     "output_type": "stream",
     "text": [
      "3327/3426 [============================>.] - ETA: 7s"
     ]
    },
    {
     "name": "stderr",
     "output_type": "stream",
     "text": [
      "3328it [03:56, 17.43it/s]"
     ]
    },
    {
     "name": "stdout",
     "output_type": "stream",
     "text": [
      "3329/3426 [============================>.] - ETA: 6s"
     ]
    },
    {
     "name": "stderr",
     "output_type": "stream",
     "text": [
      "3330it [03:56, 16.31it/s]"
     ]
    },
    {
     "name": "stdout",
     "output_type": "stream",
     "text": [
      "3331/3426 [============================>.] - ETA: 6s"
     ]
    },
    {
     "name": "stderr",
     "output_type": "stream",
     "text": [
      "3332it [03:57, 16.59it/s]"
     ]
    },
    {
     "name": "stdout",
     "output_type": "stream",
     "text": [
      "3333/3426 [============================>.] - ETA: 6s"
     ]
    },
    {
     "name": "stderr",
     "output_type": "stream",
     "text": [
      "3334it [03:57, 16.90it/s]"
     ]
    },
    {
     "name": "stdout",
     "output_type": "stream",
     "text": [
      "3335/3426 [============================>.] - ETA: 6s"
     ]
    },
    {
     "name": "stderr",
     "output_type": "stream",
     "text": [
      "3336it [03:57, 16.96it/s]"
     ]
    },
    {
     "name": "stdout",
     "output_type": "stream",
     "text": [
      "3337/3426 [============================>.] - ETA: 6s"
     ]
    },
    {
     "name": "stderr",
     "output_type": "stream",
     "text": [
      "3338it [03:57, 16.79it/s]"
     ]
    },
    {
     "name": "stdout",
     "output_type": "stream",
     "text": [
      "3339/3426 [============================>.] - ETA: 6s"
     ]
    },
    {
     "name": "stderr",
     "output_type": "stream",
     "text": [
      "3340it [03:57, 15.16it/s]"
     ]
    },
    {
     "name": "stdout",
     "output_type": "stream",
     "text": [
      "3340/3426 [============================>.] - ETA: 6s"
     ]
    },
    {
     "name": "stderr",
     "output_type": "stream",
     "text": [
      "3342it [03:57, 12.39it/s]"
     ]
    },
    {
     "name": "stdout",
     "output_type": "stream",
     "text": [
      "3343/3426 [============================>.] - ETA: 5s"
     ]
    },
    {
     "name": "stderr",
     "output_type": "stream",
     "text": [
      "3344it [03:57, 11.83it/s]"
     ]
    },
    {
     "name": "stdout",
     "output_type": "stream",
     "text": [
      "3345/3426 [============================>.] - ETA: 5s"
     ]
    },
    {
     "name": "stderr",
     "output_type": "stream",
     "text": [
      "3346it [03:58, 12.88it/s]"
     ]
    },
    {
     "name": "stdout",
     "output_type": "stream",
     "text": [
      "3347/3426 [============================>.] - ETA: 5s"
     ]
    },
    {
     "name": "stderr",
     "output_type": "stream",
     "text": [
      "3348it [03:58, 13.60it/s]"
     ]
    },
    {
     "name": "stdout",
     "output_type": "stream",
     "text": [
      "3349/3426 [============================>.] - ETA: 5s"
     ]
    },
    {
     "name": "stderr",
     "output_type": "stream",
     "text": [
      "3350it [03:58, 14.30it/s]"
     ]
    },
    {
     "name": "stdout",
     "output_type": "stream",
     "text": [
      "3351/3426 [============================>.] - ETA: 5s"
     ]
    },
    {
     "name": "stderr",
     "output_type": "stream",
     "text": [
      "3352it [03:58, 14.87it/s]"
     ]
    },
    {
     "name": "stdout",
     "output_type": "stream",
     "text": [
      "3353/3426 [============================>.] - ETA: 5s"
     ]
    },
    {
     "name": "stderr",
     "output_type": "stream",
     "text": [
      "3354it [03:58, 15.12it/s]"
     ]
    },
    {
     "name": "stdout",
     "output_type": "stream",
     "text": [
      "3355/3426 [============================>.] - ETA: 5s"
     ]
    },
    {
     "name": "stderr",
     "output_type": "stream",
     "text": [
      "3356it [03:58, 15.05it/s]"
     ]
    },
    {
     "name": "stdout",
     "output_type": "stream",
     "text": [
      "3357/3426 [============================>.] - ETA: 4s"
     ]
    },
    {
     "name": "stderr",
     "output_type": "stream",
     "text": [
      "3358it [03:58, 15.55it/s]"
     ]
    },
    {
     "name": "stdout",
     "output_type": "stream",
     "text": [
      "3359/3426 [============================>.] - ETA: 4s"
     ]
    },
    {
     "name": "stderr",
     "output_type": "stream",
     "text": [
      "3360it [03:58, 15.65it/s]"
     ]
    },
    {
     "name": "stdout",
     "output_type": "stream",
     "text": [
      "3361/3426 [============================>.] - ETA: 4s"
     ]
    },
    {
     "name": "stderr",
     "output_type": "stream",
     "text": [
      "3362it [03:59, 14.50it/s]"
     ]
    },
    {
     "name": "stdout",
     "output_type": "stream",
     "text": [
      "3363/3426 [============================>.] - ETA: 4s"
     ]
    },
    {
     "name": "stderr",
     "output_type": "stream",
     "text": [
      "3364it [03:59, 15.35it/s]"
     ]
    },
    {
     "name": "stdout",
     "output_type": "stream",
     "text": [
      "3365/3426 [============================>.] - ETA: 4s"
     ]
    },
    {
     "name": "stderr",
     "output_type": "stream",
     "text": [
      "3366it [03:59, 16.01it/s]"
     ]
    },
    {
     "name": "stdout",
     "output_type": "stream",
     "text": [
      "3367/3426 [============================>.] - ETA: 4s"
     ]
    },
    {
     "name": "stderr",
     "output_type": "stream",
     "text": [
      "3368it [03:59, 15.98it/s]"
     ]
    },
    {
     "name": "stdout",
     "output_type": "stream",
     "text": [
      "3369/3426 [============================>.] - ETA: 4s"
     ]
    },
    {
     "name": "stderr",
     "output_type": "stream",
     "text": [
      "3370it [03:59, 15.95it/s]"
     ]
    },
    {
     "name": "stdout",
     "output_type": "stream",
     "text": [
      "3371/3426 [============================>.] - ETA: 3s"
     ]
    },
    {
     "name": "stderr",
     "output_type": "stream",
     "text": [
      "3372it [03:59, 10.80it/s]"
     ]
    },
    {
     "name": "stdout",
     "output_type": "stream",
     "text": [
      "3373/3426 [============================>.] - ETA: 3s"
     ]
    },
    {
     "name": "stderr",
     "output_type": "stream",
     "text": [
      "3374it [04:00, 11.79it/s]"
     ]
    },
    {
     "name": "stdout",
     "output_type": "stream",
     "text": [
      "3375/3426 [============================>.] - ETA: 3s"
     ]
    },
    {
     "name": "stderr",
     "output_type": "stream",
     "text": [
      "3376it [04:00, 12.81it/s]"
     ]
    },
    {
     "name": "stdout",
     "output_type": "stream",
     "text": [
      "3377/3426 [============================>.] - ETA: 3s"
     ]
    },
    {
     "name": "stderr",
     "output_type": "stream",
     "text": [
      "3378it [04:00, 13.94it/s]"
     ]
    },
    {
     "name": "stdout",
     "output_type": "stream",
     "text": [
      "3379/3426 [============================>.] - ETA: 3s"
     ]
    },
    {
     "name": "stderr",
     "output_type": "stream",
     "text": [
      "3380it [04:00, 14.24it/s]"
     ]
    },
    {
     "name": "stdout",
     "output_type": "stream",
     "text": [
      "3381/3426 [============================>.] - ETA: 3s"
     ]
    },
    {
     "name": "stderr",
     "output_type": "stream",
     "text": [
      "3382it [04:00, 14.72it/s]"
     ]
    },
    {
     "name": "stdout",
     "output_type": "stream",
     "text": [
      "3383/3426 [============================>.] - ETA: 3s"
     ]
    },
    {
     "name": "stderr",
     "output_type": "stream",
     "text": [
      "3384it [04:00, 15.47it/s]"
     ]
    },
    {
     "name": "stdout",
     "output_type": "stream",
     "text": [
      "3385/3426 [============================>.] - ETA: 2s"
     ]
    },
    {
     "name": "stderr",
     "output_type": "stream",
     "text": [
      "3386it [04:00, 15.95it/s]"
     ]
    },
    {
     "name": "stdout",
     "output_type": "stream",
     "text": [
      "3387/3426 [============================>.] - ETA: 2s"
     ]
    },
    {
     "name": "stderr",
     "output_type": "stream",
     "text": [
      "3388it [04:00, 13.85it/s]"
     ]
    },
    {
     "name": "stdout",
     "output_type": "stream",
     "text": [
      "3389/3426 [============================>.] - ETA: 2s"
     ]
    },
    {
     "name": "stderr",
     "output_type": "stream",
     "text": [
      "3390it [04:01, 14.42it/s]"
     ]
    },
    {
     "name": "stdout",
     "output_type": "stream",
     "text": [
      "3391/3426 [============================>.] - ETA: 2s"
     ]
    },
    {
     "name": "stderr",
     "output_type": "stream",
     "text": [
      "3392it [04:01, 14.72it/s]"
     ]
    },
    {
     "name": "stdout",
     "output_type": "stream",
     "text": [
      "3393/3426 [============================>.] - ETA: 2s"
     ]
    },
    {
     "name": "stderr",
     "output_type": "stream",
     "text": [
      "3394it [04:01, 13.90it/s]"
     ]
    },
    {
     "name": "stdout",
     "output_type": "stream",
     "text": [
      "3395/3426 [============================>.] - ETA: 2s"
     ]
    },
    {
     "name": "stderr",
     "output_type": "stream",
     "text": [
      "3396it [04:01, 13.72it/s]"
     ]
    },
    {
     "name": "stdout",
     "output_type": "stream",
     "text": [
      "3397/3426 [============================>.] - ETA: 2s"
     ]
    },
    {
     "name": "stderr",
     "output_type": "stream",
     "text": [
      "3398it [04:01, 12.38it/s]"
     ]
    },
    {
     "name": "stdout",
     "output_type": "stream",
     "text": [
      "3399/3426 [============================>.] - ETA: 1s"
     ]
    },
    {
     "name": "stderr",
     "output_type": "stream",
     "text": [
      "3400it [04:01, 12.77it/s]"
     ]
    },
    {
     "name": "stdout",
     "output_type": "stream",
     "text": [
      "3401/3426 [============================>.] - ETA: 1s"
     ]
    },
    {
     "name": "stderr",
     "output_type": "stream",
     "text": [
      "3402it [04:02, 13.95it/s]"
     ]
    },
    {
     "name": "stdout",
     "output_type": "stream",
     "text": [
      "3403/3426 [============================>.] - ETA: 1s"
     ]
    },
    {
     "name": "stderr",
     "output_type": "stream",
     "text": [
      "3404it [04:02, 15.00it/s]"
     ]
    },
    {
     "name": "stdout",
     "output_type": "stream",
     "text": [
      "3405/3426 [============================>.] - ETA: 1s"
     ]
    },
    {
     "name": "stderr",
     "output_type": "stream",
     "text": [
      "3406it [04:02, 15.55it/s]"
     ]
    },
    {
     "name": "stdout",
     "output_type": "stream",
     "text": [
      "3407/3426 [============================>.] - ETA: 1s"
     ]
    },
    {
     "name": "stderr",
     "output_type": "stream",
     "text": [
      "3408it [04:02, 15.66it/s]"
     ]
    },
    {
     "name": "stdout",
     "output_type": "stream",
     "text": [
      "3409/3426 [============================>.] - ETA: 1s"
     ]
    },
    {
     "name": "stderr",
     "output_type": "stream",
     "text": [
      "3410it [04:02, 14.81it/s]"
     ]
    },
    {
     "name": "stdout",
     "output_type": "stream",
     "text": [
      "3411/3426 [============================>.] - ETA: 1s"
     ]
    },
    {
     "name": "stderr",
     "output_type": "stream",
     "text": [
      "3412it [04:02, 14.65it/s]"
     ]
    },
    {
     "name": "stdout",
     "output_type": "stream",
     "text": [
      "3413/3426 [============================>.] - ETA: 0s"
     ]
    },
    {
     "name": "stderr",
     "output_type": "stream",
     "text": [
      "3414it [04:02, 13.82it/s]"
     ]
    },
    {
     "name": "stdout",
     "output_type": "stream",
     "text": [
      "3415/3426 [============================>.] - ETA: 0s"
     ]
    },
    {
     "name": "stderr",
     "output_type": "stream",
     "text": [
      "3416it [04:02, 13.74it/s]"
     ]
    },
    {
     "name": "stdout",
     "output_type": "stream",
     "text": [
      "3417/3426 [============================>.] - ETA: 0s"
     ]
    },
    {
     "name": "stderr",
     "output_type": "stream",
     "text": [
      "3418it [04:03, 14.14it/s]"
     ]
    },
    {
     "name": "stdout",
     "output_type": "stream",
     "text": [
      "3419/3426 [============================>.] - ETA: 0s"
     ]
    },
    {
     "name": "stderr",
     "output_type": "stream",
     "text": [
      "3420it [04:03, 14.79it/s]"
     ]
    },
    {
     "name": "stdout",
     "output_type": "stream",
     "text": [
      "3421/3426 [============================>.] - ETA: 0s"
     ]
    },
    {
     "name": "stderr",
     "output_type": "stream",
     "text": [
      "3422it [04:03, 13.98it/s]"
     ]
    },
    {
     "name": "stdout",
     "output_type": "stream",
     "text": [
      "3423/3426 [============================>.] - ETA: 0s"
     ]
    },
    {
     "name": "stderr",
     "output_type": "stream",
     "text": [
      "3424it [04:03, 14.71it/s]"
     ]
    },
    {
     "name": "stdout",
     "output_type": "stream",
     "text": [
      "3425/3426 [============================>.] - ETA: 0s"
     ]
    },
    {
     "name": "stderr",
     "output_type": "stream",
     "text": [
      "3426it [04:03, 14.06it/s]\n"
     ]
    }
   ],
   "source": [
    "splits = glob(f'./bigearthnet-models/splits/final_balanced_val_vy.*')\n",
    "patch_names_list = []\n",
    "split_names = []\n",
    "for csv_file in splits:\n",
    "    patch_names_list.append([])\n",
    "    split_names.append(os.path.basename(csv_file).split('.')[0])\n",
    "    csv_df = pd.read_csv(csv_file)\n",
    "    patch_names_list[-1] = list(csv_df.file)\n",
    "    patch_names_list[-1] = [name.split('/')[-1] for name in patch_names_list[-1]]\n",
    "    \n",
    "\n",
    "tensorflow_utils.prep_tf_record_files(\n",
    "    root_folder, out_folder, \n",
    "    split_names, patch_names_list, \n",
    "    label_indices)"
   ]
  },
  {
   "cell_type": "code",
   "execution_count": null,
   "metadata": {},
   "outputs": [],
   "source": []
  }
 ],
 "metadata": {
  "colab": {
   "authorship_tag": "ABX9TyM/8/SHpGq20T8v/exkRAUj",
   "collapsed_sections": [],
   "name": "preprocess_tfrecords.ipynb",
   "provenance": []
  },
  "kernelspec": {
   "display_name": "Python 3",
   "language": "python",
   "name": "python3"
  },
  "language_info": {
   "codemirror_mode": {
    "name": "ipython",
    "version": 3
   },
   "file_extension": ".py",
   "mimetype": "text/x-python",
   "name": "python",
   "nbconvert_exporter": "python",
   "pygments_lexer": "ipython3",
   "version": "3.8.5"
  }
 },
 "nbformat": 4,
 "nbformat_minor": 4
}
